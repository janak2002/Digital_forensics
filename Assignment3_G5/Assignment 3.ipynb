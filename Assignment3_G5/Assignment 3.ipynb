{
 "cells": [
  {
   "cell_type": "markdown",
   "metadata": {
    "cell_id": "b5e3e20b82264ae48e68c60c3ed024b8",
    "deepnote_cell_type": "markdown"
   },
   "source": [
    "# Assignment 3"
   ]
  },
  {
   "cell_type": "markdown",
   "metadata": {
    "cell_id": "fb968b6e73454502b4b8ca478eefb645",
    "deepnote_cell_type": "text-cell-p",
    "formattedRanges": []
   },
   "source": [
    "Darian Soetanto (3296539)\r\n",
    "Nashifa Muchtar (3296466)\r\n",
    "Rory Timmerman (2846055)\r\n",
    "Jana Klaric (2850478)\r\n",
    "Kirk Preston (​​3294056)\r\n",
    "Anna Liang (3306321)"
   ]
  },
  {
   "cell_type": "markdown",
   "metadata": {
    "cell_id": "152192b06e2f4f11b4b09ac1e9801b95",
    "deepnote_cell_type": "markdown"
   },
   "source": [
    "## Introduction and Motivation"
   ]
  },
  {
   "cell_type": "markdown",
   "metadata": {
    "cell_id": "82ea8b3dedb24d7daf1a4b2dfd1a9ec1",
    "deepnote_cell_type": "text-cell-p",
    "formattedRanges": []
   },
   "source": [
    "On May 6, 2022 the FBI announced a press release offering rewards to those who can give information that can lead to the identification of people related to the Conti ransomware variant transnational organized crime group [1]. They are responsible for various ransomware attacks across the globe. This includes attacks on government entities such as the Costa Rican government in 2022 [2], the Irish Health Services in 2021 [3] and many others including non-government entities [4]. These attacks, especially on health services, made Conti gain notoriety. They operate through means of providing service, the term is RaaS (Ransomware-as-a-Service) [5]. It roughly functions just like how a car rental works, a person lets you have your car, in this case the ransomware, and you pay the person for it depending on how much you've used it. "
   ]
  },
  {
   "cell_type": "markdown",
   "metadata": {
    "cell_id": "f4547b0f785a4127a678d6f6fb6eff4c",
    "deepnote_cell_type": "text-cell-p",
    "formattedRanges": []
   },
   "source": [
    "In 2022 the gang's chat group leaked online after declaring support of the Russian Invasion of Ukraine [6]. The chat does not exactly identify who the people involved are, but helps determine how many people are involved, how the group works and the dynamic among the members. This report aims to identify several aspects regarding the leaked chat in hopes to be able to somewhat identify or get close to identifying the roles each person played in the group. This is done by reading through the chat and analyzing conversations in it. Although it is difficult to directly identify the person based on their usernames and given IPs, this investigation can help provide a picture of the organization through the roles of each member and relationships between the members."
   ]
  },
  {
   "cell_type": "markdown",
   "metadata": {
    "cell_id": "3ea1912714dc4a448e8be35e2decc402",
    "deepnote_cell_type": "markdown"
   },
   "source": [
    "## Methodology and results "
   ]
  },
  {
   "cell_type": "markdown",
   "metadata": {
    "cell_id": "052ee57cf11049e0a964fe7f51a463a0",
    "deepnote_cell_type": "text-cell-p",
    "formattedRanges": []
   },
   "source": [
    "The file containing the translated leaked chats of the Conti ransomware group was given by our professor (Jair) as a csv file. By analyzing the data we shall try to answer some of the most basic questions one would have about ransomware groups. In the process we shall use jupyter notebook with pandas and matplotlib."
   ]
  },
  {
   "cell_type": "code",
   "execution_count": null,
   "metadata": {
    "cell_id": "676a2ba1c50143cb8f8800a950bd95c3",
    "deepnote_cell_type": "code",
    "deepnote_to_be_reexecuted": false,
    "execution_millis": 27,
    "execution_start": 1698261557173,
    "source_hash": null
   },
   "outputs": [],
   "source": [
    "import pandas as pd\n",
    "\n",
    "from collections import Counter"
   ]
  },
  {
   "cell_type": "markdown",
   "metadata": {
    "cell_id": "8715ce484ffe472284235bd849b110ec",
    "deepnote_cell_type": "text-cell-p",
    "formattedRanges": [
     {
      "fromCodePoint": 0,
      "marks": {
       "bold": true
      },
      "toCodePoint": 33,
      "type": "marks"
     }
    ]
   },
   "source": [
    "**ASPECT 1 - SIZE OF THE RECORD**"
   ]
  },
  {
   "cell_type": "markdown",
   "metadata": {
    "cell_id": "5e8fd7a7cbe7459e834eecf2604f9aaf",
    "deepnote_cell_type": "text-cell-p",
    "formattedRanges": []
   },
   "source": [
    "In the file there are 60772 (indices start from 0) records of the participants of the group exchanging messages. The original text in Russian is preserved, followed by and English translation:"
   ]
  },
  {
   "cell_type": "markdown",
   "metadata": {
    "cell_id": "dc31e180180b4f03858c90fd9119850e",
    "deepnote_cell_type": "markdown"
   },
   "source": [
    "![](records.png)"
   ]
  },
  {
   "cell_type": "markdown",
   "metadata": {
    "cell_id": "4e2fc161d2464ed4a7b579985b3b4bb9",
    "deepnote_cell_type": "text-cell-p",
    "formattedRanges": []
   },
   "source": [
    "Figure 1: The number of records"
   ]
  },
  {
   "cell_type": "markdown",
   "metadata": {
    "cell_id": "a6f80c9db3e74137927d3b35d3a94b57",
    "deepnote_cell_type": "text-cell-p",
    "formattedRanges": [
     {
      "fromCodePoint": 0,
      "marks": {
       "bold": true
      },
      "toCodePoint": 76,
      "type": "marks"
     }
    ]
   },
   "source": [
    "**ASPECT 2 - NUMBER OF USERS INVOLVED, AVERAGE NUMBER OF MESSAGES OF USERS**"
   ]
  },
  {
   "cell_type": "code",
   "execution_count": null,
   "metadata": {
    "cell_id": "150bbbf180154a55a7ce617b3a0990d2",
    "deepnote_cell_type": "code",
    "deepnote_to_be_reexecuted": false,
    "execution_millis": 522,
    "execution_start": 1698261557208,
    "source_hash": null
   },
   "outputs": [
    {
     "name": "stdout",
     "output_type": "stream",
     "text": [
      "defender@q3mcco35auwcstmt.onion                                         8246\n",
      "stern@q3mcco35auwcstmt.onion                                            4323\n",
      "driver@q3mcco35auwcstmt.onion                                           3968\n",
      "bio@q3mcco35auwcstmt.onion                                              3196\n",
      "mango@q3mcco35auwcstmt.onion                                            3194\n",
      "ttrr@conference.q3mcco35auwcstmt.onion                                  3122\n",
      "veron@q3mcco35auwcstmt.onion                                            2955\n",
      "hof@q3mcco35auwcstmt.onion                                              2389\n",
      "bentley@q3mcco35auwcstmt.onion                                          1810\n",
      "bloodrush@q3mcco35auwcstmt.onion                                        1798\n",
      "tramp@q3mcco35auwcstmt.onion                                            1629\n",
      "skippy@q3mcco35auwcstmt.onion                                           1610\n",
      "grom@q3mcco35auwcstmt.onion                                             1200\n",
      "many@q3mcco35auwcstmt.onion                                             1015\n",
      "pumba@q3mcco35auwcstmt.onion                                             915\n",
      "reshaev@q3mcco35auwcstmt.onion                                           765\n",
      "grant@q3mcco35auwcstmt.onion                                             692\n",
      "dollar@q3mcco35auwcstmt.onion                                            684\n",
      "best@q3mcco35auwcstmt.onion                                              630\n",
      "zulas@q3mcco35auwcstmt.onion                                             611\n",
      "cybergangster@q3mcco35auwcstmt.onion                                     607\n",
      "pin@q3mcco35auwcstmt.onion                                               586\n",
      "specter@q3mcco35auwcstmt.onion                                           580\n",
      "buza@q3mcco35auwcstmt.onion                                              561\n",
      "love@q3mcco35auwcstmt.onion                                              552\n",
      "revers@q3mcco35auwcstmt.onion                                            519\n",
      "terry@q3mcco35auwcstmt.onion                                             489\n",
      "sunday@q3mcco35auwcstmt.onion                                            472\n",
      "ford@q3mcco35auwcstmt.onion                                              456\n",
      "ramon@q3mcco35auwcstmt.onion                                             424\n",
      "derekson@q3mcco35auwcstmt.onion                                          400\n",
      "tom@q3mcco35auwcstmt.onion                                               393\n",
      "ghost@q3mcco35auwcstmt.onion                                             375\n",
      "green@q3mcco35auwcstmt.onion                                             367\n",
      "baget@q3mcco35auwcstmt.onion                                             357\n",
      "salamandra@q3mcco35auwcstmt.onion                                        349\n",
      "begemot@q3mcco35auwcstmt.onion                                           305\n",
      "netwalker@q3mcco35auwcstmt.onion                                         279\n",
      "demon@q3mcco35auwcstmt.onion                                             267\n",
      "strix@q3mcco35auwcstmt.onion                                             265\n",
      "ali@q3mcco35auwcstmt.onion                                               263\n",
      "derek@q3mcco35auwcstmt.onion                                             255\n",
      "viper@q3mcco35auwcstmt.onion                                             216\n",
      "dandis@q3mcco35auwcstmt.onion                                            213\n",
      "hash@q3mcco35auwcstmt.onion                                              209\n",
      "professor@q3mcco35auwcstmt.onion                                         189\n",
      "lemur@q3mcco35auwcstmt.onion                                             178\n",
      "tiktak@q3mcco35auwcstmt.onion                                            173\n",
      "hors@q3mcco35auwcstmt.onion                                              173\n",
      "rozetka@q3mcco35auwcstmt.onion                                           173\n",
      "steller@q3mcco35auwcstmt.onion                                           157\n",
      "leo@q3mcco35auwcstmt.onion                                               154\n",
      "dominik@q3mcco35auwcstmt.onion                                           146\n",
      "elvira@q3mcco35auwcstmt.onion                                            144\n",
      "kagas@q3mcco35auwcstmt.onion                                             128\n",
      "rand@q3mcco35auwcstmt.onion                                              127\n",
      "modnik@q3mcco35auwcstmt.onion                                            127\n",
      "carter@q3mcco35auwcstmt.onion                                            123\n",
      "grand@q3mcco35auwcstmt.onion                                             123\n",
      "chain@q3mcco35auwcstmt.onion                                             121\n",
      "wind@q3mcco35auwcstmt.onion                                              106\n",
      "van@q3mcco35auwcstmt.onion                                               104\n",
      "taker@q3mcco35auwcstmt.onion                                             102\n",
      "mavemat@q3mcco35auwcstmt.onion                                            98\n",
      "buran@q3mcco35auwcstmt.onion                                              98\n",
      "kevin@q3mcco35auwcstmt.onion                                              92\n",
      "neo@q3mcco35auwcstmt.onion                                                90\n",
      "void@q3mcco35auwcstmt.onion                                               83\n",
      "elon@q3mcco35auwcstmt.onion                                               81\n",
      "axel@q3mcco35auwcstmt.onion                                               78\n",
      "braun@q3mcco35auwcstmt.onion                                              77\n",
      "wertu@q3mcco35auwcstmt.onion                                              74\n",
      "sticks@q3mcco35auwcstmt.onion                                             73\n",
      "dylon@q3mcco35auwcstmt.onion                                              73\n",
      "cherry@q3mcco35auwcstmt.onion                                             72\n",
      "boby@q3mcco35auwcstmt.onion                                               69\n",
      "flip@q3mcco35auwcstmt.onion                                               69\n",
      "mentos@q3mcco35auwcstmt.onion                                             67\n",
      "johnyboy77@q3mcco35auwcstmt.onion                                         65\n",
      "fatboy@q3mcco35auwcstmt.onion                                             64\n",
      "logan@q3mcco35auwcstmt.onion                                              60\n",
      "dino@q3mcco35auwcstmt.onion                                               54\n",
      "twin@q3mcco35auwcstmt.onion                                               53\n",
      "gorec@q3mcco35auwcstmt.onion                                              53\n",
      "cheesecake@q3mcco35auwcstmt.onion                                         53\n",
      "grajdanin@q3mcco35auwcstmt.onion                                          53\n",
      "spoon@q3mcco35auwcstmt.onion                                              52\n",
      "gold@q3mcco35auwcstmt.onion                                               52\n",
      "guava@q3mcco35auwcstmt.onion                                              52\n",
      "globus@q3mcco35auwcstmt.onion                                             51\n",
      "stakan@q3mcco35auwcstmt.onion                                             49\n",
      "paranoik@q3mcco35auwcstmt.onion                                           49\n",
      "zolotoy@q3mcco35auwcstmt.onion                                            48\n",
      "zevs@q3mcco35auwcstmt.onion                                               44\n",
      "jumbo@q3mcco35auwcstmt.onion                                              44\n",
      "atlas@q3mcco35auwcstmt.onion                                              44\n",
      "azot@q3mcco35auwcstmt.onion                                               43\n",
      "mont@q3mcco35auwcstmt.onion                                               43\n",
      "bill@q3mcco35auwcstmt.onion                                               40\n",
      "vampire@q3mcco35auwcstmt.onion                                            40\n",
      "merch@q3mcco35auwcstmt.onion                                              39\n",
      "kent@q3mcco35auwcstmt.onion                                               39\n",
      "bekeeper@q3mcco35auwcstmt.onion                                           37\n",
      "kramer@q3mcco35auwcstmt.onion                                             37\n",
      "cosmos@q3mcco35auwcstmt.onion                                             35\n",
      "beta@q3mcco35auwcstmt.onion                                               34\n",
      "ganesh@q3mcco35auwcstmt.onion                                             32\n",
      "tort@q3mcco35auwcstmt.onion                                               29\n",
      "blackjob@q3mcco35auwcstmt.onion                                           29\n",
      "cruz@q3mcco35auwcstmt.onion                                               29\n",
      "nevada@q3mcco35auwcstmt.onion                                             28\n",
      "fast@q3mcco35auwcstmt.onion                                               28\n",
      "bullet@q3mcco35auwcstmt.onion                                             26\n",
      "mult@q3mcco35auwcstmt.onion                                               25\n",
      "baraka@q3mcco35auwcstmt.onion                                             24\n",
      "meatball@q3mcco35auwcstmt.onion                                           24\n",
      "nik-da@q3mcco35auwcstmt.onion                                             24\n",
      "sonar@q3mcco35auwcstmt.onion                                              23\n",
      "klaus@q3mcco35auwcstmt.onion                                              22\n",
      "cert@q3mcco35auwcstmt.onion                                               22\n",
      "admintest@q3mcco35auwcstmt.onion                                          21\n",
      "tiniles@q3mcco35auwcstmt.onion                                            21\n",
      "andy@q3mcco35auwcstmt.onion                                               21\n",
      "porovoz@q3mcco35auwcstmt.onion                                            20\n",
      "starfall@q3mcco35auwcstmt.onion                                           20\n",
      "kaktus@q3mcco35auwcstmt.onion                                             20\n",
      "subzero@q3mcco35auwcstmt.onion                                            18\n",
      "chip@q3mcco35auwcstmt.onion                                               17\n",
      "answer@q3mcco35auwcstmt.onion                                             17\n",
      "sentinel@q3mcco35auwcstmt.onion                                           17\n",
      "admin@q3mcco35auwcstmt.onion                                              17\n",
      "mozart@q3mcco35auwcstmt.onion                                             16\n",
      "hlor@q3mcco35auwcstmt.onion                                               15\n",
      "alarm2@q3mcco35auwcstmt.onion                                             15\n",
      "swift@q3mcco35auwcstmt.onion                                              15\n",
      "duna@q3mcco35auwcstmt.onion                                               14\n",
      "bourbon@q3mcco35auwcstmt.onion                                            14\n",
      "bash@q3mcco35auwcstmt.onion                                               14\n",
      "snow@q3mcco35auwcstmt.onion                                               14\n",
      "dick@q3mcco35auwcstmt.onion                                               14\n",
      "fog@q3mcco35auwcstmt.onion                                                13\n",
      "batka@q3mcco35auwcstmt.onion                                              13\n",
      "sepvilk@q3mcco35auwcstmt.onion                                            12\n",
      "macallan@q3mcco35auwcstmt.onion                                           12\n",
      "mushroom@q3mcco35auwcstmt.onion                                           12\n",
      "hitech@q3mcco35auwcstmt.onion                                             12\n",
      "target@q3mcco35auwcstmt.onion                                             12\n",
      "gus@q3mcco35auwcstmt.onion                                                11\n",
      "prizrak@q3mcco35auwcstmt.onion                                            11\n",
      "serp@q3mcco35auwcstmt.onion                                               10\n",
      "miguel@q3mcco35auwcstmt.onion                                             10\n",
      "idgo@q3mcco35auwcstmt.onion                                               10\n",
      "alarm@q3mcco35auwcstmt.onion                                              10\n",
      "forum@q3mcco35auwcstmt.onion                                               9\n",
      "steve@q3mcco35auwcstmt.onion                                               9\n",
      "gm@q3mcco35auwcstmt.onion                                                  9\n",
      "graf@q3mcco35auwcstmt.onion                                                9\n",
      "skywalker@q3mcco35auwcstmt.onion                                           9\n",
      "glad@q3mcco35auwcstmt.onion                                                9\n",
      "page@q3mcco35auwcstmt.onion                                                9\n",
      "bezdar@q3mcco35auwcstmt.onion                                              8\n",
      "forest@q3mcco35auwcstmt.onion                                              8\n",
      "muchacho@q3mcco35auwcstmt.onion                                            8\n",
      "qwerty@q3mcco35auwcstmt.onion                                              8\n",
      "master@q3mcco35auwcstmt.onion                                              8\n",
      "tatarin@q3mcco35auwcstmt.onion                                             7\n",
      "grafin@q3mcco35auwcstmt.onion                                              7\n",
      "bonen@q3mcco35auwcstmt.onion                                               7\n",
      "santi@q3mcco35auwcstmt.onion                                               6\n",
      "goodwin@q3mcco35auwcstmt.onion                                             6\n",
      "nuggets@q3mcco35auwcstmt.onion                                             6\n",
      "freebeer@q3mcco35auwcstmt.onion                                            6\n",
      "band@q3mcco35auwcstmt.onion                                                6\n",
      "tunri@q3mcco35auwcstmt.onion                                               6\n",
      "impact@q3mcco35auwcstmt.onion                                              5\n",
      "netman@q3mcco35auwcstmt.onion                                              5\n",
      "fury@q3mcco35auwcstmt.onion                                                5\n",
      "spider@q3mcco35auwcstmt.onion                                              5\n",
      "q3mcco35auwcstmt.onion                                                     5\n",
      "jax@q3mcco35auwcstmt.onion                                                 5\n",
      "mors@q3mcco35auwcstmt.onion                                                5\n",
      "firefox333@xmpp.jp                                                         5\n",
      "frog@q3mcco35auwcstmt.onion                                                5\n",
      "fly@q3mcco35auwcstmt.onion                                                 5\n",
      "ed@q3mcco35auwcstmt.onion                                                  4\n",
      "flint@q3mcco35auwcstmt.onion                                               4\n",
      "clipper@q3mcco35auwcstmt.onion                                             4\n",
      "romanov@q3mcco35auwcstmt.onion                                             3\n",
      "fire@q3mcco35auwcstmt.onion                                                3\n",
      "naned@q3mcco35auwcstmt.onion                                               3\n",
      "doomsday@q3mcco35auwcstmt.onion                                            3\n",
      "morisson@q3mcco35auwcstmt.onion                                            3\n",
      "price@q3mcco35auwcstmt.onion                                               3\n",
      "blood@q3mcco35auwcstmt.onion                                               3\n",
      "wowddoz@q3mcco35auwcstmt.onion                                             3\n",
      "slojno@q3mcco35auwcstmt.onion                                              3\n",
      "b2zbrzj5sljbmemgfqnn7zlarduyjhvjwt                                         3\n",
      "dylan@q3mcco35auwcstmt.onion                                               2\n",
      "electronic@q3mcco35auwcstmt.onion                                          2\n",
      "mitzi@6ub5waskpuglkrjbz5se23xushqvr3pgpseyetxiycjmp6h5gm6jrpad.onion       2\n",
      "romanov_2@q3mcco35auwcstmt.onion                                           2\n",
      "alter                                                                      2\n",
      "born@q3mcco35auwcstmt.onion                                                2\n",
      "troy@q3mcco35auwcstmt.onion                                                2\n",
      "valemy@q3mcco35auwcstmt.onion                                              2\n",
      "git@q3mcco35auwcstmt.onion                                                 2\n",
      "fox@q3mcco35auwcstmt.onion                                                 2\n",
      "kolbasa@q3mcco35auwcstmt.onion                                             2\n",
      "revan@q3mcco35auwcstmt.onion                                               1\n",
      "golova@q3mcco35auwcstmt.onion                                              1\n",
      "beny@q3mcco35auwcstmt.onion                                                1\n",
      "log@q3mcco35auwcstmt.onion                                                 1\n",
      "pincus@q3mcco35auwcstmt.onion                                              1\n",
      "marsel@q3mcco35auwcstmt.onion                                              1\n",
      "darc@q3mcco35auwcstmt.onion                                                1\n",
      "shell@q3mcco35auwcstmt.onion                                               1\n",
      "matiz@q3mcco35auwcstmt.onion                                               1\n",
      "hookahplace@conference.q3mcco35auwcstmt.onion                              1\n",
      "eleoslin@msjb.pw                                                           1\n",
      "moon@q3mcco35auwcstmt.onion                                                1\n",
      "frank@q3mcco35auwcstmt.onion                                               1\n",
      "kingston@q3mcco35auwcstmt.onion                                            1\n",
      "werka@conference.q3mcco35auwcstmt.onion                                    1\n",
      "licor@q3mcco35auwcstmt.onion                                               1\n",
      "born@6ub5waskpuglkrjbz5se23xushqvr3pgpseyetxiycjmp6h5gm6jrpad.onion        1\n",
      "buggati@q3mcco35auwcstmt.onion                                             1\n",
      "joynses@thesecure.biz                                                      1\n",
      "longer@q3mcco35auwcstmt.onion                                              1\n",
      "verchunls@chatterboxtown.us                                                1\n",
      "sand@q3mcco35auwcstmt.onion                                                1\n",
      "bumer@q3mcco35auwcstmt.onion                                               1\n",
      "mango@odw5mdwotufuxxrgw3pvqjjuze3e33bylylkl667h4nefwiimwqsumyd.onion       1\n",
      "admin@expiro-team.biz                                                      1\n",
      "horse@q3mcco35auwcstmt.onion                                               1\n",
      "zevs@3mcco35auwcstmt.onion                                                 1\n",
      "pin2@q3mcco35auwcstmt.onion                                                1\n",
      "max@q3mcco35auwcstmt.onion                                                 1\n",
      "buza                                                                       1\n",
      "baxter@q3mcco35auwcstmt.onion                                              1\n",
      "billgeizh@q3mcco35auwcstmt.onion                                           1\n",
      "max17@q3mcco35auwcstmt.onion                                               1\n",
      "mavelak@q3mcco35auwcstmt.onion                                             1\n",
      "atlant@q3mcco35auwcstmt.onion                                              1\n",
      "nick@q3mcco35auwcstmt.onion                                                1\n",
      "urbanone@q3mcco35auwcstmt.onion                                            1\n",
      "poll@conference.q3mcco35auwcstmt.onion                                     1\n",
      "modar@q3mcco35auwcstmt.onion                                               1\n",
      "moms@q3mcco35auwcstmt.onion                                                1\n",
      "tilar@q3mcco35auwcstmt.onion                                               1\n",
      "btdpnqwg2nqkqceetqnn7zlarduyjhvjwt                                         1\n",
      "larry@q3mcco35auwcstmt.onion                                               1\n",
      "rozetka                                                                    1\n",
      "brom@q3mcco35auwcstmt.onion                                                1\n",
      "ponetre@q3mcco35auwcstmt.onion                                             1\n",
      "poll@q3mcco35auwcstmt.onion                                                1\n",
      "kerasid@q3mcco35auwcstmt.onion                                             1\n",
      "def@q3mcco35auwcstmt.onion                                                 1\n",
      "salmon21@thesecure.biz                                                     1\n",
      "lucas@q3mcco35auwcstmt.onion                                               1\n",
      "marcus@q3mcco35auwcstmt.onion                                              1\n",
      "dantis@q3mcco35auwcstmt.onion                                              1\n",
      "cany@q3mcco35auwcstmt.onion                                                1\n",
      "staff@q3mcco35auwcstmt.onion                                               1\n",
      "mashroom@q3mcco35auwcstmt.onion                                            1\n",
      "olsen@q3mcco35auwcstmt.onion                                               1\n",
      "odw5mdwotufuxxrgw3pvqjjuze3e33bylylkl667h4nefwiimwqsumyd.onion             1\n",
      "mavelek@q3mcco35auwcstmt.onion                                             1\n",
      "eleos@msjb.pw                                                              1\n",
      "xoc@q3mcco35auwcstmt.onion                                                 1\n",
      "exploit.im                                                                 1\n",
      "packman@hsfhksrd62ga3n3v.onion                                             1\n",
      "taur@q3mcco35auwcstmt.onion                                                1\n",
      "demetrius@q3mcco35auwcstmt.onion                                           1\n",
      "forbes@q3mcco35auwcstmt.onion                                              1\n",
      "dtype: int64\n",
      "Average number of messages per person is:  221.7992700729927\n"
     ]
    }
   ],
   "source": [
    "#load csv file\n",
    "df = pd.read_csv('people_talking.csv')\n",
    "#place no restirctions on size of file\n",
    "pd.set_option('display.max_rows', 60771)\n",
    "pd.set_option('display.max_columns', None)\n",
    "#transfer usernames in a list\n",
    "from_column_values = df['from'].tolist()\n",
    "\n",
    "#count how many messages a username has sent\n",
    "username_counts = pd.Series(from_column_values).value_counts()\n",
    "print(username_counts)\n",
    "\n",
    "#average number of messages per person\n",
    "total_messages = sum(Counter(from_column_values).values())\n",
    "\n",
    "avg=total_messages/len(username_counts)\n",
    "print('Average number of messages per person is: ', avg)\n",
    "\n",
    "#kinds of usernames - aspect 4\n",
    "miscellaneous=[]\n",
    "seti=set(from_column_values)\n",
    "q3mcco35auwcstmt_count=0\n",
    "for element in seti:\n",
    "    if '@q3mcco35auwcstmt.onion' in element:\n",
    "        q3mcco35auwcstmt_count+=1\n",
    "    elif '@q3mcco35auwcstmt.onion' not in element:\n",
    "        miscellaneous.append(element)\n"
   ]
  },
  {
   "cell_type": "markdown",
   "metadata": {
    "cell_id": "233acf61ff3045d3967acde810168431",
    "deepnote_cell_type": "text-cell-p",
    "formattedRanges": []
   },
   "source": [
    "Table 1: Number of messages per user"
   ]
  },
  {
   "cell_type": "markdown",
   "metadata": {
    "cell_id": "981b86ec88324f2d9158a719d60177d9",
    "deepnote_cell_type": "text-cell-p",
    "formattedRanges": []
   },
   "source": [
    "Here a simple code was executed to find out how many messages were sent by which user. From the table above we can see that the top 3 senders were: defender@q3mcco35auwcstmt.onion, stern@q3mcco35auwcstmt.onion and driver@q3mcco35auwcstmt.onion with 8246, 4323 and 3968 messages sent respectively. From the same code we can calculate the average message number per person which turns out to be 221.8 messages per person."
   ]
  },
  {
   "cell_type": "markdown",
   "metadata": {
    "cell_id": "b07f3df1a7734d04a67da3b04bc2d947",
    "deepnote_cell_type": "text-cell-p",
    "formattedRanges": [
     {
      "fromCodePoint": 0,
      "marks": {
       "bold": true
      },
      "toCodePoint": 29,
      "type": "marks"
     }
    ]
   },
   "source": [
    "**ASPECT 3 - ROLES OF USERS**"
   ]
  },
  {
   "cell_type": "code",
   "execution_count": null,
   "metadata": {
    "cell_id": "0b0cea104d1e467aac0a888eaebc9362",
    "deepnote_cell_type": "code",
    "deepnote_to_be_reexecuted": false,
    "execution_millis": 167,
    "execution_start": 1698261557382,
    "source_hash": null
   },
   "outputs": [],
   "source": [
    "#!pip install openpyxl==3.1.2 #uncomment to run notebook#"
   ]
  },
  {
   "cell_type": "code",
   "execution_count": null,
   "metadata": {
    "cell_id": "7b367ab8eef641e781bc7d9775ef46f8",
    "deepnote_cell_type": "code",
    "deepnote_to_be_reexecuted": false,
    "execution_millis": 120,
    "execution_start": 1698261557393,
    "source_hash": null
   },
   "outputs": [],
   "source": [
    "##rewriting the convos into a nicer file\n",
    "#new_df = df[['from', 'to', 'body_en']]\n",
    "#output_excel_path = 'convos.xlsx'\n",
    "#new_df.to_excel(output_excel_path, index=False)"
   ]
  },
  {
   "cell_type": "markdown",
   "metadata": {
    "cell_id": "cd9ed55f70ca4bb4a3a63d03b3175ca4",
    "deepnote_cell_type": "text-cell-p",
    "formattedRanges": []
   },
   "source": [
    "One might ask if the participants in a ransomware group all have the same ranking or if they have different roles. To read the captured conversations, we used a piece of code above to put the conversations in a neat excel sheet so that they're more readable: \"convos.xlsx\". The conversations are too extensive to analyze the functions of all participants so we limited ourselves to finding at least 5 roles."
   ]
  },
  {
   "cell_type": "markdown",
   "metadata": {
    "cell_id": "c83676fd9ab74938bede5d6249c8f90f",
    "deepnote_cell_type": "text-cell-p",
    "formattedRanges": []
   },
   "source": [
    "From the provided conversation we can conclude that the user stern@q3mcco35auwcstmt.onion has some sort of a role that involves managing other peoples' salaries. This we can conclude from their conversation with defender@q3mcco35auwcstmt.onion in which they ask stern: \"hello, send the salary pliz https://1ty.me/fVwTjia 0.03753407\". "
   ]
  },
  {
   "cell_type": "markdown",
   "metadata": {
    "cell_id": "6064ece445e140808f6c382916f104da",
    "deepnote_cell_type": "text-cell-p",
    "formattedRanges": []
   },
   "source": [
    "Next we found that user pumba@q3mcco35auwcstmt.onion was in charge of something called \"America\", most likely one of the ransom cases. In his message he tell user tramp@q3mcco35auwcstmt.onion the following as the answer to the question \"What should we do about America?\": \"write to them like that all your date 650GB is in archives, divided into parts. it takes a long time to get your files out. Well, then add that the dates have already given enough and so. so tomorrow we will start uploading if you don&#39;t pay. Let’s say they don’t pay, then I download the movie for 20-30 gigs and archive it by dividing it into parts and upload several parts with the publication))) even if they want to watch, they won’t fucking succeed. in this way the resonance will go and fucking it will not be clear whether the date is there or not. I don&#39;t think they want to take the risk and pay. But this will be only on one condition that they don’t know for sure that our servers were screwed up\". He states what he wants to happen if a victim doesn't pay. He also ends the conversation with: \"but just to choke them like they have already given a lot and we won’t give 4 more files, well, this is laughter in my opinion\" "
   ]
  },
  {
   "cell_type": "markdown",
   "metadata": {
    "cell_id": "b26c45e162db4a108bf113d260827bd0",
    "deepnote_cell_type": "text-cell-p",
    "formattedRanges": []
   },
   "source": [
    "Furthermore, we found the role of the user that sent the most messages, defender@q3mcco35auwcstmt.onion. In his conversation with zulas@q3mcco35auwcstmt.onion he discusses details of some code: \"1. take the value in the first line up to the first separator | - it will be in my opinion the user name dXNlcg== 2. then we replace all occurrences of |dXNlcg== with |&lt;line feed&gt;dXNlcg==\" It is most likely this person is some sort of a chief coder in the group. Even though most of the messages he sent were encrypted, he did send the most in this file. This leads us to believe his position as chief and the conversation mentioned above indicates his position has to do with coding:"
   ]
  },
  {
   "cell_type": "markdown",
   "metadata": {
    "cell_id": "f92acf2a078b4017b28a1d9ebd446ab0",
    "deepnote_cell_type": "markdown"
   },
   "source": [
    "![](convo_defender.png)"
   ]
  },
  {
   "cell_type": "markdown",
   "metadata": {
    "cell_id": "c756f1d942b94bcba945526bf2526869",
    "deepnote_cell_type": "text-cell-p",
    "formattedRanges": []
   },
   "source": [
    "Figure 2: Defenders chat with Zulas"
   ]
  },
  {
   "cell_type": "markdown",
   "metadata": {
    "cell_id": "c68073b1b9a34531b3f9e790fc32d6a3",
    "deepnote_cell_type": "text-cell-p",
    "formattedRanges": []
   },
   "source": [
    "Next, a role of user hash@q3mcco35auwcstmt.onion was found in the following conversation: \r"
   ]
  },
  {
   "cell_type": "markdown",
   "metadata": {
    "cell_id": "43947e6368e94ce9b8eae79729c0fa36",
    "deepnote_cell_type": "markdown"
   },
   "source": [
    "![](hash_convo.png)"
   ]
  },
  {
   "cell_type": "markdown",
   "metadata": {
    "cell_id": "3ac033913527418f9e3e0d46721831af",
    "deepnote_cell_type": "text-cell-p",
    "formattedRanges": []
   },
   "source": [
    "Figure 3: Hash's chat with rozetka"
   ]
  },
  {
   "cell_type": "markdown",
   "metadata": {
    "cell_id": "7d47a9551de64f1295a5356fce05ef3b",
    "deepnote_cell_type": "text-cell-p",
    "formattedRanges": []
   },
   "source": [
    "From this we have conclude that the mentioned user distributed attacks. They ask about how many files they should make, then they say that the \"encoder and loader are needed\" for something which might be specific malware they're developing."
   ]
  },
  {
   "cell_type": "markdown",
   "metadata": {
    "cell_id": "4b118393dd8844579912fdff0b96d7fc",
    "deepnote_cell_type": "text-cell-p",
    "formattedRanges": [
     {
      "fromCodePoint": 0,
      "marks": {
       "color": "#000000"
      },
      "toCodePoint": 456,
      "type": "marks"
     }
    ]
   },
   "source": [
    "Next, we have user bentley@q3mcco35auwcstmt.onion in which he has chats with multiple different users. Most of these chats includes him sending the other users a dropfile links along with the password to access them if needed. Based on the chats, we can tell that this user creates some sort of software or crypts according to the clients demands and needs. Here we can see a snippet of some of the conversations to and from bentley@q3mcco35auwcstmt.onion."
   ]
  },
  {
   "cell_type": "markdown",
   "metadata": {
    "cell_id": "437c4eb822364f59a7d3116264a2f64a",
    "deepnote_cell_type": "markdown"
   },
   "source": [
    "![](bentley.png)"
   ]
  },
  {
   "cell_type": "markdown",
   "metadata": {
    "cell_id": "3630831b27584db0baab9d5ad3f5ce7b",
    "deepnote_cell_type": "text-cell-p",
    "formattedRanges": [
     {
      "fromCodePoint": 36,
      "marks": {
       "color": "#000000"
      },
      "toCodePoint": 66,
      "type": "marks"
     }
    ]
   },
   "source": [
    "Figure 4: Conversations to and from bentley@q3mcco35auwcstmt.onion"
   ]
  },
  {
   "cell_type": "markdown",
   "metadata": {
    "cell_id": "b683f986451c4282b0af765a6e79a422",
    "deepnote_cell_type": "text-cell-p",
    "formattedRanges": [
     {
      "fromCodePoint": 0,
      "marks": {
       "bold": true,
       "color": "#000000"
      },
      "toCodePoint": 31,
      "type": "marks"
     }
    ]
   },
   "source": [
    "**ASPECT 4 - USERNAME DOMAINS**"
   ]
  },
  {
   "cell_type": "markdown",
   "metadata": {
    "cell_id": "3d21a82ff3a440f2b53f451efa13c389",
    "deepnote_cell_type": "text-cell-p",
    "formattedRanges": []
   },
   "source": [
    "For this aspect we shall analyze which domains of usernames are present in the chat. Our hypothesis is that they are all @q3mcco35auwcstmt.onion domain, but this shall be made sure of by the use of code:"
   ]
  },
  {
   "cell_type": "code",
   "execution_count": null,
   "metadata": {
    "cell_id": "3a20962dbf594131932f9d377148cfbe",
    "deepnote_cell_type": "code",
    "deepnote_to_be_reexecuted": false,
    "execution_millis": 204,
    "execution_start": 1698261557393,
    "source_hash": null
   },
   "outputs": [
    {
     "name": "stdout",
     "output_type": "stream",
     "text": [
      "The amount of the q3mcco35auwcstmt.onion domain:  250\n",
      "The amount of users:  274\n",
      "Here are the ones not using the most frequent domain: \n",
      "\n",
      "\n",
      "alter\n",
      "\n",
      "\n",
      "salmon21@thesecure.biz\n",
      "\n",
      "\n",
      "admin@expiro-team.biz\n",
      "\n",
      "\n",
      "ttrr@conference.q3mcco35auwcstmt.onion\n",
      "\n",
      "\n",
      "eleos@msjb.pw\n",
      "\n",
      "\n",
      "mango@odw5mdwotufuxxrgw3pvqjjuze3e33bylylkl667h4nefwiimwqsumyd.onion\n",
      "\n",
      "\n",
      "eleoslin@msjb.pw\n",
      "\n",
      "\n",
      "rozetka\n",
      "\n",
      "\n",
      "b2zbrzj5sljbmemgfqnn7zlarduyjhvjwt\n",
      "\n",
      "\n",
      "joynses@thesecure.biz\n",
      "\n",
      "\n",
      "poll@conference.q3mcco35auwcstmt.onion\n",
      "\n",
      "\n",
      "firefox333@xmpp.jp\n",
      "\n",
      "\n",
      "q3mcco35auwcstmt.onion\n",
      "\n",
      "\n",
      "packman@hsfhksrd62ga3n3v.onion\n",
      "\n",
      "\n",
      "exploit.im\n",
      "\n",
      "\n",
      "zevs@3mcco35auwcstmt.onion\n",
      "\n",
      "\n",
      "odw5mdwotufuxxrgw3pvqjjuze3e33bylylkl667h4nefwiimwqsumyd.onion\n",
      "\n",
      "\n",
      "hookahplace@conference.q3mcco35auwcstmt.onion\n",
      "\n",
      "\n",
      "werka@conference.q3mcco35auwcstmt.onion\n",
      "\n",
      "\n",
      "verchunls@chatterboxtown.us\n",
      "\n",
      "\n",
      "buza\n",
      "\n",
      "\n",
      "btdpnqwg2nqkqceetqnn7zlarduyjhvjwt\n",
      "\n",
      "\n",
      "mitzi@6ub5waskpuglkrjbz5se23xushqvr3pgpseyetxiycjmp6h5gm6jrpad.onion\n",
      "\n",
      "\n",
      "born@6ub5waskpuglkrjbz5se23xushqvr3pgpseyetxiycjmp6h5gm6jrpad.onion\n",
      "\n",
      "\n"
     ]
    }
   ],
   "source": [
    "print(\"The amount of the q3mcco35auwcstmt.onion domain: \",q3mcco35auwcstmt_count)\n",
    "print(\"The amount of users: \",len(username_counts))\n",
    "print('Here are the ones not using the most frequent domain: ')\n",
    "print('\\n')\n",
    "for i in range(len(miscellaneous)):\n",
    "    print(miscellaneous[i])\n",
    "    print('\\n')"
   ]
  },
  {
   "cell_type": "markdown",
   "metadata": {
    "cell_id": "c12ef92fee2940c0a8d90c430283066e",
    "deepnote_cell_type": "text-cell-p",
    "formattedRanges": []
   },
   "source": [
    "Table 2: Domains of usernames"
   ]
  },
  {
   "cell_type": "markdown",
   "metadata": {
    "cell_id": "05cbddf0fb3844e5b6c59aca9728f6c4",
    "deepnote_cell_type": "text-cell-p",
    "formattedRanges": []
   },
   "source": [
    "As it can be seen from above table, not all users belong to the same domain. Even though 250 out of 274 do have the q3mcco35auwcstmt.onion domain, 24 others do not. The examples of other domains that aren't .onion are: @thesecure.biz, @chatterboxtown.us and @expiro-team.biz. These 3 seem to have normal words inside them, other miscellaneous domains are made out of random letters and are most likely made to be discarded. We have tried searching up these domains on chat GPT and online and here's what we found:"
   ]
  },
  {
   "cell_type": "markdown",
   "metadata": {
    "cell_id": "e3b5fea5bd554b93a7664c8e9a83bc02",
    "deepnote_cell_type": "markdown"
   },
   "source": [
    "![](biz.png)"
   ]
  },
  {
   "cell_type": "markdown",
   "metadata": {
    "cell_id": "3bf4f5ed56f143598e7cfa985590f1c2",
    "deepnote_cell_type": "text-cell-p",
    "formattedRanges": []
   },
   "source": [
    "Figure 5: searching up @thesecure.biz, by the use of [7]"
   ]
  },
  {
   "cell_type": "markdown",
   "metadata": {
    "cell_id": "fe97a67e865240b99ab801a25f2f01a6",
    "deepnote_cell_type": "text-cell-p",
    "formattedRanges": []
   },
   "source": [
    "It was found that the domain name is based in Russia and it enables people to have secure chats between them and their business partners. "
   ]
  },
  {
   "cell_type": "markdown",
   "metadata": {
    "cell_id": "e6cdcebd75744afe8fa293836b62cda0",
    "deepnote_cell_type": "markdown"
   },
   "source": [
    "![](chatbox.png)"
   ]
  },
  {
   "cell_type": "markdown",
   "metadata": {
    "cell_id": "756efb96de0b4fefaa82845265ff5ba8",
    "deepnote_cell_type": "text-cell-p",
    "formattedRanges": []
   },
   "source": [
    "Figure 6: @chatterbox.us domain result"
   ]
  },
  {
   "cell_type": "markdown",
   "metadata": {
    "cell_id": "fea35398145a40d2bc57d6284bed38cd",
    "deepnote_cell_type": "text-cell-p",
    "formattedRanges": []
   },
   "source": [
    "The results of @expiro-team.biz couldn't be found anywhere but we suppose that it is somewhat similar to the @thesecure.biz since they have the same extension - .biz."
   ]
  },
  {
   "cell_type": "markdown",
   "metadata": {
    "cell_id": "3fc0997f71e443c0a8bdd6bd177fd4a2",
    "deepnote_cell_type": "text-cell-p",
    "formattedRanges": [
     {
      "fromCodePoint": 0,
      "marks": {
       "bold": true
      },
      "toCodePoint": 54,
      "type": "marks"
     }
    ]
   },
   "source": [
    "**ASPECT 5 - IP-ADDRESSES IN THE DATA AND THEIR USES**"
   ]
  },
  {
   "cell_type": "code",
   "execution_count": null,
   "metadata": {
    "cell_id": "126d4e3c2c954776b719669ae5981433",
    "deepnote_cell_type": "code",
    "deepnote_to_be_reexecuted": false,
    "execution_millis": 499,
    "execution_start": 1698261557436,
    "source_hash": null
   },
   "outputs": [
    {
     "name": "stdout",
     "output_type": "stream",
     "text": [
      "Row 1068: IP Addresses - 208.110.64.130,61.177.172.13,61.177.172.13,208.110.64.130,208.110.64.130,192.187.107.16,192.187.107.16,208.110.64.130,91.189.92.20,91.189.92.38,91.189.92.39,91.189.92.19,91.189.92.40,91.189.92.40,91.189.92.41,208.10.64.130,208.110.64.130,193.57.40.49,208.110.64.130,185.191.34.120,208.110.64.130,193.27.228.65,208.110.64.130,208.110.64.130,185.191.34.120,71.168.131.157,208.10.64.130,208.110.64.130,193.27.228.65,208.110.64.130,208.110.64.130,208.110.64.130,193.57.40.49,208.110.64.130,71.168.131.157,208.110.64.130,71.6.199.23,208.110.64.130,161.35.12.145\n",
      "Row 1162: IP Addresses - 46.8.157.223\n",
      "Row 1714: IP Addresses - 217.12.218.109,217.12.203.191\n",
      "Row 2169: IP Addresses - 73.180.36.152,208.125.46.162\n",
      "Row 2424: IP Addresses - 5.181.156.166,94.140.115.123,103.124.104.56,194.135.33.150,5.181.80.121,185.99.133.115,89.41.182.52,193.8.172.239,194.15.113.92,5.196.197.27,162.55.32.162,31.13.195.184\n",
      "Row 2433: IP Addresses - 192.168.86.23,255.255.255.0,192.168.86.1,192.168.86.1,192.168.86.1\n",
      "Row 2531: IP Addresses - 192.168.86.23,255.255.255.0,192.168.86.1,192.168.86.1,192.168.86.1\n",
      "Row 3008: IP Addresses - 185.246.152.121\n",
      "Row 3896: IP Addresses - 128.201.76.252\n",
      "Row 4113: IP Addresses - 75.151.48.49,24.53.75.60,96.70.44.17,71.105.126.26,64.40.247.118,96.93.217.253,173.163.176.177,12.191.116.202\n",
      "Row 4124: IP Addresses - 75.151.48.49,24.53.75.60,96.70.44.17,71.105.126.26,64.40.247.118,96.93.217.253,173.163.176.177,12.191.116.202\n",
      "Row 4332: IP Addresses - 217.12.210.41,195.123.212.17\n",
      "Row 7101: IP Addresses - 103.137.80.22,103.250.70.198,119.148.101.102,45.126.75.91,203.76.149.210,203.76.101.16,103.142.80.254,103.123.170.120\n",
      "Row 7642: IP Addresses - 206.188.196.239,168.100.8.69,168.100.11.213,195.123.222.91,45.61.136.202,162.33.179.125,185.64.104.5,217.12.204.65,185.64.104.141,185.14.28.109,5.181.156.15,162.33.178.178,45.61.138.153,185.64.104.36,195.123.228.5,195.123.228.6\n",
      "Row 7648: IP Addresses - 194.76.226.22\n",
      "Row 7651: IP Addresses - 194.135.33.191\n",
      "Row 7654: IP Addresses - 104.161.32.44\n",
      "Row 7656: IP Addresses - 8.6.193.80\n",
      "Row 7659: IP Addresses - 194.76.227.29\n",
      "Row 7662: IP Addresses - 88.119.175.208\n",
      "Row 7665: IP Addresses - 45.11.183.198\n",
      "Row 7668: IP Addresses - 144.202.43.124\n",
      "Row 7671: IP Addresses - 194.135.33.137\n",
      "Row 7674: IP Addresses - 198.46.198.9\n",
      "Row 7677: IP Addresses - 185.219.221.171\n",
      "Row 7681: IP Addresses - 5.2.78.121\n",
      "Row 7684: IP Addresses - 198.244.193.207\n",
      "Row 7687: IP Addresses - 195.149.87.233\n",
      "Row 7689: IP Addresses - 31.214.157.242\n",
      "Row 7691: IP Addresses - 149.28.103.187\n",
      "Row 7694: IP Addresses - 185.158.249.119\n",
      "Row 7697: IP Addresses - 176.10.119.72\n",
      "Row 8577: IP Addresses - 10.251.33.252\n",
      "Row 8605: IP Addresses - 117.252.69.134,117.252.68.15,116.206.153.212,103.78.13.150,103.47.170.131,103.47.170.130,118.91.190.42,117.197.41.36,117.222.63.77,117.252.69.210\n",
      "Row 9209: IP Addresses - 185.244.41.9\n",
      "Row 9218: IP Addresses - 185.244.41.9\n",
      "Row 11458: IP Addresses - 109.230.199.73,109.230.199.73\n",
      "Row 12614: IP Addresses - 186.72.79.132\n",
      "Row 12615: IP Addresses - 186.72.79.132\n",
      "Row 13099: IP Addresses - 195.149.87.59,195.149.87.59\n",
      "Row 13988: IP Addresses - 54.183.140.39\n",
      "Row 13993: IP Addresses - 54.183.140.39\n",
      "Row 15782: IP Addresses - 174.238.4.80\n",
      "Row 15813: IP Addresses - 174.238.4.80\n",
      "Row 18270: IP Addresses - 37.120.222.100\n",
      "Row 18274: IP Addresses - 193.39.185.14\n",
      "Row 18417: IP Addresses - 31.14.40.236\n",
      "Row 18481: IP Addresses - 86.217.170.116\n",
      "Row 18523: IP Addresses - 86.217.170.116\n",
      "Row 18665: IP Addresses - 83.242.96.193\n",
      "Row 18773: IP Addresses - 173.167.160.17,196.155.13.118\n",
      "Row 19608: IP Addresses - 162.76.2.1\n",
      "Row 19609: IP Addresses - 162.76.0.0,161.76.0.0\n",
      "Row 19938: IP Addresses - 188.127.226.236\n",
      "Row 19939: IP Addresses - 188.127.226.236\n",
      "Row 19968: IP Addresses - 188.127.226.236\n",
      "Row 20069: IP Addresses - 138.124.180.94,45.14.226.47,193.203.203.101,138.124.180.94,193.203.203.101\n",
      "Row 20077: IP Addresses - 138.124.180.94,45.14.226.47,193.203.203.101,138.124.180.94,193.203.203.101\n",
      "Row 20226: IP Addresses - 208.110.64.130,61.177.172.13,61.177.172.13,208.110.64.130,208.110.64.130,192.187.107.16,192.187.107.16,208.110.64.130,91.189.92.20,91.189.92.38,91.189.92.39,91.189.92.19,91.189.92.40,91.189.92.40,91.189.92.41,208.10.64.130,208.110.64.130,193.57.40.49,208.110.64.130,185.191.34.120,208.110.64.130,193.27.228.65,208.110.64.130,208.110.64.130,185.191.34.120,71.168.131.157,208.10.64.130,208.110.64.130,193.27.228.65,208.110.64.130,208.110.64.130,208.110.64.130,193.57.40.49,208.110.64.130,71.168.131.157,208.110.64.130,71.6.199.23,208.110.64.130,161.35.12.145\n",
      "Row 20631: IP Addresses - 98.185.40.23\n",
      "Row 20632: IP Addresses - 98.185.40.23\n",
      "Row 21049: IP Addresses - 170.130.55.77\n",
      "Row 21050: IP Addresses - 170.130.55.77\n",
      "Row 21577: IP Addresses - 141.94.162.156\n",
      "Row 22899: IP Addresses - 185.64.104.216\n",
      "Row 23851: IP Addresses - 75.147.147.133\n",
      "Row 23855: IP Addresses - 75.147.147.133\n",
      "Row 23980: IP Addresses - 195.123.222.97\n",
      "Row 23986: IP Addresses - 195.123.222.97\n",
      "Row 25252: IP Addresses - 63.147.234.198\n",
      "Row 25300: IP Addresses - 45.230.176.157\n",
      "Row 25309: IP Addresses - 63.147.234.198\n",
      "Row 25366: IP Addresses - 31.14.40.220\n",
      "Row 25367: IP Addresses - 31.14.40.220\n",
      "Row 25371: IP Addresses - 63.147.234.198\n",
      "Row 25398: IP Addresses - 63.147.234.198\n",
      "Row 26693: IP Addresses - 128.199.196.59\n",
      "Row 26700: IP Addresses - 128.199.196.59\n",
      "Row 26732: IP Addresses - 38.88.223.172\n",
      "Row 26738: IP Addresses - 38.88.223.172\n",
      "Row 28382: IP Addresses - 198.244.193.210\n",
      "Row 28474: IP Addresses - 198.244.193.210\n",
      "Row 28767: IP Addresses - 195.149.87.59,195.149.87.59,195.149.87.59,195.149.87.59,195.149.87.59,195.149.87.59,195.149.87.59,195.149.87.59,195.149.87.59,195.149.87.59,195.149.87.59,195.149.87.59,195.149.87.59,195.149.87.59,195.149.87.59,195.149.87.59\n",
      "Row 28828: IP Addresses - 195.149.87.59,195.149.87.59,195.149.87.59,195.149.87.59,195.149.87.59,195.149.87.59,195.149.87.59,195.149.87.59,195.149.87.59,195.149.87.59,195.149.87.59,195.149.87.59,195.149.87.59,195.149.87.59,195.149.87.59,195.149.87.59\n",
      "Row 29366: IP Addresses - 179.43.147.243\n",
      "Row 29389: IP Addresses - 179.43.147.243\n",
      "Row 29410: IP Addresses - 179.43.147.243\n",
      "Row 29447: IP Addresses - 127.0.0.1,127.0.0.1\n",
      "Row 30496: IP Addresses - 185.25.48.83\n",
      "Row 31337: IP Addresses - 91.193.181.22\n",
      "Row 31513: IP Addresses - 195.149.87.59,195.149.87.59,195.149.87.59,195.149.87.59,195.149.87.59,195.149.87.59,195.149.87.59,195.149.87.59,195.149.87.59,195.149.87.59,195.149.87.59,195.149.87.59,195.149.87.59,195.149.87.59,195.149.87.59,195.149.87.59,195.149.87.59,195.149.87.59,195.149.87.59,195.149.87.59,195.149.87.59,195.149.87.59,195.149.87.59,195.149.87.59,195.149.87.59,195.149.87.59,195.149.87.59\n",
      "Row 31514: IP Addresses - 195.149.87.59,195.149.87.59,195.149.87.59,195.149.87.59,195.149.87.59,195.149.87.59,195.149.87.59,195.149.87.59,195.149.87.59,195.149.87.59,195.149.87.59,195.149.87.59,195.149.87.59,195.149.87.59,195.149.87.59,195.149.87.59,195.149.87.59,195.149.87.59,195.149.87.59,195.149.87.59,195.149.87.59,195.149.87.59,195.149.87.59,195.149.87.59,195.149.87.59,195.149.87.59,195.149.87.59\n",
      "Row 31577: IP Addresses - 37.0.8.166\n",
      "Row 32102: IP Addresses - 185.193.37.222\n",
      "Row 32404: IP Addresses - 66.29.138.17\n",
      "Row 32997: IP Addresses - 203.76.105.227,203.76.105.227,203.76.105.227\n",
      "Row 32998: IP Addresses - 203.76.105.227,203.76.105.227,203.76.105.227\n",
      "Row 32999: IP Addresses - 203.76.105.227,203.76.105.227,203.76.105.227\n",
      "Row 33000: IP Addresses - 203.76.105.227,203.76.105.227,203.76.105.227\n",
      "Row 33001: IP Addresses - 203.76.105.227,203.76.105.227,203.76.105.227\n",
      "Row 33002: IP Addresses - 203.76.105.227,203.76.105.227,203.76.105.227\n",
      "Row 33003: IP Addresses - 203.76.105.227,203.76.105.227,203.76.105.227\n",
      "Row 33853: IP Addresses - 172.83.155.195\n",
      "Row 34037: IP Addresses - 24.185.61.99,75.142.80.233,162.210.168.43,75.163.169.121,206.251.37.27,72.191.66.50,172.243.178.252,107.204.18.57,174.96.143.3,71.249.104.3,184.169.98.10,198.45.136.28,173.19.92.26,192.154.176.134,209.142.127.61,198.45.181.114\n",
      "Row 34154: IP Addresses - 103.101.104.229,103.102.73.165,103.124.145.98\n",
      "Row 35097: IP Addresses - 0.54.218.218,19.1.19.2,19.3.192.44,192.43.204.169,192.48.192.47,204.168.192.36,192.35.192.10,192.9.192.40,192.39.192.20,0.192.19.0,192.19.0.192,19.0.192.19,0.192.19.0,192.19.0.192,0.73.53.96,119.159.215.212,71.216.72.236,103.226.140.165,145.139.122.217,41.240.23.248,115.130.152.66,0.45.0.2,1.1.0.43\n",
      "Row 35098: IP Addresses - 0.54.218.218,19.1.19.2,19.3.192.44,192.43.204.169,192.48.192.47,204.168.192.36,192.35.192.10,192.9.192.40,192.39.192.20,0.192.19.0,192.19.0.192,19.0.192.19,0.192.19.0,192.19.0.192,0.73.53.96,119.159.215.212,71.216.72.236,103.226.140.165,145.139.122.217,41.240.23.248,115.130.152.66,0.45.0.2,1.1.0.43\n",
      "Row 35099: IP Addresses - 0.54.218.218,19.1.19.2,19.3.192.44,192.43.204.169,192.48.192.47,204.168.192.36,192.35.192.10,192.9.192.40,192.39.192.20,0.192.19.0,192.19.0.192,19.0.192.19,0.192.19.0,192.19.0.192,0.73.53.96,119.159.215.212,71.216.72.236,103.226.140.165,145.139.122.217,41.240.23.248,115.130.152.66,0.45.0.2,1.1.0.43\n",
      "Row 35100: IP Addresses - 0.54.218.218,19.1.19.2,19.3.192.44,192.43.204.169,192.48.192.47,204.168.192.36,192.35.192.10,192.9.192.40,192.39.192.20,0.192.19.0,192.19.0.192,19.0.192.19,0.192.19.0,192.19.0.192\n",
      "Row 35101: IP Addresses - 23.0.24.0,11.0.2.1,0.0.35.0,0.0.16.0,14.0.12.2,104.50.8.104,116.116.112.47,49.0.5.0,5.1.0.0,0.0.0.13,0.18.0.16,4.3.8.4,4.1.5.3,0.21.0.19\n",
      "Row 35102: IP Addresses - 49.0.5.0,5.1.0.0,0.0.0.13,0.18.0.16,4.3.8.4,4.1.5.3,0.21.0.19\n",
      "Row 35103: IP Addresses - 49.0.5.0,5.1.0.0,0.0.0.13,0.18.0.16,4.3.8.4,4.1.5.3,0.21.0.19\n",
      "Row 35104: IP Addresses - 23.0.24.0,11.0.2.1,0.0.35.0,0.0.16.0,14.0.12.2,104.50.8.104,116.116.112.47,49.0.5.0,5.1.0.0,0.0.0.13,0.18.0.16,4.3.8.4,4.1.5.3,0.21.0.19\n",
      "Row 35434: IP Addresses - 103.56.207.249\n",
      "Row 35865: IP Addresses - 67.243.142.225,72.214.4.83,67.243.142.225,154.61.71.53,68.61.238.2,72.179.15.202,45.87.212.180,154.61.71.54\n",
      "Row 36042: IP Addresses - 67.243.142.225,72.214.4.83,67.243.142.225,154.61.71.53,68.61.238.2,72.179.15.202,45.87.212.180,154.61.71.54\n",
      "Row 36091: IP Addresses - 174.238.4.80\n",
      "Row 36485: IP Addresses - 31.14.40.236\n",
      "Row 36949: IP Addresses - 194.146.25.109,194.146.25.109\n",
      "Row 37104: IP Addresses - 46.8.23.171\n",
      "Row 37250: IP Addresses - 109.248.15.37\n",
      "Row 37385: IP Addresses - 103.101.104.229,103.102.73.165,103.124.145.98\n",
      "Row 37648: IP Addresses - 162.244.81.252\n",
      "Row 38482: IP Addresses - 200.58.180.138\n",
      "Row 38483: IP Addresses - 200.58.180.138\n",
      "Row 38484: IP Addresses - 200.58.180.138\n",
      "Row 38485: IP Addresses - 200.58.180.138\n",
      "Row 38486: IP Addresses - 200.58.180.138\n",
      "Row 39049: IP Addresses - 195.123.214.177\n",
      "Row 39057: IP Addresses - 195.123.214.177\n",
      "Row 39059: IP Addresses - 173.232.146.104\n",
      "Row 39740: IP Addresses - 217.12.218.109,217.12.203.191\n",
      "Row 40316: IP Addresses - 97.77.191.226\n",
      "Row 40556: IP Addresses - 188.130.139.54\n",
      "Row 40647: IP Addresses - 188.130.139.54\n",
      "Row 40944: IP Addresses - 195.123.240.41,194.76.226.22,185.219.221.171,88.119.175.225\n",
      "Row 40951: IP Addresses - 134.255.235.107,195.123.218.101\n",
      "Row 40952: IP Addresses - 5.34.178.185,104.168.48.105\n",
      "Row 40955: IP Addresses - 45.11.183.211,104.161.32.44\n",
      "Row 40958: IP Addresses - 185.25.51.99,8.6.193.80\n",
      "Row 40959: IP Addresses - 194.76.227.29,88.119.175.208\n",
      "Row 40960: IP Addresses - 45.11.183.198,144.202.43.124\n",
      "Row 40962: IP Addresses - 194.135.33.137,198.46.198.9\n",
      "Row 40964: IP Addresses - 5.2.78.121,198.244.193.207,195.149.87.233\n",
      "Row 40966: IP Addresses - 185.158.249.249,146.70.44.147\n",
      "Row 40967: IP Addresses - 94.140.114.107,198.46.198.105\n",
      "Row 40970: IP Addresses - 31.214.157.242,149.28.103.187\n",
      "Row 40972: IP Addresses - 94.140.114.237,38.92.176.125\n",
      "Row 40975: IP Addresses - 195.123.219.82\n",
      "Row 40976: IP Addresses - 185.158.249.119\n",
      "Row 40977: IP Addresses - 176.10.119.72,88.119.170.242\n",
      "Row 40978: IP Addresses - 23.146.242.134\n",
      "Row 40980: IP Addresses - 51.38.95.29\n",
      "Row 40981: IP Addresses - 46.28.70.239,170.130.55.84,185.244.150.26\n",
      "Row 40982: IP Addresses - 46.19.136.221,142.4.211.167,31.14.40.173\n",
      "Row 40984: IP Addresses - 195.123.221.248\n",
      "Row 40985: IP Addresses - 37.187.24.215\n",
      "Row 40986: IP Addresses - 5.34.181.18\n",
      "Row 40988: IP Addresses - 194.76.225.152\n",
      "Row 40990: IP Addresses - 213.252.245.181\n",
      "Row 40991: IP Addresses - 2.56.10.41\n",
      "Row 40999: IP Addresses - 185.64.106.247\n",
      "Row 41000: IP Addresses - 217.12.201.132\n",
      "Row 41884: IP Addresses - 73.128.248.22\n",
      "Row 41888: IP Addresses - 73.31.89.221\n",
      "Row 41906: IP Addresses - 73.31.89.221\n",
      "Row 42081: IP Addresses - 5.139.220.204\n",
      "Row 42085: IP Addresses - 5.139.220.204\n",
      "Row 42330: IP Addresses - 45.32.131.223,45.32.132.182,140.82.50.50,192.153.57.105,162.33.177.212,45.77.189.106\n",
      "Row 42402: IP Addresses - 45.61.136.221,162.33.178.105\n",
      "Row 43511: IP Addresses - 179.43.147.243\n",
      "Row 43512: IP Addresses - 179.43.147.243\n",
      "Row 43513: IP Addresses - 179.43.147.243\n",
      "Row 43514: IP Addresses - 179.43.147.243\n",
      "Row 43515: IP Addresses - 179.43.147.243\n",
      "Row 43516: IP Addresses - 179.43.147.243\n",
      "Row 43517: IP Addresses - 179.43.147.243\n",
      "Row 44822: IP Addresses - 86.105.9.13\n",
      "Row 44823: IP Addresses - 91.193.181.22\n",
      "Row 44855: IP Addresses - 91.193.181.22\n",
      "Row 44886: IP Addresses - 91.193.181.22\n",
      "Row 44944: IP Addresses - 86.105.9.12\n",
      "Row 44951: IP Addresses - 86.105.9.13\n",
      "Row 46228: IP Addresses - 82.202.192.66,188.241.120.42\n",
      "Row 46229: IP Addresses - 188.241.120.42\n",
      "Row 46232: IP Addresses - 212.41.24.66\n",
      "Row 46258: IP Addresses - 212.41.24.66\n",
      "Row 46430: IP Addresses - 188.241.120.42\n",
      "Row 46433: IP Addresses - 188.241.120.42\n",
      "Row 46446: IP Addresses - 91.193.180.23\n",
      "Row 46450: IP Addresses - 91.193.180.23\n",
      "Row 46457: IP Addresses - 82.202.192.66\n",
      "Row 46464: IP Addresses - 188.241.120.42\n",
      "Row 46467: IP Addresses - 82.202.192.66\n",
      "Row 46468: IP Addresses - 188.241.120.42\n",
      "Row 46470: IP Addresses - 82.202.192.66,185.9.18.154,91.193.180.23,82.202.192.66,188.241.120.42,91.193.180.23,82.202.192.66\n",
      "Row 46472: IP Addresses - 188.241.120.42,82.202.192.66\n",
      "Row 46487: IP Addresses - 91.193.180.23,82.202.192.66\n",
      "Row 46891: IP Addresses - 0.4.3.6\n",
      "Row 47064: IP Addresses - 185.25.48.4\n",
      "Row 47636: IP Addresses - 198.46.198.128\n",
      "Row 47639: IP Addresses - 103.124.106.124\n",
      "Row 49175: IP Addresses - 172.93.205.138\n",
      "Row 49257: IP Addresses - 82.118.21.40,170.130.55.90\n",
      "Row 49837: IP Addresses - 91.193.181.22\n",
      "Row 49839: IP Addresses - 91.193.181.22\n",
      "Row 49844: IP Addresses - 91.193.181.22\n",
      "Row 51015: IP Addresses - 157.230.60.143\n",
      "Row 51201: IP Addresses - 109.230.199.73,109.230.199.73\n",
      "Row 51211: IP Addresses - 185.232.23.77,218.214.92.107,51.132.66.157,87.166.57.137,87.166.57.142,154.61.71.53,79.112.76.251,92.211.109.159,118.127.59.83,87.166.57.142,92.211.110.162,37.235.53.46,31.210.111.142,92.211.110.162,65.119.186.242,92.211.110.162,92.211.109.159,173.220.69.202,194.99.106.98,172.111.149.148,92.211.109.159,3.11.85.34\n",
      "Row 51521: IP Addresses - 45.32.131.223,45.32.132.182,140.82.50.50,192.153.57.105,162.33.177.212,45.77.189.106\n",
      "Row 51522: IP Addresses - 45.61.136.221,162.33.178.105\n",
      "Row 51798: IP Addresses - 74.125.196.113,77.83.197.40\n",
      "Row 51799: IP Addresses - 74.125.196.113,193.42.37.21\n",
      "Row 52723: IP Addresses - 170.130.55.44\n",
      "Row 52727: IP Addresses - 170.130.55.44\n",
      "Row 53076: IP Addresses - 5.141.22.50,188.93.130.254\n",
      "Row 53095: IP Addresses - 5.141.22.50,188.93.130.254\n",
      "Row 53239: IP Addresses - 45.86.74.108,5.181.80.125,185.99.132.248,5.39.63.107,158.69.133.72,23.254.228.234,194.36.191.19,194.40.243.33,23.160.193.217,176.103.62.176,94.140.113.71,146.19.253.90,38.92.191.89,5.2.78.37,198.244.194.4,80.92.206.199,45.14.226.23,185.38.185.13,45.41.204.137,94.140.113.17,139.28.235.177,5.181.80.143,185.99.132.67,5.39.63.108,192.99.255.38,142.11.253.72,185.106.123.88,45.41.204.139\n",
      "Row 54150: IP Addresses - 5.183.95.6\n",
      "Row 54918: IP Addresses - 203.80.170.81\n",
      "Row 54946: IP Addresses - 185.163.45.17,74.119.217.58\n",
      "Row 54975: IP Addresses - 199.233.235.194,199.233.235.194\n",
      "Row 57272: IP Addresses - 141.98.103.109\n",
      "Row 57596: IP Addresses - 1.7.0.0,1.7.0.0\n",
      "Row 58419: IP Addresses - 193.228.193.57\n",
      "Row 59868: IP Addresses - 87.121.52.215,31.13.195.26,31.13.195.144,91.92.109.19\n",
      "Row 60186: IP Addresses - 185.177.124.86,185.189.151.142,170.130.55.90\n",
      "Total Unique IP Addresses Found: 152\n"
     ]
    }
   ],
   "source": [
    "import pandas as pd\n",
    "import re\n",
    "\n",
    "# Load data\n",
    "df = pd.read_csv('people_talking.csv')\n",
    "\n",
    "# IPv4 address pattern\n",
    "ip_pattern = r'\\b\\d{1,3}\\.\\d{1,3}\\.\\d{1,3}\\.\\d{1,3}\\b'\n",
    "\n",
    "# Extract IP addresses from text\n",
    "def extract_ip(text):\n",
    "    ip_addresses = re.findall(ip_pattern, text)\n",
    "    return ','.join(ip_addresses) if ip_addresses else None\n",
    "\n",
    "# Select relevant column and delete empty entries\n",
    "df['IP_Addresses'] = df.iloc[:, 5].apply(extract_ip)\n",
    "df = df.dropna(subset=['IP_Addresses'])\n",
    "\n",
    "# Print all IP Addresses with their row number (csv) and keep track of the unique ones\n",
    "unique_addresses = set()\n",
    "for index, row in df.iterrows():\n",
    "    IPA = row['IP_Addresses']\n",
    "    print(f\"Row {index + 2}: IP Addresses - {IPA}\")\n",
    "    unique_addresses.add(IPA)\n",
    "total_unique_addresses = len(unique_addresses)\n",
    "print(f\"Total Unique IP Addresses Found: {total_unique_addresses}\")"
   ]
  },
  {
   "cell_type": "markdown",
   "metadata": {
    "cell_id": "284116eb42854fd3aa15bfc88730bafd",
    "deepnote_cell_type": "text-cell-p",
    "formattedRanges": []
   },
   "source": [
    "In most conversations these IP-addresses are used to "
   ]
  },
  {
   "cell_type": "markdown",
   "metadata": {
    "cell_id": "73d43385877748988fe6c4de66b954b7",
    "deepnote_cell_type": "text-cell-p",
    "formattedRanges": []
   },
   "source": [
    "- share attack protocols"
   ]
  },
  {
   "cell_type": "markdown",
   "metadata": {
    "cell_id": "4202629e40974bfb8f9443ca387630e6",
    "deepnote_cell_type": "text-cell-p",
    "formattedRanges": []
   },
   "source": [
    "- as part of personal data of a victim"
   ]
  },
  {
   "cell_type": "markdown",
   "metadata": {
    "cell_id": "00ef4eff74a849c59b5d7c42fc6fe602",
    "deepnote_cell_type": "text-cell-p",
    "formattedRanges": []
   },
   "source": [
    "- share access to a machine or network (possibly sold)"
   ]
  },
  {
   "cell_type": "markdown",
   "metadata": {
    "cell_id": "a692f9613296409e8c8f4ac964c5ca52",
    "deepnote_cell_type": "text-cell-p",
    "formattedRanges": []
   },
   "source": [
    "- access the admin panel (e.g. of an attack)"
   ]
  },
  {
   "cell_type": "markdown",
   "metadata": {
    "cell_id": "175a73c5734445008f1f8dfba16eba80",
    "deepnote_cell_type": "text-cell-p",
    "formattedRanges": [
     {
      "fromCodePoint": 0,
      "marks": {
       "bold": true
      },
      "toCodePoint": 65,
      "type": "marks"
     }
    ]
   },
   "source": [
    "**ASPECT 6 - EXAMPLES OF URLs IN THE DATA AND WHAT THEY ARE FOR**"
   ]
  },
  {
   "cell_type": "markdown",
   "metadata": {
    "cell_id": "fd46493bbfba4647aa5f9f8e0e804915",
    "deepnote_cell_type": "text-cell-p",
    "formattedRanges": []
   },
   "source": [
    "The following data was obtained by searching for the keyword \".com\" and manually looking through the body_en column of the convos.xlsx file. "
   ]
  },
  {
   "cell_type": "markdown",
   "metadata": {
    "cell_id": "750e74cbf4424229a4bc51febaa54e0a",
    "deepnote_cell_type": "text-cell-p",
    "formattedRanges": [
     {
      "fromCodePoint": 69,
      "ranges": [],
      "toCodePoint": 110,
      "type": "link",
      "url": "https://privnote.com/bHoPj0QF#1lNBQyn7S"
     },
     {
      "fromCodePoint": 304,
      "ranges": [],
      "toCodePoint": 304,
      "type": "link",
      "url": "https://privnote.com/bHoPj0QF#1lNBQyn7S"
     }
    ]
   },
   "source": [
    "There were several 'Privnote' URLs shared between them, for example: https://privnote.com/bHoPj0QF#1lNBQyn7S . This website is used to send notes that will destroy themself after being read, it it may have been used by the group to send larger bodies of text that were not suitable to send via the chat. "
   ]
  },
  {
   "cell_type": "markdown",
   "metadata": {
    "cell_id": "4bdb34bbde1c4426b959884eca76ce12",
    "deepnote_cell_type": "markdown"
   },
   "source": [
    "![](modnik.png)"
   ]
  },
  {
   "cell_type": "markdown",
   "metadata": {
    "cell_id": "9dc583ece3614722af6c512323dcf9f6",
    "deepnote_cell_type": "text-cell-p",
    "formattedRanges": [
     {
      "fromCodePoint": 75,
      "ranges": [],
      "toCodePoint": 75,
      "type": "link",
      "url": "https://privnote.com/bHoPj0QF#1lNBQyn7S"
     },
     {
      "fromCodePoint": 75,
      "ranges": [],
      "toCodePoint": 112,
      "type": "link",
      "url": "https://www.sendspace.com/file/5dyime"
     },
     {
      "fromCodePoint": 112,
      "ranges": [],
      "toCodePoint": 113,
      "type": "link",
      "url": "https://privnote.com/bHoPj0QF#1lNBQyn7S"
     },
     {
      "fromCodePoint": 309,
      "ranges": [],
      "toCodePoint": 309,
      "type": "link",
      "url": "https://privnote.com/bHoPj0QF#1lNBQyn7S"
     },
     {
      "fromCodePoint": 309,
      "ranges": [],
      "toCodePoint": 309,
      "type": "link",
      "url": "https://www.sendspace.com/file/5dyime"
     }
    ]
   },
   "source": [
    "There were also several 'SendSpace' URLs shared between them, for example: https://www.sendspace.com/file/5dyime. This website is used to send large files between members via link. There is no requirement for an account to be made so it was mostly likely used for the convenience and anonymity of the service."
   ]
  },
  {
   "cell_type": "markdown",
   "metadata": {
    "cell_id": "de000bd7542e477f9b5792e205707ce4",
    "deepnote_cell_type": "markdown"
   },
   "source": [
    "![](netwalker.png)"
   ]
  },
  {
   "cell_type": "markdown",
   "metadata": {
    "cell_id": "87ba1a53cf30408c9fc53605c790c67d",
    "deepnote_cell_type": "text-cell-p",
    "formattedRanges": []
   },
   "source": [
    "The members also send links of companies to target, shown in the screenshot below. In this specific example, it seems a leader is assigning someone to conduct and initial investigation on the companies henry.com, zimmer-group.com, diodes.com and promedmolding.com. Earlier on in the chat, several other companies are also mentioned, including pfizer.com. "
   ]
  },
  {
   "cell_type": "markdown",
   "metadata": {
    "cell_id": "9629ce4fb54e4fab85c704958d41314d",
    "deepnote_cell_type": "markdown"
   },
   "source": [
    "![](figure7.png)"
   ]
  },
  {
   "cell_type": "markdown",
   "metadata": {
    "cell_id": "257eaff9227d42cb8d90e9b93afac6bf",
    "deepnote_cell_type": "text-cell-p",
    "formattedRanges": []
   },
   "source": [
    "Figure 7: companies to target"
   ]
  },
  {
   "cell_type": "markdown",
   "metadata": {
    "cell_id": "74a337ccc79044c6948b4e7a9168aea2",
    "deepnote_cell_type": "text-cell-p",
    "formattedRanges": [
     {
      "fromCodePoint": 0,
      "marks": {
       "bold": true
      },
      "toCodePoint": 40,
      "type": "marks"
     }
    ]
   },
   "source": [
    "**ASPECT 7 - YAHOO ACCOUNTS AND  USAGE**"
   ]
  },
  {
   "cell_type": "markdown",
   "metadata": {
    "cell_id": "a0eda31233b646648bf6038b9647582c",
    "deepnote_cell_type": "text-cell-p",
    "formattedRanges": []
   },
   "source": [
    "The data had no direct mentions of any account ending in '@yahoo.com'. But after further investigation, one user nevada@q3mcco35auwcstmt.onion mentions that they create multiple emails accounts to send phishing emails and to collect credit card information, including a Yahoo account. They also include a print screen link sharing their account. "
   ]
  },
  {
   "cell_type": "markdown",
   "metadata": {
    "cell_id": "0f9b1691d1e04922be19d50df3efbe64",
    "deepnote_cell_type": "markdown"
   },
   "source": [
    "![](yahoo.png)"
   ]
  },
  {
   "cell_type": "markdown",
   "metadata": {
    "cell_id": "7d9111415ea64fb0b8fa919a880bf520",
    "deepnote_cell_type": "text-cell-p",
    "formattedRanges": [
     {
      "fromCodePoint": 0,
      "marks": {
       "bold": true
      },
      "toCodePoint": 30,
      "type": "marks"
     }
    ]
   },
   "source": [
    "**ASPECT 8 - BITCOIN WALLETS**"
   ]
  },
  {
   "cell_type": "markdown",
   "metadata": {
    "cell_id": "e8166ca838784504a04e2e62c2410a23",
    "deepnote_cell_type": "text-cell-p",
    "formattedRanges": []
   },
   "source": [
    "This is a script that analyses the text in the .csv file for all text that has the correct BitcoinIP addresses address pattern"
   ]
  },
  {
   "cell_type": "code",
   "execution_count": null,
   "metadata": {
    "cell_id": "1ad95e090d7a4e959c85885f3c02f15e",
    "deepnote_cell_type": "code",
    "deepnote_to_be_reexecuted": false,
    "execution_millis": 470,
    "execution_start": 1698261557778,
    "source_hash": null
   },
   "outputs": [
    {
     "name": "stdout",
     "output_type": "stream",
     "text": [
      "Row 9: Bitcoin Address - 3ESoHHu87mTrFNSNUaMVEfT3vYwRYGfSHQ, Username - tom@q3mcco35auwcstmt.onion\n",
      "Row 94: Bitcoin Address - 3ESoHHu87mTrFNSNUaMVEfT3vYwRYGfSHQ, Username - many@q3mcco35auwcstmt.onion\n",
      "Row 98: Bitcoin Address - 3ESoHHu87mTrFNSNUaMVEfT3vYwRYGfSHQ, Username - tom@q3mcco35auwcstmt.onion\n",
      "Row 312: Bitcoin Address - 1PemRXvQ5nbDs6q19pCUzfd4kXVGovVoe3, Username - salamandra@q3mcco35auwcstmt.onion\n",
      "Row 325: Bitcoin Address - 1PemRXvQ5nbDs6q19pCUzfd4kXVGovVoe3, Username - salamandra@q3mcco35auwcstmt.onion\n",
      "Row 563: Bitcoin Address - 3ESoHHu87mTrFNSNUaMVEfT3vYwRYGfSHQ, Username - many@q3mcco35auwcstmt.onion\n",
      "Row 1167: Bitcoin Address - 3ESoHHu87mTrFNSNUaMVEfT3vYwRYGfSHQ, Username - many@q3mcco35auwcstmt.onion\n",
      "Row 2186: Bitcoin Address - 14HnaQfsQdtgVSNR91jLcbcKtdyddDfP6D, Username - bentley@q3mcco35auwcstmt.onion\n",
      "Row 2194: Bitcoin Address - 14HnaQfsQdtgVSNR91jLcbcKtdyddDfP6D, Username - bentley@q3mcco35auwcstmt.onion\n",
      "Row 2265: Bitcoin Address - 15gjb8F5Zd8XRKBCgVxsr8ZuVzr7yBtnCN, Username - grant@q3mcco35auwcstmt.onion\n",
      "Row 2420: Bitcoin Address - 1DSp4woswZECAL9zdmmGeu1s7k1sGExFDh, Username - lemur@q3mcco35auwcstmt.onion\n",
      "Row 2782: Bitcoin Address - 3HVdGfBobqwYH4SmMtVRcKXeSwdQjF3Khv, Username - leo@q3mcco35auwcstmt.onion\n",
      "Row 2883: Bitcoin Address - 39ApJGgEiLAV23rPbcma5Kn2yqFfzWWNnW, Username - begemot@q3mcco35auwcstmt.onion\n",
      "Row 3146: Bitcoin Address - 1HtyXyCrshiJmLYNru7atpDMJrzG9mzwzf, Username - mavemat@q3mcco35auwcstmt.onion\n",
      "Row 3320: Bitcoin Address - 3PNoZtKdNxnCEzdSQegBMbZiUufrL6RtL1, Username - neo@q3mcco35auwcstmt.onion\n",
      "Row 3349: Bitcoin Address - 3ESoHHu87mTrFNSNUaMVEfT3vYwRYGfSHQ, Username - many@q3mcco35auwcstmt.onion\n",
      "Row 3350: Bitcoin Address - 3ESoHHu87mTrFNSNUaMVEfT3vYwRYGfSHQ, Username - stern@q3mcco35auwcstmt.onion\n",
      "Row 3351: Bitcoin Address - 3ESoHHu87mTrFNSNUaMVEfT3vYwRYGfSHQ, Username - many@q3mcco35auwcstmt.onion\n",
      "Row 3352: Bitcoin Address - 3ESoHHu87mTrFNSNUaMVEfT3vYwRYGfSHQ, Username - stern@q3mcco35auwcstmt.onion\n",
      "Row 3945: Bitcoin Address - 1G5wLGHbsMmbRT7CdfmBA4aeR7RNwiG8FY, Username - mavemat@q3mcco35auwcstmt.onion\n",
      "Row 4010: Bitcoin Address - 1KfDPgc6CiWb6Fnin1bLWi2moX1ViXANxW, Username - mavemat@q3mcco35auwcstmt.onion\n",
      "Row 4062: Bitcoin Address - 1KfDPgc6CiWb6Fnin1bLWi2moX1ViXANxW, Username - mavemat@q3mcco35auwcstmt.onion\n",
      "Row 4094: Bitcoin Address - 1KBuDgmq8umdoAkdUQLp9YApeHuuKFeUWF, Username - carter@q3mcco35auwcstmt.onion\n",
      "Row 4118: Bitcoin Address - 17mc4Qm7ka9jhQEUB5LTxP3gW3tsDYUJGQ, Username - carter@q3mcco35auwcstmt.onion\n",
      "Row 4129: Bitcoin Address - 17mc4Qm7ka9jhQEUB5LTxP3gW3tsDYUJGQ, Username - carter@q3mcco35auwcstmt.onion\n",
      "Row 5057: Bitcoin Address - 3ESoHHu87mTrFNSNUaMVEfT3vYwRYGfSHQ, Username - many@q3mcco35auwcstmt.onion\n",
      "Row 6284: Bitcoin Address - 3ESoHHu87mTrFNSNUaMVEfT3vYwRYGfSHQ, Username - many@q3mcco35auwcstmt.onion\n",
      "Row 6715: Bitcoin Address - 3ESoHHu87mTrFNSNUaMVEfT3vYwRYGfSHQ, Username - many@q3mcco35auwcstmt.onion\n",
      "Row 6799: Bitcoin Address - 1AXiwETqqQoA52Jk5CmJkbAPuW8nR7VUYz, Username - stern@q3mcco35auwcstmt.onion\n",
      "Row 6858: Bitcoin Address - 1hLvH27BxAPbqx3R2fMCuuMPfS2gGDBJL, Username - netwalker@q3mcco35auwcstmt.onion\n",
      "Row 6871: Bitcoin Address - 3ESoHHu87mTrFNSNUaMVEfT3vYwRYGfSHQ, Username - many@q3mcco35auwcstmt.onion\n",
      "Row 6876: Bitcoin Address - 3ESoHHu87mTrFNSNUaMVEfT3vYwRYGfSHQ, Username - many@q3mcco35auwcstmt.onion\n",
      "Row 7369: Bitcoin Address - 1QAprZhPZ3QkAFbo59YyxjAuHcLKduFsFn, Username - kagas@q3mcco35auwcstmt.onion\n",
      "Row 7915: Bitcoin Address - 3ESoHHu87mTrFNSNUaMVEfT3vYwRYGfSHQ, Username - many@q3mcco35auwcstmt.onion\n",
      "Row 7965: Bitcoin Address - 3N4oho2uXfkFBfUAPtoPGLUXjHXqXV4vrJ, Username - many@q3mcco35auwcstmt.onion\n",
      "Row 9855: Bitcoin Address - 3C5MYb2bZvQMSGTnDhtvJnt72ByZeFLgtN, Username - mango@q3mcco35auwcstmt.onion\n",
      "Row 9865: Bitcoin Address - 1DF9qtzbja79o3yBAmgoX5wdsSSpaPD2mE, Username - sticks@q3mcco35auwcstmt.onion\n",
      "Row 9928: Bitcoin Address - 3C5MYb2bZvQMSGTnDhtvJnt72ByZeFLgtN, Username - mango@q3mcco35auwcstmt.onion\n",
      "Row 10320: Bitcoin Address - 3N4oho2uXfkFBfUAPtoPGLUXjHXqXV4vrJ, Username - many@q3mcco35auwcstmt.onion\n",
      "Row 10933: Bitcoin Address - 1347fBtFzZCrPq29yjRpct5f6Kq5uHZHHy, Username - rand@q3mcco35auwcstmt.onion\n",
      "Row 11038: Bitcoin Address - 1KBuDgmq8umdoAkdUQLp9YApeHuuKFeUWF, Username - carter@q3mcco35auwcstmt.onion\n",
      "Row 11209: Bitcoin Address - 36UqDj8hGfZTVjpURvSnKtpJnJKjhYcvuY, Username - derekson@q3mcco35auwcstmt.onion\n",
      "Row 11615: Bitcoin Address - 1KkwkfQCB5VuwF8PnDHhw38EVGdCHK5fMk, Username - tramp@q3mcco35auwcstmt.onion\n",
      "Row 11619: Bitcoin Address - 1KkwkfQCB5VuwF8PnDHhw38EVGdCHK5fMk, Username - tramp@q3mcco35auwcstmt.onion\n",
      "Row 11814: Bitcoin Address - 3N4oho2uXfkFBfUAPtoPGLUXjHXqXV4vrJ, Username - many@q3mcco35auwcstmt.onion\n",
      "Row 12140: Bitcoin Address - 3Cxt179UhfF4xkNQsytDmoJVWEJs1ERbZh, Username - green@q3mcco35auwcstmt.onion\n",
      "Row 12149: Bitcoin Address - 3PsVm4PDNhrhwnVf8rsL72mH1CcyCP3etD, Username - green@q3mcco35auwcstmt.onion\n",
      "Row 12845: Bitcoin Address - 3ESoHHu87mTrFNSNUaMVEfT3vYwRYGfSHQ, Username - many@q3mcco35auwcstmt.onion\n",
      "Row 12849: Bitcoin Address - 3ESoHHu87mTrFNSNUaMVEfT3vYwRYGfSHQ, Username - many@q3mcco35auwcstmt.onion\n",
      "Row 13272: Bitcoin Address - 1HtyXyCrshiJmLYNru7atpDMJrzG9mzwzf, Username - mavemat@q3mcco35auwcstmt.onion\n",
      "Row 13600: Bitcoin Address - 1DSp4woswZECAL9zdmmGeu1s7k1sGExFDh, Username - lemur@q3mcco35auwcstmt.onion\n",
      "Row 13707: Bitcoin Address - 3ESoHHu87mTrFNSNUaMVEfT3vYwRYGfSHQ, Username - many@q3mcco35auwcstmt.onion\n",
      "Row 13722: Bitcoin Address - 3ESoHHu87mTrFNSNUaMVEfT3vYwRYGfSHQ, Username - many@q3mcco35auwcstmt.onion\n",
      "Row 13735: Bitcoin Address - 3ESoHHu87mTrFNSNUaMVEfT3vYwRYGfSHQ, Username - many@q3mcco35auwcstmt.onion\n",
      "Row 13999: Bitcoin Address - 1HtyXyCrshiJmLYNru7atpDMJrzG9mzwzf, Username - mavemat@q3mcco35auwcstmt.onion\n",
      "Row 14007: Bitcoin Address - 1HtyXyCrshiJmLYNru7atpDMJrzG9mzwzf, Username - mavemat@q3mcco35auwcstmt.onion\n",
      "Row 14240: Bitcoin Address - 3ESoHHu87mTrFNSNUaMVEfT3vYwRYGfSHQ, Username - many@q3mcco35auwcstmt.onion\n",
      "Row 14474: Bitcoin Address - 1Q6SsW88b94a4P3Rxtfr4pRxvhqqJAWvEc, Username - carter@q3mcco35auwcstmt.onion\n",
      "Row 15795: Bitcoin Address - 1GXrHar42EHxHNXM2nFkXQ5gpTMxdR5q5j, Username - mavemat@q3mcco35auwcstmt.onion\n",
      "Row 16289: Bitcoin Address - 31inPQPChryvSPEnaXrBc6kmYH4NAqYnTR, Username - kevin@q3mcco35auwcstmt.onion\n",
      "Row 17424: Bitcoin Address - 1QAprZhPZ3QkAFbo59YyxjAuHcLKduFsFn, Username - kagas@q3mcco35auwcstmt.onion\n",
      "Row 17453: Bitcoin Address - 1DS9DVVD4K86ppQhg8ta9XFVEaaW7NXZfA, Username - mango@q3mcco35auwcstmt.onion\n",
      "Row 17455: Bitcoin Address - 1DS9DVVD4K86ppQhg8ta9XFVEaaW7NXZfA, Username - mango@q3mcco35auwcstmt.onion\n",
      "Row 18678: Bitcoin Address - 12V63PHiX8FvEgyewX5W1D2QrdJJSawqQM, Username - salamandra@q3mcco35auwcstmt.onion\n",
      "Row 18682: Bitcoin Address - 1HFqLt3fbuewZe5ncJautgncS6hN1ZzX5r, Username - salamandra@q3mcco35auwcstmt.onion\n",
      "Row 18687: Bitcoin Address - 12V63PHiX8FvEgyewX5W1D2QrdJJSawqQM, Username - salamandra@q3mcco35auwcstmt.onion\n",
      "Row 18688: Bitcoin Address - 1HFqLt3fbuewZe5ncJautgncS6hN1ZzX5r, Username - salamandra@q3mcco35auwcstmt.onion\n",
      "Row 18699: Bitcoin Address - 1PemRXvQ5nbDs6q19pCUzfd4kXVGovVoe3, Username - salamandra@q3mcco35auwcstmt.onion\n",
      "Row 18778: Bitcoin Address - 16evvEiZ6HKkV9WAbysJfJG1Qa7DzJGUFp, Username - netwalker@q3mcco35auwcstmt.onion\n",
      "Row 19567: Bitcoin Address - 396PgCGZf7FAK5Sxmxa9NhGRZECddT2mMv, Username - van@q3mcco35auwcstmt.onion\n",
      "Row 20618: Bitcoin Address - 1DSp4woswZECAL9zdmmGeu1s7k1sGExFDh, Username - lemur@q3mcco35auwcstmt.onion\n",
      "Row 21029: Bitcoin Address - 172KVKhMqL5CU1HN884RbArzu5DDL5hwE3, Username - bekeeper@q3mcco35auwcstmt.onion\n",
      "Row 21529: Bitcoin Address - 1MxtwUpH4cWAz4en4kqVNzAdx5gpk9etUC, Username - carter@q3mcco35auwcstmt.onion\n",
      "Row 21534: Bitcoin Address - 1MxtwUpH4cWAz4en4kqVNzAdx5gpk9etUC, Username - carter@q3mcco35auwcstmt.onion\n",
      "Row 22120: Bitcoin Address - 1LYiEgq9k3xSAddbqMZcsVTayJVoKbTFub, Username - bio@q3mcco35auwcstmt.onion\n",
      "Row 22193: Bitcoin Address - 1LYiEgq9k3xSAddbqMZcsVTayJVoKbTFub, Username - bio@q3mcco35auwcstmt.onion\n",
      "Row 22194: Bitcoin Address - 1LYiEgq9k3xSAddbqMZcsVTayJVoKbTFub, Username - tramp@q3mcco35auwcstmt.onion\n",
      "Row 22552: Bitcoin Address - 1DSp4woswZECAL9zdmmGeu1s7k1sGExFDh, Username - lemur@q3mcco35auwcstmt.onion\n",
      "Row 24023: Bitcoin Address - 3A8xNfeK2dXdDHi5PtKjZFa48HFixTqdAv, Username - love@q3mcco35auwcstmt.onion\n",
      "Row 24181: Bitcoin Address - 36dmB68ZpeZZThy9SnCHoMvfqCKgZS1Grf, Username - bullet@q3mcco35auwcstmt.onion\n",
      "Row 26322: Bitcoin Address - 112qJRWfQCAqKzSk3ZcQnq1A1YwqyfLbgp, Username - tramp@q3mcco35auwcstmt.onion\n",
      "Row 26809: Bitcoin Address - 1NVHhVjcPEWdUNpUjb3RaBWPw2WdvZ7JEk, Username - mavemat@q3mcco35auwcstmt.onion\n",
      "Row 27020: Bitcoin Address - 1NVHhVjcPEWdUNpUjb3RaBWPw2WdvZ7JEk, Username - mavemat@q3mcco35auwcstmt.onion\n",
      "Row 27201: Bitcoin Address - 3Jc3mTyYuRpP7hynPaStpDBPNNd8FYydzS, Username - bullet@q3mcco35auwcstmt.onion\n",
      "Row 27319: Bitcoin Address - 1FWWRT88WjYbZp4NoRNEBgTGjRxhi2J9YM, Username - mango@q3mcco35auwcstmt.onion\n",
      "Row 27507: Bitcoin Address - 1KfDPgc6CiWb6Fnin1bLWi2moX1ViXANxW, Username - mavemat@q3mcco35auwcstmt.onion\n",
      "Row 27520: Bitcoin Address - 1KfDPgc6CiWb6Fnin1bLWi2moX1ViXANxW, Username - mavemat@q3mcco35auwcstmt.onion\n",
      "Row 27682: Bitcoin Address - 35aWyVRkYme3aKeezp6wsJVGeoYsCTH44Z, Username - derekson@q3mcco35auwcstmt.onion\n",
      "Row 27977: Bitcoin Address - 3ESoHHu87mTrFNSNUaMVEfT3vYwRYGfSHQ, Username - many@q3mcco35auwcstmt.onion\n",
      "Row 27987: Bitcoin Address - 3ESoHHu87mTrFNSNUaMVEfT3vYwRYGfSHQ, Username - many@q3mcco35auwcstmt.onion\n",
      "Row 29054: Bitcoin Address - 3E6GJ8Cmk7dBQE2maUisJfJNRdxB4ih1sN, Username - begemot@q3mcco35auwcstmt.onion\n",
      "Row 29098: Bitcoin Address - 1KMRTrRYZABPnCnpqhzECMhjaF5sKCyeQK, Username - begemot@q3mcco35auwcstmt.onion\n",
      "Row 29179: Bitcoin Address - 3Abc4kZoDruwVZu6jERirKypok1EFmZZKt, Username - van@q3mcco35auwcstmt.onion\n",
      "Row 29205: Bitcoin Address - 3B7AmkZ8VVhKAAqCp4ZLNVbmGJQoZcaBc9, Username - derekson@q3mcco35auwcstmt.onion\n",
      "Row 29254: Bitcoin Address - 3N4oho2uXfkFBfUAPtoPGLUXjHXqXV4vrJ, Username - many@q3mcco35auwcstmt.onion\n",
      "Row 29350: Bitcoin Address - 1234A242341C6D1A25B3F315D688968E, Username - ttrr@conference.q3mcco35auwcstmt.onion\n",
      "Row 29373: Bitcoin Address - 1234A242341C6D1A25B3F315D688968E, Username - ttrr@conference.q3mcco35auwcstmt.onion\n",
      "Row 29394: Bitcoin Address - 1234A242341C6D1A25B3F315D688968E, Username - ttrr@conference.q3mcco35auwcstmt.onion\n",
      "Row 29706: Bitcoin Address - 1KQ5tkv7NWjG2a67fP6UzTc7egE6HWAXux, Username - kagas@q3mcco35auwcstmt.onion\n",
      "Row 30311: Bitcoin Address - 15QULY9y2HJj1i85LiJGMYWChhAqnGkCSx, Username - mavemat@q3mcco35auwcstmt.onion\n",
      "Row 30320: Bitcoin Address - 15QULY9y2HJj1i85LiJGMYWChhAqnGkCSx, Username - mavemat@q3mcco35auwcstmt.onion\n",
      "Row 30633: Bitcoin Address - 1FWWRT88WjYbZp4NoRNEBgTGjRxhi2J9YM, Username - mango@q3mcco35auwcstmt.onion\n",
      "Row 30634: Bitcoin Address - 1FWWRT88WjYbZp4NoRNEBgTGjRxhi2J9YM, Username - mango@q3mcco35auwcstmt.onion\n",
      "Row 31091: Bitcoin Address - 1G5LWXMN42ueD2eWvm4zMrhXGihghHDgMq, Username - bonen@q3mcco35auwcstmt.onion\n",
      "Row 31164: Bitcoin Address - 3ESoHHu87mTrFNSNUaMVEfT3vYwRYGfSHQ, Username - many@q3mcco35auwcstmt.onion\n",
      "Row 31286: Bitcoin Address - 3M9tAMuamLcCpifaCQPSH3Th5F4VwjmyWz, Username - bio@q3mcco35auwcstmt.onion\n",
      "Row 31310: Bitcoin Address - 3HrDFf1Yj95PFeSR58kCthga3p9hcz9Nmw, Username - bio@q3mcco35auwcstmt.onion\n",
      "Row 31998: Bitcoin Address - 12YQDqmq3t6bCKPKMRWFmqrju4UMXbcqvF, Username - carter@q3mcco35auwcstmt.onion\n",
      "Row 32001: Bitcoin Address - 12YQDqmq3t6bCKPKMRWFmqrju4UMXbcqvF, Username - carter@q3mcco35auwcstmt.onion\n",
      "Row 32410: Bitcoin Address - 37JcnKmYGBT7H5fyWuthHnrJsQjcHrewDB, Username - begemot@q3mcco35auwcstmt.onion\n",
      "Row 33761: Bitcoin Address - 3QsBgNCy4UwKkYXPLSucytEY4LyddZSSN9, Username - carter@q3mcco35auwcstmt.onion\n",
      "Row 33762: Bitcoin Address - 38ZcBm8BBEpVn4y7CkGL7yyyYPKMSsEvhP, Username - carter@q3mcco35auwcstmt.onion\n",
      "Row 33765: Bitcoin Address - 385weBHnfNpr4EhKCaLZTN6zGcczt4Fben, Username - carter@q3mcco35auwcstmt.onion\n",
      "Row 34244: Bitcoin Address - 3ESoHHu87mTrFNSNUaMVEfT3vYwRYGfSHQ, Username - many@q3mcco35auwcstmt.onion\n",
      "Row 34492: Bitcoin Address - 3LaDs8DLJCSiJDV8RYHGyk4EVjbVRvxC9A, Username - derekson@q3mcco35auwcstmt.onion\n",
      "Row 34498: Bitcoin Address - 169J9MvXSjJZUjarG7JXDD8qiQXZS4jj6A, Username - derekson@q3mcco35auwcstmt.onion\n",
      "Row 36082: Bitcoin Address - 3CvVwhowFkgoqEw2cZE5DmMYvsqRgtQVaH, Username - bullet@q3mcco35auwcstmt.onion\n",
      "Row 36384: Bitcoin Address - 3ESoHHu87mTrFNSNUaMVEfT3vYwRYGfSHQ, Username - many@q3mcco35auwcstmt.onion\n",
      "Row 36784: Bitcoin Address - 1H4JUerGtbh74dP2e4N2ogmATd5SR47iXN, Username - sticks@q3mcco35auwcstmt.onion\n",
      "Row 37251: Bitcoin Address - 3QdNiLEpxKWQ6SoxULAo4xc48d5otumivR, Username - ganesh@q3mcco35auwcstmt.onion\n",
      "Row 38800: Bitcoin Address - 1K4NVpT26qwtLp2yReFkgecPkqqQHVrVJd, Username - gorec@q3mcco35auwcstmt.onion\n",
      "Row 40331: Bitcoin Address - 33i6BL4HGNL7YSdPWDP9x2swdJinNLs5zu, Username - begemot@q3mcco35auwcstmt.onion\n",
      "Row 40341: Bitcoin Address - 395hQDyiBT16yt8jVVNj7WuZoQ4ouuFJcZ, Username - begemot@q3mcco35auwcstmt.onion\n",
      "Row 41142: Bitcoin Address - 1GoAiu7jLbjNoVBvKX8Dba45G4J3BFL3tM, Username - bentley@q3mcco35auwcstmt.onion\n",
      "Row 41167: Bitcoin Address - 1GoAiu7jLbjNoVBvKX8Dba45G4J3BFL3tM, Username - bentley@q3mcco35auwcstmt.onion\n",
      "Row 41395: Bitcoin Address - 1Q6SsW88b94a4P3Rxtfr4pRxvhqqJAWvEc, Username - carter@q3mcco35auwcstmt.onion\n",
      "Row 41932: Bitcoin Address - 1FWWRT88WjYbZp4NoRNEBgTGjRxhi2J9YM, Username - mango@q3mcco35auwcstmt.onion\n",
      "Row 42787: Bitcoin Address - 3ESoHHu87mTrFNSNUaMVEfT3vYwRYGfSHQ, Username - many@q3mcco35auwcstmt.onion\n",
      "Row 42794: Bitcoin Address - 3ESoHHu87mTrFNSNUaMVEfT3vYwRYGfSHQ, Username - many@q3mcco35auwcstmt.onion\n",
      "Row 42825: Bitcoin Address - 31inPQPChryvSPEnaXrBc6kmYH4NAqYnTR, Username - kevin@q3mcco35auwcstmt.onion\n",
      "Row 43270: Bitcoin Address - 1234A242341C6D1A25B3F315D688968E, Username - driver@q3mcco35auwcstmt.onion\n",
      "Row 43271: Bitcoin Address - 1234A242341C6D1A25B3F315D688968E, Username - ttrr@conference.q3mcco35auwcstmt.onion\n",
      "Row 43272: Bitcoin Address - 1234A242341C6D1A25B3F315D688968E, Username - ttrr@conference.q3mcco35auwcstmt.onion\n",
      "Row 43273: Bitcoin Address - 1234A242341C6D1A25B3F315D688968E, Username - ttrr@conference.q3mcco35auwcstmt.onion\n",
      "Row 43274: Bitcoin Address - 1234A242341C6D1A25B3F315D688968E, Username - ttrr@conference.q3mcco35auwcstmt.onion\n",
      "Row 43275: Bitcoin Address - 1234A242341C6D1A25B3F315D688968E, Username - ttrr@conference.q3mcco35auwcstmt.onion\n",
      "Row 43276: Bitcoin Address - 1234A242341C6D1A25B3F315D688968E, Username - ttrr@conference.q3mcco35auwcstmt.onion\n",
      "Row 43886: Bitcoin Address - 3JDKxEidX2JhmusBDB3BRaCahucEiHcK8n, Username - derekson@q3mcco35auwcstmt.onion\n",
      "Row 44045: Bitcoin Address - 1CwbkiHug1yw7HGdYxEtXk9nQFUc6GKxzj, Username - carter@q3mcco35auwcstmt.onion\n",
      "Row 44128: Bitcoin Address - 3ESoHHu87mTrFNSNUaMVEfT3vYwRYGfSHQ, Username - many@q3mcco35auwcstmt.onion\n",
      "Row 44144: Bitcoin Address - 1DSp4woswZECAL9zdmmGeu1s7k1sGExFDh, Username - lemur@q3mcco35auwcstmt.onion\n",
      "Row 44151: Bitcoin Address - 3ESoHHu87mTrFNSNUaMVEfT3vYwRYGfSHQ, Username - many@q3mcco35auwcstmt.onion\n",
      "Row 45747: Bitcoin Address - 3ESoHHu87mTrFNSNUaMVEfT3vYwRYGfSHQ, Username - many@q3mcco35auwcstmt.onion\n",
      "Row 46567: Bitcoin Address - 3C4MVjmXVu1vjJFfg4phf55L1LAscKa8dr, Username - derekson@q3mcco35auwcstmt.onion\n",
      "Row 46570: Bitcoin Address - 3C4MVjmXVu1vjJFfg4phf55L1LAscKa8dr, Username - derekson@q3mcco35auwcstmt.onion\n",
      "Row 48541: Bitcoin Address - 1B8sFxkPtMqR86dkfd3rFT38A5tncCDZD8, Username - carter@q3mcco35auwcstmt.onion\n",
      "Row 48895: Bitcoin Address - 12KHi1L1KUNDjSvkG5j56FRNbFrud3ZjUU, Username - lemur@q3mcco35auwcstmt.onion\n",
      "Row 49706: Bitcoin Address - 3N4oho2uXfkFBfUAPtoPGLUXjHXqXV4vrJ, Username - many@q3mcco35auwcstmt.onion\n",
      "Row 51211: Bitcoin Address - 373DB653127865BE61B876BF3F537718, Username - bentley@q3mcco35auwcstmt.onion\n",
      "Row 51804: Bitcoin Address - 35Z4UipuER5ZGprGUugcoxPWwZ43RXchPX, Username - begemot@q3mcco35auwcstmt.onion\n",
      "Row 52585: Bitcoin Address - 1LLRL4vZajTtpjuBh5VpBD8zUg73CHUsq3, Username - grant@q3mcco35auwcstmt.onion\n",
      "Row 52835: Bitcoin Address - 3ESoHHu87mTrFNSNUaMVEfT3vYwRYGfSHQ, Username - many@q3mcco35auwcstmt.onion\n",
      "Row 53187: Bitcoin Address - 3N4oho2uXfkFBfUAPtoPGLUXjHXqXV4vrJ, Username - many@q3mcco35auwcstmt.onion\n",
      "Row 53204: Bitcoin Address - 3N4oho2uXfkFBfUAPtoPGLUXjHXqXV4vrJ, Username - many@q3mcco35auwcstmt.onion\n",
      "Row 53608: Bitcoin Address - 3NAn1bJ49deFB9MmKw1gfBVr5Vwu5KsVzr, Username - begemot@q3mcco35auwcstmt.onion\n",
      "Row 53615: Bitcoin Address - 3MqifVVoWvgAq6L8opqHbk9jJw6vmgtN2n, Username - begemot@q3mcco35auwcstmt.onion\n",
      "Row 53626: Bitcoin Address - 1NqxPMSjDxEfJ2ozbFnGEoumDpL4Z8frKh, Username - begemot@q3mcco35auwcstmt.onion\n",
      "Row 53630: Bitcoin Address - 12bsh5bc7wkVSRv25Qw6x3JYzuQDpZZ4zi, Username - begemot@q3mcco35auwcstmt.onion\n",
      "Row 53661: Bitcoin Address - 3CPbvktjKPiWcYu4PM4oVrQhvSQjCKnR59, Username - begemot@q3mcco35auwcstmt.onion\n",
      "Row 53665: Bitcoin Address - 1LCEGFc6Cwe194B6gavMcZ56o2pbftXqWk, Username - begemot@q3mcco35auwcstmt.onion\n",
      "Row 53676: Bitcoin Address - 32Bg4EsuNjxVJ9ZP2RWHv66ybZRHQotQS4, Username - begemot@q3mcco35auwcstmt.onion\n",
      "Row 53695: Bitcoin Address - 1HtyXyCrshiJmLYNru7atpDMJrzG9mzwzf, Username - mavemat@q3mcco35auwcstmt.onion\n",
      "Row 53855: Bitcoin Address - 3ESoHHu87mTrFNSNUaMVEfT3vYwRYGfSHQ, Username - many@q3mcco35auwcstmt.onion\n",
      "Row 54315: Bitcoin Address - 1G5wLGHbsMmbRT7CdfmBA4aeR7RNwiG8FY, Username - mavemat@q3mcco35auwcstmt.onion\n",
      "Row 54917: Bitcoin Address - 15D4F2F3B95FBD39BBD4993FA177359D, Username - hof@q3mcco35auwcstmt.onion\n",
      "Row 55332: Bitcoin Address - 172KVKhMqL5CU1HN884RbArzu5DDL5hwE3, Username - bekeeper@q3mcco35auwcstmt.onion\n",
      "Row 55342: Bitcoin Address - 15QULY9y2HJj1i85LiJGMYWChhAqnGkCSx, Username - mavemat@q3mcco35auwcstmt.onion\n",
      "Row 55351: Bitcoin Address - 15QULY9y2HJj1i85LiJGMYWChhAqnGkCSx, Username - mavemat@q3mcco35auwcstmt.onion\n",
      "Row 57128: Bitcoin Address - 33hiG13GTHTV2G8aZxzBJHBPBpDNevcK2B, Username - derekson@q3mcco35auwcstmt.onion\n",
      "Row 57145: Bitcoin Address - 3351LRF9NrFH5v2CMZWsCv66tv5UAjX5Gn, Username - derekson@q3mcco35auwcstmt.onion\n",
      "Row 57665: Bitcoin Address - 3ESoHHu87mTrFNSNUaMVEfT3vYwRYGfSHQ, Username - many@q3mcco35auwcstmt.onion\n",
      "Row 57945: Bitcoin Address - 3ESoHHu87mTrFNSNUaMVEfT3vYwRYGfSHQ, Username - many@q3mcco35auwcstmt.onion\n",
      "Row 58461: Bitcoin Address - 3ESoHHu87mTrFNSNUaMVEfT3vYwRYGfSHQ, Username - many@q3mcco35auwcstmt.onion\n",
      "Row 58491: Bitcoin Address - 3PyFQL2UNfzBVwCi9GYqn2vYpMeamcoQqv, Username - derekson@q3mcco35auwcstmt.onion\n",
      "Row 58716: Bitcoin Address - 1B8sFxkPtMqR86dkfd3rFT38A5tncCDZD8, Username - carter@q3mcco35auwcstmt.onion\n",
      "Row 59806: Bitcoin Address - 3ESoHHu87mTrFNSNUaMVEfT3vYwRYGfSHQ, Username - many@q3mcco35auwcstmt.onion\n",
      "Row 59994: Bitcoin Address - 3ESoHHu87mTrFNSNUaMVEfT3vYwRYGfSHQ, Username - many@q3mcco35auwcstmt.onion\n",
      "Row 60096: Bitcoin Address - 3ESoHHu87mTrFNSNUaMVEfT3vYwRYGfSHQ, Username - many@q3mcco35auwcstmt.onion\n",
      "Row 60098: Bitcoin Address - 3ESoHHu87mTrFNSNUaMVEfT3vYwRYGfSHQ, Username - many@q3mcco35auwcstmt.onion\n",
      "Row 60101: Bitcoin Address - 3ESoHHu87mTrFNSNUaMVEfT3vYwRYGfSHQ, Username - many@q3mcco35auwcstmt.onion\n",
      "Row 60106: Bitcoin Address - 3ESoHHu87mTrFNSNUaMVEfT3vYwRYGfSHQ, Username - many@q3mcco35auwcstmt.onion\n",
      "Row 60126: Bitcoin Address - 3ESoHHu87mTrFNSNUaMVEfT3vYwRYGfSHQ, Username - many@q3mcco35auwcstmt.onion\n",
      "Total Unique Bitcoin Addresses Found: 85\n"
     ]
    }
   ],
   "source": [
    "import pandas as pd\n",
    "import re\n",
    "\n",
    "# Load data\n",
    "df = pd.read_csv('people_talking.csv')\n",
    "\n",
    "# Bitcoin wallet pattern\n",
    "bitcoin_wallet_pattern = r'\\b(1|3)[A-HJ-NP-Za-km-z1-9]{25,34}\\b'\n",
    "\n",
    "# Function to extract Bitcoin wallet addresses from a text\n",
    "def extract_bitcoin_wallet(text):\n",
    "    match = re.search(bitcoin_wallet_pattern, text)\n",
    "    return match.group(0) if match else None\n",
    "\n",
    "# Select relevant columns and delete empty entries\n",
    "df['Bitcoin_Wallets'] = df.iloc[:, 5].apply(extract_bitcoin_wallet)\n",
    "df['Username'] = df.iloc[:, 2]\n",
    "df = df.dropna(subset=['Bitcoin_Wallets'])\n",
    "\n",
    "# Print the Bitcoin wallet addresses found and keep track of the unique ones\n",
    "unique_wallets = set()\n",
    "for index, row in df.iterrows():\n",
    "    bitcoin_address = row['Bitcoin_Wallets']\n",
    "    username = row['Username']\n",
    "    print(f\"Row {index + 2}: Bitcoin Address - {bitcoin_address}, Username - {username}\")\n",
    "    unique_wallets.add(bitcoin_address)\n",
    "total_unique_addresses = len(unique_wallets)\n",
    "print(f\"Total Unique Bitcoin Addresses Found: {total_unique_addresses}\")\n"
   ]
  },
  {
   "cell_type": "markdown",
   "metadata": {
    "cell_id": "a953d65332954b628feb3c0f349d9a2d",
    "deepnote_cell_type": "text-cell-p",
    "formattedRanges": []
   },
   "source": [
    "Table 3: Bitcoin wallets and owners"
   ]
  },
  {
   "cell_type": "markdown",
   "metadata": {
    "cell_id": "3c53d5fb69144e9fb30c41264d4b817c",
    "deepnote_cell_type": "text-cell-p",
    "formattedRanges": [
     {
      "fromCodePoint": 0,
      "marks": {
       "bold": true
      },
      "toCodePoint": 52,
      "type": "marks"
     }
    ]
   },
   "source": [
    "**ASPECT 9 - EXAMPLES OF INTERESTING CONVERSATIONS**"
   ]
  },
  {
   "cell_type": "markdown",
   "metadata": {
    "cell_id": "4695fce34a33470a9d934cbc50a7d1a3",
    "deepnote_cell_type": "text-cell-p",
    "formattedRanges": []
   },
   "source": [
    "Below are the screenshots of three interesting conversations:"
   ]
  },
  {
   "cell_type": "markdown",
   "metadata": {
    "cell_id": "c398e9a563b6419a8ad23593bf658f6a",
    "deepnote_cell_type": "text-cell-p",
    "formattedRanges": []
   },
   "source": [
    "The first figure in this aspect is interesting because it shows the logic behind how ransomware groups are thinking. The more they show they are willing to negotiate or even correspond with their victims, the more the parties become humanized to each other, thus losing ground in demanded payment amounts. Ransomware groups maximize their profits when their attack is swift, and decapitating, and the victims capitulate rapidly."
   ]
  },
  {
   "cell_type": "markdown",
   "metadata": {
    "cell_id": "bf13574d90a14f6bb205b0e698ba5b22",
    "deepnote_cell_type": "text-cell-p",
    "formattedRanges": []
   },
   "source": [
    "The second figure hints at the group being aware that the FBI is onto their activities, adjacent activities, or a case. What is more interesting is that on the top lines of the figure, one of the chat participants is alluding to connections within the legal system that he might be able to exploit. If the group is not able to exploit these opportunities, they definitely know enough about certain individuals to be able to give themselves advanced notice to stay under the radar."
   ]
  },
  {
   "cell_type": "markdown",
   "metadata": {
    "cell_id": "a213a5cee3f94606b7cae3cd59ab73bc",
    "deepnote_cell_type": "text-cell-p",
    "formattedRanges": []
   },
   "source": [
    "The third figure highlights the command and control of the group. The Defender character and the Stern character appear to be the leadership or managers of the group. As such they are responsible for the upkeep of software that users within their organization use to maintain their illicit activities. Whenever either the Defender character or the Stern character speaks, the group is going to listen."
   ]
  },
  {
   "cell_type": "markdown",
   "metadata": {
    "cell_id": "1e8ea8cbb41a4549a36113c8c255a0b7",
    "deepnote_cell_type": "markdown"
   },
   "source": [
    "![](figure8.png)"
   ]
  },
  {
   "cell_type": "markdown",
   "metadata": {
    "cell_id": "4de8ab25d3c04aaea8def00a460ab045",
    "deepnote_cell_type": "text-cell-p",
    "formattedRanges": []
   },
   "source": [
    "Figure 8. Negotiation logic with victims"
   ]
  },
  {
   "cell_type": "markdown",
   "metadata": {
    "cell_id": "da2d4199bbaa47bd9f68897049c84b87",
    "deepnote_cell_type": "markdown"
   },
   "source": [
    "![](figure9.png)"
   ]
  },
  {
   "cell_type": "markdown",
   "metadata": {
    "cell_id": "f70463b7ffa24abd8cfd01665e26ab0a",
    "deepnote_cell_type": "text-cell-p",
    "formattedRanges": []
   },
   "source": [
    "Figure 9. Criminal insights into certain people in the legal system"
   ]
  },
  {
   "cell_type": "markdown",
   "metadata": {
    "cell_id": "50c047cf28424233adb7da67b81c21ac",
    "deepnote_cell_type": "markdown"
   },
   "source": [
    "![](figure10.png)"
   ]
  },
  {
   "cell_type": "markdown",
   "metadata": {
    "cell_id": "1ee41fe001e843598ca161b2283df3bb",
    "deepnote_cell_type": "text-cell-p",
    "formattedRanges": []
   },
   "source": [
    "Figure 10. Command and Control of the group via Stern and Defender"
   ]
  },
  {
   "cell_type": "markdown",
   "metadata": {
    "cell_id": "1d3d7ab04d234ba9a9a224cd2b9fb60a",
    "deepnote_cell_type": "text-cell-p",
    "formattedRanges": [
     {
      "fromCodePoint": 0,
      "marks": {
       "bold": true
      },
      "toCodePoint": 39,
      "type": "marks"
     }
    ]
   },
   "source": [
    "**ASPECT 10 - EXAMPLES OF COMPLAINING**"
   ]
  },
  {
   "cell_type": "markdown",
   "metadata": {
    "cell_id": "a51dfb765c3b438db729630495395c35",
    "deepnote_cell_type": "text-cell-p",
    "formattedRanges": []
   },
   "source": [
    "Below are the screenshots of three moments of complaining:"
   ]
  },
  {
   "cell_type": "markdown",
   "metadata": {
    "cell_id": "faf9ffa54ae546cca8a7c5f8a2b0edd9",
    "deepnote_cell_type": "markdown"
   },
   "source": [
    "![](figure11.png)"
   ]
  },
  {
   "cell_type": "markdown",
   "metadata": {
    "cell_id": "44c5f16e31174fd7b68873d1817b681c",
    "deepnote_cell_type": "text-cell-p",
    "formattedRanges": []
   },
   "source": [
    "Figure 11. Complaints about salary raises and incompetent work on infrastructure."
   ]
  },
  {
   "cell_type": "markdown",
   "metadata": {
    "cell_id": "5ef8260320cf4388b7c342521b52bc4c",
    "deepnote_cell_type": "markdown"
   },
   "source": [
    "![](figure12.png)"
   ]
  },
  {
   "cell_type": "markdown",
   "metadata": {
    "cell_id": "22433f8ab01a43bbaacacc5faadfcaf2",
    "deepnote_cell_type": "text-cell-p",
    "formattedRanges": []
   },
   "source": [
    "Figure 12. Complaints about the perceived incompetence of one of the group members. "
   ]
  },
  {
   "cell_type": "markdown",
   "metadata": {
    "cell_id": "d691087ac671443f9f10c5a0c0dfe575",
    "deepnote_cell_type": "markdown"
   },
   "source": [
    "![](figure13.png)"
   ]
  },
  {
   "cell_type": "markdown",
   "metadata": {
    "cell_id": "2753f707b1cf45e5ae98f285885eb6ce",
    "deepnote_cell_type": "text-cell-p",
    "formattedRanges": []
   },
   "source": [
    "Figure 13. Complaints about Botnet services and inept team members."
   ]
  },
  {
   "cell_type": "markdown",
   "metadata": {
    "cell_id": "695a701a8d874d3a95f0d1c1e0bf80f8",
    "deepnote_cell_type": "text-cell-p",
    "formattedRanges": [
     {
      "fromCodePoint": 0,
      "marks": {
       "bold": true
      },
      "toCodePoint": 34,
      "type": "marks"
     }
    ]
   },
   "source": [
    "**ASPECT 11 - HOW MUCH THEY EARN**"
   ]
  },
  {
   "cell_type": "markdown",
   "metadata": {
    "cell_id": "3e618b095922434abfa617f341e6b313",
    "deepnote_cell_type": "text-cell-p",
    "formattedRanges": []
   },
   "source": [
    "Currently, all of the Bitcoin wallets found have a balance of 0. However, within the transcripts, there were multiple offers that were agreed to. The highest offer currently found was on line 22,276 of the Excel convos file. Bio Character was demanded to pay Skippy Character's 2,300,000 USD in BTC. Further conversation on line 40,135 of the same file shows that after negotiation, Skippy Character reduced his demands to 1,150,000 USD to be paid in BTC. This is the highest amount found during a cohesive set of negotiations. There were other offers found that totaled around 1,000,000 USD. At the very least, the group likely earned 1,150,000 USD in BTC to be dispersed into any of the wallets that they controlled."
   ]
  },
  {
   "cell_type": "markdown",
   "metadata": {
    "cell_id": "1bccfb3cf52f41339b5db9450a0f2935",
    "deepnote_cell_type": "text-cell-p",
    "formattedRanges": [
     {
      "fromCodePoint": 0,
      "marks": {
       "bold": true
      },
      "toCodePoint": 63,
      "type": "marks"
     }
    ]
   },
   "source": [
    "**ASPECT 12 - THREE CONVERSATIONS WORTH INVESTIGATING FURTHER**"
   ]
  },
  {
   "cell_type": "markdown",
   "metadata": {
    "cell_id": "809d5a8d79bd4fa7b0d1d9318a68df81",
    "deepnote_cell_type": "text-cell-p",
    "formattedRanges": []
   },
   "source": [
    "Below are three figures that highlight some of the interesting conversations present in the correspondence. The first figure highlights the Stern character as one of the managers of the group. His character should be further investigated that way his role within the criminal organization can be better understood, especially if he can be tracked down in person. The second figure highlights the ransomware group's desire to create their own cryptosystem using different crypto software. Understanding how these pieces of crypto software work could allow law enforcement to find additional ways to embed themselves in the infrastructure and intercept communication. The third figure highlights the other managerial character, the Defender character and his interest in upkeeping the Toad software. Understanding the software that groups utilize allows law enforcement to get a better idea of the inner workings of groups, such as gleaning insights on how pieces of software fit together."
   ]
  },
  {
   "cell_type": "markdown",
   "metadata": {
    "cell_id": "10cc7fdf599f459b890ae4ab4cb49d88",
    "deepnote_cell_type": "markdown"
   },
   "source": [
    "![](figure14.png)"
   ]
  },
  {
   "cell_type": "markdown",
   "metadata": {
    "cell_id": "b83128ef6fc24a8ba331f09d4fa4e8c8",
    "deepnote_cell_type": "text-cell-p",
    "formattedRanges": []
   },
   "source": [
    "Figure 14. Stern character serving as the manager of the group."
   ]
  },
  {
   "cell_type": "markdown",
   "metadata": {
    "cell_id": "77313140be6f44198b6d8d167b51f051",
    "deepnote_cell_type": "markdown"
   },
   "source": [
    "![](figure15.png)"
   ]
  },
  {
   "cell_type": "markdown",
   "metadata": {
    "cell_id": "9029be96ef984a269deca5188fcc5c55",
    "deepnote_cell_type": "text-cell-p",
    "formattedRanges": []
   },
   "source": [
    "Figure 15. The Ransomware group is interested in creating their own crypto system."
   ]
  },
  {
   "cell_type": "markdown",
   "metadata": {
    "cell_id": "27f0b55e53564b9fb7c0607cdfd91f22",
    "deepnote_cell_type": "markdown"
   },
   "source": [
    "![](figure16.png)"
   ]
  },
  {
   "cell_type": "markdown",
   "metadata": {
    "cell_id": "14d4ecffb0264854ac075462aee08665",
    "deepnote_cell_type": "text-cell-p",
    "formattedRanges": []
   },
   "source": [
    "Figure 16. Defender character managing software upkeep which highlights critical software for ransomware group."
   ]
  },
  {
   "cell_type": "markdown",
   "metadata": {
    "cell_id": "afba5312bcc74529a720d4977379abb5",
    "deepnote_cell_type": "text-cell-p",
    "formattedRanges": [
     {
      "fromCodePoint": 0,
      "marks": {
       "bold": true
      },
      "toCodePoint": 44,
      "type": "marks"
     }
    ]
   },
   "source": [
    "**ASPECT 13 - NUMBER OF ENCRYPTED MESSAGES**"
   ]
  },
  {
   "cell_type": "markdown",
   "metadata": {
    "cell_id": "f8af912e40e849cda842f1c31c645fe1",
    "deepnote_cell_type": "text-cell-p",
    "formattedRanges": []
   },
   "source": [
    "There were 14,374 encrypted messages sent that could not be decrypted. Given there are 60,772 total records, only 23.65% of messages were encrypted and could not be be read by law enforcement. If all group members sent encrypted messages, the group's information could have been protected and even if the conversation leaked (as it did) nobody would know what it said. A lot of these encrypted messages came from the defender user. As it was mentioned before, we suppose he is some sort of a chief coder within the group. It is likely that the messages that he sent that were encrypted are pieces of encrypted code (not all of them, but some could be)."
   ]
  },
  {
   "cell_type": "markdown",
   "metadata": {
    "cell_id": "4d0c9b1027ce43d2a6d1c39ca26444de",
    "deepnote_cell_type": "text-cell-p",
    "formattedRanges": [
     {
      "fromCodePoint": 0,
      "marks": {
       "bold": true
      },
      "toCodePoint": 47,
      "type": "marks"
     }
    ]
   },
   "source": [
    "**ASPECT 14 - NUMBER OF HOURS ACTIVE PER USER**"
   ]
  },
  {
   "cell_type": "markdown",
   "metadata": {
    "cell_id": "7c3463931c7a4e9396a3b0e39b660e47",
    "deepnote_cell_type": "text-cell-p",
    "formattedRanges": []
   },
   "source": []
  },
  {
   "cell_type": "code",
   "execution_count": null,
   "metadata": {
    "cell_id": "fd7da4e19cc3411daeb81160c308b0a0",
    "deepnote_cell_type": "code",
    "deepnote_table_loading": false,
    "deepnote_table_state": {
     "filters": [],
     "pageIndex": 0,
     "pageSize": 50,
     "sortBy": []
    },
    "deepnote_to_be_reexecuted": false,
    "execution_millis": 482,
    "execution_start": 1698261558143,
    "source_hash": null
   },
   "outputs": [
    {
     "data": {
      "application/vnd.deepnote.dataframe.v3+json": {
       "column_count": 1,
       "columns": [
        {
         "dtype": "float64",
         "name": "time active (hours)",
         "stats": {
          "histogram": [
           {
            "bin_end": 949.0990288009446,
            "bin_start": 0,
            "count": 103
           },
           {
            "bin_end": 1898.198057601889,
            "bin_start": 949.0990288009446,
            "count": 18
           },
           {
            "bin_end": 2847.297086402834,
            "bin_start": 1898.198057601889,
            "count": 20
           },
           {
            "bin_end": 3796.396115203778,
            "bin_start": 2847.297086402834,
            "count": 13
           },
           {
            "bin_end": 4745.4951440047225,
            "bin_start": 3796.396115203778,
            "count": 14
           },
           {
            "bin_end": 5694.594172805668,
            "bin_start": 4745.4951440047225,
            "count": 21
           },
           {
            "bin_end": 6643.693201606612,
            "bin_start": 5694.594172805668,
            "count": 23
           },
           {
            "bin_end": 7592.792230407556,
            "bin_start": 6643.693201606612,
            "count": 12
           },
           {
            "bin_end": 8541.891259208502,
            "bin_start": 7592.792230407556,
            "count": 19
           },
           {
            "bin_end": 9490.990288009445,
            "bin_start": 8541.891259208502,
            "count": 31
           }
          ],
          "max": "9490.990288009445",
          "min": "0.0",
          "nan_count": 0,
          "unique_count": 209
         }
        },
        {
         "dtype": "object",
         "name": "_deepnote_index_column"
        }
       ],
       "row_count": 274,
       "rows": [
        {
         "_deepnote_index_column": "baget@q3mcco35auwcstmt.onion",
         "time active (hours)": 9490.990288009445
        },
        {
         "_deepnote_index_column": "pin@q3mcco35auwcstmt.onion",
         "time active (hours)": 9436.322860543612
        },
        {
         "_deepnote_index_column": "hash@q3mcco35auwcstmt.onion",
         "time active (hours)": 9431.501695691944
        },
        {
         "_deepnote_index_column": "terry@q3mcco35auwcstmt.onion",
         "time active (hours)": 9423.978492106668
        },
        {
         "_deepnote_index_column": "defender@q3mcco35auwcstmt.onion",
         "time active (hours)": 9406.344568369721
        },
        {
         "_deepnote_index_column": "vampire@q3mcco35auwcstmt.onion",
         "time active (hours)": 9397.312150700001
        },
        {
         "_deepnote_index_column": "kagas@q3mcco35auwcstmt.onion",
         "time active (hours)": 9397.054112198612
        },
        {
         "_deepnote_index_column": "green@q3mcco35auwcstmt.onion",
         "time active (hours)": 9349.01880304
        },
        {
         "_deepnote_index_column": "mango@q3mcco35auwcstmt.onion",
         "time active (hours)": 9342.953595255556
        },
        {
         "_deepnote_index_column": "grant@q3mcco35auwcstmt.onion",
         "time active (hours)": 9338.708578902222
        },
        {
         "_deepnote_index_column": "stern@q3mcco35auwcstmt.onion",
         "time active (hours)": 9315.2565119225
        },
        {
         "_deepnote_index_column": "dandis@q3mcco35auwcstmt.onion",
         "time active (hours)": 9287.573186723333
        },
        {
         "_deepnote_index_column": "bentley@q3mcco35auwcstmt.onion",
         "time active (hours)": 9244.367427745
        },
        {
         "_deepnote_index_column": "van@q3mcco35auwcstmt.onion",
         "time active (hours)": 9244.333506011666
        },
        {
         "_deepnote_index_column": "modnik@q3mcco35auwcstmt.onion",
         "time active (hours)": 9233.3778851275
        },
        {
         "_deepnote_index_column": "carter@q3mcco35auwcstmt.onion",
         "time active (hours)": 9213.096100581666
        },
        {
         "_deepnote_index_column": "strix@q3mcco35auwcstmt.onion",
         "time active (hours)": 9201.23517881389
        },
        {
         "_deepnote_index_column": "globus@q3mcco35auwcstmt.onion",
         "time active (hours)": 9168.900921935834
        },
        {
         "_deepnote_index_column": "derek@q3mcco35auwcstmt.onion",
         "time active (hours)": 9143.509720575556
        },
        {
         "_deepnote_index_column": "veron@q3mcco35auwcstmt.onion",
         "time active (hours)": 9082.295440589167
        },
        {
         "_deepnote_index_column": "many@q3mcco35auwcstmt.onion",
         "time active (hours)": 9070.125255996667
        },
        {
         "_deepnote_index_column": "driver@q3mcco35auwcstmt.onion",
         "time active (hours)": 8922.971910813334
        },
        {
         "_deepnote_index_column": "kent@q3mcco35auwcstmt.onion",
         "time active (hours)": 8903.551461364723
        },
        {
         "_deepnote_index_column": "rand@q3mcco35auwcstmt.onion",
         "time active (hours)": 8873.72272826
        },
        {
         "_deepnote_index_column": "viper@q3mcco35auwcstmt.onion",
         "time active (hours)": 8862.706115105
        },
        {
         "_deepnote_index_column": "mentos@q3mcco35auwcstmt.onion",
         "time active (hours)": 8834.09086683
        },
        {
         "_deepnote_index_column": "braun@q3mcco35auwcstmt.onion",
         "time active (hours)": 8826.542503110279
        },
        {
         "_deepnote_index_column": "ghost@q3mcco35auwcstmt.onion",
         "time active (hours)": 8792.950860107501
        },
        {
         "_deepnote_index_column": "stakan@q3mcco35auwcstmt.onion",
         "time active (hours)": 8693.742356936667
        },
        {
         "_deepnote_index_column": "love@q3mcco35auwcstmt.onion",
         "time active (hours)": 8691.604891220279
        },
        {
         "_deepnote_index_column": "hlor@q3mcco35auwcstmt.onion",
         "time active (hours)": 8666.297447785833
        },
        {
         "_deepnote_index_column": "revers@q3mcco35auwcstmt.onion",
         "time active (hours)": 8530.06577175639
        },
        {
         "_deepnote_index_column": "bekeeper@q3mcco35auwcstmt.onion",
         "time active (hours)": 8450.284378624166
        },
        {
         "_deepnote_index_column": "hors@q3mcco35auwcstmt.onion",
         "time active (hours)": 8450.123047656667
        },
        {
         "_deepnote_index_column": "flip@q3mcco35auwcstmt.onion",
         "time active (hours)": 8426.699913975555
        },
        {
         "_deepnote_index_column": "bourbon@q3mcco35auwcstmt.onion",
         "time active (hours)": 8374.02683626639
        },
        {
         "_deepnote_index_column": "salamandra@q3mcco35auwcstmt.onion",
         "time active (hours)": 8327.269811751112
        },
        {
         "_deepnote_index_column": "beta@q3mcco35auwcstmt.onion",
         "time active (hours)": 8241.876634433056
        },
        {
         "_deepnote_index_column": "buza@q3mcco35auwcstmt.onion",
         "time active (hours)": 8239.925621038334
        },
        {
         "_deepnote_index_column": "elon@q3mcco35auwcstmt.onion",
         "time active (hours)": 8045.263486058889
        },
        {
         "_deepnote_index_column": "azot@q3mcco35auwcstmt.onion",
         "time active (hours)": 8022.103755701668
        },
        {
         "_deepnote_index_column": "ganesh@q3mcco35auwcstmt.onion",
         "time active (hours)": 7992.923025035
        },
        {
         "_deepnote_index_column": "rozetka@q3mcco35auwcstmt.onion",
         "time active (hours)": 7989.8006772905555
        },
        {
         "_deepnote_index_column": "cruz@q3mcco35auwcstmt.onion",
         "time active (hours)": 7987.623687381112
        },
        {
         "_deepnote_index_column": "johnyboy77@q3mcco35auwcstmt.onion",
         "time active (hours)": 7958.195460417501
        },
        {
         "_deepnote_index_column": "professor@q3mcco35auwcstmt.onion",
         "time active (hours)": 7806.557785198612
        },
        {
         "_deepnote_index_column": "ali@q3mcco35auwcstmt.onion",
         "time active (hours)": 7764.587478495556
        },
        {
         "_deepnote_index_column": "leo@q3mcco35auwcstmt.onion",
         "time active (hours)": 7759.676102395557
        },
        {
         "_deepnote_index_column": "hof@q3mcco35auwcstmt.onion",
         "time active (hours)": 7688.049051921666
        },
        {
         "_deepnote_index_column": "merch@q3mcco35auwcstmt.onion",
         "time active (hours)": 7687.117866629167
        }
       ]
      },
      "text/html": [
       "<div>\n",
       "<style scoped>\n",
       "    .dataframe tbody tr th:only-of-type {\n",
       "        vertical-align: middle;\n",
       "    }\n",
       "\n",
       "    .dataframe tbody tr th {\n",
       "        vertical-align: top;\n",
       "    }\n",
       "\n",
       "    .dataframe thead th {\n",
       "        text-align: right;\n",
       "    }\n",
       "</style>\n",
       "<table border=\"1\" class=\"dataframe\">\n",
       "  <thead>\n",
       "    <tr style=\"text-align: right;\">\n",
       "      <th></th>\n",
       "      <th>time active (hours)</th>\n",
       "    </tr>\n",
       "    <tr>\n",
       "      <th>from</th>\n",
       "      <th></th>\n",
       "    </tr>\n",
       "  </thead>\n",
       "  <tbody>\n",
       "    <tr>\n",
       "      <th>baget@q3mcco35auwcstmt.onion</th>\n",
       "      <td>9490.990288</td>\n",
       "    </tr>\n",
       "    <tr>\n",
       "      <th>pin@q3mcco35auwcstmt.onion</th>\n",
       "      <td>9436.322861</td>\n",
       "    </tr>\n",
       "    <tr>\n",
       "      <th>hash@q3mcco35auwcstmt.onion</th>\n",
       "      <td>9431.501696</td>\n",
       "    </tr>\n",
       "    <tr>\n",
       "      <th>terry@q3mcco35auwcstmt.onion</th>\n",
       "      <td>9423.978492</td>\n",
       "    </tr>\n",
       "    <tr>\n",
       "      <th>defender@q3mcco35auwcstmt.onion</th>\n",
       "      <td>9406.344568</td>\n",
       "    </tr>\n",
       "    <tr>\n",
       "      <th>vampire@q3mcco35auwcstmt.onion</th>\n",
       "      <td>9397.312151</td>\n",
       "    </tr>\n",
       "    <tr>\n",
       "      <th>kagas@q3mcco35auwcstmt.onion</th>\n",
       "      <td>9397.054112</td>\n",
       "    </tr>\n",
       "    <tr>\n",
       "      <th>green@q3mcco35auwcstmt.onion</th>\n",
       "      <td>9349.018803</td>\n",
       "    </tr>\n",
       "    <tr>\n",
       "      <th>mango@q3mcco35auwcstmt.onion</th>\n",
       "      <td>9342.953595</td>\n",
       "    </tr>\n",
       "    <tr>\n",
       "      <th>grant@q3mcco35auwcstmt.onion</th>\n",
       "      <td>9338.708579</td>\n",
       "    </tr>\n",
       "    <tr>\n",
       "      <th>stern@q3mcco35auwcstmt.onion</th>\n",
       "      <td>9315.256512</td>\n",
       "    </tr>\n",
       "    <tr>\n",
       "      <th>dandis@q3mcco35auwcstmt.onion</th>\n",
       "      <td>9287.573187</td>\n",
       "    </tr>\n",
       "    <tr>\n",
       "      <th>bentley@q3mcco35auwcstmt.onion</th>\n",
       "      <td>9244.367428</td>\n",
       "    </tr>\n",
       "    <tr>\n",
       "      <th>van@q3mcco35auwcstmt.onion</th>\n",
       "      <td>9244.333506</td>\n",
       "    </tr>\n",
       "    <tr>\n",
       "      <th>modnik@q3mcco35auwcstmt.onion</th>\n",
       "      <td>9233.377885</td>\n",
       "    </tr>\n",
       "    <tr>\n",
       "      <th>carter@q3mcco35auwcstmt.onion</th>\n",
       "      <td>9213.096101</td>\n",
       "    </tr>\n",
       "    <tr>\n",
       "      <th>strix@q3mcco35auwcstmt.onion</th>\n",
       "      <td>9201.235179</td>\n",
       "    </tr>\n",
       "    <tr>\n",
       "      <th>globus@q3mcco35auwcstmt.onion</th>\n",
       "      <td>9168.900922</td>\n",
       "    </tr>\n",
       "    <tr>\n",
       "      <th>derek@q3mcco35auwcstmt.onion</th>\n",
       "      <td>9143.509721</td>\n",
       "    </tr>\n",
       "    <tr>\n",
       "      <th>veron@q3mcco35auwcstmt.onion</th>\n",
       "      <td>9082.295441</td>\n",
       "    </tr>\n",
       "    <tr>\n",
       "      <th>many@q3mcco35auwcstmt.onion</th>\n",
       "      <td>9070.125256</td>\n",
       "    </tr>\n",
       "    <tr>\n",
       "      <th>driver@q3mcco35auwcstmt.onion</th>\n",
       "      <td>8922.971911</td>\n",
       "    </tr>\n",
       "    <tr>\n",
       "      <th>kent@q3mcco35auwcstmt.onion</th>\n",
       "      <td>8903.551461</td>\n",
       "    </tr>\n",
       "    <tr>\n",
       "      <th>rand@q3mcco35auwcstmt.onion</th>\n",
       "      <td>8873.722728</td>\n",
       "    </tr>\n",
       "    <tr>\n",
       "      <th>viper@q3mcco35auwcstmt.onion</th>\n",
       "      <td>8862.706115</td>\n",
       "    </tr>\n",
       "    <tr>\n",
       "      <th>mentos@q3mcco35auwcstmt.onion</th>\n",
       "      <td>8834.090867</td>\n",
       "    </tr>\n",
       "    <tr>\n",
       "      <th>braun@q3mcco35auwcstmt.onion</th>\n",
       "      <td>8826.542503</td>\n",
       "    </tr>\n",
       "    <tr>\n",
       "      <th>ghost@q3mcco35auwcstmt.onion</th>\n",
       "      <td>8792.950860</td>\n",
       "    </tr>\n",
       "    <tr>\n",
       "      <th>stakan@q3mcco35auwcstmt.onion</th>\n",
       "      <td>8693.742357</td>\n",
       "    </tr>\n",
       "    <tr>\n",
       "      <th>love@q3mcco35auwcstmt.onion</th>\n",
       "      <td>8691.604891</td>\n",
       "    </tr>\n",
       "    <tr>\n",
       "      <th>hlor@q3mcco35auwcstmt.onion</th>\n",
       "      <td>8666.297448</td>\n",
       "    </tr>\n",
       "    <tr>\n",
       "      <th>revers@q3mcco35auwcstmt.onion</th>\n",
       "      <td>8530.065772</td>\n",
       "    </tr>\n",
       "    <tr>\n",
       "      <th>bekeeper@q3mcco35auwcstmt.onion</th>\n",
       "      <td>8450.284379</td>\n",
       "    </tr>\n",
       "    <tr>\n",
       "      <th>hors@q3mcco35auwcstmt.onion</th>\n",
       "      <td>8450.123048</td>\n",
       "    </tr>\n",
       "    <tr>\n",
       "      <th>flip@q3mcco35auwcstmt.onion</th>\n",
       "      <td>8426.699914</td>\n",
       "    </tr>\n",
       "    <tr>\n",
       "      <th>bourbon@q3mcco35auwcstmt.onion</th>\n",
       "      <td>8374.026836</td>\n",
       "    </tr>\n",
       "    <tr>\n",
       "      <th>salamandra@q3mcco35auwcstmt.onion</th>\n",
       "      <td>8327.269812</td>\n",
       "    </tr>\n",
       "    <tr>\n",
       "      <th>beta@q3mcco35auwcstmt.onion</th>\n",
       "      <td>8241.876634</td>\n",
       "    </tr>\n",
       "    <tr>\n",
       "      <th>buza@q3mcco35auwcstmt.onion</th>\n",
       "      <td>8239.925621</td>\n",
       "    </tr>\n",
       "    <tr>\n",
       "      <th>elon@q3mcco35auwcstmt.onion</th>\n",
       "      <td>8045.263486</td>\n",
       "    </tr>\n",
       "    <tr>\n",
       "      <th>azot@q3mcco35auwcstmt.onion</th>\n",
       "      <td>8022.103756</td>\n",
       "    </tr>\n",
       "    <tr>\n",
       "      <th>ganesh@q3mcco35auwcstmt.onion</th>\n",
       "      <td>7992.923025</td>\n",
       "    </tr>\n",
       "    <tr>\n",
       "      <th>rozetka@q3mcco35auwcstmt.onion</th>\n",
       "      <td>7989.800677</td>\n",
       "    </tr>\n",
       "    <tr>\n",
       "      <th>cruz@q3mcco35auwcstmt.onion</th>\n",
       "      <td>7987.623687</td>\n",
       "    </tr>\n",
       "    <tr>\n",
       "      <th>johnyboy77@q3mcco35auwcstmt.onion</th>\n",
       "      <td>7958.195460</td>\n",
       "    </tr>\n",
       "    <tr>\n",
       "      <th>professor@q3mcco35auwcstmt.onion</th>\n",
       "      <td>7806.557785</td>\n",
       "    </tr>\n",
       "    <tr>\n",
       "      <th>ali@q3mcco35auwcstmt.onion</th>\n",
       "      <td>7764.587478</td>\n",
       "    </tr>\n",
       "    <tr>\n",
       "      <th>leo@q3mcco35auwcstmt.onion</th>\n",
       "      <td>7759.676102</td>\n",
       "    </tr>\n",
       "    <tr>\n",
       "      <th>hof@q3mcco35auwcstmt.onion</th>\n",
       "      <td>7688.049052</td>\n",
       "    </tr>\n",
       "    <tr>\n",
       "      <th>merch@q3mcco35auwcstmt.onion</th>\n",
       "      <td>7687.117867</td>\n",
       "    </tr>\n",
       "    <tr>\n",
       "      <th>zolotoy@q3mcco35auwcstmt.onion</th>\n",
       "      <td>7402.044487</td>\n",
       "    </tr>\n",
       "    <tr>\n",
       "      <th>idgo@q3mcco35auwcstmt.onion</th>\n",
       "      <td>7390.878316</td>\n",
       "    </tr>\n",
       "    <tr>\n",
       "      <th>netwalker@q3mcco35auwcstmt.onion</th>\n",
       "      <td>7367.523041</td>\n",
       "    </tr>\n",
       "    <tr>\n",
       "      <th>blackjob@q3mcco35auwcstmt.onion</th>\n",
       "      <td>7359.530472</td>\n",
       "    </tr>\n",
       "    <tr>\n",
       "      <th>clipper@q3mcco35auwcstmt.onion</th>\n",
       "      <td>7271.560239</td>\n",
       "    </tr>\n",
       "    <tr>\n",
       "      <th>zulas@q3mcco35auwcstmt.onion</th>\n",
       "      <td>7221.968808</td>\n",
       "    </tr>\n",
       "    <tr>\n",
       "      <th>bullet@q3mcco35auwcstmt.onion</th>\n",
       "      <td>7214.834605</td>\n",
       "    </tr>\n",
       "    <tr>\n",
       "      <th>sticks@q3mcco35auwcstmt.onion</th>\n",
       "      <td>7159.090021</td>\n",
       "    </tr>\n",
       "    <tr>\n",
       "      <th>mavemat@q3mcco35auwcstmt.onion</th>\n",
       "      <td>7132.738740</td>\n",
       "    </tr>\n",
       "    <tr>\n",
       "      <th>reshaev@q3mcco35auwcstmt.onion</th>\n",
       "      <td>7057.051129</td>\n",
       "    </tr>\n",
       "    <tr>\n",
       "      <th>sunday@q3mcco35auwcstmt.onion</th>\n",
       "      <td>6913.576403</td>\n",
       "    </tr>\n",
       "    <tr>\n",
       "      <th>tiktak@q3mcco35auwcstmt.onion</th>\n",
       "      <td>6703.885601</td>\n",
       "    </tr>\n",
       "    <tr>\n",
       "      <th>jumbo@q3mcco35auwcstmt.onion</th>\n",
       "      <td>6619.106150</td>\n",
       "    </tr>\n",
       "    <tr>\n",
       "      <th>atlas@q3mcco35auwcstmt.onion</th>\n",
       "      <td>6551.366880</td>\n",
       "    </tr>\n",
       "    <tr>\n",
       "      <th>lemur@q3mcco35auwcstmt.onion</th>\n",
       "      <td>6479.325169</td>\n",
       "    </tr>\n",
       "    <tr>\n",
       "      <th>bill@q3mcco35auwcstmt.onion</th>\n",
       "      <td>6400.551058</td>\n",
       "    </tr>\n",
       "    <tr>\n",
       "      <th>price@q3mcco35auwcstmt.onion</th>\n",
       "      <td>6393.761788</td>\n",
       "    </tr>\n",
       "    <tr>\n",
       "      <th>taker@q3mcco35auwcstmt.onion</th>\n",
       "      <td>6309.428446</td>\n",
       "    </tr>\n",
       "    <tr>\n",
       "      <th>target@q3mcco35auwcstmt.onion</th>\n",
       "      <td>6279.642941</td>\n",
       "    </tr>\n",
       "    <tr>\n",
       "      <th>elvira@q3mcco35auwcstmt.onion</th>\n",
       "      <td>6263.371351</td>\n",
       "    </tr>\n",
       "    <tr>\n",
       "      <th>cherry@q3mcco35auwcstmt.onion</th>\n",
       "      <td>6252.601723</td>\n",
       "    </tr>\n",
       "    <tr>\n",
       "      <th>batka@q3mcco35auwcstmt.onion</th>\n",
       "      <td>6243.149791</td>\n",
       "    </tr>\n",
       "    <tr>\n",
       "      <th>tunri@q3mcco35auwcstmt.onion</th>\n",
       "      <td>6216.901310</td>\n",
       "    </tr>\n",
       "    <tr>\n",
       "      <th>paranoik@q3mcco35auwcstmt.onion</th>\n",
       "      <td>6207.073467</td>\n",
       "    </tr>\n",
       "    <tr>\n",
       "      <th>fast@q3mcco35auwcstmt.onion</th>\n",
       "      <td>6041.299607</td>\n",
       "    </tr>\n",
       "    <tr>\n",
       "      <th>band@q3mcco35auwcstmt.onion</th>\n",
       "      <td>6022.821438</td>\n",
       "    </tr>\n",
       "    <tr>\n",
       "      <th>dick@q3mcco35auwcstmt.onion</th>\n",
       "      <td>6021.339226</td>\n",
       "    </tr>\n",
       "    <tr>\n",
       "      <th>ford@q3mcco35auwcstmt.onion</th>\n",
       "      <td>5986.246455</td>\n",
       "    </tr>\n",
       "    <tr>\n",
       "      <th>begemot@q3mcco35auwcstmt.onion</th>\n",
       "      <td>5902.156067</td>\n",
       "    </tr>\n",
       "    <tr>\n",
       "      <th>steller@q3mcco35auwcstmt.onion</th>\n",
       "      <td>5901.949753</td>\n",
       "    </tr>\n",
       "    <tr>\n",
       "      <th>forest@q3mcco35auwcstmt.onion</th>\n",
       "      <td>5879.046907</td>\n",
       "    </tr>\n",
       "    <tr>\n",
       "      <th>dollar@q3mcco35auwcstmt.onion</th>\n",
       "      <td>5788.399620</td>\n",
       "    </tr>\n",
       "    <tr>\n",
       "      <th>neo@q3mcco35auwcstmt.onion</th>\n",
       "      <td>5737.604722</td>\n",
       "    </tr>\n",
       "    <tr>\n",
       "      <th>kaktus@q3mcco35auwcstmt.onion</th>\n",
       "      <td>5729.827796</td>\n",
       "    </tr>\n",
       "    <tr>\n",
       "      <th>swift@q3mcco35auwcstmt.onion</th>\n",
       "      <td>5718.473160</td>\n",
       "    </tr>\n",
       "    <tr>\n",
       "      <th>andy@q3mcco35auwcstmt.onion</th>\n",
       "      <td>5660.458849</td>\n",
       "    </tr>\n",
       "    <tr>\n",
       "      <th>derekson@q3mcco35auwcstmt.onion</th>\n",
       "      <td>5598.423054</td>\n",
       "    </tr>\n",
       "    <tr>\n",
       "      <th>dylon@q3mcco35auwcstmt.onion</th>\n",
       "      <td>5567.770642</td>\n",
       "    </tr>\n",
       "    <tr>\n",
       "      <th>logan@q3mcco35auwcstmt.onion</th>\n",
       "      <td>5565.375096</td>\n",
       "    </tr>\n",
       "    <tr>\n",
       "      <th>chip@q3mcco35auwcstmt.onion</th>\n",
       "      <td>5537.213310</td>\n",
       "    </tr>\n",
       "    <tr>\n",
       "      <th>grand@q3mcco35auwcstmt.onion</th>\n",
       "      <td>5488.333395</td>\n",
       "    </tr>\n",
       "    <tr>\n",
       "      <th>gold@q3mcco35auwcstmt.onion</th>\n",
       "      <td>5428.627182</td>\n",
       "    </tr>\n",
       "    <tr>\n",
       "      <th>mushroom@q3mcco35auwcstmt.onion</th>\n",
       "      <td>5344.905837</td>\n",
       "    </tr>\n",
       "    <tr>\n",
       "      <th>gorec@q3mcco35auwcstmt.onion</th>\n",
       "      <td>5235.389833</td>\n",
       "    </tr>\n",
       "    <tr>\n",
       "      <th>cosmos@q3mcco35auwcstmt.onion</th>\n",
       "      <td>5182.934649</td>\n",
       "    </tr>\n",
       "    <tr>\n",
       "      <th>frog@q3mcco35auwcstmt.onion</th>\n",
       "      <td>5109.995148</td>\n",
       "    </tr>\n",
       "    <tr>\n",
       "      <th>tom@q3mcco35auwcstmt.onion</th>\n",
       "      <td>5104.042436</td>\n",
       "    </tr>\n",
       "    <tr>\n",
       "      <th>valemy@q3mcco35auwcstmt.onion</th>\n",
       "      <td>4990.313657</td>\n",
       "    </tr>\n",
       "    <tr>\n",
       "      <th>kramer@q3mcco35auwcstmt.onion</th>\n",
       "      <td>4964.045220</td>\n",
       "    </tr>\n",
       "    <tr>\n",
       "      <th>skippy@q3mcco35auwcstmt.onion</th>\n",
       "      <td>4963.125526</td>\n",
       "    </tr>\n",
       "    <tr>\n",
       "      <th>zevs@q3mcco35auwcstmt.onion</th>\n",
       "      <td>4950.278274</td>\n",
       "    </tr>\n",
       "    <tr>\n",
       "      <th>qwerty@q3mcco35auwcstmt.onion</th>\n",
       "      <td>4947.613637</td>\n",
       "    </tr>\n",
       "    <tr>\n",
       "      <th>sonar@q3mcco35auwcstmt.onion</th>\n",
       "      <td>4913.237329</td>\n",
       "    </tr>\n",
       "    <tr>\n",
       "      <th>mont@q3mcco35auwcstmt.onion</th>\n",
       "      <td>4893.589514</td>\n",
       "    </tr>\n",
       "    <tr>\n",
       "      <th>grom@q3mcco35auwcstmt.onion</th>\n",
       "      <td>4824.335122</td>\n",
       "    </tr>\n",
       "    <tr>\n",
       "      <th>mult@q3mcco35auwcstmt.onion</th>\n",
       "      <td>4799.599310</td>\n",
       "    </tr>\n",
       "    <tr>\n",
       "      <th>spoon@q3mcco35auwcstmt.onion</th>\n",
       "      <td>4723.924164</td>\n",
       "    </tr>\n",
       "    <tr>\n",
       "      <th>baraka@q3mcco35auwcstmt.onion</th>\n",
       "      <td>4709.394994</td>\n",
       "    </tr>\n",
       "    <tr>\n",
       "      <th>miguel@q3mcco35auwcstmt.onion</th>\n",
       "      <td>4659.941523</td>\n",
       "    </tr>\n",
       "    <tr>\n",
       "      <th>tatarin@q3mcco35auwcstmt.onion</th>\n",
       "      <td>4395.640973</td>\n",
       "    </tr>\n",
       "    <tr>\n",
       "      <th>nevada@q3mcco35auwcstmt.onion</th>\n",
       "      <td>4337.304921</td>\n",
       "    </tr>\n",
       "    <tr>\n",
       "      <th>axel@q3mcco35auwcstmt.onion</th>\n",
       "      <td>4241.232413</td>\n",
       "    </tr>\n",
       "    <tr>\n",
       "      <th>dominik@q3mcco35auwcstmt.onion</th>\n",
       "      <td>4208.737458</td>\n",
       "    </tr>\n",
       "    <tr>\n",
       "      <th>twin@q3mcco35auwcstmt.onion</th>\n",
       "      <td>4205.891934</td>\n",
       "    </tr>\n",
       "    <tr>\n",
       "      <th>wind@q3mcco35auwcstmt.onion</th>\n",
       "      <td>4196.090398</td>\n",
       "    </tr>\n",
       "    <tr>\n",
       "      <th>guava@q3mcco35auwcstmt.onion</th>\n",
       "      <td>4062.239300</td>\n",
       "    </tr>\n",
       "    <tr>\n",
       "      <th>wertu@q3mcco35auwcstmt.onion</th>\n",
       "      <td>4010.995847</td>\n",
       "    </tr>\n",
       "    <tr>\n",
       "      <th>kevin@q3mcco35auwcstmt.onion</th>\n",
       "      <td>3955.961896</td>\n",
       "    </tr>\n",
       "    <tr>\n",
       "      <th>ramon@q3mcco35auwcstmt.onion</th>\n",
       "      <td>3889.511017</td>\n",
       "    </tr>\n",
       "    <tr>\n",
       "      <th>fog@q3mcco35auwcstmt.onion</th>\n",
       "      <td>3855.078119</td>\n",
       "    </tr>\n",
       "    <tr>\n",
       "      <th>subzero@q3mcco35auwcstmt.onion</th>\n",
       "      <td>3716.019183</td>\n",
       "    </tr>\n",
       "    <tr>\n",
       "      <th>specter@q3mcco35auwcstmt.onion</th>\n",
       "      <td>3702.511923</td>\n",
       "    </tr>\n",
       "    <tr>\n",
       "      <th>boby@q3mcco35auwcstmt.onion</th>\n",
       "      <td>3593.681124</td>\n",
       "    </tr>\n",
       "    <tr>\n",
       "      <th>grajdanin@q3mcco35auwcstmt.onion</th>\n",
       "      <td>3580.858998</td>\n",
       "    </tr>\n",
       "    <tr>\n",
       "      <th>tort@q3mcco35auwcstmt.onion</th>\n",
       "      <td>3577.906252</td>\n",
       "    </tr>\n",
       "    <tr>\n",
       "      <th>sepvilk@q3mcco35auwcstmt.onion</th>\n",
       "      <td>3547.733796</td>\n",
       "    </tr>\n",
       "    <tr>\n",
       "      <th>best@q3mcco35auwcstmt.onion</th>\n",
       "      <td>3527.413836</td>\n",
       "    </tr>\n",
       "    <tr>\n",
       "      <th>alarm2@q3mcco35auwcstmt.onion</th>\n",
       "      <td>3495.656954</td>\n",
       "    </tr>\n",
       "    <tr>\n",
       "      <th>grafin@q3mcco35auwcstmt.onion</th>\n",
       "      <td>3341.153339</td>\n",
       "    </tr>\n",
       "    <tr>\n",
       "      <th>naned@q3mcco35auwcstmt.onion</th>\n",
       "      <td>3284.798918</td>\n",
       "    </tr>\n",
       "    <tr>\n",
       "      <th>porovoz@q3mcco35auwcstmt.onion</th>\n",
       "      <td>3237.234455</td>\n",
       "    </tr>\n",
       "    <tr>\n",
       "      <th>bash@q3mcco35auwcstmt.onion</th>\n",
       "      <td>3142.623524</td>\n",
       "    </tr>\n",
       "    <tr>\n",
       "      <th>mozart@q3mcco35auwcstmt.onion</th>\n",
       "      <td>2962.458055</td>\n",
       "    </tr>\n",
       "    <tr>\n",
       "      <th>chain@q3mcco35auwcstmt.onion</th>\n",
       "      <td>2808.648251</td>\n",
       "    </tr>\n",
       "    <tr>\n",
       "      <th>tramp@q3mcco35auwcstmt.onion</th>\n",
       "      <td>2795.023370</td>\n",
       "    </tr>\n",
       "    <tr>\n",
       "      <th>alarm@q3mcco35auwcstmt.onion</th>\n",
       "      <td>2776.836986</td>\n",
       "    </tr>\n",
       "    <tr>\n",
       "      <th>netman@q3mcco35auwcstmt.onion</th>\n",
       "      <td>2665.127026</td>\n",
       "    </tr>\n",
       "    <tr>\n",
       "      <th>skywalker@q3mcco35auwcstmt.onion</th>\n",
       "      <td>2592.637433</td>\n",
       "    </tr>\n",
       "    <tr>\n",
       "      <th>ttrr@conference.q3mcco35auwcstmt.onion</th>\n",
       "      <td>2504.535278</td>\n",
       "    </tr>\n",
       "    <tr>\n",
       "      <th>cybergangster@q3mcco35auwcstmt.onion</th>\n",
       "      <td>2472.417658</td>\n",
       "    </tr>\n",
       "    <tr>\n",
       "      <th>void@q3mcco35auwcstmt.onion</th>\n",
       "      <td>2464.947568</td>\n",
       "    </tr>\n",
       "    <tr>\n",
       "      <th>morisson@q3mcco35auwcstmt.onion</th>\n",
       "      <td>2422.803400</td>\n",
       "    </tr>\n",
       "    <tr>\n",
       "      <th>ed@q3mcco35auwcstmt.onion</th>\n",
       "      <td>2394.513626</td>\n",
       "    </tr>\n",
       "    <tr>\n",
       "      <th>sentinel@q3mcco35auwcstmt.onion</th>\n",
       "      <td>2225.743775</td>\n",
       "    </tr>\n",
       "    <tr>\n",
       "      <th>fire@q3mcco35auwcstmt.onion</th>\n",
       "      <td>2211.873172</td>\n",
       "    </tr>\n",
       "    <tr>\n",
       "      <th>macallan@q3mcco35auwcstmt.onion</th>\n",
       "      <td>2179.173512</td>\n",
       "    </tr>\n",
       "    <tr>\n",
       "      <th>bezdar@q3mcco35auwcstmt.onion</th>\n",
       "      <td>2173.776138</td>\n",
       "    </tr>\n",
       "    <tr>\n",
       "      <th>demon@q3mcco35auwcstmt.onion</th>\n",
       "      <td>2104.480550</td>\n",
       "    </tr>\n",
       "    <tr>\n",
       "      <th>steve@q3mcco35auwcstmt.onion</th>\n",
       "      <td>2060.696576</td>\n",
       "    </tr>\n",
       "    <tr>\n",
       "      <th>hitech@q3mcco35auwcstmt.onion</th>\n",
       "      <td>2042.613820</td>\n",
       "    </tr>\n",
       "    <tr>\n",
       "      <th>admin@q3mcco35auwcstmt.onion</th>\n",
       "      <td>1965.750106</td>\n",
       "    </tr>\n",
       "    <tr>\n",
       "      <th>starfall@q3mcco35auwcstmt.onion</th>\n",
       "      <td>1955.800979</td>\n",
       "    </tr>\n",
       "    <tr>\n",
       "      <th>fox@q3mcco35auwcstmt.onion</th>\n",
       "      <td>1938.488672</td>\n",
       "    </tr>\n",
       "    <tr>\n",
       "      <th>tiniles@q3mcco35auwcstmt.onion</th>\n",
       "      <td>1891.054874</td>\n",
       "    </tr>\n",
       "    <tr>\n",
       "      <th>bloodrush@q3mcco35auwcstmt.onion</th>\n",
       "      <td>1845.567896</td>\n",
       "    </tr>\n",
       "    <tr>\n",
       "      <th>cert@q3mcco35auwcstmt.onion</th>\n",
       "      <td>1798.004389</td>\n",
       "    </tr>\n",
       "    <tr>\n",
       "      <th>dino@q3mcco35auwcstmt.onion</th>\n",
       "      <td>1769.585869</td>\n",
       "    </tr>\n",
       "    <tr>\n",
       "      <th>buran@q3mcco35auwcstmt.onion</th>\n",
       "      <td>1750.632123</td>\n",
       "    </tr>\n",
       "    <tr>\n",
       "      <th>pumba@q3mcco35auwcstmt.onion</th>\n",
       "      <td>1639.724169</td>\n",
       "    </tr>\n",
       "    <tr>\n",
       "      <th>forum@q3mcco35auwcstmt.onion</th>\n",
       "      <td>1562.648255</td>\n",
       "    </tr>\n",
       "    <tr>\n",
       "      <th>blood@q3mcco35auwcstmt.onion</th>\n",
       "      <td>1494.299191</td>\n",
       "    </tr>\n",
       "    <tr>\n",
       "      <th>page@q3mcco35auwcstmt.onion</th>\n",
       "      <td>1466.499061</td>\n",
       "    </tr>\n",
       "    <tr>\n",
       "      <th>nik-da@q3mcco35auwcstmt.onion</th>\n",
       "      <td>1445.360100</td>\n",
       "    </tr>\n",
       "    <tr>\n",
       "      <th>santi@q3mcco35auwcstmt.onion</th>\n",
       "      <td>1440.043848</td>\n",
       "    </tr>\n",
       "    <tr>\n",
       "      <th>bio@q3mcco35auwcstmt.onion</th>\n",
       "      <td>1182.698706</td>\n",
       "    </tr>\n",
       "    <tr>\n",
       "      <th>glad@q3mcco35auwcstmt.onion</th>\n",
       "      <td>1179.644076</td>\n",
       "    </tr>\n",
       "    <tr>\n",
       "      <th>fly@q3mcco35auwcstmt.onion</th>\n",
       "      <td>1171.390666</td>\n",
       "    </tr>\n",
       "    <tr>\n",
       "      <th>gus@q3mcco35auwcstmt.onion</th>\n",
       "      <td>1137.228192</td>\n",
       "    </tr>\n",
       "    <tr>\n",
       "      <th>fatboy@q3mcco35auwcstmt.onion</th>\n",
       "      <td>1050.521276</td>\n",
       "    </tr>\n",
       "    <tr>\n",
       "      <th>q3mcco35auwcstmt.onion</th>\n",
       "      <td>1016.842345</td>\n",
       "    </tr>\n",
       "    <tr>\n",
       "      <th>firefox333@xmpp.jp</th>\n",
       "      <td>1010.826501</td>\n",
       "    </tr>\n",
       "    <tr>\n",
       "      <th>graf@q3mcco35auwcstmt.onion</th>\n",
       "      <td>812.236930</td>\n",
       "    </tr>\n",
       "    <tr>\n",
       "      <th>b2zbrzj5sljbmemgfqnn7zlarduyjhvjwt</th>\n",
       "      <td>738.677970</td>\n",
       "    </tr>\n",
       "    <tr>\n",
       "      <th>nuggets@q3mcco35auwcstmt.onion</th>\n",
       "      <td>506.682009</td>\n",
       "    </tr>\n",
       "    <tr>\n",
       "      <th>cheesecake@q3mcco35auwcstmt.onion</th>\n",
       "      <td>496.821652</td>\n",
       "    </tr>\n",
       "    <tr>\n",
       "      <th>kolbasa@q3mcco35auwcstmt.onion</th>\n",
       "      <td>478.555527</td>\n",
       "    </tr>\n",
       "    <tr>\n",
       "      <th>goodwin@q3mcco35auwcstmt.onion</th>\n",
       "      <td>478.134212</td>\n",
       "    </tr>\n",
       "    <tr>\n",
       "      <th>duna@q3mcco35auwcstmt.onion</th>\n",
       "      <td>455.131450</td>\n",
       "    </tr>\n",
       "    <tr>\n",
       "      <th>klaus@q3mcco35auwcstmt.onion</th>\n",
       "      <td>431.847836</td>\n",
       "    </tr>\n",
       "    <tr>\n",
       "      <th>troy@q3mcco35auwcstmt.onion</th>\n",
       "      <td>430.117715</td>\n",
       "    </tr>\n",
       "    <tr>\n",
       "      <th>meatball@q3mcco35auwcstmt.onion</th>\n",
       "      <td>361.267788</td>\n",
       "    </tr>\n",
       "    <tr>\n",
       "      <th>answer@q3mcco35auwcstmt.onion</th>\n",
       "      <td>333.175356</td>\n",
       "    </tr>\n",
       "    <tr>\n",
       "      <th>romanov@q3mcco35auwcstmt.onion</th>\n",
       "      <td>327.669480</td>\n",
       "    </tr>\n",
       "    <tr>\n",
       "      <th>master@q3mcco35auwcstmt.onion</th>\n",
       "      <td>240.639960</td>\n",
       "    </tr>\n",
       "    <tr>\n",
       "      <th>doomsday@q3mcco35auwcstmt.onion</th>\n",
       "      <td>189.838936</td>\n",
       "    </tr>\n",
       "    <tr>\n",
       "      <th>muchacho@q3mcco35auwcstmt.onion</th>\n",
       "      <td>169.161934</td>\n",
       "    </tr>\n",
       "    <tr>\n",
       "      <th>serp@q3mcco35auwcstmt.onion</th>\n",
       "      <td>124.192359</td>\n",
       "    </tr>\n",
       "    <tr>\n",
       "      <th>gm@q3mcco35auwcstmt.onion</th>\n",
       "      <td>116.177852</td>\n",
       "    </tr>\n",
       "    <tr>\n",
       "      <th>flint@q3mcco35auwcstmt.onion</th>\n",
       "      <td>105.243734</td>\n",
       "    </tr>\n",
       "    <tr>\n",
       "      <th>git@q3mcco35auwcstmt.onion</th>\n",
       "      <td>99.309170</td>\n",
       "    </tr>\n",
       "    <tr>\n",
       "      <th>bonen@q3mcco35auwcstmt.onion</th>\n",
       "      <td>96.416322</td>\n",
       "    </tr>\n",
       "    <tr>\n",
       "      <th>impact@q3mcco35auwcstmt.onion</th>\n",
       "      <td>74.385710</td>\n",
       "    </tr>\n",
       "    <tr>\n",
       "      <th>prizrak@q3mcco35auwcstmt.onion</th>\n",
       "      <td>52.220776</td>\n",
       "    </tr>\n",
       "    <tr>\n",
       "      <th>spider@q3mcco35auwcstmt.onion</th>\n",
       "      <td>44.907722</td>\n",
       "    </tr>\n",
       "    <tr>\n",
       "      <th>admintest@q3mcco35auwcstmt.onion</th>\n",
       "      <td>22.756449</td>\n",
       "    </tr>\n",
       "    <tr>\n",
       "      <th>freebeer@q3mcco35auwcstmt.onion</th>\n",
       "      <td>5.341291</td>\n",
       "    </tr>\n",
       "    <tr>\n",
       "      <th>wowddoz@q3mcco35auwcstmt.onion</th>\n",
       "      <td>5.076653</td>\n",
       "    </tr>\n",
       "    <tr>\n",
       "      <th>romanov_2@q3mcco35auwcstmt.onion</th>\n",
       "      <td>3.015712</td>\n",
       "    </tr>\n",
       "    <tr>\n",
       "      <th>snow@q3mcco35auwcstmt.onion</th>\n",
       "      <td>1.203002</td>\n",
       "    </tr>\n",
       "    <tr>\n",
       "      <th>jax@q3mcco35auwcstmt.onion</th>\n",
       "      <td>0.438458</td>\n",
       "    </tr>\n",
       "    <tr>\n",
       "      <th>mors@q3mcco35auwcstmt.onion</th>\n",
       "      <td>0.182330</td>\n",
       "    </tr>\n",
       "    <tr>\n",
       "      <th>mitzi@6ub5waskpuglkrjbz5se23xushqvr3pgpseyetxiycjmp6h5gm6jrpad.onion</th>\n",
       "      <td>0.090099</td>\n",
       "    </tr>\n",
       "    <tr>\n",
       "      <th>fury@q3mcco35auwcstmt.onion</th>\n",
       "      <td>0.038281</td>\n",
       "    </tr>\n",
       "    <tr>\n",
       "      <th>slojno@q3mcco35auwcstmt.onion</th>\n",
       "      <td>0.004842</td>\n",
       "    </tr>\n",
       "    <tr>\n",
       "      <th>alter</th>\n",
       "      <td>0.000903</td>\n",
       "    </tr>\n",
       "    <tr>\n",
       "      <th>electronic@q3mcco35auwcstmt.onion</th>\n",
       "      <td>0.000626</td>\n",
       "    </tr>\n",
       "    <tr>\n",
       "      <th>dylan@q3mcco35auwcstmt.onion</th>\n",
       "      <td>0.000370</td>\n",
       "    </tr>\n",
       "    <tr>\n",
       "      <th>born@q3mcco35auwcstmt.onion</th>\n",
       "      <td>0.000187</td>\n",
       "    </tr>\n",
       "    <tr>\n",
       "      <th>staff@q3mcco35auwcstmt.onion</th>\n",
       "      <td>0.000000</td>\n",
       "    </tr>\n",
       "    <tr>\n",
       "      <th>taur@q3mcco35auwcstmt.onion</th>\n",
       "      <td>0.000000</td>\n",
       "    </tr>\n",
       "    <tr>\n",
       "      <th>urbanone@q3mcco35auwcstmt.onion</th>\n",
       "      <td>0.000000</td>\n",
       "    </tr>\n",
       "    <tr>\n",
       "      <th>verchunls@chatterboxtown.us</th>\n",
       "      <td>0.000000</td>\n",
       "    </tr>\n",
       "    <tr>\n",
       "      <th>zevs@3mcco35auwcstmt.onion</th>\n",
       "      <td>0.000000</td>\n",
       "    </tr>\n",
       "    <tr>\n",
       "      <th>shell@q3mcco35auwcstmt.onion</th>\n",
       "      <td>0.000000</td>\n",
       "    </tr>\n",
       "    <tr>\n",
       "      <th>xoc@q3mcco35auwcstmt.onion</th>\n",
       "      <td>0.000000</td>\n",
       "    </tr>\n",
       "    <tr>\n",
       "      <th>werka@conference.q3mcco35auwcstmt.onion</th>\n",
       "      <td>0.000000</td>\n",
       "    </tr>\n",
       "    <tr>\n",
       "      <th>tilar@q3mcco35auwcstmt.onion</th>\n",
       "      <td>0.000000</td>\n",
       "    </tr>\n",
       "    <tr>\n",
       "      <th>admin@expiro-team.biz</th>\n",
       "      <td>0.000000</td>\n",
       "    </tr>\n",
       "    <tr>\n",
       "      <th>sand@q3mcco35auwcstmt.onion</th>\n",
       "      <td>0.000000</td>\n",
       "    </tr>\n",
       "    <tr>\n",
       "      <th>salmon21@thesecure.biz</th>\n",
       "      <td>0.000000</td>\n",
       "    </tr>\n",
       "    <tr>\n",
       "      <th>kerasid@q3mcco35auwcstmt.onion</th>\n",
       "      <td>0.000000</td>\n",
       "    </tr>\n",
       "    <tr>\n",
       "      <th>joynses@thesecure.biz</th>\n",
       "      <td>0.000000</td>\n",
       "    </tr>\n",
       "    <tr>\n",
       "      <th>horse@q3mcco35auwcstmt.onion</th>\n",
       "      <td>0.000000</td>\n",
       "    </tr>\n",
       "    <tr>\n",
       "      <th>hookahplace@conference.q3mcco35auwcstmt.onion</th>\n",
       "      <td>0.000000</td>\n",
       "    </tr>\n",
       "    <tr>\n",
       "      <th>golova@q3mcco35auwcstmt.onion</th>\n",
       "      <td>0.000000</td>\n",
       "    </tr>\n",
       "    <tr>\n",
       "      <th>frank@q3mcco35auwcstmt.onion</th>\n",
       "      <td>0.000000</td>\n",
       "    </tr>\n",
       "    <tr>\n",
       "      <th>forbes@q3mcco35auwcstmt.onion</th>\n",
       "      <td>0.000000</td>\n",
       "    </tr>\n",
       "    <tr>\n",
       "      <th>exploit.im</th>\n",
       "      <td>0.000000</td>\n",
       "    </tr>\n",
       "    <tr>\n",
       "      <th>eleoslin@msjb.pw</th>\n",
       "      <td>0.000000</td>\n",
       "    </tr>\n",
       "    <tr>\n",
       "      <th>eleos@msjb.pw</th>\n",
       "      <td>0.000000</td>\n",
       "    </tr>\n",
       "    <tr>\n",
       "      <th>demetrius@q3mcco35auwcstmt.onion</th>\n",
       "      <td>0.000000</td>\n",
       "    </tr>\n",
       "    <tr>\n",
       "      <th>def@q3mcco35auwcstmt.onion</th>\n",
       "      <td>0.000000</td>\n",
       "    </tr>\n",
       "    <tr>\n",
       "      <th>darc@q3mcco35auwcstmt.onion</th>\n",
       "      <td>0.000000</td>\n",
       "    </tr>\n",
       "    <tr>\n",
       "      <th>dantis@q3mcco35auwcstmt.onion</th>\n",
       "      <td>0.000000</td>\n",
       "    </tr>\n",
       "    <tr>\n",
       "      <th>cany@q3mcco35auwcstmt.onion</th>\n",
       "      <td>0.000000</td>\n",
       "    </tr>\n",
       "    <tr>\n",
       "      <th>buza</th>\n",
       "      <td>0.000000</td>\n",
       "    </tr>\n",
       "    <tr>\n",
       "      <th>bumer@q3mcco35auwcstmt.onion</th>\n",
       "      <td>0.000000</td>\n",
       "    </tr>\n",
       "    <tr>\n",
       "      <th>buggati@q3mcco35auwcstmt.onion</th>\n",
       "      <td>0.000000</td>\n",
       "    </tr>\n",
       "    <tr>\n",
       "      <th>btdpnqwg2nqkqceetqnn7zlarduyjhvjwt</th>\n",
       "      <td>0.000000</td>\n",
       "    </tr>\n",
       "    <tr>\n",
       "      <th>brom@q3mcco35auwcstmt.onion</th>\n",
       "      <td>0.000000</td>\n",
       "    </tr>\n",
       "    <tr>\n",
       "      <th>born@6ub5waskpuglkrjbz5se23xushqvr3pgpseyetxiycjmp6h5gm6jrpad.onion</th>\n",
       "      <td>0.000000</td>\n",
       "    </tr>\n",
       "    <tr>\n",
       "      <th>billgeizh@q3mcco35auwcstmt.onion</th>\n",
       "      <td>0.000000</td>\n",
       "    </tr>\n",
       "    <tr>\n",
       "      <th>beny@q3mcco35auwcstmt.onion</th>\n",
       "      <td>0.000000</td>\n",
       "    </tr>\n",
       "    <tr>\n",
       "      <th>baxter@q3mcco35auwcstmt.onion</th>\n",
       "      <td>0.000000</td>\n",
       "    </tr>\n",
       "    <tr>\n",
       "      <th>atlant@q3mcco35auwcstmt.onion</th>\n",
       "      <td>0.000000</td>\n",
       "    </tr>\n",
       "    <tr>\n",
       "      <th>larry@q3mcco35auwcstmt.onion</th>\n",
       "      <td>0.000000</td>\n",
       "    </tr>\n",
       "    <tr>\n",
       "      <th>licor@q3mcco35auwcstmt.onion</th>\n",
       "      <td>0.000000</td>\n",
       "    </tr>\n",
       "    <tr>\n",
       "      <th>log@q3mcco35auwcstmt.onion</th>\n",
       "      <td>0.000000</td>\n",
       "    </tr>\n",
       "    <tr>\n",
       "      <th>moon@q3mcco35auwcstmt.onion</th>\n",
       "      <td>0.000000</td>\n",
       "    </tr>\n",
       "    <tr>\n",
       "      <th>rozetka</th>\n",
       "      <td>0.000000</td>\n",
       "    </tr>\n",
       "    <tr>\n",
       "      <th>revan@q3mcco35auwcstmt.onion</th>\n",
       "      <td>0.000000</td>\n",
       "    </tr>\n",
       "    <tr>\n",
       "      <th>ponetre@q3mcco35auwcstmt.onion</th>\n",
       "      <td>0.000000</td>\n",
       "    </tr>\n",
       "    <tr>\n",
       "      <th>poll@q3mcco35auwcstmt.onion</th>\n",
       "      <td>0.000000</td>\n",
       "    </tr>\n",
       "    <tr>\n",
       "      <th>poll@conference.q3mcco35auwcstmt.onion</th>\n",
       "      <td>0.000000</td>\n",
       "    </tr>\n",
       "    <tr>\n",
       "      <th>pincus@q3mcco35auwcstmt.onion</th>\n",
       "      <td>0.000000</td>\n",
       "    </tr>\n",
       "    <tr>\n",
       "      <th>pin2@q3mcco35auwcstmt.onion</th>\n",
       "      <td>0.000000</td>\n",
       "    </tr>\n",
       "    <tr>\n",
       "      <th>packman@hsfhksrd62ga3n3v.onion</th>\n",
       "      <td>0.000000</td>\n",
       "    </tr>\n",
       "    <tr>\n",
       "      <th>olsen@q3mcco35auwcstmt.onion</th>\n",
       "      <td>0.000000</td>\n",
       "    </tr>\n",
       "    <tr>\n",
       "      <th>odw5mdwotufuxxrgw3pvqjjuze3e33bylylkl667h4nefwiimwqsumyd.onion</th>\n",
       "      <td>0.000000</td>\n",
       "    </tr>\n",
       "    <tr>\n",
       "      <th>nick@q3mcco35auwcstmt.onion</th>\n",
       "      <td>0.000000</td>\n",
       "    </tr>\n",
       "    <tr>\n",
       "      <th>moms@q3mcco35auwcstmt.onion</th>\n",
       "      <td>0.000000</td>\n",
       "    </tr>\n",
       "    <tr>\n",
       "      <th>longer@q3mcco35auwcstmt.onion</th>\n",
       "      <td>0.000000</td>\n",
       "    </tr>\n",
       "    <tr>\n",
       "      <th>modar@q3mcco35auwcstmt.onion</th>\n",
       "      <td>0.000000</td>\n",
       "    </tr>\n",
       "    <tr>\n",
       "      <th>max@q3mcco35auwcstmt.onion</th>\n",
       "      <td>0.000000</td>\n",
       "    </tr>\n",
       "    <tr>\n",
       "      <th>max17@q3mcco35auwcstmt.onion</th>\n",
       "      <td>0.000000</td>\n",
       "    </tr>\n",
       "    <tr>\n",
       "      <th>mavelek@q3mcco35auwcstmt.onion</th>\n",
       "      <td>0.000000</td>\n",
       "    </tr>\n",
       "    <tr>\n",
       "      <th>mavelak@q3mcco35auwcstmt.onion</th>\n",
       "      <td>0.000000</td>\n",
       "    </tr>\n",
       "    <tr>\n",
       "      <th>matiz@q3mcco35auwcstmt.onion</th>\n",
       "      <td>0.000000</td>\n",
       "    </tr>\n",
       "    <tr>\n",
       "      <th>mashroom@q3mcco35auwcstmt.onion</th>\n",
       "      <td>0.000000</td>\n",
       "    </tr>\n",
       "    <tr>\n",
       "      <th>marsel@q3mcco35auwcstmt.onion</th>\n",
       "      <td>0.000000</td>\n",
       "    </tr>\n",
       "    <tr>\n",
       "      <th>marcus@q3mcco35auwcstmt.onion</th>\n",
       "      <td>0.000000</td>\n",
       "    </tr>\n",
       "    <tr>\n",
       "      <th>mango@odw5mdwotufuxxrgw3pvqjjuze3e33bylylkl667h4nefwiimwqsumyd.onion</th>\n",
       "      <td>0.000000</td>\n",
       "    </tr>\n",
       "    <tr>\n",
       "      <th>lucas@q3mcco35auwcstmt.onion</th>\n",
       "      <td>0.000000</td>\n",
       "    </tr>\n",
       "    <tr>\n",
       "      <th>kingston@q3mcco35auwcstmt.onion</th>\n",
       "      <td>0.000000</td>\n",
       "    </tr>\n",
       "  </tbody>\n",
       "</table>\n",
       "</div>"
      ],
      "text/plain": [
       "                                                    time active (hours)\n",
       "from                                                                   \n",
       "baget@q3mcco35auwcstmt.onion                                9490.990288\n",
       "pin@q3mcco35auwcstmt.onion                                  9436.322861\n",
       "hash@q3mcco35auwcstmt.onion                                 9431.501696\n",
       "terry@q3mcco35auwcstmt.onion                                9423.978492\n",
       "defender@q3mcco35auwcstmt.onion                             9406.344568\n",
       "vampire@q3mcco35auwcstmt.onion                              9397.312151\n",
       "kagas@q3mcco35auwcstmt.onion                                9397.054112\n",
       "green@q3mcco35auwcstmt.onion                                9349.018803\n",
       "mango@q3mcco35auwcstmt.onion                                9342.953595\n",
       "grant@q3mcco35auwcstmt.onion                                9338.708579\n",
       "stern@q3mcco35auwcstmt.onion                                9315.256512\n",
       "dandis@q3mcco35auwcstmt.onion                               9287.573187\n",
       "bentley@q3mcco35auwcstmt.onion                              9244.367428\n",
       "van@q3mcco35auwcstmt.onion                                  9244.333506\n",
       "modnik@q3mcco35auwcstmt.onion                               9233.377885\n",
       "carter@q3mcco35auwcstmt.onion                               9213.096101\n",
       "strix@q3mcco35auwcstmt.onion                                9201.235179\n",
       "globus@q3mcco35auwcstmt.onion                               9168.900922\n",
       "derek@q3mcco35auwcstmt.onion                                9143.509721\n",
       "veron@q3mcco35auwcstmt.onion                                9082.295441\n",
       "many@q3mcco35auwcstmt.onion                                 9070.125256\n",
       "driver@q3mcco35auwcstmt.onion                               8922.971911\n",
       "kent@q3mcco35auwcstmt.onion                                 8903.551461\n",
       "rand@q3mcco35auwcstmt.onion                                 8873.722728\n",
       "viper@q3mcco35auwcstmt.onion                                8862.706115\n",
       "mentos@q3mcco35auwcstmt.onion                               8834.090867\n",
       "braun@q3mcco35auwcstmt.onion                                8826.542503\n",
       "ghost@q3mcco35auwcstmt.onion                                8792.950860\n",
       "stakan@q3mcco35auwcstmt.onion                               8693.742357\n",
       "love@q3mcco35auwcstmt.onion                                 8691.604891\n",
       "hlor@q3mcco35auwcstmt.onion                                 8666.297448\n",
       "revers@q3mcco35auwcstmt.onion                               8530.065772\n",
       "bekeeper@q3mcco35auwcstmt.onion                             8450.284379\n",
       "hors@q3mcco35auwcstmt.onion                                 8450.123048\n",
       "flip@q3mcco35auwcstmt.onion                                 8426.699914\n",
       "bourbon@q3mcco35auwcstmt.onion                              8374.026836\n",
       "salamandra@q3mcco35auwcstmt.onion                           8327.269812\n",
       "beta@q3mcco35auwcstmt.onion                                 8241.876634\n",
       "buza@q3mcco35auwcstmt.onion                                 8239.925621\n",
       "elon@q3mcco35auwcstmt.onion                                 8045.263486\n",
       "azot@q3mcco35auwcstmt.onion                                 8022.103756\n",
       "ganesh@q3mcco35auwcstmt.onion                               7992.923025\n",
       "rozetka@q3mcco35auwcstmt.onion                              7989.800677\n",
       "cruz@q3mcco35auwcstmt.onion                                 7987.623687\n",
       "johnyboy77@q3mcco35auwcstmt.onion                           7958.195460\n",
       "professor@q3mcco35auwcstmt.onion                            7806.557785\n",
       "ali@q3mcco35auwcstmt.onion                                  7764.587478\n",
       "leo@q3mcco35auwcstmt.onion                                  7759.676102\n",
       "hof@q3mcco35auwcstmt.onion                                  7688.049052\n",
       "merch@q3mcco35auwcstmt.onion                                7687.117867\n",
       "zolotoy@q3mcco35auwcstmt.onion                              7402.044487\n",
       "idgo@q3mcco35auwcstmt.onion                                 7390.878316\n",
       "netwalker@q3mcco35auwcstmt.onion                            7367.523041\n",
       "blackjob@q3mcco35auwcstmt.onion                             7359.530472\n",
       "clipper@q3mcco35auwcstmt.onion                              7271.560239\n",
       "zulas@q3mcco35auwcstmt.onion                                7221.968808\n",
       "bullet@q3mcco35auwcstmt.onion                               7214.834605\n",
       "sticks@q3mcco35auwcstmt.onion                               7159.090021\n",
       "mavemat@q3mcco35auwcstmt.onion                              7132.738740\n",
       "reshaev@q3mcco35auwcstmt.onion                              7057.051129\n",
       "sunday@q3mcco35auwcstmt.onion                               6913.576403\n",
       "tiktak@q3mcco35auwcstmt.onion                               6703.885601\n",
       "jumbo@q3mcco35auwcstmt.onion                                6619.106150\n",
       "atlas@q3mcco35auwcstmt.onion                                6551.366880\n",
       "lemur@q3mcco35auwcstmt.onion                                6479.325169\n",
       "bill@q3mcco35auwcstmt.onion                                 6400.551058\n",
       "price@q3mcco35auwcstmt.onion                                6393.761788\n",
       "taker@q3mcco35auwcstmt.onion                                6309.428446\n",
       "target@q3mcco35auwcstmt.onion                               6279.642941\n",
       "elvira@q3mcco35auwcstmt.onion                               6263.371351\n",
       "cherry@q3mcco35auwcstmt.onion                               6252.601723\n",
       "batka@q3mcco35auwcstmt.onion                                6243.149791\n",
       "tunri@q3mcco35auwcstmt.onion                                6216.901310\n",
       "paranoik@q3mcco35auwcstmt.onion                             6207.073467\n",
       "fast@q3mcco35auwcstmt.onion                                 6041.299607\n",
       "band@q3mcco35auwcstmt.onion                                 6022.821438\n",
       "dick@q3mcco35auwcstmt.onion                                 6021.339226\n",
       "ford@q3mcco35auwcstmt.onion                                 5986.246455\n",
       "begemot@q3mcco35auwcstmt.onion                              5902.156067\n",
       "steller@q3mcco35auwcstmt.onion                              5901.949753\n",
       "forest@q3mcco35auwcstmt.onion                               5879.046907\n",
       "dollar@q3mcco35auwcstmt.onion                               5788.399620\n",
       "neo@q3mcco35auwcstmt.onion                                  5737.604722\n",
       "kaktus@q3mcco35auwcstmt.onion                               5729.827796\n",
       "swift@q3mcco35auwcstmt.onion                                5718.473160\n",
       "andy@q3mcco35auwcstmt.onion                                 5660.458849\n",
       "derekson@q3mcco35auwcstmt.onion                             5598.423054\n",
       "dylon@q3mcco35auwcstmt.onion                                5567.770642\n",
       "logan@q3mcco35auwcstmt.onion                                5565.375096\n",
       "chip@q3mcco35auwcstmt.onion                                 5537.213310\n",
       "grand@q3mcco35auwcstmt.onion                                5488.333395\n",
       "gold@q3mcco35auwcstmt.onion                                 5428.627182\n",
       "mushroom@q3mcco35auwcstmt.onion                             5344.905837\n",
       "gorec@q3mcco35auwcstmt.onion                                5235.389833\n",
       "cosmos@q3mcco35auwcstmt.onion                               5182.934649\n",
       "frog@q3mcco35auwcstmt.onion                                 5109.995148\n",
       "tom@q3mcco35auwcstmt.onion                                  5104.042436\n",
       "valemy@q3mcco35auwcstmt.onion                               4990.313657\n",
       "kramer@q3mcco35auwcstmt.onion                               4964.045220\n",
       "skippy@q3mcco35auwcstmt.onion                               4963.125526\n",
       "zevs@q3mcco35auwcstmt.onion                                 4950.278274\n",
       "qwerty@q3mcco35auwcstmt.onion                               4947.613637\n",
       "sonar@q3mcco35auwcstmt.onion                                4913.237329\n",
       "mont@q3mcco35auwcstmt.onion                                 4893.589514\n",
       "grom@q3mcco35auwcstmt.onion                                 4824.335122\n",
       "mult@q3mcco35auwcstmt.onion                                 4799.599310\n",
       "spoon@q3mcco35auwcstmt.onion                                4723.924164\n",
       "baraka@q3mcco35auwcstmt.onion                               4709.394994\n",
       "miguel@q3mcco35auwcstmt.onion                               4659.941523\n",
       "tatarin@q3mcco35auwcstmt.onion                              4395.640973\n",
       "nevada@q3mcco35auwcstmt.onion                               4337.304921\n",
       "axel@q3mcco35auwcstmt.onion                                 4241.232413\n",
       "dominik@q3mcco35auwcstmt.onion                              4208.737458\n",
       "twin@q3mcco35auwcstmt.onion                                 4205.891934\n",
       "wind@q3mcco35auwcstmt.onion                                 4196.090398\n",
       "guava@q3mcco35auwcstmt.onion                                4062.239300\n",
       "wertu@q3mcco35auwcstmt.onion                                4010.995847\n",
       "kevin@q3mcco35auwcstmt.onion                                3955.961896\n",
       "ramon@q3mcco35auwcstmt.onion                                3889.511017\n",
       "fog@q3mcco35auwcstmt.onion                                  3855.078119\n",
       "subzero@q3mcco35auwcstmt.onion                              3716.019183\n",
       "specter@q3mcco35auwcstmt.onion                              3702.511923\n",
       "boby@q3mcco35auwcstmt.onion                                 3593.681124\n",
       "grajdanin@q3mcco35auwcstmt.onion                            3580.858998\n",
       "tort@q3mcco35auwcstmt.onion                                 3577.906252\n",
       "sepvilk@q3mcco35auwcstmt.onion                              3547.733796\n",
       "best@q3mcco35auwcstmt.onion                                 3527.413836\n",
       "alarm2@q3mcco35auwcstmt.onion                               3495.656954\n",
       "grafin@q3mcco35auwcstmt.onion                               3341.153339\n",
       "naned@q3mcco35auwcstmt.onion                                3284.798918\n",
       "porovoz@q3mcco35auwcstmt.onion                              3237.234455\n",
       "bash@q3mcco35auwcstmt.onion                                 3142.623524\n",
       "mozart@q3mcco35auwcstmt.onion                               2962.458055\n",
       "chain@q3mcco35auwcstmt.onion                                2808.648251\n",
       "tramp@q3mcco35auwcstmt.onion                                2795.023370\n",
       "alarm@q3mcco35auwcstmt.onion                                2776.836986\n",
       "netman@q3mcco35auwcstmt.onion                               2665.127026\n",
       "skywalker@q3mcco35auwcstmt.onion                            2592.637433\n",
       "ttrr@conference.q3mcco35auwcstmt.onion                      2504.535278\n",
       "cybergangster@q3mcco35auwcstmt.onion                        2472.417658\n",
       "void@q3mcco35auwcstmt.onion                                 2464.947568\n",
       "morisson@q3mcco35auwcstmt.onion                             2422.803400\n",
       "ed@q3mcco35auwcstmt.onion                                   2394.513626\n",
       "sentinel@q3mcco35auwcstmt.onion                             2225.743775\n",
       "fire@q3mcco35auwcstmt.onion                                 2211.873172\n",
       "macallan@q3mcco35auwcstmt.onion                             2179.173512\n",
       "bezdar@q3mcco35auwcstmt.onion                               2173.776138\n",
       "demon@q3mcco35auwcstmt.onion                                2104.480550\n",
       "steve@q3mcco35auwcstmt.onion                                2060.696576\n",
       "hitech@q3mcco35auwcstmt.onion                               2042.613820\n",
       "admin@q3mcco35auwcstmt.onion                                1965.750106\n",
       "starfall@q3mcco35auwcstmt.onion                             1955.800979\n",
       "fox@q3mcco35auwcstmt.onion                                  1938.488672\n",
       "tiniles@q3mcco35auwcstmt.onion                              1891.054874\n",
       "bloodrush@q3mcco35auwcstmt.onion                            1845.567896\n",
       "cert@q3mcco35auwcstmt.onion                                 1798.004389\n",
       "dino@q3mcco35auwcstmt.onion                                 1769.585869\n",
       "buran@q3mcco35auwcstmt.onion                                1750.632123\n",
       "pumba@q3mcco35auwcstmt.onion                                1639.724169\n",
       "forum@q3mcco35auwcstmt.onion                                1562.648255\n",
       "blood@q3mcco35auwcstmt.onion                                1494.299191\n",
       "page@q3mcco35auwcstmt.onion                                 1466.499061\n",
       "nik-da@q3mcco35auwcstmt.onion                               1445.360100\n",
       "santi@q3mcco35auwcstmt.onion                                1440.043848\n",
       "bio@q3mcco35auwcstmt.onion                                  1182.698706\n",
       "glad@q3mcco35auwcstmt.onion                                 1179.644076\n",
       "fly@q3mcco35auwcstmt.onion                                  1171.390666\n",
       "gus@q3mcco35auwcstmt.onion                                  1137.228192\n",
       "fatboy@q3mcco35auwcstmt.onion                               1050.521276\n",
       "q3mcco35auwcstmt.onion                                      1016.842345\n",
       "firefox333@xmpp.jp                                          1010.826501\n",
       "graf@q3mcco35auwcstmt.onion                                  812.236930\n",
       "b2zbrzj5sljbmemgfqnn7zlarduyjhvjwt                           738.677970\n",
       "nuggets@q3mcco35auwcstmt.onion                               506.682009\n",
       "cheesecake@q3mcco35auwcstmt.onion                            496.821652\n",
       "kolbasa@q3mcco35auwcstmt.onion                               478.555527\n",
       "goodwin@q3mcco35auwcstmt.onion                               478.134212\n",
       "duna@q3mcco35auwcstmt.onion                                  455.131450\n",
       "klaus@q3mcco35auwcstmt.onion                                 431.847836\n",
       "troy@q3mcco35auwcstmt.onion                                  430.117715\n",
       "meatball@q3mcco35auwcstmt.onion                              361.267788\n",
       "answer@q3mcco35auwcstmt.onion                                333.175356\n",
       "romanov@q3mcco35auwcstmt.onion                               327.669480\n",
       "master@q3mcco35auwcstmt.onion                                240.639960\n",
       "doomsday@q3mcco35auwcstmt.onion                              189.838936\n",
       "muchacho@q3mcco35auwcstmt.onion                              169.161934\n",
       "serp@q3mcco35auwcstmt.onion                                  124.192359\n",
       "gm@q3mcco35auwcstmt.onion                                    116.177852\n",
       "flint@q3mcco35auwcstmt.onion                                 105.243734\n",
       "git@q3mcco35auwcstmt.onion                                    99.309170\n",
       "bonen@q3mcco35auwcstmt.onion                                  96.416322\n",
       "impact@q3mcco35auwcstmt.onion                                 74.385710\n",
       "prizrak@q3mcco35auwcstmt.onion                                52.220776\n",
       "spider@q3mcco35auwcstmt.onion                                 44.907722\n",
       "admintest@q3mcco35auwcstmt.onion                              22.756449\n",
       "freebeer@q3mcco35auwcstmt.onion                                5.341291\n",
       "wowddoz@q3mcco35auwcstmt.onion                                 5.076653\n",
       "romanov_2@q3mcco35auwcstmt.onion                               3.015712\n",
       "snow@q3mcco35auwcstmt.onion                                    1.203002\n",
       "jax@q3mcco35auwcstmt.onion                                     0.438458\n",
       "mors@q3mcco35auwcstmt.onion                                    0.182330\n",
       "mitzi@6ub5waskpuglkrjbz5se23xushqvr3pgpseyetxiy...             0.090099\n",
       "fury@q3mcco35auwcstmt.onion                                    0.038281\n",
       "slojno@q3mcco35auwcstmt.onion                                  0.004842\n",
       "alter                                                          0.000903\n",
       "electronic@q3mcco35auwcstmt.onion                              0.000626\n",
       "dylan@q3mcco35auwcstmt.onion                                   0.000370\n",
       "born@q3mcco35auwcstmt.onion                                    0.000187\n",
       "staff@q3mcco35auwcstmt.onion                                   0.000000\n",
       "taur@q3mcco35auwcstmt.onion                                    0.000000\n",
       "urbanone@q3mcco35auwcstmt.onion                                0.000000\n",
       "verchunls@chatterboxtown.us                                    0.000000\n",
       "zevs@3mcco35auwcstmt.onion                                     0.000000\n",
       "shell@q3mcco35auwcstmt.onion                                   0.000000\n",
       "xoc@q3mcco35auwcstmt.onion                                     0.000000\n",
       "werka@conference.q3mcco35auwcstmt.onion                        0.000000\n",
       "tilar@q3mcco35auwcstmt.onion                                   0.000000\n",
       "admin@expiro-team.biz                                          0.000000\n",
       "sand@q3mcco35auwcstmt.onion                                    0.000000\n",
       "salmon21@thesecure.biz                                         0.000000\n",
       "kerasid@q3mcco35auwcstmt.onion                                 0.000000\n",
       "joynses@thesecure.biz                                          0.000000\n",
       "horse@q3mcco35auwcstmt.onion                                   0.000000\n",
       "hookahplace@conference.q3mcco35auwcstmt.onion                  0.000000\n",
       "golova@q3mcco35auwcstmt.onion                                  0.000000\n",
       "frank@q3mcco35auwcstmt.onion                                   0.000000\n",
       "forbes@q3mcco35auwcstmt.onion                                  0.000000\n",
       "exploit.im                                                     0.000000\n",
       "eleoslin@msjb.pw                                               0.000000\n",
       "eleos@msjb.pw                                                  0.000000\n",
       "demetrius@q3mcco35auwcstmt.onion                               0.000000\n",
       "def@q3mcco35auwcstmt.onion                                     0.000000\n",
       "darc@q3mcco35auwcstmt.onion                                    0.000000\n",
       "dantis@q3mcco35auwcstmt.onion                                  0.000000\n",
       "cany@q3mcco35auwcstmt.onion                                    0.000000\n",
       "buza                                                           0.000000\n",
       "bumer@q3mcco35auwcstmt.onion                                   0.000000\n",
       "buggati@q3mcco35auwcstmt.onion                                 0.000000\n",
       "btdpnqwg2nqkqceetqnn7zlarduyjhvjwt                             0.000000\n",
       "brom@q3mcco35auwcstmt.onion                                    0.000000\n",
       "born@6ub5waskpuglkrjbz5se23xushqvr3pgpseyetxiyc...             0.000000\n",
       "billgeizh@q3mcco35auwcstmt.onion                               0.000000\n",
       "beny@q3mcco35auwcstmt.onion                                    0.000000\n",
       "baxter@q3mcco35auwcstmt.onion                                  0.000000\n",
       "atlant@q3mcco35auwcstmt.onion                                  0.000000\n",
       "larry@q3mcco35auwcstmt.onion                                   0.000000\n",
       "licor@q3mcco35auwcstmt.onion                                   0.000000\n",
       "log@q3mcco35auwcstmt.onion                                     0.000000\n",
       "moon@q3mcco35auwcstmt.onion                                    0.000000\n",
       "rozetka                                                        0.000000\n",
       "revan@q3mcco35auwcstmt.onion                                   0.000000\n",
       "ponetre@q3mcco35auwcstmt.onion                                 0.000000\n",
       "poll@q3mcco35auwcstmt.onion                                    0.000000\n",
       "poll@conference.q3mcco35auwcstmt.onion                         0.000000\n",
       "pincus@q3mcco35auwcstmt.onion                                  0.000000\n",
       "pin2@q3mcco35auwcstmt.onion                                    0.000000\n",
       "packman@hsfhksrd62ga3n3v.onion                                 0.000000\n",
       "olsen@q3mcco35auwcstmt.onion                                   0.000000\n",
       "odw5mdwotufuxxrgw3pvqjjuze3e33bylylkl667h4nefwi...             0.000000\n",
       "nick@q3mcco35auwcstmt.onion                                    0.000000\n",
       "moms@q3mcco35auwcstmt.onion                                    0.000000\n",
       "longer@q3mcco35auwcstmt.onion                                  0.000000\n",
       "modar@q3mcco35auwcstmt.onion                                   0.000000\n",
       "max@q3mcco35auwcstmt.onion                                     0.000000\n",
       "max17@q3mcco35auwcstmt.onion                                   0.000000\n",
       "mavelek@q3mcco35auwcstmt.onion                                 0.000000\n",
       "mavelak@q3mcco35auwcstmt.onion                                 0.000000\n",
       "matiz@q3mcco35auwcstmt.onion                                   0.000000\n",
       "mashroom@q3mcco35auwcstmt.onion                                0.000000\n",
       "marsel@q3mcco35auwcstmt.onion                                  0.000000\n",
       "marcus@q3mcco35auwcstmt.onion                                  0.000000\n",
       "mango@odw5mdwotufuxxrgw3pvqjjuze3e33bylylkl667h...             0.000000\n",
       "lucas@q3mcco35auwcstmt.onion                                   0.000000\n",
       "kingston@q3mcco35auwcstmt.onion                                0.000000"
      ]
     },
     "execution_count": 8,
     "metadata": {},
     "output_type": "execute_result"
    }
   ],
   "source": [
    "import pandas as pd\n",
    "url = \"https://raw.githubusercontent.com/NorthwaveSecurity/complete_translation_leaked_chats_conti_ransomware/main/jabber_chat_2021_2022_translated.csv\"\n",
    "df14 = pd.read_csv(url)\n",
    "df14['ts'] = pd.to_datetime(df14['ts'])\n",
    "user_activity_span = df14.groupby('from')['ts'].agg(['min', 'max'])\n",
    "user_activity_span['time active (hours)'] = (user_activity_span['max'] - user_activity_span['min']).dt.total_seconds() / 3600\n",
    "user_activity_hours = user_activity_span[['time active (hours)']].sort_values(by='time active (hours)', ascending=False)\n",
    "user_activity_hours\n"
   ]
  },
  {
   "cell_type": "markdown",
   "metadata": {
    "cell_id": "f9a02427010f4454b24e591ced1f6e35",
    "deepnote_cell_type": "text-cell-p",
    "formattedRanges": []
   },
   "source": [
    "Table 4: Time of hours active"
   ]
  },
  {
   "cell_type": "markdown",
   "metadata": {
    "cell_id": "a1ec6848c31a44d185e791f975261c5f",
    "deepnote_cell_type": "text-cell-p",
    "formattedRanges": []
   },
   "source": [
    "Although the number of hours each user is active does not directly correlate with their involvement in the scheme itself, we can say that they have more or less the most knowledge and is monitoring this whole scheme. For example, we have previously found that the user defender@q3mcco35auwcstmt.onion sent the most messages, however according to the table above, we can see that they rank 5th from the list. This shows that you can be the most active per number of messages but still not be the most active in terms of hours. The same goes for stern. Even though we suspect him to have a lot of responsibilities within the group because we hypothesize him to be some sort of a manager role within the group, there are many other users who seemed to be more active in the chat than him."
   ]
  },
  {
   "cell_type": "markdown",
   "metadata": {
    "cell_id": "5b08c9e9c29143008271017c76b54452",
    "deepnote_cell_type": "text-cell-p",
    "formattedRanges": [
     {
      "fromCodePoint": 0,
      "marks": {
       "bold": true
      },
      "toCodePoint": 42,
      "type": "marks"
     }
    ]
   },
   "source": [
    "**ASPECT 15 - NUMBER OF MONTHLY MESSAGES**"
   ]
  },
  {
   "cell_type": "markdown",
   "metadata": {
    "cell_id": "19ec85c6639c4f59a7ee08e861cb81d3",
    "deepnote_cell_type": "text-cell-p",
    "formattedRanges": []
   },
   "source": [
    "By counting the number of monthly messages sent, it can be seen that November 2021 is the month with the most messages in a month at more than 8000 messages. Followed by October 2021 then December 2021 respectively. While the least amount of messages was sent on February 2021 and April 2021, disregarding January 2021 and February 2022 since records did not cover the whole month for those 2 months. In November 2021 the group conducted attacks notably on CS Energy and the Australian Government [4]. Whereas in October 2021 the group attacked Meyer Corporation, a cookware distributor, Graff, a Jewelry Company, JVC Kenwood, electronics company and in December of 2021, they continued to then attack multiple companies in multiple sectors including banking, hospitality and government [4]. The autumn of 2021 was the peak of their activities as can be seen from number of monthly messages and attack history [4]."
   ]
  },
  {
   "cell_type": "markdown",
   "metadata": {
    "cell_id": "5c3a395cc3f04e8aaf9e88882fd066af",
    "deepnote_cell_type": "markdown"
   },
   "source": [
    "![](month.png)"
   ]
  },
  {
   "cell_type": "markdown",
   "metadata": {
    "cell_id": "43fac3d34e94418b9348ae0155613480",
    "deepnote_cell_type": "text-cell-p",
    "formattedRanges": []
   },
   "source": [
    "Figure 17: Number of monthly messages"
   ]
  },
  {
   "cell_type": "markdown",
   "metadata": {
    "cell_id": "65d708af33a34e128c3b51385ef9f7b7",
    "deepnote_cell_type": "text-cell-p",
    "formattedRanges": [
     {
      "fromCodePoint": 0,
      "marks": {
       "bold": true
      },
      "toCodePoint": 29,
      "type": "marks"
     }
    ]
   },
   "source": [
    "**ASPECT 16 - DOMAIN CHANGE**"
   ]
  },
  {
   "cell_type": "markdown",
   "metadata": {
    "cell_id": "1c566365d70c492dbcd265f9828ca0ef",
    "deepnote_cell_type": "text-cell-p",
    "formattedRanges": []
   },
   "source": [
    "We have noticed that the ending of the csv file that we were given to analyze is somewhat weird to say the least. It contains a paragraph in Russian (non translated) and while its contents point to the fact that it is also a message. Actually, it is a message we encountered before just not in its entirety. Here's the translation made with Google Translate of the last paragraph:"
   ]
  },
  {
   "cell_type": "markdown",
   "metadata": {
    "cell_id": "b73f6f3a8b24426a953c422592bf8725",
    "deepnote_cell_type": "markdown"
   },
   "source": [
    "![](ending.png)"
   ]
  },
  {
   "cell_type": "markdown",
   "metadata": {
    "cell_id": "351364e135e844ffa459d34b0c204474",
    "deepnote_cell_type": "text-cell-p",
    "formattedRanges": []
   },
   "source": [
    "Figure 18: The ending paragraph"
   ]
  },
  {
   "cell_type": "markdown",
   "metadata": {
    "cell_id": "623e9844ef874a42a65027135ec8595a",
    "deepnote_cell_type": "text-cell-p",
    "formattedRanges": []
   },
   "source": [
    "This is a message about changing domains. It holds instructions on how to do it and even the standard port of the thing. It was probably broadcasted to everyone, or it might have been a notification that opened up when you opened the chat app. One way or another we suppose everyone was meant to see this message so they could change their domains. Because of this message, the FBI might be able to track down the new domain as well and shut it down."
   ]
  },
  {
   "cell_type": "markdown",
   "metadata": {
    "cell_id": "df12f070ca774b80a763d3437f6eb6e5",
    "deepnote_cell_type": "markdown"
   },
   "source": [
    "## Conclusion"
   ]
  },
  {
   "cell_type": "markdown",
   "metadata": {
    "cell_id": "479325f1881842c1a822fb2983e44004",
    "deepnote_cell_type": "text-cell-p",
    "formattedRanges": []
   },
   "source": [
    "In conclusion, this csv file of about 60 000 messages reveals a lot about how a ransomware group works. By analyzing the file we have managed to identify the biggest players in the group. We found how many messages they sent, how many hours they stay active and what their roles are within the organization. An estimation of revenue of this group was made as well since the Bitcoin wallets got leaked with the messages (wallet numbers were exchanged via messages). From there who owns which wallet wasn't hard to identify. The most suspicious conversations were highlighted as well as the conversations that gave us insight on what the logic behind negotiations is. "
   ]
  },
  {
   "cell_type": "markdown",
   "metadata": {
    "cell_id": "153185339ac74a99939c69ae89662d4d",
    "deepnote_cell_type": "text-cell-p",
    "formattedRanges": []
   },
   "source": [
    "One set of leaked messages can change the whole scheme of things for a ransomware group because if it was so simple for a couple of students to analyze their conversations, one might wonder how much information FBI got out of this file. This file shows how they think, how they operate (there are roles), how they transfer money to each other etc. The group could have avoided this by using encrypted messages. Then the results wouldn't have been this easy to analyze. "
   ]
  },
  {
   "cell_type": "markdown",
   "metadata": {
    "cell_id": "5c722c115a394f11bc0799ef8257e7ce",
    "deepnote_cell_type": "text-cell-p",
    "formattedRanges": []
   },
   "source": [
    "In conclusion, if a normal person like us would have one day stumbled upon this leaked chat and had been the first analyze it (faster than FBI), they might have been rewarded an substantial amount of money for something we had to do for homework :)."
   ]
  },
  {
   "cell_type": "markdown",
   "metadata": {
    "cell_id": "8de03e96fce84a2b947933df4c1852da",
    "deepnote_cell_type": "text-cell-h2",
    "formattedRanges": []
   },
   "source": [
    "## References"
   ]
  },
  {
   "cell_type": "markdown",
   "metadata": {
    "cell_id": "60ffcf8c1ea74a36b9d36f162b3bd4b3",
    "deepnote_cell_type": "text-cell-p",
    "formattedRanges": [
     {
      "fromCodePoint": 112,
      "ranges": [],
      "toCodePoint": 226,
      "type": "link",
      "url": "https://www.state.gov/reward-offers-for-information-to-bring-conti-ransomware-variant-co-conspirators-to-justice/"
     }
    ]
   },
   "source": [
    "[1] Reward Offers for Information to Bring Conti Ransomware Variant Co-Conspirators to Justice. Retrieved from: https://www.state.gov/reward-offers-for-information-to-bring-conti-ransomware-variant-co-conspirators-to-justice/   "
   ]
  },
  {
   "cell_type": "markdown",
   "metadata": {
    "cell_id": "b4acab06995a47cd866a6f13058ff69c",
    "deepnote_cell_type": "text-cell-p",
    "formattedRanges": [
     {
      "fromCodePoint": 91,
      "ranges": [],
      "toCodePoint": 135,
      "type": "link",
      "url": "https://www.bbc.com/news/technology-61323402"
     }
    ]
   },
   "source": [
    "[2] President Rodrigo Chaves says Costa Rica is at war with Conti hackers. Retrieved from: https://www.bbc.com/news/technology-61323402 "
   ]
  },
  {
   "cell_type": "markdown",
   "metadata": {
    "cell_id": "c5e9fdd99ed04cbaa6656c1d7f113c0b",
    "deepnote_cell_type": "text-cell-p",
    "formattedRanges": [
     {
      "fromCodePoint": 88,
      "ranges": [],
      "toCodePoint": 135,
      "type": "link",
      "url": "https://www.bbc.com/news/world-europe-57197688"
     }
    ]
   },
   "source": [
    "[3] Irish cyber-attack: Hackers bail out Irish health service for free. Retrieved from: https://www.bbc.com/news/world-europe-57197688   "
   ]
  },
  {
   "cell_type": "markdown",
   "metadata": {
    "cell_id": "6419c6bc22f543aebdbb4e66a92a2fa9",
    "deepnote_cell_type": "text-cell-p",
    "formattedRanges": [
     {
      "fromCodePoint": 48,
      "ranges": [],
      "toCodePoint": 107,
      "type": "link",
      "url": "https://www.securin.io/articles/all-about-conti-ransomware/"
     },
     {
      "fromCodePoint": 107,
      "ranges": [],
      "toCodePoint": 107,
      "type": "link",
      "url": "https://www.bbc.com/news/world-europe-57197688"
     }
    ]
   },
   "source": [
    "[4] All About Conti Ransomware. Retrieved from: https://www.securin.io/articles/all-about-conti-ransomware/"
   ]
  },
  {
   "cell_type": "markdown",
   "metadata": {
    "cell_id": "1eb098ab564e4441a165a28a53de11a6",
    "deepnote_cell_type": "text-cell-p",
    "formattedRanges": [
     {
      "fromCodePoint": 69,
      "ranges": [],
      "toCodePoint": 141,
      "type": "link",
      "url": "https://globalinitiative.net/analysis/conti-ransomware-group-cybercrime/"
     },
     {
      "fromCodePoint": 141,
      "ranges": [],
      "toCodePoint": 141,
      "type": "link",
      "url": "https://globalinitiative.net/analysis/conti-ransomware-group-cybercrime/"
     }
    ]
   },
   "source": [
    "[5] The Rise and Fall of the Conti Ransomware Group. Retrieved from: https://globalinitiative.net/analysis/conti-ransomware-group-cybercrime/"
   ]
  },
  {
   "cell_type": "markdown",
   "metadata": {
    "cell_id": "47c28f235f8541e4ae675bf9dd3c83f9",
    "deepnote_cell_type": "text-cell-p",
    "formattedRanges": [
     {
      "fromCodePoint": 119,
      "ranges": [],
      "toCodePoint": 437,
      "type": "link",
      "url": "https://techcrunch.com/2022/02/28/conti-ransomware-chats-leaked/?guccounter=1&guce_referrer=aHR0cHM6Ly93d3cuZ29vZ2xlLmNvbS8&guce_referrer_sig=AQAAAGlWN205uJmOd_2i2ImWg52w7_iB2HsXtHS4EBKFUhDWqJ_A-UtHyDeTWfQHZrZAiqsVkGg8h_2pbrouOOA5-Za02cW9yzHQfR7GbXcrhWS9Hjey1PyAL2yWSkkT8Q67zZdOeWChK7dInuvBINYb9fnq9Id28FrwTmztzJ9O1KZ4"
     }
    ]
   },
   "source": [
    "[6] Conti ransomware gang’s internal chats leaked online after declaring support for Russian invasion. Retrieved from: https://techcrunch.com/2022/02/28/conti-ransomware-chats-leaked/?guccounter=1&guce_referrer=aHR0cHM6Ly93d3cuZ29vZ2xlLmNvbS8&guce_referrer_sig=AQAAAGlWN205uJmOd_2i2ImWg52w7_iB2HsXtHS4EBKFUhDWqJ_A-UtHyDeTWfQHZrZAiqsVkGg8h_2pbrouOOA5-Za02cW9yzHQfR7GbXcrhWS9Hjey1PyAL2yWSkkT8Q67zZdOeWChK7dInuvBINYb9fnq9Id28FrwTmztzJ9O1KZ4"
   ]
  },
  {
   "cell_type": "markdown",
   "metadata": {
    "cell_id": "1c75e629eeb845f9af8f370f6a083558",
    "deepnote_cell_type": "text-cell-p",
    "formattedRanges": [
     {
      "fromCodePoint": 24,
      "ranges": [],
      "toCodePoint": 43,
      "type": "link",
      "url": "https://urlscan.io/"
     },
     {
      "fromCodePoint": 43,
      "ranges": [],
      "toCodePoint": 43,
      "type": "link",
      "url": "https://urlscan.io/"
     }
    ]
   },
   "source": [
    "[7] Urlscan.io, online: https://urlscan.io/"
   ]
  },
  {
   "cell_type": "markdown",
   "metadata": {
    "created_in_deepnote_cell": true,
    "deepnote_cell_type": "markdown"
   },
   "source": [
    "<a style='text-decoration:none;line-height:16px;display:flex;color:#5B5B62;padding:10px;justify-content:end;' href='https://deepnote.com?utm_source=created-in-deepnote-cell&projectId=411e6c34-0039-4fc2-86a3-93ef8e39f129' target=\"_blank\">\n",
    "<img alt='Created in deepnote.com' style='display:inline;max-height:16px;margin:0px;margin-right:7.5px;' src='data:image/svg+xml;base64,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' > </img>\n",
    "Created in <span style='font-weight:600;margin-left:4px;'>Deepnote</span></a>"
   ]
  }
 ],
 "metadata": {
  "deepnote": {},
  "deepnote_execution_queue": [],
  "deepnote_notebook_id": "7daf9ab39ea6486f9266afa0e01f295a",
  "deepnote_persisted_session": {
   "createdAt": "2023-10-25T19:46:22.290Z"
  },
  "kernelspec": {
   "display_name": "Python 3 (ipykernel)",
   "language": "python",
   "name": "python3"
  },
  "language_info": {
   "codemirror_mode": {
    "name": "ipython",
    "version": 3
   },
   "file_extension": ".py",
   "mimetype": "text/x-python",
   "name": "python",
   "nbconvert_exporter": "python",
   "pygments_lexer": "ipython3",
   "version": "3.11.1"
  }
 },
 "nbformat": 4,
 "nbformat_minor": 4
}
