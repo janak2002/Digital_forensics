{
 "cells": [
  {
   "cell_type": "markdown",
   "metadata": {
    "cell_id": "10d0088f41034cf6a14a0e86d25d33c8",
    "deepnote_cell_type": "markdown"
   },
   "source": [
    "# Assignment 1\n"
   ]
  },
  {
   "cell_type": "markdown",
   "metadata": {
    "cell_id": "e6db5143dece4401970a1041345bac8b",
    "deepnote_cell_type": "text-cell-p",
    "formattedRanges": []
   },
   "source": [
    "Darian Soetanto (3296539)\n",
    "Nashifa Muchtar (3296466)\n",
    "Rory Timmerman (2846055)\n",
    "Jana Klaric (2850478)\n",
    "Kirk Preston (​​3294056)\n",
    "Anna Liang (3306321)\n"
   ]
  },
  {
   "cell_type": "markdown",
   "metadata": {
    "cell_id": "c9c97e2d287747e3a672718120945a21",
    "deepnote_cell_type": "markdown"
   },
   "source": [
    "## Introduction and Motivation"
   ]
  },
  {
   "cell_type": "markdown",
   "metadata": {
    "cell_id": "1b42aee1fb9440a687b9e8d7b8c8b1fe",
    "deepnote_cell_type": "text-cell-p",
    "formattedRanges": []
   },
   "source": [
    "The main association made with the word \"Black market\" in the minds of the general public is an illegal online space where criminals sell drugs and organs. Though it is true that black market allows vendors to advertise illegal products, not all of them do this. Things like clothing, shoes, bags and other legal products can be found on these types of markets because of the existing demand for them. Our goal is to try and classify the products we find on a single black market into legal and illegal categories. Furthermore, we aim to identify the biggest sellers on the investigated market and categorize them by criteria like successful number of transactions, number of starts, price range etc. Lastly, the team will try to decide which of these vendors should be further investigated by the authorities based on their activity on the market. "
   ]
  },
  {
   "cell_type": "markdown",
   "metadata": {
    "cell_id": "faaa193446dd4c199e52fd7580548b58",
    "deepnote_cell_type": "markdown"
   },
   "source": [
    "## Methodology and results"
   ]
  },
  {
   "cell_type": "markdown",
   "metadata": {
    "cell_id": "86bcdfcf658941c7bb07f77432e2afda",
    "deepnote_cell_type": "text-cell-p",
    "formattedRanges": []
   },
   "source": [
    "The browser used to access the black markets was tor because it allows one to search the web anonymously. When we use Tor our ISP is not able to track what we do online and which websites we visit. The owners of these websites will also not be able to track us because the connection details will show that the connection is coming from the tor browser rather than an IP address. The black market our team chose to research is called \"Venus Marketplace\". It was found by typing the word \"drugs\" into ahmia.fi (which was accessed by tor) and then tracking the found add to the marketplace it came from. What follows is the analysis of a 100 articles found on the Venus marketplace and their sellers."
   ]
  },
  {
   "cell_type": "markdown",
   "metadata": {
    "cell_id": "2fa2db038a08455c8cf31c3b0f69af89",
    "deepnote_cell_type": "text-cell-h3",
    "formattedRanges": []
   },
   "source": [
    "### Tables"
   ]
  },
  {
   "cell_type": "code",
   "execution_count": 1,
   "metadata": {
    "cell_id": "31a3c21669384283acdbaa9eeeac5484",
    "deepnote_cell_type": "code",
    "deepnote_to_be_reexecuted": false,
    "execution_millis": 510,
    "execution_start": 1697050870676,
    "source_hash": "dfe35b4b"
   },
   "outputs": [],
   "source": [
    "import pandas as pd\n",
    "import matplotlib.pyplot as plt"
   ]
  },
  {
   "cell_type": "markdown",
   "metadata": {
    "cell_id": "e95b7cd2bb3c4ec9a6e25ed9c94bfd4d",
    "deepnote_cell_type": "text-cell-p",
    "formattedRanges": [
     {
      "fromCodePoint": 0,
      "marks": {
       "bold": true
      },
      "toCodePoint": 11,
      "type": "marks"
     }
    ]
   },
   "source": [
    "**Electronics** "
   ]
  },
  {
   "cell_type": "code",
   "execution_count": 2,
   "metadata": {
    "cell_id": "e42deb749eac462fabacf82e49d105e3",
    "deepnote_cell_type": "code",
    "deepnote_to_be_reexecuted": false,
    "execution_millis": 25,
    "execution_start": 1697050870929,
    "source_hash": "2696b3c1"
   },
   "outputs": [],
   "source": [
    "elec={\n",
    "    'Product Name':['Apple iPhone 14 Pro max 1Tb', 'Apple iPhone 13 Pro max 512 GB', 'Apple Watch Ultra - Alpine Loop', 'Apple Macbook Pro M2 14 inch 16 GB RAM', 'Apple iPhone 11 Pro Max 512 GB'],\n",
    "    'Legal?':['legal', 'legal', 'legal', 'legal', 'legal'],\n",
    "    'Price(USD)':[560,320,320,825,190],\n",
    "    'Seller':['GardenSpice', 'GardenSpice', 'GardenSpice', 'GardenSpice', 'GardenSpice']\n",
    "}\n",
    "\n",
    "cat='Electronics'\n",
    "\n",
    "Electronics = pd.DataFrame(elec)\n",
    "Electronics.insert(1,'Category',cat)\n",
    "Electronics.index = range(1, len(Electronics)+1)"
   ]
  },
  {
   "cell_type": "code",
   "execution_count": 3,
   "metadata": {
    "cell_id": "47652ca73fd241f19a0d788c7cebcfd8",
    "deepnote_cell_type": "code",
    "deepnote_to_be_reexecuted": false,
    "execution_millis": 359,
    "execution_start": 1697050870931,
    "source_hash": "2fec227a"
   },
   "outputs": [
    {
     "data": {
      "application/vnd.deepnote.dataframe.v3+json": {
       "column_count": 5,
       "columns": [
        {
         "dtype": "object",
         "name": "Product Name",
         "stats": {
          "categories": [
           {
            "count": 1,
            "name": "Apple iPhone 14 Pro max 1Tb"
           },
           {
            "count": 1,
            "name": "Apple iPhone 13 Pro max 512 GB"
           },
           {
            "count": 3,
            "name": "3 others"
           }
          ],
          "nan_count": 0,
          "unique_count": 5
         }
        },
        {
         "dtype": "object",
         "name": "Category",
         "stats": {
          "categories": [
           {
            "count": 5,
            "name": "Electronics"
           }
          ],
          "nan_count": 0,
          "unique_count": 1
         }
        },
        {
         "dtype": "object",
         "name": "Legal?",
         "stats": {
          "categories": [
           {
            "count": 5,
            "name": "legal"
           }
          ],
          "nan_count": 0,
          "unique_count": 1
         }
        },
        {
         "dtype": "int64",
         "name": "Price(USD)",
         "stats": {
          "histogram": [
           {
            "bin_end": 253.5,
            "bin_start": 190,
            "count": 1
           },
           {
            "bin_end": 317,
            "bin_start": 253.5,
            "count": 0
           },
           {
            "bin_end": 380.5,
            "bin_start": 317,
            "count": 2
           },
           {
            "bin_end": 444,
            "bin_start": 380.5,
            "count": 0
           },
           {
            "bin_end": 507.5,
            "bin_start": 444,
            "count": 0
           },
           {
            "bin_end": 571,
            "bin_start": 507.5,
            "count": 1
           },
           {
            "bin_end": 634.5,
            "bin_start": 571,
            "count": 0
           },
           {
            "bin_end": 698,
            "bin_start": 634.5,
            "count": 0
           },
           {
            "bin_end": 761.5,
            "bin_start": 698,
            "count": 0
           },
           {
            "bin_end": 825,
            "bin_start": 761.5,
            "count": 1
           }
          ],
          "max": "825",
          "min": "190",
          "nan_count": 0,
          "unique_count": 4
         }
        },
        {
         "dtype": "object",
         "name": "Seller",
         "stats": {
          "categories": [
           {
            "count": 5,
            "name": "GardenSpice"
           }
          ],
          "nan_count": 0,
          "unique_count": 1
         }
        },
        {
         "dtype": "int64",
         "name": "_deepnote_index_column"
        }
       ],
       "row_count": 5,
       "rows": [
        {
         "Category": "Electronics",
         "Legal?": "legal",
         "Price(USD)": 560,
         "Product Name": "Apple iPhone 14 Pro max 1Tb",
         "Seller": "GardenSpice",
         "_deepnote_index_column": 1
        },
        {
         "Category": "Electronics",
         "Legal?": "legal",
         "Price(USD)": 320,
         "Product Name": "Apple iPhone 13 Pro max 512 GB",
         "Seller": "GardenSpice",
         "_deepnote_index_column": 2
        },
        {
         "Category": "Electronics",
         "Legal?": "legal",
         "Price(USD)": 320,
         "Product Name": "Apple Watch Ultra - Alpine Loop",
         "Seller": "GardenSpice",
         "_deepnote_index_column": 3
        },
        {
         "Category": "Electronics",
         "Legal?": "legal",
         "Price(USD)": 825,
         "Product Name": "Apple Macbook Pro M2 14 inch 16 GB RAM",
         "Seller": "GardenSpice",
         "_deepnote_index_column": 4
        },
        {
         "Category": "Electronics",
         "Legal?": "legal",
         "Price(USD)": 190,
         "Product Name": "Apple iPhone 11 Pro Max 512 GB",
         "Seller": "GardenSpice",
         "_deepnote_index_column": 5
        }
       ]
      },
      "text/html": [
       "<div>\n",
       "<style scoped>\n",
       "    .dataframe tbody tr th:only-of-type {\n",
       "        vertical-align: middle;\n",
       "    }\n",
       "\n",
       "    .dataframe tbody tr th {\n",
       "        vertical-align: top;\n",
       "    }\n",
       "\n",
       "    .dataframe thead th {\n",
       "        text-align: right;\n",
       "    }\n",
       "</style>\n",
       "<table border=\"1\" class=\"dataframe\">\n",
       "  <thead>\n",
       "    <tr style=\"text-align: right;\">\n",
       "      <th></th>\n",
       "      <th>Product Name</th>\n",
       "      <th>Category</th>\n",
       "      <th>Legal?</th>\n",
       "      <th>Price(USD)</th>\n",
       "      <th>Seller</th>\n",
       "    </tr>\n",
       "  </thead>\n",
       "  <tbody>\n",
       "    <tr>\n",
       "      <th>1</th>\n",
       "      <td>Apple iPhone 14 Pro max 1Tb</td>\n",
       "      <td>Electronics</td>\n",
       "      <td>legal</td>\n",
       "      <td>560</td>\n",
       "      <td>GardenSpice</td>\n",
       "    </tr>\n",
       "    <tr>\n",
       "      <th>2</th>\n",
       "      <td>Apple iPhone 13 Pro max 512 GB</td>\n",
       "      <td>Electronics</td>\n",
       "      <td>legal</td>\n",
       "      <td>320</td>\n",
       "      <td>GardenSpice</td>\n",
       "    </tr>\n",
       "    <tr>\n",
       "      <th>3</th>\n",
       "      <td>Apple Watch Ultra - Alpine Loop</td>\n",
       "      <td>Electronics</td>\n",
       "      <td>legal</td>\n",
       "      <td>320</td>\n",
       "      <td>GardenSpice</td>\n",
       "    </tr>\n",
       "    <tr>\n",
       "      <th>4</th>\n",
       "      <td>Apple Macbook Pro M2 14 inch 16 GB RAM</td>\n",
       "      <td>Electronics</td>\n",
       "      <td>legal</td>\n",
       "      <td>825</td>\n",
       "      <td>GardenSpice</td>\n",
       "    </tr>\n",
       "    <tr>\n",
       "      <th>5</th>\n",
       "      <td>Apple iPhone 11 Pro Max 512 GB</td>\n",
       "      <td>Electronics</td>\n",
       "      <td>legal</td>\n",
       "      <td>190</td>\n",
       "      <td>GardenSpice</td>\n",
       "    </tr>\n",
       "  </tbody>\n",
       "</table>\n",
       "</div>"
      ],
      "text/plain": [
       "                             Product Name     Category Legal?  Price(USD)  \\\n",
       "1             Apple iPhone 14 Pro max 1Tb  Electronics  legal         560   \n",
       "2          Apple iPhone 13 Pro max 512 GB  Electronics  legal         320   \n",
       "3         Apple Watch Ultra - Alpine Loop  Electronics  legal         320   \n",
       "4  Apple Macbook Pro M2 14 inch 16 GB RAM  Electronics  legal         825   \n",
       "5          Apple iPhone 11 Pro Max 512 GB  Electronics  legal         190   \n",
       "\n",
       "        Seller  \n",
       "1  GardenSpice  \n",
       "2  GardenSpice  \n",
       "3  GardenSpice  \n",
       "4  GardenSpice  \n",
       "5  GardenSpice  "
      ]
     },
     "execution_count": 3,
     "metadata": {},
     "output_type": "execute_result"
    }
   ],
   "source": [
    "Electronics"
   ]
  },
  {
   "cell_type": "markdown",
   "metadata": {
    "cell_id": "4388d3290d5446a9a69c72a90e77627d",
    "deepnote_cell_type": "text-cell-p",
    "formattedRanges": []
   },
   "source": [
    "Table 1: Electronic devices offered on Venus Marketplace"
   ]
  },
  {
   "cell_type": "markdown",
   "metadata": {
    "cell_id": "eb890190ca0746b0bb5547efcca0b324",
    "deepnote_cell_type": "text-cell-p",
    "formattedRanges": [
     {
      "fromCodePoint": 0,
      "marks": {
       "bold": true
      },
      "toCodePoint": 5,
      "type": "marks"
     }
    ]
   },
   "source": [
    "**Pills**"
   ]
  },
  {
   "cell_type": "code",
   "execution_count": 4,
   "metadata": {
    "cell_id": "88b13bd2edbc4e52ab975faf4bd173d7",
    "deepnote_app_is_code_hidden": true,
    "deepnote_cell_type": "code",
    "deepnote_to_be_reexecuted": false,
    "execution_millis": 113,
    "execution_start": 1697050870968,
    "is_code_hidden": false,
    "source_hash": "eea72a81"
   },
   "outputs": [],
   "source": [
    "pills={\n",
    "    'Product Name':['Hydrocodone 10mg/325mg 100 pills', 'Alprazoalm (Xanax) 0.5 mg 15 pills', 'Adderall 30mg 30 pills', 'Captagon 200 pils', 'Lyrica Pregabalin 300 mg - 15 pills', 'Methadone 10 mg - 100 pills', 'Morphine 60mg 60 pills', 'Oxycodone 30mg 100 pills', 'Ritalin 20 mg 30 pills', 'Suboxone 8mg 30 pills', 'Targin 30 mg/15 mg', 'Testosteron Enanthate 250mg','Tramadol 100mg','Valium 10mg','Xanax 2mg'],\n",
    "    'Legal?':['illegal', 'illegal', 'illegal', 'illegal', 'illegal', 'illegal', 'illegal', 'illegal', 'illegal', 'illegal', 'illegal', 'illegal','illegal','illegal','illegal'],\n",
    "    'Price(USD)':[230,20,95,140,15,130,90,190,60,60,55,20,60,85,55],\n",
    "    'Seller':['CapitalPharmacy', 'CapitalPharmacy', 'CapitalPharmacy', 'CapitalPharmacy', 'ByGPN', 'CapitalPharmacy', 'CapitalPharmacy', 'CapitalPharmacy', 'CapitalPharmacy', 'CapitalPharmacy', 'CapitalPharmacy', 'CapitalPharmacy','CapitalPharmacy','CapitalPharmacy','CapitalPharmacy']\n",
    "}\n",
    "\n",
    "cat='Pills'\n",
    "Pills = pd.DataFrame(pills)\n",
    "Pills.insert(1,'Category',cat)\n",
    "Pills.index = range(1, len(Pills)+1)"
   ]
  },
  {
   "cell_type": "code",
   "execution_count": 5,
   "metadata": {
    "cell_id": "7795033fa9ad44ab94254ce10bced3cb",
    "deepnote_cell_type": "code",
    "deepnote_table_loading": false,
    "deepnote_table_state": {
     "filters": [],
     "pageIndex": 0,
     "pageSize": 25,
     "sortBy": []
    },
    "deepnote_to_be_reexecuted": false,
    "execution_millis": 478,
    "execution_start": 1697050870975,
    "source_hash": "2c3cc5a3"
   },
   "outputs": [
    {
     "data": {
      "application/vnd.deepnote.dataframe.v3+json": {
       "column_count": 5,
       "columns": [
        {
         "dtype": "object",
         "name": "Product Name",
         "stats": {
          "categories": [
           {
            "count": 1,
            "name": "Hydrocodone 10mg/325mg 100 pills"
           },
           {
            "count": 1,
            "name": "Alprazoalm (Xanax) 0.5 mg 15 pills"
           },
           {
            "count": 13,
            "name": "13 others"
           }
          ],
          "nan_count": 0,
          "unique_count": 15
         }
        },
        {
         "dtype": "object",
         "name": "Category",
         "stats": {
          "categories": [
           {
            "count": 15,
            "name": "Pills"
           }
          ],
          "nan_count": 0,
          "unique_count": 1
         }
        },
        {
         "dtype": "object",
         "name": "Legal?",
         "stats": {
          "categories": [
           {
            "count": 15,
            "name": "illegal"
           }
          ],
          "nan_count": 0,
          "unique_count": 1
         }
        },
        {
         "dtype": "int64",
         "name": "Price(USD)",
         "stats": {
          "histogram": [
           {
            "bin_end": 36.5,
            "bin_start": 15,
            "count": 3
           },
           {
            "bin_end": 58,
            "bin_start": 36.5,
            "count": 2
           },
           {
            "bin_end": 79.5,
            "bin_start": 58,
            "count": 3
           },
           {
            "bin_end": 101,
            "bin_start": 79.5,
            "count": 3
           },
           {
            "bin_end": 122.5,
            "bin_start": 101,
            "count": 0
           },
           {
            "bin_end": 144,
            "bin_start": 122.5,
            "count": 2
           },
           {
            "bin_end": 165.5,
            "bin_start": 144,
            "count": 0
           },
           {
            "bin_end": 187,
            "bin_start": 165.5,
            "count": 0
           },
           {
            "bin_end": 208.5,
            "bin_start": 187,
            "count": 1
           },
           {
            "bin_end": 230,
            "bin_start": 208.5,
            "count": 1
           }
          ],
          "max": "230",
          "min": "15",
          "nan_count": 0,
          "unique_count": 11
         }
        },
        {
         "dtype": "object",
         "name": "Seller",
         "stats": {
          "categories": [
           {
            "count": 14,
            "name": "CapitalPharmacy"
           },
           {
            "count": 1,
            "name": "ByGPN"
           }
          ],
          "nan_count": 0,
          "unique_count": 2
         }
        },
        {
         "dtype": "int64",
         "name": "_deepnote_index_column"
        }
       ],
       "row_count": 15,
       "rows": [
        {
         "Category": "Pills",
         "Legal?": "illegal",
         "Price(USD)": 230,
         "Product Name": "Hydrocodone 10mg/325mg 100 pills",
         "Seller": "CapitalPharmacy",
         "_deepnote_index_column": 1
        },
        {
         "Category": "Pills",
         "Legal?": "illegal",
         "Price(USD)": 20,
         "Product Name": "Alprazoalm (Xanax) 0.5 mg 15 pills",
         "Seller": "CapitalPharmacy",
         "_deepnote_index_column": 2
        },
        {
         "Category": "Pills",
         "Legal?": "illegal",
         "Price(USD)": 95,
         "Product Name": "Adderall 30mg 30 pills",
         "Seller": "CapitalPharmacy",
         "_deepnote_index_column": 3
        },
        {
         "Category": "Pills",
         "Legal?": "illegal",
         "Price(USD)": 140,
         "Product Name": "Captagon 200 pils",
         "Seller": "CapitalPharmacy",
         "_deepnote_index_column": 4
        },
        {
         "Category": "Pills",
         "Legal?": "illegal",
         "Price(USD)": 15,
         "Product Name": "Lyrica Pregabalin 300 mg - 15 pills",
         "Seller": "ByGPN",
         "_deepnote_index_column": 5
        },
        {
         "Category": "Pills",
         "Legal?": "illegal",
         "Price(USD)": 130,
         "Product Name": "Methadone 10 mg - 100 pills",
         "Seller": "CapitalPharmacy",
         "_deepnote_index_column": 6
        },
        {
         "Category": "Pills",
         "Legal?": "illegal",
         "Price(USD)": 90,
         "Product Name": "Morphine 60mg 60 pills",
         "Seller": "CapitalPharmacy",
         "_deepnote_index_column": 7
        },
        {
         "Category": "Pills",
         "Legal?": "illegal",
         "Price(USD)": 190,
         "Product Name": "Oxycodone 30mg 100 pills",
         "Seller": "CapitalPharmacy",
         "_deepnote_index_column": 8
        },
        {
         "Category": "Pills",
         "Legal?": "illegal",
         "Price(USD)": 60,
         "Product Name": "Ritalin 20 mg 30 pills",
         "Seller": "CapitalPharmacy",
         "_deepnote_index_column": 9
        },
        {
         "Category": "Pills",
         "Legal?": "illegal",
         "Price(USD)": 60,
         "Product Name": "Suboxone 8mg 30 pills",
         "Seller": "CapitalPharmacy",
         "_deepnote_index_column": 10
        },
        {
         "Category": "Pills",
         "Legal?": "illegal",
         "Price(USD)": 55,
         "Product Name": "Targin 30 mg/15 mg",
         "Seller": "CapitalPharmacy",
         "_deepnote_index_column": 11
        },
        {
         "Category": "Pills",
         "Legal?": "illegal",
         "Price(USD)": 20,
         "Product Name": "Testosteron Enanthate 250mg",
         "Seller": "CapitalPharmacy",
         "_deepnote_index_column": 12
        },
        {
         "Category": "Pills",
         "Legal?": "illegal",
         "Price(USD)": 60,
         "Product Name": "Tramadol 100mg",
         "Seller": "CapitalPharmacy",
         "_deepnote_index_column": 13
        },
        {
         "Category": "Pills",
         "Legal?": "illegal",
         "Price(USD)": 85,
         "Product Name": "Valium 10mg",
         "Seller": "CapitalPharmacy",
         "_deepnote_index_column": 14
        },
        {
         "Category": "Pills",
         "Legal?": "illegal",
         "Price(USD)": 55,
         "Product Name": "Xanax 2mg",
         "Seller": "CapitalPharmacy",
         "_deepnote_index_column": 15
        }
       ]
      },
      "text/html": [
       "<div>\n",
       "<style scoped>\n",
       "    .dataframe tbody tr th:only-of-type {\n",
       "        vertical-align: middle;\n",
       "    }\n",
       "\n",
       "    .dataframe tbody tr th {\n",
       "        vertical-align: top;\n",
       "    }\n",
       "\n",
       "    .dataframe thead th {\n",
       "        text-align: right;\n",
       "    }\n",
       "</style>\n",
       "<table border=\"1\" class=\"dataframe\">\n",
       "  <thead>\n",
       "    <tr style=\"text-align: right;\">\n",
       "      <th></th>\n",
       "      <th>Product Name</th>\n",
       "      <th>Category</th>\n",
       "      <th>Legal?</th>\n",
       "      <th>Price(USD)</th>\n",
       "      <th>Seller</th>\n",
       "    </tr>\n",
       "  </thead>\n",
       "  <tbody>\n",
       "    <tr>\n",
       "      <th>1</th>\n",
       "      <td>Hydrocodone 10mg/325mg 100 pills</td>\n",
       "      <td>Pills</td>\n",
       "      <td>illegal</td>\n",
       "      <td>230</td>\n",
       "      <td>CapitalPharmacy</td>\n",
       "    </tr>\n",
       "    <tr>\n",
       "      <th>2</th>\n",
       "      <td>Alprazoalm (Xanax) 0.5 mg 15 pills</td>\n",
       "      <td>Pills</td>\n",
       "      <td>illegal</td>\n",
       "      <td>20</td>\n",
       "      <td>CapitalPharmacy</td>\n",
       "    </tr>\n",
       "    <tr>\n",
       "      <th>3</th>\n",
       "      <td>Adderall 30mg 30 pills</td>\n",
       "      <td>Pills</td>\n",
       "      <td>illegal</td>\n",
       "      <td>95</td>\n",
       "      <td>CapitalPharmacy</td>\n",
       "    </tr>\n",
       "    <tr>\n",
       "      <th>4</th>\n",
       "      <td>Captagon 200 pils</td>\n",
       "      <td>Pills</td>\n",
       "      <td>illegal</td>\n",
       "      <td>140</td>\n",
       "      <td>CapitalPharmacy</td>\n",
       "    </tr>\n",
       "    <tr>\n",
       "      <th>5</th>\n",
       "      <td>Lyrica Pregabalin 300 mg - 15 pills</td>\n",
       "      <td>Pills</td>\n",
       "      <td>illegal</td>\n",
       "      <td>15</td>\n",
       "      <td>ByGPN</td>\n",
       "    </tr>\n",
       "    <tr>\n",
       "      <th>6</th>\n",
       "      <td>Methadone 10 mg - 100 pills</td>\n",
       "      <td>Pills</td>\n",
       "      <td>illegal</td>\n",
       "      <td>130</td>\n",
       "      <td>CapitalPharmacy</td>\n",
       "    </tr>\n",
       "    <tr>\n",
       "      <th>7</th>\n",
       "      <td>Morphine 60mg 60 pills</td>\n",
       "      <td>Pills</td>\n",
       "      <td>illegal</td>\n",
       "      <td>90</td>\n",
       "      <td>CapitalPharmacy</td>\n",
       "    </tr>\n",
       "    <tr>\n",
       "      <th>8</th>\n",
       "      <td>Oxycodone 30mg 100 pills</td>\n",
       "      <td>Pills</td>\n",
       "      <td>illegal</td>\n",
       "      <td>190</td>\n",
       "      <td>CapitalPharmacy</td>\n",
       "    </tr>\n",
       "    <tr>\n",
       "      <th>9</th>\n",
       "      <td>Ritalin 20 mg 30 pills</td>\n",
       "      <td>Pills</td>\n",
       "      <td>illegal</td>\n",
       "      <td>60</td>\n",
       "      <td>CapitalPharmacy</td>\n",
       "    </tr>\n",
       "    <tr>\n",
       "      <th>10</th>\n",
       "      <td>Suboxone 8mg 30 pills</td>\n",
       "      <td>Pills</td>\n",
       "      <td>illegal</td>\n",
       "      <td>60</td>\n",
       "      <td>CapitalPharmacy</td>\n",
       "    </tr>\n",
       "    <tr>\n",
       "      <th>11</th>\n",
       "      <td>Targin 30 mg/15 mg</td>\n",
       "      <td>Pills</td>\n",
       "      <td>illegal</td>\n",
       "      <td>55</td>\n",
       "      <td>CapitalPharmacy</td>\n",
       "    </tr>\n",
       "    <tr>\n",
       "      <th>12</th>\n",
       "      <td>Testosteron Enanthate 250mg</td>\n",
       "      <td>Pills</td>\n",
       "      <td>illegal</td>\n",
       "      <td>20</td>\n",
       "      <td>CapitalPharmacy</td>\n",
       "    </tr>\n",
       "    <tr>\n",
       "      <th>13</th>\n",
       "      <td>Tramadol 100mg</td>\n",
       "      <td>Pills</td>\n",
       "      <td>illegal</td>\n",
       "      <td>60</td>\n",
       "      <td>CapitalPharmacy</td>\n",
       "    </tr>\n",
       "    <tr>\n",
       "      <th>14</th>\n",
       "      <td>Valium 10mg</td>\n",
       "      <td>Pills</td>\n",
       "      <td>illegal</td>\n",
       "      <td>85</td>\n",
       "      <td>CapitalPharmacy</td>\n",
       "    </tr>\n",
       "    <tr>\n",
       "      <th>15</th>\n",
       "      <td>Xanax 2mg</td>\n",
       "      <td>Pills</td>\n",
       "      <td>illegal</td>\n",
       "      <td>55</td>\n",
       "      <td>CapitalPharmacy</td>\n",
       "    </tr>\n",
       "  </tbody>\n",
       "</table>\n",
       "</div>"
      ],
      "text/plain": [
       "                           Product Name Category   Legal?  Price(USD)  \\\n",
       "1      Hydrocodone 10mg/325mg 100 pills    Pills  illegal         230   \n",
       "2    Alprazoalm (Xanax) 0.5 mg 15 pills    Pills  illegal          20   \n",
       "3                Adderall 30mg 30 pills    Pills  illegal          95   \n",
       "4                     Captagon 200 pils    Pills  illegal         140   \n",
       "5   Lyrica Pregabalin 300 mg - 15 pills    Pills  illegal          15   \n",
       "6           Methadone 10 mg - 100 pills    Pills  illegal         130   \n",
       "7                Morphine 60mg 60 pills    Pills  illegal          90   \n",
       "8              Oxycodone 30mg 100 pills    Pills  illegal         190   \n",
       "9                Ritalin 20 mg 30 pills    Pills  illegal          60   \n",
       "10                Suboxone 8mg 30 pills    Pills  illegal          60   \n",
       "11                   Targin 30 mg/15 mg    Pills  illegal          55   \n",
       "12          Testosteron Enanthate 250mg    Pills  illegal          20   \n",
       "13                       Tramadol 100mg    Pills  illegal          60   \n",
       "14                          Valium 10mg    Pills  illegal          85   \n",
       "15                            Xanax 2mg    Pills  illegal          55   \n",
       "\n",
       "             Seller  \n",
       "1   CapitalPharmacy  \n",
       "2   CapitalPharmacy  \n",
       "3   CapitalPharmacy  \n",
       "4   CapitalPharmacy  \n",
       "5             ByGPN  \n",
       "6   CapitalPharmacy  \n",
       "7   CapitalPharmacy  \n",
       "8   CapitalPharmacy  \n",
       "9   CapitalPharmacy  \n",
       "10  CapitalPharmacy  \n",
       "11  CapitalPharmacy  \n",
       "12  CapitalPharmacy  \n",
       "13  CapitalPharmacy  \n",
       "14  CapitalPharmacy  \n",
       "15  CapitalPharmacy  "
      ]
     },
     "execution_count": 5,
     "metadata": {},
     "output_type": "execute_result"
    }
   ],
   "source": [
    "Pills"
   ]
  },
  {
   "cell_type": "markdown",
   "metadata": {
    "cell_id": "bf397be83f29425e8b6418bd6de7234e",
    "deepnote_cell_type": "text-cell-p",
    "formattedRanges": []
   },
   "source": [
    "Table 2: Pills offered on Venus Marketplace"
   ]
  },
  {
   "cell_type": "markdown",
   "metadata": {
    "cell_id": "a9bf4188cff647638ac9e6a40923053f",
    "deepnote_cell_type": "text-cell-p",
    "formattedRanges": [
     {
      "fromCodePoint": 0,
      "marks": {
       "bold": true
      },
      "toCodePoint": 10,
      "type": "marks"
     }
    ]
   },
   "source": [
    "**Stimulants**"
   ]
  },
  {
   "cell_type": "code",
   "execution_count": 6,
   "metadata": {
    "cell_id": "6ca95f623485452b9337e1c8f9178e14",
    "deepnote_cell_type": "code",
    "deepnote_to_be_reexecuted": false,
    "execution_millis": 368,
    "execution_start": 1697050871005,
    "source_hash": "fdc71eb0"
   },
   "outputs": [],
   "source": [
    "stim={\n",
    "    'Product Name':['GHB 180mL','Cocaine Powder 3g','Cocaine Powder 10g','Cocaine Powder 20g','Crystal Meth 5g','Ketamine Crystal 5g','MDMA (Crystal) 5g','Dutch MDMA 5g','Cola Dutch MDMA 3g','MDMA Molly (High Quality) 10g','Black Molly MDMA 5g','Dutch MDMA %87 10g','Ecstasy/XTC 50 pills 220mg','Special Esctasy-XTC-MDMA 30 Pills','Dolphins Ecstasy-XTC-MDMA-High Quality 100 Pills','Potassium Cyanide Technical 500g','Fentanyl Powder 10g','Columbian Cocaine 20g','Fish Scale Cocaine 3g','Fishscale Cocaine 5g','Ultraclean 100% Pure Cocaine 3g','Colombian Cocaine High Quality 3g','Fishscale Cocaine AAA Quality 3g','Crack Cocaine Pure Uncut 5g','Bolivian Brick Cocaine Pure (High Qual) 5g','Peruvian Cocaine 92% Pure (High Quality) 5g','Cheap Cocaine Clearance 3.5g'],\n",
    "    'Legal?':['illegal','illegal','illegal','illegal','illegal','illegal','illegal','illegal','illegal','illegal','illegal','illegal','illegal','illegal','illegal','depends','illegal','illegal','illegal','illegal','illegal','illegal','illegal','illegal','illegal','illegal','illegal'],\n",
    "    'Price(USD)':[110,120,320,560,110,90,130,150,85,160,120,190,75,70,220,250,160,370,65,150,100,130,80,160,170,145,95],\n",
    "    'Seller':['CapitalPharmacy','FlexxCocaine','FlexxCocaine','FlexxCocaine','kite','FactChill','trailblazer','trailblazer','trailblazer','trailblazer','trailblazer','MASTOK','Adis1990','T4ZZ','T4ZZ','CapitalPharmacy','CapitalPharmacy','ColumbianCokeCO','Plamorica','hardcoke','DAGO37','Bulls','for4dream','SpliceCoke','SpliceCoke','SpliceCoke','SpliceCoke']\n",
    "}\n",
    "\n",
    "cat='Stimulants'\n",
    "\n",
    "dfStim = pd.DataFrame(stim)\n",
    "dfStim.insert(1,'Category',cat)\n",
    "dfStim.index = range(1, len(dfStim)+1)"
   ]
  },
  {
   "cell_type": "code",
   "execution_count": 7,
   "metadata": {
    "cell_id": "4ef5ee87b7804607b30edd108895bc81",
    "deepnote_cell_type": "code",
    "deepnote_table_loading": false,
    "deepnote_table_state": {
     "filters": [],
     "pageIndex": 0,
     "pageSize": 50,
     "sortBy": []
    },
    "deepnote_to_be_reexecuted": false,
    "execution_millis": 503,
    "execution_start": 1697050871008,
    "source_hash": "38f5e10b"
   },
   "outputs": [
    {
     "data": {
      "application/vnd.deepnote.dataframe.v3+json": {
       "column_count": 5,
       "columns": [
        {
         "dtype": "object",
         "name": "Product Name",
         "stats": {
          "categories": [
           {
            "count": 1,
            "name": "GHB 180mL"
           },
           {
            "count": 1,
            "name": "Cocaine Powder 3g"
           },
           {
            "count": 25,
            "name": "25 others"
           }
          ],
          "nan_count": 0,
          "unique_count": 27
         }
        },
        {
         "dtype": "object",
         "name": "Category",
         "stats": {
          "categories": [
           {
            "count": 27,
            "name": "Stimulants"
           }
          ],
          "nan_count": 0,
          "unique_count": 1
         }
        },
        {
         "dtype": "object",
         "name": "Legal?",
         "stats": {
          "categories": [
           {
            "count": 26,
            "name": "illegal"
           },
           {
            "count": 1,
            "name": "depends"
           }
          ],
          "nan_count": 0,
          "unique_count": 2
         }
        },
        {
         "dtype": "int64",
         "name": "Price(USD)",
         "stats": {
          "histogram": [
           {
            "bin_end": 114.5,
            "bin_start": 65,
            "count": 10
           },
           {
            "bin_end": 164,
            "bin_start": 114.5,
            "count": 10
           },
           {
            "bin_end": 213.5,
            "bin_start": 164,
            "count": 2
           },
           {
            "bin_end": 263,
            "bin_start": 213.5,
            "count": 2
           },
           {
            "bin_end": 312.5,
            "bin_start": 263,
            "count": 0
           },
           {
            "bin_end": 362,
            "bin_start": 312.5,
            "count": 1
           },
           {
            "bin_end": 411.5,
            "bin_start": 362,
            "count": 1
           },
           {
            "bin_end": 461,
            "bin_start": 411.5,
            "count": 0
           },
           {
            "bin_end": 510.5,
            "bin_start": 461,
            "count": 0
           },
           {
            "bin_end": 560,
            "bin_start": 510.5,
            "count": 1
           }
          ],
          "max": "560",
          "min": "65",
          "nan_count": 0,
          "unique_count": 21
         }
        },
        {
         "dtype": "object",
         "name": "Seller",
         "stats": {
          "categories": [
           {
            "count": 5,
            "name": "trailblazer"
           },
           {
            "count": 4,
            "name": "SpliceCoke"
           },
           {
            "count": 18,
            "name": "13 others"
           }
          ],
          "nan_count": 0,
          "unique_count": 15
         }
        },
        {
         "dtype": "int64",
         "name": "_deepnote_index_column"
        }
       ],
       "row_count": 27,
       "rows": [
        {
         "Category": "Stimulants",
         "Legal?": "illegal",
         "Price(USD)": 110,
         "Product Name": "GHB 180mL",
         "Seller": "CapitalPharmacy",
         "_deepnote_index_column": 1
        },
        {
         "Category": "Stimulants",
         "Legal?": "illegal",
         "Price(USD)": 120,
         "Product Name": "Cocaine Powder 3g",
         "Seller": "FlexxCocaine",
         "_deepnote_index_column": 2
        },
        {
         "Category": "Stimulants",
         "Legal?": "illegal",
         "Price(USD)": 320,
         "Product Name": "Cocaine Powder 10g",
         "Seller": "FlexxCocaine",
         "_deepnote_index_column": 3
        },
        {
         "Category": "Stimulants",
         "Legal?": "illegal",
         "Price(USD)": 560,
         "Product Name": "Cocaine Powder 20g",
         "Seller": "FlexxCocaine",
         "_deepnote_index_column": 4
        },
        {
         "Category": "Stimulants",
         "Legal?": "illegal",
         "Price(USD)": 110,
         "Product Name": "Crystal Meth 5g",
         "Seller": "kite",
         "_deepnote_index_column": 5
        },
        {
         "Category": "Stimulants",
         "Legal?": "illegal",
         "Price(USD)": 90,
         "Product Name": "Ketamine Crystal 5g",
         "Seller": "FactChill",
         "_deepnote_index_column": 6
        },
        {
         "Category": "Stimulants",
         "Legal?": "illegal",
         "Price(USD)": 130,
         "Product Name": "MDMA (Crystal) 5g",
         "Seller": "trailblazer",
         "_deepnote_index_column": 7
        },
        {
         "Category": "Stimulants",
         "Legal?": "illegal",
         "Price(USD)": 150,
         "Product Name": "Dutch MDMA 5g",
         "Seller": "trailblazer",
         "_deepnote_index_column": 8
        },
        {
         "Category": "Stimulants",
         "Legal?": "illegal",
         "Price(USD)": 85,
         "Product Name": "Cola Dutch MDMA 3g",
         "Seller": "trailblazer",
         "_deepnote_index_column": 9
        },
        {
         "Category": "Stimulants",
         "Legal?": "illegal",
         "Price(USD)": 160,
         "Product Name": "MDMA Molly (High Quality) 10g",
         "Seller": "trailblazer",
         "_deepnote_index_column": 10
        },
        {
         "Category": "Stimulants",
         "Legal?": "illegal",
         "Price(USD)": 120,
         "Product Name": "Black Molly MDMA 5g",
         "Seller": "trailblazer",
         "_deepnote_index_column": 11
        },
        {
         "Category": "Stimulants",
         "Legal?": "illegal",
         "Price(USD)": 190,
         "Product Name": "Dutch MDMA %87 10g",
         "Seller": "MASTOK",
         "_deepnote_index_column": 12
        },
        {
         "Category": "Stimulants",
         "Legal?": "illegal",
         "Price(USD)": 75,
         "Product Name": "Ecstasy/XTC 50 pills 220mg",
         "Seller": "Adis1990",
         "_deepnote_index_column": 13
        },
        {
         "Category": "Stimulants",
         "Legal?": "illegal",
         "Price(USD)": 70,
         "Product Name": "Special Esctasy-XTC-MDMA 30 Pills",
         "Seller": "T4ZZ",
         "_deepnote_index_column": 14
        },
        {
         "Category": "Stimulants",
         "Legal?": "illegal",
         "Price(USD)": 220,
         "Product Name": "Dolphins Ecstasy-XTC-MDMA-High Quality 100 Pills",
         "Seller": "T4ZZ",
         "_deepnote_index_column": 15
        },
        {
         "Category": "Stimulants",
         "Legal?": "depends",
         "Price(USD)": 250,
         "Product Name": "Potassium Cyanide Technical 500g",
         "Seller": "CapitalPharmacy",
         "_deepnote_index_column": 16
        },
        {
         "Category": "Stimulants",
         "Legal?": "illegal",
         "Price(USD)": 160,
         "Product Name": "Fentanyl Powder 10g",
         "Seller": "CapitalPharmacy",
         "_deepnote_index_column": 17
        },
        {
         "Category": "Stimulants",
         "Legal?": "illegal",
         "Price(USD)": 370,
         "Product Name": "Columbian Cocaine 20g",
         "Seller": "ColumbianCokeCO",
         "_deepnote_index_column": 18
        },
        {
         "Category": "Stimulants",
         "Legal?": "illegal",
         "Price(USD)": 65,
         "Product Name": "Fish Scale Cocaine 3g",
         "Seller": "Plamorica",
         "_deepnote_index_column": 19
        },
        {
         "Category": "Stimulants",
         "Legal?": "illegal",
         "Price(USD)": 150,
         "Product Name": "Fishscale Cocaine 5g",
         "Seller": "hardcoke",
         "_deepnote_index_column": 20
        },
        {
         "Category": "Stimulants",
         "Legal?": "illegal",
         "Price(USD)": 100,
         "Product Name": "Ultraclean 100% Pure Cocaine 3g",
         "Seller": "DAGO37",
         "_deepnote_index_column": 21
        },
        {
         "Category": "Stimulants",
         "Legal?": "illegal",
         "Price(USD)": 130,
         "Product Name": "Colombian Cocaine High Quality 3g",
         "Seller": "Bulls",
         "_deepnote_index_column": 22
        },
        {
         "Category": "Stimulants",
         "Legal?": "illegal",
         "Price(USD)": 80,
         "Product Name": "Fishscale Cocaine AAA Quality 3g",
         "Seller": "for4dream",
         "_deepnote_index_column": 23
        },
        {
         "Category": "Stimulants",
         "Legal?": "illegal",
         "Price(USD)": 160,
         "Product Name": "Crack Cocaine Pure Uncut 5g",
         "Seller": "SpliceCoke",
         "_deepnote_index_column": 24
        },
        {
         "Category": "Stimulants",
         "Legal?": "illegal",
         "Price(USD)": 170,
         "Product Name": "Bolivian Brick Cocaine Pure (High Qual) 5g",
         "Seller": "SpliceCoke",
         "_deepnote_index_column": 25
        },
        {
         "Category": "Stimulants",
         "Legal?": "illegal",
         "Price(USD)": 145,
         "Product Name": "Peruvian Cocaine 92% Pure (High Quality) 5g",
         "Seller": "SpliceCoke",
         "_deepnote_index_column": 26
        },
        {
         "Category": "Stimulants",
         "Legal?": "illegal",
         "Price(USD)": 95,
         "Product Name": "Cheap Cocaine Clearance 3.5g",
         "Seller": "SpliceCoke",
         "_deepnote_index_column": 27
        }
       ]
      },
      "text/html": [
       "<div>\n",
       "<style scoped>\n",
       "    .dataframe tbody tr th:only-of-type {\n",
       "        vertical-align: middle;\n",
       "    }\n",
       "\n",
       "    .dataframe tbody tr th {\n",
       "        vertical-align: top;\n",
       "    }\n",
       "\n",
       "    .dataframe thead th {\n",
       "        text-align: right;\n",
       "    }\n",
       "</style>\n",
       "<table border=\"1\" class=\"dataframe\">\n",
       "  <thead>\n",
       "    <tr style=\"text-align: right;\">\n",
       "      <th></th>\n",
       "      <th>Product Name</th>\n",
       "      <th>Category</th>\n",
       "      <th>Legal?</th>\n",
       "      <th>Price(USD)</th>\n",
       "      <th>Seller</th>\n",
       "    </tr>\n",
       "  </thead>\n",
       "  <tbody>\n",
       "    <tr>\n",
       "      <th>1</th>\n",
       "      <td>GHB 180mL</td>\n",
       "      <td>Stimulants</td>\n",
       "      <td>illegal</td>\n",
       "      <td>110</td>\n",
       "      <td>CapitalPharmacy</td>\n",
       "    </tr>\n",
       "    <tr>\n",
       "      <th>2</th>\n",
       "      <td>Cocaine Powder 3g</td>\n",
       "      <td>Stimulants</td>\n",
       "      <td>illegal</td>\n",
       "      <td>120</td>\n",
       "      <td>FlexxCocaine</td>\n",
       "    </tr>\n",
       "    <tr>\n",
       "      <th>3</th>\n",
       "      <td>Cocaine Powder 10g</td>\n",
       "      <td>Stimulants</td>\n",
       "      <td>illegal</td>\n",
       "      <td>320</td>\n",
       "      <td>FlexxCocaine</td>\n",
       "    </tr>\n",
       "    <tr>\n",
       "      <th>4</th>\n",
       "      <td>Cocaine Powder 20g</td>\n",
       "      <td>Stimulants</td>\n",
       "      <td>illegal</td>\n",
       "      <td>560</td>\n",
       "      <td>FlexxCocaine</td>\n",
       "    </tr>\n",
       "    <tr>\n",
       "      <th>5</th>\n",
       "      <td>Crystal Meth 5g</td>\n",
       "      <td>Stimulants</td>\n",
       "      <td>illegal</td>\n",
       "      <td>110</td>\n",
       "      <td>kite</td>\n",
       "    </tr>\n",
       "    <tr>\n",
       "      <th>6</th>\n",
       "      <td>Ketamine Crystal 5g</td>\n",
       "      <td>Stimulants</td>\n",
       "      <td>illegal</td>\n",
       "      <td>90</td>\n",
       "      <td>FactChill</td>\n",
       "    </tr>\n",
       "    <tr>\n",
       "      <th>7</th>\n",
       "      <td>MDMA (Crystal) 5g</td>\n",
       "      <td>Stimulants</td>\n",
       "      <td>illegal</td>\n",
       "      <td>130</td>\n",
       "      <td>trailblazer</td>\n",
       "    </tr>\n",
       "    <tr>\n",
       "      <th>8</th>\n",
       "      <td>Dutch MDMA 5g</td>\n",
       "      <td>Stimulants</td>\n",
       "      <td>illegal</td>\n",
       "      <td>150</td>\n",
       "      <td>trailblazer</td>\n",
       "    </tr>\n",
       "    <tr>\n",
       "      <th>9</th>\n",
       "      <td>Cola Dutch MDMA 3g</td>\n",
       "      <td>Stimulants</td>\n",
       "      <td>illegal</td>\n",
       "      <td>85</td>\n",
       "      <td>trailblazer</td>\n",
       "    </tr>\n",
       "    <tr>\n",
       "      <th>10</th>\n",
       "      <td>MDMA Molly (High Quality) 10g</td>\n",
       "      <td>Stimulants</td>\n",
       "      <td>illegal</td>\n",
       "      <td>160</td>\n",
       "      <td>trailblazer</td>\n",
       "    </tr>\n",
       "    <tr>\n",
       "      <th>11</th>\n",
       "      <td>Black Molly MDMA 5g</td>\n",
       "      <td>Stimulants</td>\n",
       "      <td>illegal</td>\n",
       "      <td>120</td>\n",
       "      <td>trailblazer</td>\n",
       "    </tr>\n",
       "    <tr>\n",
       "      <th>12</th>\n",
       "      <td>Dutch MDMA %87 10g</td>\n",
       "      <td>Stimulants</td>\n",
       "      <td>illegal</td>\n",
       "      <td>190</td>\n",
       "      <td>MASTOK</td>\n",
       "    </tr>\n",
       "    <tr>\n",
       "      <th>13</th>\n",
       "      <td>Ecstasy/XTC 50 pills 220mg</td>\n",
       "      <td>Stimulants</td>\n",
       "      <td>illegal</td>\n",
       "      <td>75</td>\n",
       "      <td>Adis1990</td>\n",
       "    </tr>\n",
       "    <tr>\n",
       "      <th>14</th>\n",
       "      <td>Special Esctasy-XTC-MDMA 30 Pills</td>\n",
       "      <td>Stimulants</td>\n",
       "      <td>illegal</td>\n",
       "      <td>70</td>\n",
       "      <td>T4ZZ</td>\n",
       "    </tr>\n",
       "    <tr>\n",
       "      <th>15</th>\n",
       "      <td>Dolphins Ecstasy-XTC-MDMA-High Quality 100 Pills</td>\n",
       "      <td>Stimulants</td>\n",
       "      <td>illegal</td>\n",
       "      <td>220</td>\n",
       "      <td>T4ZZ</td>\n",
       "    </tr>\n",
       "    <tr>\n",
       "      <th>16</th>\n",
       "      <td>Potassium Cyanide Technical 500g</td>\n",
       "      <td>Stimulants</td>\n",
       "      <td>depends</td>\n",
       "      <td>250</td>\n",
       "      <td>CapitalPharmacy</td>\n",
       "    </tr>\n",
       "    <tr>\n",
       "      <th>17</th>\n",
       "      <td>Fentanyl Powder 10g</td>\n",
       "      <td>Stimulants</td>\n",
       "      <td>illegal</td>\n",
       "      <td>160</td>\n",
       "      <td>CapitalPharmacy</td>\n",
       "    </tr>\n",
       "    <tr>\n",
       "      <th>18</th>\n",
       "      <td>Columbian Cocaine 20g</td>\n",
       "      <td>Stimulants</td>\n",
       "      <td>illegal</td>\n",
       "      <td>370</td>\n",
       "      <td>ColumbianCokeCO</td>\n",
       "    </tr>\n",
       "    <tr>\n",
       "      <th>19</th>\n",
       "      <td>Fish Scale Cocaine 3g</td>\n",
       "      <td>Stimulants</td>\n",
       "      <td>illegal</td>\n",
       "      <td>65</td>\n",
       "      <td>Plamorica</td>\n",
       "    </tr>\n",
       "    <tr>\n",
       "      <th>20</th>\n",
       "      <td>Fishscale Cocaine 5g</td>\n",
       "      <td>Stimulants</td>\n",
       "      <td>illegal</td>\n",
       "      <td>150</td>\n",
       "      <td>hardcoke</td>\n",
       "    </tr>\n",
       "    <tr>\n",
       "      <th>21</th>\n",
       "      <td>Ultraclean 100% Pure Cocaine 3g</td>\n",
       "      <td>Stimulants</td>\n",
       "      <td>illegal</td>\n",
       "      <td>100</td>\n",
       "      <td>DAGO37</td>\n",
       "    </tr>\n",
       "    <tr>\n",
       "      <th>22</th>\n",
       "      <td>Colombian Cocaine High Quality 3g</td>\n",
       "      <td>Stimulants</td>\n",
       "      <td>illegal</td>\n",
       "      <td>130</td>\n",
       "      <td>Bulls</td>\n",
       "    </tr>\n",
       "    <tr>\n",
       "      <th>23</th>\n",
       "      <td>Fishscale Cocaine AAA Quality 3g</td>\n",
       "      <td>Stimulants</td>\n",
       "      <td>illegal</td>\n",
       "      <td>80</td>\n",
       "      <td>for4dream</td>\n",
       "    </tr>\n",
       "    <tr>\n",
       "      <th>24</th>\n",
       "      <td>Crack Cocaine Pure Uncut 5g</td>\n",
       "      <td>Stimulants</td>\n",
       "      <td>illegal</td>\n",
       "      <td>160</td>\n",
       "      <td>SpliceCoke</td>\n",
       "    </tr>\n",
       "    <tr>\n",
       "      <th>25</th>\n",
       "      <td>Bolivian Brick Cocaine Pure (High Qual) 5g</td>\n",
       "      <td>Stimulants</td>\n",
       "      <td>illegal</td>\n",
       "      <td>170</td>\n",
       "      <td>SpliceCoke</td>\n",
       "    </tr>\n",
       "    <tr>\n",
       "      <th>26</th>\n",
       "      <td>Peruvian Cocaine 92% Pure (High Quality) 5g</td>\n",
       "      <td>Stimulants</td>\n",
       "      <td>illegal</td>\n",
       "      <td>145</td>\n",
       "      <td>SpliceCoke</td>\n",
       "    </tr>\n",
       "    <tr>\n",
       "      <th>27</th>\n",
       "      <td>Cheap Cocaine Clearance 3.5g</td>\n",
       "      <td>Stimulants</td>\n",
       "      <td>illegal</td>\n",
       "      <td>95</td>\n",
       "      <td>SpliceCoke</td>\n",
       "    </tr>\n",
       "  </tbody>\n",
       "</table>\n",
       "</div>"
      ],
      "text/plain": [
       "                                        Product Name    Category   Legal?  \\\n",
       "1                                          GHB 180mL  Stimulants  illegal   \n",
       "2                                  Cocaine Powder 3g  Stimulants  illegal   \n",
       "3                                 Cocaine Powder 10g  Stimulants  illegal   \n",
       "4                                 Cocaine Powder 20g  Stimulants  illegal   \n",
       "5                                    Crystal Meth 5g  Stimulants  illegal   \n",
       "6                                Ketamine Crystal 5g  Stimulants  illegal   \n",
       "7                                  MDMA (Crystal) 5g  Stimulants  illegal   \n",
       "8                                      Dutch MDMA 5g  Stimulants  illegal   \n",
       "9                                 Cola Dutch MDMA 3g  Stimulants  illegal   \n",
       "10                     MDMA Molly (High Quality) 10g  Stimulants  illegal   \n",
       "11                               Black Molly MDMA 5g  Stimulants  illegal   \n",
       "12                                Dutch MDMA %87 10g  Stimulants  illegal   \n",
       "13                        Ecstasy/XTC 50 pills 220mg  Stimulants  illegal   \n",
       "14                 Special Esctasy-XTC-MDMA 30 Pills  Stimulants  illegal   \n",
       "15  Dolphins Ecstasy-XTC-MDMA-High Quality 100 Pills  Stimulants  illegal   \n",
       "16                  Potassium Cyanide Technical 500g  Stimulants  depends   \n",
       "17                               Fentanyl Powder 10g  Stimulants  illegal   \n",
       "18                             Columbian Cocaine 20g  Stimulants  illegal   \n",
       "19                             Fish Scale Cocaine 3g  Stimulants  illegal   \n",
       "20                              Fishscale Cocaine 5g  Stimulants  illegal   \n",
       "21                   Ultraclean 100% Pure Cocaine 3g  Stimulants  illegal   \n",
       "22                 Colombian Cocaine High Quality 3g  Stimulants  illegal   \n",
       "23                  Fishscale Cocaine AAA Quality 3g  Stimulants  illegal   \n",
       "24                       Crack Cocaine Pure Uncut 5g  Stimulants  illegal   \n",
       "25        Bolivian Brick Cocaine Pure (High Qual) 5g  Stimulants  illegal   \n",
       "26       Peruvian Cocaine 92% Pure (High Quality) 5g  Stimulants  illegal   \n",
       "27                      Cheap Cocaine Clearance 3.5g  Stimulants  illegal   \n",
       "\n",
       "    Price(USD)           Seller  \n",
       "1          110  CapitalPharmacy  \n",
       "2          120     FlexxCocaine  \n",
       "3          320     FlexxCocaine  \n",
       "4          560     FlexxCocaine  \n",
       "5          110             kite  \n",
       "6           90        FactChill  \n",
       "7          130      trailblazer  \n",
       "8          150      trailblazer  \n",
       "9           85      trailblazer  \n",
       "10         160      trailblazer  \n",
       "11         120      trailblazer  \n",
       "12         190           MASTOK  \n",
       "13          75         Adis1990  \n",
       "14          70             T4ZZ  \n",
       "15         220             T4ZZ  \n",
       "16         250  CapitalPharmacy  \n",
       "17         160  CapitalPharmacy  \n",
       "18         370  ColumbianCokeCO  \n",
       "19          65        Plamorica  \n",
       "20         150         hardcoke  \n",
       "21         100           DAGO37  \n",
       "22         130            Bulls  \n",
       "23          80        for4dream  \n",
       "24         160       SpliceCoke  \n",
       "25         170       SpliceCoke  \n",
       "26         145       SpliceCoke  \n",
       "27          95       SpliceCoke  "
      ]
     },
     "execution_count": 7,
     "metadata": {},
     "output_type": "execute_result"
    }
   ],
   "source": [
    "dfStim"
   ]
  },
  {
   "cell_type": "markdown",
   "metadata": {
    "cell_id": "0dab1a3d602e47cea630279b010c2582",
    "deepnote_cell_type": "text-cell-p",
    "formattedRanges": []
   },
   "source": [
    "Table 3: Stimulants offered on Venus Marketplace"
   ]
  },
  {
   "cell_type": "markdown",
   "metadata": {
    "cell_id": "2870831becf642d79a538028c2e03402",
    "deepnote_cell_type": "text-cell-p",
    "formattedRanges": [
     {
      "fromCodePoint": 0,
      "marks": {
       "bold": true
      },
      "toCodePoint": 12,
      "type": "marks"
     }
    ]
   },
   "source": [
    "**Psychedelics**"
   ]
  },
  {
   "cell_type": "code",
   "execution_count": 8,
   "metadata": {
    "cell_id": "6f3c22118c0e4391800e8595d98b8e7b",
    "deepnote_cell_type": "code",
    "deepnote_to_be_reexecuted": false,
    "execution_millis": 74,
    "execution_start": 1697050871023,
    "source_hash": "c5ded6b5"
   },
   "outputs": [],
   "source": [
    "psy={\n",
    "    'Product Name':['DMT 1g', 'LSD High Quality 100 Tabs', 'Pure Crystalline DMT 1g', 'LSD (Acid/LSD Tabs) x50 250ug', 'LSD Tabs x30 200ug'],\n",
    "    'Legal?':['depends','illegal','depends','illegal','illegal'],\n",
    "    'Price(USD)':[80,250,50,140,90],\n",
    "    'Seller':['dmtdex', 'D1BODE', 'urieL', 'xarthe33', 'predator']\n",
    "}\n",
    "\n",
    "cat='Psychedelics'\n",
    "\n",
    "dfPsy = pd.DataFrame(psy)\n",
    "dfPsy.insert(1, 'Category', cat)\n",
    "dfPsy.index = range(1, len(dfPsy)+1)"
   ]
  },
  {
   "cell_type": "code",
   "execution_count": 9,
   "metadata": {
    "cell_id": "9041198681b6408aa3003fadd7fd5558",
    "deepnote_cell_type": "code",
    "deepnote_to_be_reexecuted": false,
    "execution_millis": 715,
    "execution_start": 1697050871024,
    "source_hash": "3eabbd24"
   },
   "outputs": [
    {
     "data": {
      "application/vnd.deepnote.dataframe.v3+json": {
       "column_count": 5,
       "columns": [
        {
         "dtype": "object",
         "name": "Product Name",
         "stats": {
          "categories": [
           {
            "count": 1,
            "name": "DMT 1g"
           },
           {
            "count": 1,
            "name": "LSD High Quality 100 Tabs"
           },
           {
            "count": 3,
            "name": "3 others"
           }
          ],
          "nan_count": 0,
          "unique_count": 5
         }
        },
        {
         "dtype": "object",
         "name": "Category",
         "stats": {
          "categories": [
           {
            "count": 5,
            "name": "Psychedelics"
           }
          ],
          "nan_count": 0,
          "unique_count": 1
         }
        },
        {
         "dtype": "object",
         "name": "Legal?",
         "stats": {
          "categories": [
           {
            "count": 3,
            "name": "illegal"
           },
           {
            "count": 2,
            "name": "depends"
           }
          ],
          "nan_count": 0,
          "unique_count": 2
         }
        },
        {
         "dtype": "int64",
         "name": "Price(USD)",
         "stats": {
          "histogram": [
           {
            "bin_end": 70,
            "bin_start": 50,
            "count": 1
           },
           {
            "bin_end": 90,
            "bin_start": 70,
            "count": 1
           },
           {
            "bin_end": 110,
            "bin_start": 90,
            "count": 1
           },
           {
            "bin_end": 130,
            "bin_start": 110,
            "count": 0
           },
           {
            "bin_end": 150,
            "bin_start": 130,
            "count": 1
           },
           {
            "bin_end": 170,
            "bin_start": 150,
            "count": 0
           },
           {
            "bin_end": 190,
            "bin_start": 170,
            "count": 0
           },
           {
            "bin_end": 210,
            "bin_start": 190,
            "count": 0
           },
           {
            "bin_end": 230,
            "bin_start": 210,
            "count": 0
           },
           {
            "bin_end": 250,
            "bin_start": 230,
            "count": 1
           }
          ],
          "max": "250",
          "min": "50",
          "nan_count": 0,
          "unique_count": 5
         }
        },
        {
         "dtype": "object",
         "name": "Seller",
         "stats": {
          "categories": [
           {
            "count": 1,
            "name": "dmtdex"
           },
           {
            "count": 1,
            "name": "D1BODE"
           },
           {
            "count": 3,
            "name": "3 others"
           }
          ],
          "nan_count": 0,
          "unique_count": 5
         }
        },
        {
         "dtype": "int64",
         "name": "_deepnote_index_column"
        }
       ],
       "row_count": 5,
       "rows": [
        {
         "Category": "Psychedelics",
         "Legal?": "depends",
         "Price(USD)": 80,
         "Product Name": "DMT 1g",
         "Seller": "dmtdex",
         "_deepnote_index_column": 1
        },
        {
         "Category": "Psychedelics",
         "Legal?": "illegal",
         "Price(USD)": 250,
         "Product Name": "LSD High Quality 100 Tabs",
         "Seller": "D1BODE",
         "_deepnote_index_column": 2
        },
        {
         "Category": "Psychedelics",
         "Legal?": "depends",
         "Price(USD)": 50,
         "Product Name": "Pure Crystalline DMT 1g",
         "Seller": "urieL",
         "_deepnote_index_column": 3
        },
        {
         "Category": "Psychedelics",
         "Legal?": "illegal",
         "Price(USD)": 140,
         "Product Name": "LSD (Acid/LSD Tabs) x50 250ug",
         "Seller": "xarthe33",
         "_deepnote_index_column": 4
        },
        {
         "Category": "Psychedelics",
         "Legal?": "illegal",
         "Price(USD)": 90,
         "Product Name": "LSD Tabs x30 200ug",
         "Seller": "predator",
         "_deepnote_index_column": 5
        }
       ]
      },
      "text/html": [
       "<div>\n",
       "<style scoped>\n",
       "    .dataframe tbody tr th:only-of-type {\n",
       "        vertical-align: middle;\n",
       "    }\n",
       "\n",
       "    .dataframe tbody tr th {\n",
       "        vertical-align: top;\n",
       "    }\n",
       "\n",
       "    .dataframe thead th {\n",
       "        text-align: right;\n",
       "    }\n",
       "</style>\n",
       "<table border=\"1\" class=\"dataframe\">\n",
       "  <thead>\n",
       "    <tr style=\"text-align: right;\">\n",
       "      <th></th>\n",
       "      <th>Product Name</th>\n",
       "      <th>Category</th>\n",
       "      <th>Legal?</th>\n",
       "      <th>Price(USD)</th>\n",
       "      <th>Seller</th>\n",
       "    </tr>\n",
       "  </thead>\n",
       "  <tbody>\n",
       "    <tr>\n",
       "      <th>1</th>\n",
       "      <td>DMT 1g</td>\n",
       "      <td>Psychedelics</td>\n",
       "      <td>depends</td>\n",
       "      <td>80</td>\n",
       "      <td>dmtdex</td>\n",
       "    </tr>\n",
       "    <tr>\n",
       "      <th>2</th>\n",
       "      <td>LSD High Quality 100 Tabs</td>\n",
       "      <td>Psychedelics</td>\n",
       "      <td>illegal</td>\n",
       "      <td>250</td>\n",
       "      <td>D1BODE</td>\n",
       "    </tr>\n",
       "    <tr>\n",
       "      <th>3</th>\n",
       "      <td>Pure Crystalline DMT 1g</td>\n",
       "      <td>Psychedelics</td>\n",
       "      <td>depends</td>\n",
       "      <td>50</td>\n",
       "      <td>urieL</td>\n",
       "    </tr>\n",
       "    <tr>\n",
       "      <th>4</th>\n",
       "      <td>LSD (Acid/LSD Tabs) x50 250ug</td>\n",
       "      <td>Psychedelics</td>\n",
       "      <td>illegal</td>\n",
       "      <td>140</td>\n",
       "      <td>xarthe33</td>\n",
       "    </tr>\n",
       "    <tr>\n",
       "      <th>5</th>\n",
       "      <td>LSD Tabs x30 200ug</td>\n",
       "      <td>Psychedelics</td>\n",
       "      <td>illegal</td>\n",
       "      <td>90</td>\n",
       "      <td>predator</td>\n",
       "    </tr>\n",
       "  </tbody>\n",
       "</table>\n",
       "</div>"
      ],
      "text/plain": [
       "                    Product Name      Category   Legal?  Price(USD)    Seller\n",
       "1                         DMT 1g  Psychedelics  depends          80    dmtdex\n",
       "2      LSD High Quality 100 Tabs  Psychedelics  illegal         250    D1BODE\n",
       "3        Pure Crystalline DMT 1g  Psychedelics  depends          50     urieL\n",
       "4  LSD (Acid/LSD Tabs) x50 250ug  Psychedelics  illegal         140  xarthe33\n",
       "5             LSD Tabs x30 200ug  Psychedelics  illegal          90  predator"
      ]
     },
     "execution_count": 9,
     "metadata": {},
     "output_type": "execute_result"
    }
   ],
   "source": [
    "dfPsy"
   ]
  },
  {
   "cell_type": "markdown",
   "metadata": {
    "cell_id": "e14db97b3aae485e9c66a386112f237e",
    "deepnote_cell_type": "text-cell-p",
    "formattedRanges": []
   },
   "source": [
    "Table 4: Psychedelics offered on Venus Marketplace"
   ]
  },
  {
   "cell_type": "markdown",
   "metadata": {
    "cell_id": "0b4f5b5936b741b4a9deb436f49b088e",
    "deepnote_cell_type": "text-cell-p",
    "formattedRanges": [
     {
      "fromCodePoint": 0,
      "marks": {
       "bold": true
      },
      "toCodePoint": 15,
      "type": "marks"
     }
    ]
   },
   "source": [
    "**Money Transfers**"
   ]
  },
  {
   "cell_type": "code",
   "execution_count": 10,
   "metadata": {
    "cell_id": "aba6181cb22340628efda323bd80ebd7",
    "deepnote_cell_type": "code",
    "deepnote_to_be_reexecuted": false,
    "execution_millis": 392,
    "execution_start": 1697050871064,
    "source_hash": "c237f871"
   },
   "outputs": [],
   "source": [
    "money={\n",
    "    'Product Name':['Moneygram Transfer $500','PayPal Transfer $500','Western Union Transfer $500','Moneygram Transfer $1000','PayPal Transfer $1000','Western Union Transfer $1000', 'Moneygram Transfer $3000', 'PayPal Transfer $3000', 'Western Union Transfer $3000','Moneygram Transfer $5000','PayPal Transfer $5000','Western Union Transfer $5000','Moneygram Transfer $10000', 'PayPal Transfer $10000','Western Union Transfer $10000'],\n",
    "    'Legal?':['illegal','illegal','illegal','illegal','illegal','illegal','illegal','illegal','illegal','illegal','illegal','illegal','illegal','illegal','illegal'],\n",
    "    'Price(USD)':[60,60,60,100,100,100,200,200,200,300,300,300,500,500,500],\n",
    "    'Seller':['CaptainTransfers','CaptainTransfers','CaptainTransfers','CaptainTransfers','CaptainTransfers','CaptainTransfers','CaptainTransfers','CaptainTransfers','CaptainTransfers','CaptainTransfers','CaptainTransfers','CaptainTransfers','CaptainTransfers','CaptainTransfers','CaptainTransfers']\n",
    "}\n",
    "\n",
    "cat='Money Transfers'\n",
    "\n",
    "dfMoney = pd.DataFrame(money)\n",
    "dfMoney.insert(1, 'Category', cat)\n",
    "dfMoney.index = range(1, len(dfMoney)+1)"
   ]
  },
  {
   "cell_type": "code",
   "execution_count": 11,
   "metadata": {
    "cell_id": "52e8f83acaeb4d6e9445e2e99b785701",
    "deepnote_cell_type": "code",
    "deepnote_table_loading": false,
    "deepnote_table_state": {
     "filters": [],
     "pageIndex": 0,
     "pageSize": 25,
     "sortBy": []
    },
    "deepnote_to_be_reexecuted": false,
    "execution_millis": 193,
    "execution_start": 1697050871091,
    "source_hash": "8baad913"
   },
   "outputs": [
    {
     "data": {
      "application/vnd.deepnote.dataframe.v3+json": {
       "column_count": 5,
       "columns": [
        {
         "dtype": "object",
         "name": "Product Name",
         "stats": {
          "categories": [
           {
            "count": 1,
            "name": "Moneygram Transfer $500"
           },
           {
            "count": 1,
            "name": "PayPal Transfer $500"
           },
           {
            "count": 13,
            "name": "13 others"
           }
          ],
          "nan_count": 0,
          "unique_count": 15
         }
        },
        {
         "dtype": "object",
         "name": "Category",
         "stats": {
          "categories": [
           {
            "count": 15,
            "name": "Money Transfers"
           }
          ],
          "nan_count": 0,
          "unique_count": 1
         }
        },
        {
         "dtype": "object",
         "name": "Legal?",
         "stats": {
          "categories": [
           {
            "count": 15,
            "name": "illegal"
           }
          ],
          "nan_count": 0,
          "unique_count": 1
         }
        },
        {
         "dtype": "int64",
         "name": "Price(USD)",
         "stats": {
          "histogram": [
           {
            "bin_end": 104,
            "bin_start": 60,
            "count": 6
           },
           {
            "bin_end": 148,
            "bin_start": 104,
            "count": 0
           },
           {
            "bin_end": 192,
            "bin_start": 148,
            "count": 0
           },
           {
            "bin_end": 236,
            "bin_start": 192,
            "count": 3
           },
           {
            "bin_end": 280,
            "bin_start": 236,
            "count": 0
           },
           {
            "bin_end": 324,
            "bin_start": 280,
            "count": 3
           },
           {
            "bin_end": 368,
            "bin_start": 324,
            "count": 0
           },
           {
            "bin_end": 412,
            "bin_start": 368,
            "count": 0
           },
           {
            "bin_end": 456,
            "bin_start": 412,
            "count": 0
           },
           {
            "bin_end": 500,
            "bin_start": 456,
            "count": 3
           }
          ],
          "max": "500",
          "min": "60",
          "nan_count": 0,
          "unique_count": 5
         }
        },
        {
         "dtype": "object",
         "name": "Seller",
         "stats": {
          "categories": [
           {
            "count": 15,
            "name": "CaptainTransfers"
           }
          ],
          "nan_count": 0,
          "unique_count": 1
         }
        },
        {
         "dtype": "int64",
         "name": "_deepnote_index_column"
        }
       ],
       "row_count": 15,
       "rows": [
        {
         "Category": "Money Transfers",
         "Legal?": "illegal",
         "Price(USD)": 60,
         "Product Name": "Moneygram Transfer $500",
         "Seller": "CaptainTransfers",
         "_deepnote_index_column": 1
        },
        {
         "Category": "Money Transfers",
         "Legal?": "illegal",
         "Price(USD)": 60,
         "Product Name": "PayPal Transfer $500",
         "Seller": "CaptainTransfers",
         "_deepnote_index_column": 2
        },
        {
         "Category": "Money Transfers",
         "Legal?": "illegal",
         "Price(USD)": 60,
         "Product Name": "Western Union Transfer $500",
         "Seller": "CaptainTransfers",
         "_deepnote_index_column": 3
        },
        {
         "Category": "Money Transfers",
         "Legal?": "illegal",
         "Price(USD)": 100,
         "Product Name": "Moneygram Transfer $1000",
         "Seller": "CaptainTransfers",
         "_deepnote_index_column": 4
        },
        {
         "Category": "Money Transfers",
         "Legal?": "illegal",
         "Price(USD)": 100,
         "Product Name": "PayPal Transfer $1000",
         "Seller": "CaptainTransfers",
         "_deepnote_index_column": 5
        },
        {
         "Category": "Money Transfers",
         "Legal?": "illegal",
         "Price(USD)": 100,
         "Product Name": "Western Union Transfer $1000",
         "Seller": "CaptainTransfers",
         "_deepnote_index_column": 6
        },
        {
         "Category": "Money Transfers",
         "Legal?": "illegal",
         "Price(USD)": 200,
         "Product Name": "Moneygram Transfer $3000",
         "Seller": "CaptainTransfers",
         "_deepnote_index_column": 7
        },
        {
         "Category": "Money Transfers",
         "Legal?": "illegal",
         "Price(USD)": 200,
         "Product Name": "PayPal Transfer $3000",
         "Seller": "CaptainTransfers",
         "_deepnote_index_column": 8
        },
        {
         "Category": "Money Transfers",
         "Legal?": "illegal",
         "Price(USD)": 200,
         "Product Name": "Western Union Transfer $3000",
         "Seller": "CaptainTransfers",
         "_deepnote_index_column": 9
        },
        {
         "Category": "Money Transfers",
         "Legal?": "illegal",
         "Price(USD)": 300,
         "Product Name": "Moneygram Transfer $5000",
         "Seller": "CaptainTransfers",
         "_deepnote_index_column": 10
        },
        {
         "Category": "Money Transfers",
         "Legal?": "illegal",
         "Price(USD)": 300,
         "Product Name": "PayPal Transfer $5000",
         "Seller": "CaptainTransfers",
         "_deepnote_index_column": 11
        },
        {
         "Category": "Money Transfers",
         "Legal?": "illegal",
         "Price(USD)": 300,
         "Product Name": "Western Union Transfer $5000",
         "Seller": "CaptainTransfers",
         "_deepnote_index_column": 12
        },
        {
         "Category": "Money Transfers",
         "Legal?": "illegal",
         "Price(USD)": 500,
         "Product Name": "Moneygram Transfer $10000",
         "Seller": "CaptainTransfers",
         "_deepnote_index_column": 13
        },
        {
         "Category": "Money Transfers",
         "Legal?": "illegal",
         "Price(USD)": 500,
         "Product Name": "PayPal Transfer $10000",
         "Seller": "CaptainTransfers",
         "_deepnote_index_column": 14
        },
        {
         "Category": "Money Transfers",
         "Legal?": "illegal",
         "Price(USD)": 500,
         "Product Name": "Western Union Transfer $10000",
         "Seller": "CaptainTransfers",
         "_deepnote_index_column": 15
        }
       ]
      },
      "text/html": [
       "<div>\n",
       "<style scoped>\n",
       "    .dataframe tbody tr th:only-of-type {\n",
       "        vertical-align: middle;\n",
       "    }\n",
       "\n",
       "    .dataframe tbody tr th {\n",
       "        vertical-align: top;\n",
       "    }\n",
       "\n",
       "    .dataframe thead th {\n",
       "        text-align: right;\n",
       "    }\n",
       "</style>\n",
       "<table border=\"1\" class=\"dataframe\">\n",
       "  <thead>\n",
       "    <tr style=\"text-align: right;\">\n",
       "      <th></th>\n",
       "      <th>Product Name</th>\n",
       "      <th>Category</th>\n",
       "      <th>Legal?</th>\n",
       "      <th>Price(USD)</th>\n",
       "      <th>Seller</th>\n",
       "    </tr>\n",
       "  </thead>\n",
       "  <tbody>\n",
       "    <tr>\n",
       "      <th>1</th>\n",
       "      <td>Moneygram Transfer $500</td>\n",
       "      <td>Money Transfers</td>\n",
       "      <td>illegal</td>\n",
       "      <td>60</td>\n",
       "      <td>CaptainTransfers</td>\n",
       "    </tr>\n",
       "    <tr>\n",
       "      <th>2</th>\n",
       "      <td>PayPal Transfer $500</td>\n",
       "      <td>Money Transfers</td>\n",
       "      <td>illegal</td>\n",
       "      <td>60</td>\n",
       "      <td>CaptainTransfers</td>\n",
       "    </tr>\n",
       "    <tr>\n",
       "      <th>3</th>\n",
       "      <td>Western Union Transfer $500</td>\n",
       "      <td>Money Transfers</td>\n",
       "      <td>illegal</td>\n",
       "      <td>60</td>\n",
       "      <td>CaptainTransfers</td>\n",
       "    </tr>\n",
       "    <tr>\n",
       "      <th>4</th>\n",
       "      <td>Moneygram Transfer $1000</td>\n",
       "      <td>Money Transfers</td>\n",
       "      <td>illegal</td>\n",
       "      <td>100</td>\n",
       "      <td>CaptainTransfers</td>\n",
       "    </tr>\n",
       "    <tr>\n",
       "      <th>5</th>\n",
       "      <td>PayPal Transfer $1000</td>\n",
       "      <td>Money Transfers</td>\n",
       "      <td>illegal</td>\n",
       "      <td>100</td>\n",
       "      <td>CaptainTransfers</td>\n",
       "    </tr>\n",
       "    <tr>\n",
       "      <th>6</th>\n",
       "      <td>Western Union Transfer $1000</td>\n",
       "      <td>Money Transfers</td>\n",
       "      <td>illegal</td>\n",
       "      <td>100</td>\n",
       "      <td>CaptainTransfers</td>\n",
       "    </tr>\n",
       "    <tr>\n",
       "      <th>7</th>\n",
       "      <td>Moneygram Transfer $3000</td>\n",
       "      <td>Money Transfers</td>\n",
       "      <td>illegal</td>\n",
       "      <td>200</td>\n",
       "      <td>CaptainTransfers</td>\n",
       "    </tr>\n",
       "    <tr>\n",
       "      <th>8</th>\n",
       "      <td>PayPal Transfer $3000</td>\n",
       "      <td>Money Transfers</td>\n",
       "      <td>illegal</td>\n",
       "      <td>200</td>\n",
       "      <td>CaptainTransfers</td>\n",
       "    </tr>\n",
       "    <tr>\n",
       "      <th>9</th>\n",
       "      <td>Western Union Transfer $3000</td>\n",
       "      <td>Money Transfers</td>\n",
       "      <td>illegal</td>\n",
       "      <td>200</td>\n",
       "      <td>CaptainTransfers</td>\n",
       "    </tr>\n",
       "    <tr>\n",
       "      <th>10</th>\n",
       "      <td>Moneygram Transfer $5000</td>\n",
       "      <td>Money Transfers</td>\n",
       "      <td>illegal</td>\n",
       "      <td>300</td>\n",
       "      <td>CaptainTransfers</td>\n",
       "    </tr>\n",
       "    <tr>\n",
       "      <th>11</th>\n",
       "      <td>PayPal Transfer $5000</td>\n",
       "      <td>Money Transfers</td>\n",
       "      <td>illegal</td>\n",
       "      <td>300</td>\n",
       "      <td>CaptainTransfers</td>\n",
       "    </tr>\n",
       "    <tr>\n",
       "      <th>12</th>\n",
       "      <td>Western Union Transfer $5000</td>\n",
       "      <td>Money Transfers</td>\n",
       "      <td>illegal</td>\n",
       "      <td>300</td>\n",
       "      <td>CaptainTransfers</td>\n",
       "    </tr>\n",
       "    <tr>\n",
       "      <th>13</th>\n",
       "      <td>Moneygram Transfer $10000</td>\n",
       "      <td>Money Transfers</td>\n",
       "      <td>illegal</td>\n",
       "      <td>500</td>\n",
       "      <td>CaptainTransfers</td>\n",
       "    </tr>\n",
       "    <tr>\n",
       "      <th>14</th>\n",
       "      <td>PayPal Transfer $10000</td>\n",
       "      <td>Money Transfers</td>\n",
       "      <td>illegal</td>\n",
       "      <td>500</td>\n",
       "      <td>CaptainTransfers</td>\n",
       "    </tr>\n",
       "    <tr>\n",
       "      <th>15</th>\n",
       "      <td>Western Union Transfer $10000</td>\n",
       "      <td>Money Transfers</td>\n",
       "      <td>illegal</td>\n",
       "      <td>500</td>\n",
       "      <td>CaptainTransfers</td>\n",
       "    </tr>\n",
       "  </tbody>\n",
       "</table>\n",
       "</div>"
      ],
      "text/plain": [
       "                     Product Name         Category   Legal?  Price(USD)  \\\n",
       "1         Moneygram Transfer $500  Money Transfers  illegal          60   \n",
       "2            PayPal Transfer $500  Money Transfers  illegal          60   \n",
       "3     Western Union Transfer $500  Money Transfers  illegal          60   \n",
       "4        Moneygram Transfer $1000  Money Transfers  illegal         100   \n",
       "5           PayPal Transfer $1000  Money Transfers  illegal         100   \n",
       "6    Western Union Transfer $1000  Money Transfers  illegal         100   \n",
       "7        Moneygram Transfer $3000  Money Transfers  illegal         200   \n",
       "8           PayPal Transfer $3000  Money Transfers  illegal         200   \n",
       "9    Western Union Transfer $3000  Money Transfers  illegal         200   \n",
       "10       Moneygram Transfer $5000  Money Transfers  illegal         300   \n",
       "11          PayPal Transfer $5000  Money Transfers  illegal         300   \n",
       "12   Western Union Transfer $5000  Money Transfers  illegal         300   \n",
       "13      Moneygram Transfer $10000  Money Transfers  illegal         500   \n",
       "14         PayPal Transfer $10000  Money Transfers  illegal         500   \n",
       "15  Western Union Transfer $10000  Money Transfers  illegal         500   \n",
       "\n",
       "              Seller  \n",
       "1   CaptainTransfers  \n",
       "2   CaptainTransfers  \n",
       "3   CaptainTransfers  \n",
       "4   CaptainTransfers  \n",
       "5   CaptainTransfers  \n",
       "6   CaptainTransfers  \n",
       "7   CaptainTransfers  \n",
       "8   CaptainTransfers  \n",
       "9   CaptainTransfers  \n",
       "10  CaptainTransfers  \n",
       "11  CaptainTransfers  \n",
       "12  CaptainTransfers  \n",
       "13  CaptainTransfers  \n",
       "14  CaptainTransfers  \n",
       "15  CaptainTransfers  "
      ]
     },
     "execution_count": 11,
     "metadata": {},
     "output_type": "execute_result"
    }
   ],
   "source": [
    "dfMoney"
   ]
  },
  {
   "cell_type": "markdown",
   "metadata": {
    "cell_id": "f720b34c4de846f59438ed558b375ea6",
    "deepnote_cell_type": "text-cell-p",
    "formattedRanges": []
   },
   "source": [
    "Table 5: Money Transfers offered in Venus Marketplace"
   ]
  },
  {
   "cell_type": "markdown",
   "metadata": {
    "cell_id": "7627d89374474bbab4c3c9d104a4053d",
    "deepnote_cell_type": "text-cell-p",
    "formattedRanges": [
     {
      "fromCodePoint": 0,
      "marks": {
       "bold": true
      },
      "toCodePoint": 12,
      "type": "marks"
     }
    ]
   },
   "source": [
    "**Credit Cards**"
   ]
  },
  {
   "cell_type": "code",
   "execution_count": 12,
   "metadata": {
    "cell_id": "857432461e7c46018573d971549cad5f",
    "deepnote_cell_type": "code",
    "deepnote_to_be_reexecuted": false,
    "execution_millis": 637,
    "execution_start": 1697050871101,
    "source_hash": "cf7eb813"
   },
   "outputs": [],
   "source": [
    "cc={\n",
    "    'Product Name':['Credit Card - $1000 balance', 'Credit Card - $2500 balance', 'Credit Card - $5000 balance', 'Prepaid Card - $5000 balance', 'Prepaid Card - $1000 balance'],\n",
    "    'Legal?':['illegal','illegal','illegal','legal','legal'],\n",
    "    'Price(USD)':[75,150,250,200,350],\n",
    "    'Seller':['Jdkcarding', 'Jdkcarding', 'Jdkcarding', 'Jdkcarding', 'Jdkcarding']\n",
    "}\n",
    "\n",
    "cat='Credit Cards'\n",
    "\n",
    "dfCC = pd.DataFrame(cc)\n",
    "dfCC.insert(1, 'Category', cat)\n",
    "dfCC.index = range(1, len(dfCC) + 1)"
   ]
  },
  {
   "cell_type": "code",
   "execution_count": 13,
   "metadata": {
    "cell_id": "e08a6841b9674eff854f58afd382f9fd",
    "deepnote_cell_type": "code",
    "deepnote_table_loading": false,
    "deepnote_table_state": {
     "filters": [],
     "pageIndex": 0,
     "pageSize": 25,
     "sortBy": []
    },
    "deepnote_to_be_reexecuted": false,
    "execution_millis": 112,
    "execution_start": 1697050871102,
    "source_hash": "2d9e5ec4"
   },
   "outputs": [
    {
     "data": {
      "application/vnd.deepnote.dataframe.v3+json": {
       "column_count": 5,
       "columns": [
        {
         "dtype": "object",
         "name": "Product Name",
         "stats": {
          "categories": [
           {
            "count": 1,
            "name": "Credit Card - $1000 balance"
           },
           {
            "count": 1,
            "name": "Credit Card - $2500 balance"
           },
           {
            "count": 3,
            "name": "3 others"
           }
          ],
          "nan_count": 0,
          "unique_count": 5
         }
        },
        {
         "dtype": "object",
         "name": "Category",
         "stats": {
          "categories": [
           {
            "count": 5,
            "name": "Credit Cards"
           }
          ],
          "nan_count": 0,
          "unique_count": 1
         }
        },
        {
         "dtype": "object",
         "name": "Legal?",
         "stats": {
          "categories": [
           {
            "count": 3,
            "name": "illegal"
           },
           {
            "count": 2,
            "name": "legal"
           }
          ],
          "nan_count": 0,
          "unique_count": 2
         }
        },
        {
         "dtype": "int64",
         "name": "Price(USD)",
         "stats": {
          "histogram": [
           {
            "bin_end": 102.5,
            "bin_start": 75,
            "count": 1
           },
           {
            "bin_end": 130,
            "bin_start": 102.5,
            "count": 0
           },
           {
            "bin_end": 157.5,
            "bin_start": 130,
            "count": 1
           },
           {
            "bin_end": 185,
            "bin_start": 157.5,
            "count": 0
           },
           {
            "bin_end": 212.5,
            "bin_start": 185,
            "count": 1
           },
           {
            "bin_end": 240,
            "bin_start": 212.5,
            "count": 0
           },
           {
            "bin_end": 267.5,
            "bin_start": 240,
            "count": 1
           },
           {
            "bin_end": 295,
            "bin_start": 267.5,
            "count": 0
           },
           {
            "bin_end": 322.5,
            "bin_start": 295,
            "count": 0
           },
           {
            "bin_end": 350,
            "bin_start": 322.5,
            "count": 1
           }
          ],
          "max": "350",
          "min": "75",
          "nan_count": 0,
          "unique_count": 5
         }
        },
        {
         "dtype": "object",
         "name": "Seller",
         "stats": {
          "categories": [
           {
            "count": 5,
            "name": "Jdkcarding"
           }
          ],
          "nan_count": 0,
          "unique_count": 1
         }
        },
        {
         "dtype": "int64",
         "name": "_deepnote_index_column"
        }
       ],
       "row_count": 5,
       "rows": [
        {
         "Category": "Credit Cards",
         "Legal?": "illegal",
         "Price(USD)": 75,
         "Product Name": "Credit Card - $1000 balance",
         "Seller": "Jdkcarding",
         "_deepnote_index_column": 1
        },
        {
         "Category": "Credit Cards",
         "Legal?": "illegal",
         "Price(USD)": 150,
         "Product Name": "Credit Card - $2500 balance",
         "Seller": "Jdkcarding",
         "_deepnote_index_column": 2
        },
        {
         "Category": "Credit Cards",
         "Legal?": "illegal",
         "Price(USD)": 250,
         "Product Name": "Credit Card - $5000 balance",
         "Seller": "Jdkcarding",
         "_deepnote_index_column": 3
        },
        {
         "Category": "Credit Cards",
         "Legal?": "legal",
         "Price(USD)": 200,
         "Product Name": "Prepaid Card - $5000 balance",
         "Seller": "Jdkcarding",
         "_deepnote_index_column": 4
        },
        {
         "Category": "Credit Cards",
         "Legal?": "legal",
         "Price(USD)": 350,
         "Product Name": "Prepaid Card - $1000 balance",
         "Seller": "Jdkcarding",
         "_deepnote_index_column": 5
        }
       ]
      },
      "text/html": [
       "<div>\n",
       "<style scoped>\n",
       "    .dataframe tbody tr th:only-of-type {\n",
       "        vertical-align: middle;\n",
       "    }\n",
       "\n",
       "    .dataframe tbody tr th {\n",
       "        vertical-align: top;\n",
       "    }\n",
       "\n",
       "    .dataframe thead th {\n",
       "        text-align: right;\n",
       "    }\n",
       "</style>\n",
       "<table border=\"1\" class=\"dataframe\">\n",
       "  <thead>\n",
       "    <tr style=\"text-align: right;\">\n",
       "      <th></th>\n",
       "      <th>Product Name</th>\n",
       "      <th>Category</th>\n",
       "      <th>Legal?</th>\n",
       "      <th>Price(USD)</th>\n",
       "      <th>Seller</th>\n",
       "    </tr>\n",
       "  </thead>\n",
       "  <tbody>\n",
       "    <tr>\n",
       "      <th>1</th>\n",
       "      <td>Credit Card - $1000 balance</td>\n",
       "      <td>Credit Cards</td>\n",
       "      <td>illegal</td>\n",
       "      <td>75</td>\n",
       "      <td>Jdkcarding</td>\n",
       "    </tr>\n",
       "    <tr>\n",
       "      <th>2</th>\n",
       "      <td>Credit Card - $2500 balance</td>\n",
       "      <td>Credit Cards</td>\n",
       "      <td>illegal</td>\n",
       "      <td>150</td>\n",
       "      <td>Jdkcarding</td>\n",
       "    </tr>\n",
       "    <tr>\n",
       "      <th>3</th>\n",
       "      <td>Credit Card - $5000 balance</td>\n",
       "      <td>Credit Cards</td>\n",
       "      <td>illegal</td>\n",
       "      <td>250</td>\n",
       "      <td>Jdkcarding</td>\n",
       "    </tr>\n",
       "    <tr>\n",
       "      <th>4</th>\n",
       "      <td>Prepaid Card - $5000 balance</td>\n",
       "      <td>Credit Cards</td>\n",
       "      <td>legal</td>\n",
       "      <td>200</td>\n",
       "      <td>Jdkcarding</td>\n",
       "    </tr>\n",
       "    <tr>\n",
       "      <th>5</th>\n",
       "      <td>Prepaid Card - $1000 balance</td>\n",
       "      <td>Credit Cards</td>\n",
       "      <td>legal</td>\n",
       "      <td>350</td>\n",
       "      <td>Jdkcarding</td>\n",
       "    </tr>\n",
       "  </tbody>\n",
       "</table>\n",
       "</div>"
      ],
      "text/plain": [
       "                   Product Name      Category   Legal?  Price(USD)      Seller\n",
       "1   Credit Card - $1000 balance  Credit Cards  illegal          75  Jdkcarding\n",
       "2   Credit Card - $2500 balance  Credit Cards  illegal         150  Jdkcarding\n",
       "3   Credit Card - $5000 balance  Credit Cards  illegal         250  Jdkcarding\n",
       "4  Prepaid Card - $5000 balance  Credit Cards    legal         200  Jdkcarding\n",
       "5  Prepaid Card - $1000 balance  Credit Cards    legal         350  Jdkcarding"
      ]
     },
     "execution_count": 13,
     "metadata": {},
     "output_type": "execute_result"
    }
   ],
   "source": [
    "dfCC"
   ]
  },
  {
   "cell_type": "markdown",
   "metadata": {
    "cell_id": "8ea59bb6cfa64d448d8acd3a25398a47",
    "deepnote_cell_type": "text-cell-p",
    "formattedRanges": []
   },
   "source": [
    "Table 6: Credit Cards offered in Venus Marketplace"
   ]
  },
  {
   "cell_type": "markdown",
   "metadata": {
    "cell_id": "05d3bd2246a6462695c9b0093e56aa40",
    "deepnote_cell_type": "text-cell-p",
    "formattedRanges": [
     {
      "fromCodePoint": 0,
      "marks": {
       "bold": true
      },
      "toCodePoint": 7,
      "type": "marks"
     }
    ]
   },
   "source": [
    "**Weapons**"
   ]
  },
  {
   "cell_type": "code",
   "execution_count": 14,
   "metadata": {
    "cell_id": "ef63a33a75684f5aa9cff7a714056d84",
    "deepnote_cell_type": "code",
    "deepnote_to_be_reexecuted": false,
    "execution_millis": 450,
    "execution_start": 1697050871129,
    "source_hash": "4785354"
   },
   "outputs": [],
   "source": [
    "weapons={\n",
    "    'Product Name':['9mm bullet (Sellier & Bellot) 115g', '7.62x39mm Ammo 250 round', 'AK47 7.62x39mm', 'Glock17 9x19mm', 'Baretta 92FS Stainless 9mm'],\n",
    "    'Legal?':['depends','depends','illegal','depends','depends'],\n",
    "    'Price(USD)':[70,110,600,270,290],\n",
    "    'Seller':['Capri-Guns','Capri-Guns', 'Capri-Guns', 'Capri-Guns', 'Capri-Guns']\n",
    "}\n",
    "\n",
    "cat='Weapons'\n",
    "\n",
    "dfWeapon = pd.DataFrame(weapons)\n",
    "dfWeapon.insert(1, 'Category', cat)\n",
    "dfWeapon.index = range(1, len(dfWeapon)+1)"
   ]
  },
  {
   "cell_type": "code",
   "execution_count": 15,
   "metadata": {
    "cell_id": "549c17f2d58544fcbfbf1bcb1bfac169",
    "deepnote_cell_type": "code",
    "deepnote_table_loading": false,
    "deepnote_table_state": {
     "filters": [],
     "pageIndex": 0,
     "pageSize": 25,
     "sortBy": []
    },
    "deepnote_to_be_reexecuted": false,
    "execution_millis": 87,
    "execution_start": 1697050871137,
    "source_hash": "76dd6239"
   },
   "outputs": [
    {
     "data": {
      "application/vnd.deepnote.dataframe.v3+json": {
       "column_count": 5,
       "columns": [
        {
         "dtype": "object",
         "name": "Product Name",
         "stats": {
          "categories": [
           {
            "count": 1,
            "name": "9mm bullet (Sellier & Bellot) 115g"
           },
           {
            "count": 1,
            "name": "7.62x39mm Ammo 250 round"
           },
           {
            "count": 3,
            "name": "3 others"
           }
          ],
          "nan_count": 0,
          "unique_count": 5
         }
        },
        {
         "dtype": "object",
         "name": "Category",
         "stats": {
          "categories": [
           {
            "count": 5,
            "name": "Weapons"
           }
          ],
          "nan_count": 0,
          "unique_count": 1
         }
        },
        {
         "dtype": "object",
         "name": "Legal?",
         "stats": {
          "categories": [
           {
            "count": 4,
            "name": "depends"
           },
           {
            "count": 1,
            "name": "illegal"
           }
          ],
          "nan_count": 0,
          "unique_count": 2
         }
        },
        {
         "dtype": "int64",
         "name": "Price(USD)",
         "stats": {
          "histogram": [
           {
            "bin_end": 123,
            "bin_start": 70,
            "count": 2
           },
           {
            "bin_end": 176,
            "bin_start": 123,
            "count": 0
           },
           {
            "bin_end": 229,
            "bin_start": 176,
            "count": 0
           },
           {
            "bin_end": 282,
            "bin_start": 229,
            "count": 1
           },
           {
            "bin_end": 335,
            "bin_start": 282,
            "count": 1
           },
           {
            "bin_end": 388,
            "bin_start": 335,
            "count": 0
           },
           {
            "bin_end": 441,
            "bin_start": 388,
            "count": 0
           },
           {
            "bin_end": 494,
            "bin_start": 441,
            "count": 0
           },
           {
            "bin_end": 547,
            "bin_start": 494,
            "count": 0
           },
           {
            "bin_end": 600,
            "bin_start": 547,
            "count": 1
           }
          ],
          "max": "600",
          "min": "70",
          "nan_count": 0,
          "unique_count": 5
         }
        },
        {
         "dtype": "object",
         "name": "Seller",
         "stats": {
          "categories": [
           {
            "count": 5,
            "name": "Capri-Guns"
           }
          ],
          "nan_count": 0,
          "unique_count": 1
         }
        },
        {
         "dtype": "int64",
         "name": "_deepnote_index_column"
        }
       ],
       "row_count": 5,
       "rows": [
        {
         "Category": "Weapons",
         "Legal?": "depends",
         "Price(USD)": 70,
         "Product Name": "9mm bullet (Sellier & Bellot) 115g",
         "Seller": "Capri-Guns",
         "_deepnote_index_column": 1
        },
        {
         "Category": "Weapons",
         "Legal?": "depends",
         "Price(USD)": 110,
         "Product Name": "7.62x39mm Ammo 250 round",
         "Seller": "Capri-Guns",
         "_deepnote_index_column": 2
        },
        {
         "Category": "Weapons",
         "Legal?": "illegal",
         "Price(USD)": 600,
         "Product Name": "AK47 7.62x39mm",
         "Seller": "Capri-Guns",
         "_deepnote_index_column": 3
        },
        {
         "Category": "Weapons",
         "Legal?": "depends",
         "Price(USD)": 270,
         "Product Name": "Glock17 9x19mm",
         "Seller": "Capri-Guns",
         "_deepnote_index_column": 4
        },
        {
         "Category": "Weapons",
         "Legal?": "depends",
         "Price(USD)": 290,
         "Product Name": "Baretta 92FS Stainless 9mm",
         "Seller": "Capri-Guns",
         "_deepnote_index_column": 5
        }
       ]
      },
      "text/html": [
       "<div>\n",
       "<style scoped>\n",
       "    .dataframe tbody tr th:only-of-type {\n",
       "        vertical-align: middle;\n",
       "    }\n",
       "\n",
       "    .dataframe tbody tr th {\n",
       "        vertical-align: top;\n",
       "    }\n",
       "\n",
       "    .dataframe thead th {\n",
       "        text-align: right;\n",
       "    }\n",
       "</style>\n",
       "<table border=\"1\" class=\"dataframe\">\n",
       "  <thead>\n",
       "    <tr style=\"text-align: right;\">\n",
       "      <th></th>\n",
       "      <th>Product Name</th>\n",
       "      <th>Category</th>\n",
       "      <th>Legal?</th>\n",
       "      <th>Price(USD)</th>\n",
       "      <th>Seller</th>\n",
       "    </tr>\n",
       "  </thead>\n",
       "  <tbody>\n",
       "    <tr>\n",
       "      <th>1</th>\n",
       "      <td>9mm bullet (Sellier &amp; Bellot) 115g</td>\n",
       "      <td>Weapons</td>\n",
       "      <td>depends</td>\n",
       "      <td>70</td>\n",
       "      <td>Capri-Guns</td>\n",
       "    </tr>\n",
       "    <tr>\n",
       "      <th>2</th>\n",
       "      <td>7.62x39mm Ammo 250 round</td>\n",
       "      <td>Weapons</td>\n",
       "      <td>depends</td>\n",
       "      <td>110</td>\n",
       "      <td>Capri-Guns</td>\n",
       "    </tr>\n",
       "    <tr>\n",
       "      <th>3</th>\n",
       "      <td>AK47 7.62x39mm</td>\n",
       "      <td>Weapons</td>\n",
       "      <td>illegal</td>\n",
       "      <td>600</td>\n",
       "      <td>Capri-Guns</td>\n",
       "    </tr>\n",
       "    <tr>\n",
       "      <th>4</th>\n",
       "      <td>Glock17 9x19mm</td>\n",
       "      <td>Weapons</td>\n",
       "      <td>depends</td>\n",
       "      <td>270</td>\n",
       "      <td>Capri-Guns</td>\n",
       "    </tr>\n",
       "    <tr>\n",
       "      <th>5</th>\n",
       "      <td>Baretta 92FS Stainless 9mm</td>\n",
       "      <td>Weapons</td>\n",
       "      <td>depends</td>\n",
       "      <td>290</td>\n",
       "      <td>Capri-Guns</td>\n",
       "    </tr>\n",
       "  </tbody>\n",
       "</table>\n",
       "</div>"
      ],
      "text/plain": [
       "                         Product Name Category   Legal?  Price(USD)  \\\n",
       "1  9mm bullet (Sellier & Bellot) 115g  Weapons  depends          70   \n",
       "2            7.62x39mm Ammo 250 round  Weapons  depends         110   \n",
       "3                      AK47 7.62x39mm  Weapons  illegal         600   \n",
       "4                      Glock17 9x19mm  Weapons  depends         270   \n",
       "5          Baretta 92FS Stainless 9mm  Weapons  depends         290   \n",
       "\n",
       "       Seller  \n",
       "1  Capri-Guns  \n",
       "2  Capri-Guns  \n",
       "3  Capri-Guns  \n",
       "4  Capri-Guns  \n",
       "5  Capri-Guns  "
      ]
     },
     "execution_count": 15,
     "metadata": {},
     "output_type": "execute_result"
    }
   ],
   "source": [
    "dfWeapon"
   ]
  },
  {
   "cell_type": "markdown",
   "metadata": {
    "cell_id": "010ba02942394d4aa9c56241a61c101d",
    "deepnote_cell_type": "text-cell-p",
    "formattedRanges": []
   },
   "source": [
    "Table 7: Weapons offered on Venus Marketplace"
   ]
  },
  {
   "cell_type": "markdown",
   "metadata": {
    "cell_id": "c2c8b5ca9be54fc68b8852d20edd90e3",
    "deepnote_cell_type": "text-cell-p",
    "formattedRanges": [
     {
      "fromCodePoint": 0,
      "marks": {
       "bold": true
      },
      "toCodePoint": 14,
      "type": "marks"
     }
    ]
   },
   "source": [
    "**Identification**"
   ]
  },
  {
   "cell_type": "code",
   "execution_count": 16,
   "metadata": {
    "cell_id": "25c2fb6200ac4434912c92fd5654b84b",
    "deepnote_cell_type": "code",
    "deepnote_to_be_reexecuted": false,
    "execution_millis": 211,
    "execution_start": 1697050871162,
    "source_hash": "624388f5"
   },
   "outputs": [],
   "source": [
    "identity={\n",
    "    'Product Name':['USA Passport + ID', 'UAE Passport + ID', 'Canada Passport + ID', 'Chile Passport + ID', 'Germany Passport + ID', 'Turkey Passport + ID', 'Uruguay Passport + ID'],\n",
    "    'Legal?':['illegal','illegal','illegal','illegal','illegal','illegal','illegal'],\n",
    "    'Price(USD)':[300,300,300,300,300,300,300],\n",
    "    'Seller':['DarkWorldCitizenship','DarkWorldCitizenship','DarkWorldCitizenship','DarkWorldCitizenship','DarkWorldCitizenship','DarkWorldCitizenship','DarkWorldCitizenship']\n",
    "}\n",
    "\n",
    "cat='Identifications'\n",
    "\n",
    "dfID = pd.DataFrame(identity)\n",
    "dfID.insert(1, 'Category', cat)\n",
    "dfID.index = range(1, len(dfID)+1)"
   ]
  },
  {
   "cell_type": "code",
   "execution_count": 17,
   "metadata": {
    "cell_id": "839b02b602524905ae819ea6e2a5e0d0",
    "deepnote_cell_type": "code",
    "deepnote_table_loading": false,
    "deepnote_table_state": {
     "filters": [],
     "pageIndex": 0,
     "pageSize": 25,
     "sortBy": []
    },
    "deepnote_to_be_reexecuted": false,
    "execution_millis": 181,
    "execution_start": 1697050871191,
    "source_hash": "99f633bc"
   },
   "outputs": [
    {
     "data": {
      "application/vnd.deepnote.dataframe.v3+json": {
       "column_count": 5,
       "columns": [
        {
         "dtype": "object",
         "name": "Product Name",
         "stats": {
          "categories": [
           {
            "count": 1,
            "name": "USA Passport + ID"
           },
           {
            "count": 1,
            "name": "UAE Passport + ID"
           },
           {
            "count": 5,
            "name": "5 others"
           }
          ],
          "nan_count": 0,
          "unique_count": 7
         }
        },
        {
         "dtype": "object",
         "name": "Category",
         "stats": {
          "categories": [
           {
            "count": 7,
            "name": "Identifications"
           }
          ],
          "nan_count": 0,
          "unique_count": 1
         }
        },
        {
         "dtype": "object",
         "name": "Legal?",
         "stats": {
          "categories": [
           {
            "count": 7,
            "name": "illegal"
           }
          ],
          "nan_count": 0,
          "unique_count": 1
         }
        },
        {
         "dtype": "int64",
         "name": "Price(USD)",
         "stats": {
          "histogram": [
           {
            "bin_end": 299.6,
            "bin_start": 299.5,
            "count": 0
           },
           {
            "bin_end": 299.7,
            "bin_start": 299.6,
            "count": 0
           },
           {
            "bin_end": 299.8,
            "bin_start": 299.7,
            "count": 0
           },
           {
            "bin_end": 299.9,
            "bin_start": 299.8,
            "count": 0
           },
           {
            "bin_end": 300,
            "bin_start": 299.9,
            "count": 0
           },
           {
            "bin_end": 300.1,
            "bin_start": 300,
            "count": 7
           },
           {
            "bin_end": 300.2,
            "bin_start": 300.1,
            "count": 0
           },
           {
            "bin_end": 300.3,
            "bin_start": 300.2,
            "count": 0
           },
           {
            "bin_end": 300.4,
            "bin_start": 300.3,
            "count": 0
           },
           {
            "bin_end": 300.5,
            "bin_start": 300.4,
            "count": 0
           }
          ],
          "max": "300",
          "min": "300",
          "nan_count": 0,
          "unique_count": 1
         }
        },
        {
         "dtype": "object",
         "name": "Seller",
         "stats": {
          "categories": [
           {
            "count": 7,
            "name": "DarkWorldCitizenship"
           }
          ],
          "nan_count": 0,
          "unique_count": 1
         }
        },
        {
         "dtype": "int64",
         "name": "_deepnote_index_column"
        }
       ],
       "row_count": 7,
       "rows": [
        {
         "Category": "Identifications",
         "Legal?": "illegal",
         "Price(USD)": 300,
         "Product Name": "USA Passport + ID",
         "Seller": "DarkWorldCitizenship",
         "_deepnote_index_column": 1
        },
        {
         "Category": "Identifications",
         "Legal?": "illegal",
         "Price(USD)": 300,
         "Product Name": "UAE Passport + ID",
         "Seller": "DarkWorldCitizenship",
         "_deepnote_index_column": 2
        },
        {
         "Category": "Identifications",
         "Legal?": "illegal",
         "Price(USD)": 300,
         "Product Name": "Canada Passport + ID",
         "Seller": "DarkWorldCitizenship",
         "_deepnote_index_column": 3
        },
        {
         "Category": "Identifications",
         "Legal?": "illegal",
         "Price(USD)": 300,
         "Product Name": "Chile Passport + ID",
         "Seller": "DarkWorldCitizenship",
         "_deepnote_index_column": 4
        },
        {
         "Category": "Identifications",
         "Legal?": "illegal",
         "Price(USD)": 300,
         "Product Name": "Germany Passport + ID",
         "Seller": "DarkWorldCitizenship",
         "_deepnote_index_column": 5
        },
        {
         "Category": "Identifications",
         "Legal?": "illegal",
         "Price(USD)": 300,
         "Product Name": "Turkey Passport + ID",
         "Seller": "DarkWorldCitizenship",
         "_deepnote_index_column": 6
        },
        {
         "Category": "Identifications",
         "Legal?": "illegal",
         "Price(USD)": 300,
         "Product Name": "Uruguay Passport + ID",
         "Seller": "DarkWorldCitizenship",
         "_deepnote_index_column": 7
        }
       ]
      },
      "text/html": [
       "<div>\n",
       "<style scoped>\n",
       "    .dataframe tbody tr th:only-of-type {\n",
       "        vertical-align: middle;\n",
       "    }\n",
       "\n",
       "    .dataframe tbody tr th {\n",
       "        vertical-align: top;\n",
       "    }\n",
       "\n",
       "    .dataframe thead th {\n",
       "        text-align: right;\n",
       "    }\n",
       "</style>\n",
       "<table border=\"1\" class=\"dataframe\">\n",
       "  <thead>\n",
       "    <tr style=\"text-align: right;\">\n",
       "      <th></th>\n",
       "      <th>Product Name</th>\n",
       "      <th>Category</th>\n",
       "      <th>Legal?</th>\n",
       "      <th>Price(USD)</th>\n",
       "      <th>Seller</th>\n",
       "    </tr>\n",
       "  </thead>\n",
       "  <tbody>\n",
       "    <tr>\n",
       "      <th>1</th>\n",
       "      <td>USA Passport + ID</td>\n",
       "      <td>Identifications</td>\n",
       "      <td>illegal</td>\n",
       "      <td>300</td>\n",
       "      <td>DarkWorldCitizenship</td>\n",
       "    </tr>\n",
       "    <tr>\n",
       "      <th>2</th>\n",
       "      <td>UAE Passport + ID</td>\n",
       "      <td>Identifications</td>\n",
       "      <td>illegal</td>\n",
       "      <td>300</td>\n",
       "      <td>DarkWorldCitizenship</td>\n",
       "    </tr>\n",
       "    <tr>\n",
       "      <th>3</th>\n",
       "      <td>Canada Passport + ID</td>\n",
       "      <td>Identifications</td>\n",
       "      <td>illegal</td>\n",
       "      <td>300</td>\n",
       "      <td>DarkWorldCitizenship</td>\n",
       "    </tr>\n",
       "    <tr>\n",
       "      <th>4</th>\n",
       "      <td>Chile Passport + ID</td>\n",
       "      <td>Identifications</td>\n",
       "      <td>illegal</td>\n",
       "      <td>300</td>\n",
       "      <td>DarkWorldCitizenship</td>\n",
       "    </tr>\n",
       "    <tr>\n",
       "      <th>5</th>\n",
       "      <td>Germany Passport + ID</td>\n",
       "      <td>Identifications</td>\n",
       "      <td>illegal</td>\n",
       "      <td>300</td>\n",
       "      <td>DarkWorldCitizenship</td>\n",
       "    </tr>\n",
       "    <tr>\n",
       "      <th>6</th>\n",
       "      <td>Turkey Passport + ID</td>\n",
       "      <td>Identifications</td>\n",
       "      <td>illegal</td>\n",
       "      <td>300</td>\n",
       "      <td>DarkWorldCitizenship</td>\n",
       "    </tr>\n",
       "    <tr>\n",
       "      <th>7</th>\n",
       "      <td>Uruguay Passport + ID</td>\n",
       "      <td>Identifications</td>\n",
       "      <td>illegal</td>\n",
       "      <td>300</td>\n",
       "      <td>DarkWorldCitizenship</td>\n",
       "    </tr>\n",
       "  </tbody>\n",
       "</table>\n",
       "</div>"
      ],
      "text/plain": [
       "            Product Name         Category   Legal?  Price(USD)  \\\n",
       "1      USA Passport + ID  Identifications  illegal         300   \n",
       "2      UAE Passport + ID  Identifications  illegal         300   \n",
       "3   Canada Passport + ID  Identifications  illegal         300   \n",
       "4    Chile Passport + ID  Identifications  illegal         300   \n",
       "5  Germany Passport + ID  Identifications  illegal         300   \n",
       "6   Turkey Passport + ID  Identifications  illegal         300   \n",
       "7  Uruguay Passport + ID  Identifications  illegal         300   \n",
       "\n",
       "                 Seller  \n",
       "1  DarkWorldCitizenship  \n",
       "2  DarkWorldCitizenship  \n",
       "3  DarkWorldCitizenship  \n",
       "4  DarkWorldCitizenship  \n",
       "5  DarkWorldCitizenship  \n",
       "6  DarkWorldCitizenship  \n",
       "7  DarkWorldCitizenship  "
      ]
     },
     "execution_count": 17,
     "metadata": {},
     "output_type": "execute_result"
    }
   ],
   "source": [
    "dfID"
   ]
  },
  {
   "cell_type": "markdown",
   "metadata": {
    "cell_id": "368fc3c929634e2191df3ed4944274d9",
    "deepnote_cell_type": "text-cell-p",
    "formattedRanges": []
   },
   "source": [
    "Table 8: Identifications offered on Venus Marketplace"
   ]
  },
  {
   "cell_type": "markdown",
   "metadata": {
    "cell_id": "479cd7030dc344cc8b111bcf85f301f2",
    "deepnote_cell_type": "text-cell-p",
    "formattedRanges": [
     {
      "fromCodePoint": 0,
      "marks": {
       "bold": true
      },
      "toCodePoint": 8,
      "type": "marks"
     }
    ]
   },
   "source": [
    "**Services**"
   ]
  },
  {
   "cell_type": "code",
   "execution_count": 18,
   "metadata": {
    "cell_id": "d62a4117a99040b294a0c1410ec19461",
    "deepnote_cell_type": "code",
    "deepnote_to_be_reexecuted": false,
    "execution_millis": 433,
    "execution_start": 1697050871192,
    "source_hash": "8ef20fc6"
   },
   "outputs": [],
   "source": [
    "serv={\n",
    "    'Product Name':['Instagram Hacking Service', 'Facebook Hacking Service', 'Twitter Hacking Service'],\n",
    "    'Legal?':['depends','depends','depends'],\n",
    "    'Price(USD)':[200,150,300],\n",
    "    'Seller':['XM-H4CK3R', 'XM-H4CK3R', 'XM-H4CK3R']\n",
    "}\n",
    "\n",
    "cat='Services'\n",
    "\n",
    "dfServ = pd.DataFrame(serv)\n",
    "dfServ.insert(1, 'Category', cat)\n",
    "dfServ.index = range(1, len(dfServ)+1)"
   ]
  },
  {
   "cell_type": "code",
   "execution_count": 19,
   "metadata": {
    "cell_id": "08b97dbcd1cd4f8080d58ba10ed53b05",
    "deepnote_cell_type": "code",
    "deepnote_to_be_reexecuted": false,
    "execution_millis": 586,
    "execution_start": 1697050871198,
    "source_hash": "f2e7d72d"
   },
   "outputs": [
    {
     "data": {
      "application/vnd.deepnote.dataframe.v3+json": {
       "column_count": 5,
       "columns": [
        {
         "dtype": "object",
         "name": "Product Name",
         "stats": {
          "categories": [
           {
            "count": 1,
            "name": "Instagram Hacking Service"
           },
           {
            "count": 1,
            "name": "Facebook Hacking Service"
           },
           {
            "count": 1,
            "name": "Twitter Hacking Service"
           }
          ],
          "nan_count": 0,
          "unique_count": 3
         }
        },
        {
         "dtype": "object",
         "name": "Category",
         "stats": {
          "categories": [
           {
            "count": 3,
            "name": "Services"
           }
          ],
          "nan_count": 0,
          "unique_count": 1
         }
        },
        {
         "dtype": "object",
         "name": "Legal?",
         "stats": {
          "categories": [
           {
            "count": 3,
            "name": "depends"
           }
          ],
          "nan_count": 0,
          "unique_count": 1
         }
        },
        {
         "dtype": "int64",
         "name": "Price(USD)",
         "stats": {
          "histogram": [
           {
            "bin_end": 165,
            "bin_start": 150,
            "count": 1
           },
           {
            "bin_end": 180,
            "bin_start": 165,
            "count": 0
           },
           {
            "bin_end": 195,
            "bin_start": 180,
            "count": 0
           },
           {
            "bin_end": 210,
            "bin_start": 195,
            "count": 1
           },
           {
            "bin_end": 225,
            "bin_start": 210,
            "count": 0
           },
           {
            "bin_end": 240,
            "bin_start": 225,
            "count": 0
           },
           {
            "bin_end": 255,
            "bin_start": 240,
            "count": 0
           },
           {
            "bin_end": 270,
            "bin_start": 255,
            "count": 0
           },
           {
            "bin_end": 285,
            "bin_start": 270,
            "count": 0
           },
           {
            "bin_end": 300,
            "bin_start": 285,
            "count": 1
           }
          ],
          "max": "300",
          "min": "150",
          "nan_count": 0,
          "unique_count": 3
         }
        },
        {
         "dtype": "object",
         "name": "Seller",
         "stats": {
          "categories": [
           {
            "count": 3,
            "name": "XM-H4CK3R"
           }
          ],
          "nan_count": 0,
          "unique_count": 1
         }
        },
        {
         "dtype": "int64",
         "name": "_deepnote_index_column"
        }
       ],
       "row_count": 3,
       "rows": [
        {
         "Category": "Services",
         "Legal?": "depends",
         "Price(USD)": 200,
         "Product Name": "Instagram Hacking Service",
         "Seller": "XM-H4CK3R",
         "_deepnote_index_column": 1
        },
        {
         "Category": "Services",
         "Legal?": "depends",
         "Price(USD)": 150,
         "Product Name": "Facebook Hacking Service",
         "Seller": "XM-H4CK3R",
         "_deepnote_index_column": 2
        },
        {
         "Category": "Services",
         "Legal?": "depends",
         "Price(USD)": 300,
         "Product Name": "Twitter Hacking Service",
         "Seller": "XM-H4CK3R",
         "_deepnote_index_column": 3
        }
       ]
      },
      "text/html": [
       "<div>\n",
       "<style scoped>\n",
       "    .dataframe tbody tr th:only-of-type {\n",
       "        vertical-align: middle;\n",
       "    }\n",
       "\n",
       "    .dataframe tbody tr th {\n",
       "        vertical-align: top;\n",
       "    }\n",
       "\n",
       "    .dataframe thead th {\n",
       "        text-align: right;\n",
       "    }\n",
       "</style>\n",
       "<table border=\"1\" class=\"dataframe\">\n",
       "  <thead>\n",
       "    <tr style=\"text-align: right;\">\n",
       "      <th></th>\n",
       "      <th>Product Name</th>\n",
       "      <th>Category</th>\n",
       "      <th>Legal?</th>\n",
       "      <th>Price(USD)</th>\n",
       "      <th>Seller</th>\n",
       "    </tr>\n",
       "  </thead>\n",
       "  <tbody>\n",
       "    <tr>\n",
       "      <th>1</th>\n",
       "      <td>Instagram Hacking Service</td>\n",
       "      <td>Services</td>\n",
       "      <td>depends</td>\n",
       "      <td>200</td>\n",
       "      <td>XM-H4CK3R</td>\n",
       "    </tr>\n",
       "    <tr>\n",
       "      <th>2</th>\n",
       "      <td>Facebook Hacking Service</td>\n",
       "      <td>Services</td>\n",
       "      <td>depends</td>\n",
       "      <td>150</td>\n",
       "      <td>XM-H4CK3R</td>\n",
       "    </tr>\n",
       "    <tr>\n",
       "      <th>3</th>\n",
       "      <td>Twitter Hacking Service</td>\n",
       "      <td>Services</td>\n",
       "      <td>depends</td>\n",
       "      <td>300</td>\n",
       "      <td>XM-H4CK3R</td>\n",
       "    </tr>\n",
       "  </tbody>\n",
       "</table>\n",
       "</div>"
      ],
      "text/plain": [
       "                Product Name  Category   Legal?  Price(USD)     Seller\n",
       "1  Instagram Hacking Service  Services  depends         200  XM-H4CK3R\n",
       "2   Facebook Hacking Service  Services  depends         150  XM-H4CK3R\n",
       "3    Twitter Hacking Service  Services  depends         300  XM-H4CK3R"
      ]
     },
     "execution_count": 19,
     "metadata": {},
     "output_type": "execute_result"
    }
   ],
   "source": [
    "dfServ"
   ]
  },
  {
   "cell_type": "markdown",
   "metadata": {
    "cell_id": "973a56e846ba411dafc87b6e6a4f09c7",
    "deepnote_cell_type": "text-cell-p",
    "formattedRanges": []
   },
   "source": [
    "Table 9: Services offered on Venus Marketplace"
   ]
  },
  {
   "cell_type": "markdown",
   "metadata": {
    "cell_id": "d830fe9c9a414d869672cd12ba576d1b",
    "deepnote_cell_type": "text-cell-p",
    "formattedRanges": [
     {
      "fromCodePoint": 0,
      "marks": {
       "bold": true
      },
      "toCodePoint": 17,
      "type": "marks"
     }
    ]
   },
   "source": [
    "**Cannabis Products**"
   ]
  },
  {
   "cell_type": "code",
   "execution_count": 20,
   "metadata": {
    "cell_id": "ee3a4d196eaa4b89a19cdd8b424b7074",
    "deepnote_cell_type": "code",
    "deepnote_to_be_reexecuted": false,
    "execution_millis": 461,
    "execution_start": 1697050871226,
    "source_hash": "c29d13d"
   },
   "outputs": [],
   "source": [
    "cannabis={\n",
    "    'Product Name':['10 Gram Gelato Kush', '20 Grams of Top Quality Moroccan Hash', '25 Pills - Cannabis Capsules - 17.5mg', '28 Gram Sour Diesel', 'Banana Kush 500mg 95% Pure THC Distillate Card', '10 Gram Kosher Kush', '10 Gram Sour Diesel, Gorilla Glue, Girl Scout', '1000mg - Vape pen oil Gelato', '20 Gram Hashish Ketama Top A+++ Cream Hash', '1000mg - Holiday Special SUPREME Vape', '14 Grams (TOP QUALITY) CA FLowers', '5 Gram Afghan Cream Hash', '10 Gram - Birthday Cake / Wedding Cake', '5 Gram Super Hash Super Concentrated'],\n",
    "    'Legal?':['depends','depends','depends','depends','depends','depends','depends','depends','depends','depends','depends','depends','depends','depends'],\n",
    "    'Price(USD)':[70,160,50,80, 80, 85, 115, 80, 130, 50, 60, 55, 50, 45],\n",
    "    'Seller':['DarkWeed', 'DarkWeed', 'DarkWeed', 'DarkWeed', 'DarkWeed', 'DarkWeed', 'DarkWeed', 'DarkWeed', 'KUSHBANANA', 'DarkWeed', 'DarkWeed', 'DarkWeed', 'razzy', 'DarkWeed']\n",
    "}\n",
    "\n",
    "cat='Cannabis'\n",
    "\n",
    "dfCannabis = pd.DataFrame(cannabis)\n",
    "dfCannabis.insert(1, 'Category', cat)\n",
    "dfCannabis.index = range(1, len(dfCannabis)+1)"
   ]
  },
  {
   "cell_type": "code",
   "execution_count": 21,
   "metadata": {
    "cell_id": "f13872182e77444480477238a8cce6ca",
    "deepnote_cell_type": "code",
    "deepnote_table_loading": false,
    "deepnote_table_state": {
     "filters": [],
     "pageIndex": 0,
     "pageSize": 25,
     "sortBy": []
    },
    "deepnote_to_be_reexecuted": false,
    "execution_millis": 145,
    "execution_start": 1697050871227,
    "source_hash": "ef989bc1"
   },
   "outputs": [
    {
     "data": {
      "application/vnd.deepnote.dataframe.v3+json": {
       "column_count": 5,
       "columns": [
        {
         "dtype": "object",
         "name": "Product Name",
         "stats": {
          "categories": [
           {
            "count": 1,
            "name": "10 Gram Gelato Kush"
           },
           {
            "count": 1,
            "name": "20 Grams of Top Quality Moroccan Hash"
           },
           {
            "count": 12,
            "name": "12 others"
           }
          ],
          "nan_count": 0,
          "unique_count": 14
         }
        },
        {
         "dtype": "object",
         "name": "Category",
         "stats": {
          "categories": [
           {
            "count": 14,
            "name": "Cannabis"
           }
          ],
          "nan_count": 0,
          "unique_count": 1
         }
        },
        {
         "dtype": "object",
         "name": "Legal?",
         "stats": {
          "categories": [
           {
            "count": 14,
            "name": "depends"
           }
          ],
          "nan_count": 0,
          "unique_count": 1
         }
        },
        {
         "dtype": "int64",
         "name": "Price(USD)",
         "stats": {
          "histogram": [
           {
            "bin_end": 56.5,
            "bin_start": 45,
            "count": 5
           },
           {
            "bin_end": 68,
            "bin_start": 56.5,
            "count": 1
           },
           {
            "bin_end": 79.5,
            "bin_start": 68,
            "count": 1
           },
           {
            "bin_end": 91,
            "bin_start": 79.5,
            "count": 4
           },
           {
            "bin_end": 102.5,
            "bin_start": 91,
            "count": 0
           },
           {
            "bin_end": 114,
            "bin_start": 102.5,
            "count": 0
           },
           {
            "bin_end": 125.5,
            "bin_start": 114,
            "count": 1
           },
           {
            "bin_end": 137,
            "bin_start": 125.5,
            "count": 1
           },
           {
            "bin_end": 148.5,
            "bin_start": 137,
            "count": 0
           },
           {
            "bin_end": 160,
            "bin_start": 148.5,
            "count": 1
           }
          ],
          "max": "160",
          "min": "45",
          "nan_count": 0,
          "unique_count": 10
         }
        },
        {
         "dtype": "object",
         "name": "Seller",
         "stats": {
          "categories": [
           {
            "count": 12,
            "name": "DarkWeed"
           },
           {
            "count": 1,
            "name": "KUSHBANANA"
           },
           {
            "count": 1,
            "name": "razzy"
           }
          ],
          "nan_count": 0,
          "unique_count": 3
         }
        },
        {
         "dtype": "int64",
         "name": "_deepnote_index_column"
        }
       ],
       "row_count": 14,
       "rows": [
        {
         "Category": "Cannabis",
         "Legal?": "depends",
         "Price(USD)": 70,
         "Product Name": "10 Gram Gelato Kush",
         "Seller": "DarkWeed",
         "_deepnote_index_column": 1
        },
        {
         "Category": "Cannabis",
         "Legal?": "depends",
         "Price(USD)": 160,
         "Product Name": "20 Grams of Top Quality Moroccan Hash",
         "Seller": "DarkWeed",
         "_deepnote_index_column": 2
        },
        {
         "Category": "Cannabis",
         "Legal?": "depends",
         "Price(USD)": 50,
         "Product Name": "25 Pills - Cannabis Capsules - 17.5mg",
         "Seller": "DarkWeed",
         "_deepnote_index_column": 3
        },
        {
         "Category": "Cannabis",
         "Legal?": "depends",
         "Price(USD)": 80,
         "Product Name": "28 Gram Sour Diesel",
         "Seller": "DarkWeed",
         "_deepnote_index_column": 4
        },
        {
         "Category": "Cannabis",
         "Legal?": "depends",
         "Price(USD)": 80,
         "Product Name": "Banana Kush 500mg 95% Pure THC Distillate Card",
         "Seller": "DarkWeed",
         "_deepnote_index_column": 5
        },
        {
         "Category": "Cannabis",
         "Legal?": "depends",
         "Price(USD)": 85,
         "Product Name": "10 Gram Kosher Kush",
         "Seller": "DarkWeed",
         "_deepnote_index_column": 6
        },
        {
         "Category": "Cannabis",
         "Legal?": "depends",
         "Price(USD)": 115,
         "Product Name": "10 Gram Sour Diesel, Gorilla Glue, Girl Scout",
         "Seller": "DarkWeed",
         "_deepnote_index_column": 7
        },
        {
         "Category": "Cannabis",
         "Legal?": "depends",
         "Price(USD)": 80,
         "Product Name": "1000mg - Vape pen oil Gelato",
         "Seller": "DarkWeed",
         "_deepnote_index_column": 8
        },
        {
         "Category": "Cannabis",
         "Legal?": "depends",
         "Price(USD)": 130,
         "Product Name": "20 Gram Hashish Ketama Top A+++ Cream Hash",
         "Seller": "KUSHBANANA",
         "_deepnote_index_column": 9
        },
        {
         "Category": "Cannabis",
         "Legal?": "depends",
         "Price(USD)": 50,
         "Product Name": "1000mg - Holiday Special SUPREME Vape",
         "Seller": "DarkWeed",
         "_deepnote_index_column": 10
        },
        {
         "Category": "Cannabis",
         "Legal?": "depends",
         "Price(USD)": 60,
         "Product Name": "14 Grams (TOP QUALITY) CA FLowers",
         "Seller": "DarkWeed",
         "_deepnote_index_column": 11
        },
        {
         "Category": "Cannabis",
         "Legal?": "depends",
         "Price(USD)": 55,
         "Product Name": "5 Gram Afghan Cream Hash",
         "Seller": "DarkWeed",
         "_deepnote_index_column": 12
        },
        {
         "Category": "Cannabis",
         "Legal?": "depends",
         "Price(USD)": 50,
         "Product Name": "10 Gram - Birthday Cake / Wedding Cake",
         "Seller": "razzy",
         "_deepnote_index_column": 13
        },
        {
         "Category": "Cannabis",
         "Legal?": "depends",
         "Price(USD)": 45,
         "Product Name": "5 Gram Super Hash Super Concentrated",
         "Seller": "DarkWeed",
         "_deepnote_index_column": 14
        }
       ]
      },
      "text/html": [
       "<div>\n",
       "<style scoped>\n",
       "    .dataframe tbody tr th:only-of-type {\n",
       "        vertical-align: middle;\n",
       "    }\n",
       "\n",
       "    .dataframe tbody tr th {\n",
       "        vertical-align: top;\n",
       "    }\n",
       "\n",
       "    .dataframe thead th {\n",
       "        text-align: right;\n",
       "    }\n",
       "</style>\n",
       "<table border=\"1\" class=\"dataframe\">\n",
       "  <thead>\n",
       "    <tr style=\"text-align: right;\">\n",
       "      <th></th>\n",
       "      <th>Product Name</th>\n",
       "      <th>Category</th>\n",
       "      <th>Legal?</th>\n",
       "      <th>Price(USD)</th>\n",
       "      <th>Seller</th>\n",
       "    </tr>\n",
       "  </thead>\n",
       "  <tbody>\n",
       "    <tr>\n",
       "      <th>1</th>\n",
       "      <td>10 Gram Gelato Kush</td>\n",
       "      <td>Cannabis</td>\n",
       "      <td>depends</td>\n",
       "      <td>70</td>\n",
       "      <td>DarkWeed</td>\n",
       "    </tr>\n",
       "    <tr>\n",
       "      <th>2</th>\n",
       "      <td>20 Grams of Top Quality Moroccan Hash</td>\n",
       "      <td>Cannabis</td>\n",
       "      <td>depends</td>\n",
       "      <td>160</td>\n",
       "      <td>DarkWeed</td>\n",
       "    </tr>\n",
       "    <tr>\n",
       "      <th>3</th>\n",
       "      <td>25 Pills - Cannabis Capsules - 17.5mg</td>\n",
       "      <td>Cannabis</td>\n",
       "      <td>depends</td>\n",
       "      <td>50</td>\n",
       "      <td>DarkWeed</td>\n",
       "    </tr>\n",
       "    <tr>\n",
       "      <th>4</th>\n",
       "      <td>28 Gram Sour Diesel</td>\n",
       "      <td>Cannabis</td>\n",
       "      <td>depends</td>\n",
       "      <td>80</td>\n",
       "      <td>DarkWeed</td>\n",
       "    </tr>\n",
       "    <tr>\n",
       "      <th>5</th>\n",
       "      <td>Banana Kush 500mg 95% Pure THC Distillate Card</td>\n",
       "      <td>Cannabis</td>\n",
       "      <td>depends</td>\n",
       "      <td>80</td>\n",
       "      <td>DarkWeed</td>\n",
       "    </tr>\n",
       "    <tr>\n",
       "      <th>6</th>\n",
       "      <td>10 Gram Kosher Kush</td>\n",
       "      <td>Cannabis</td>\n",
       "      <td>depends</td>\n",
       "      <td>85</td>\n",
       "      <td>DarkWeed</td>\n",
       "    </tr>\n",
       "    <tr>\n",
       "      <th>7</th>\n",
       "      <td>10 Gram Sour Diesel, Gorilla Glue, Girl Scout</td>\n",
       "      <td>Cannabis</td>\n",
       "      <td>depends</td>\n",
       "      <td>115</td>\n",
       "      <td>DarkWeed</td>\n",
       "    </tr>\n",
       "    <tr>\n",
       "      <th>8</th>\n",
       "      <td>1000mg - Vape pen oil Gelato</td>\n",
       "      <td>Cannabis</td>\n",
       "      <td>depends</td>\n",
       "      <td>80</td>\n",
       "      <td>DarkWeed</td>\n",
       "    </tr>\n",
       "    <tr>\n",
       "      <th>9</th>\n",
       "      <td>20 Gram Hashish Ketama Top A+++ Cream Hash</td>\n",
       "      <td>Cannabis</td>\n",
       "      <td>depends</td>\n",
       "      <td>130</td>\n",
       "      <td>KUSHBANANA</td>\n",
       "    </tr>\n",
       "    <tr>\n",
       "      <th>10</th>\n",
       "      <td>1000mg - Holiday Special SUPREME Vape</td>\n",
       "      <td>Cannabis</td>\n",
       "      <td>depends</td>\n",
       "      <td>50</td>\n",
       "      <td>DarkWeed</td>\n",
       "    </tr>\n",
       "    <tr>\n",
       "      <th>11</th>\n",
       "      <td>14 Grams (TOP QUALITY) CA FLowers</td>\n",
       "      <td>Cannabis</td>\n",
       "      <td>depends</td>\n",
       "      <td>60</td>\n",
       "      <td>DarkWeed</td>\n",
       "    </tr>\n",
       "    <tr>\n",
       "      <th>12</th>\n",
       "      <td>5 Gram Afghan Cream Hash</td>\n",
       "      <td>Cannabis</td>\n",
       "      <td>depends</td>\n",
       "      <td>55</td>\n",
       "      <td>DarkWeed</td>\n",
       "    </tr>\n",
       "    <tr>\n",
       "      <th>13</th>\n",
       "      <td>10 Gram - Birthday Cake / Wedding Cake</td>\n",
       "      <td>Cannabis</td>\n",
       "      <td>depends</td>\n",
       "      <td>50</td>\n",
       "      <td>razzy</td>\n",
       "    </tr>\n",
       "    <tr>\n",
       "      <th>14</th>\n",
       "      <td>5 Gram Super Hash Super Concentrated</td>\n",
       "      <td>Cannabis</td>\n",
       "      <td>depends</td>\n",
       "      <td>45</td>\n",
       "      <td>DarkWeed</td>\n",
       "    </tr>\n",
       "  </tbody>\n",
       "</table>\n",
       "</div>"
      ],
      "text/plain": [
       "                                      Product Name  Category   Legal?  \\\n",
       "1                              10 Gram Gelato Kush  Cannabis  depends   \n",
       "2            20 Grams of Top Quality Moroccan Hash  Cannabis  depends   \n",
       "3            25 Pills - Cannabis Capsules - 17.5mg  Cannabis  depends   \n",
       "4                              28 Gram Sour Diesel  Cannabis  depends   \n",
       "5   Banana Kush 500mg 95% Pure THC Distillate Card  Cannabis  depends   \n",
       "6                              10 Gram Kosher Kush  Cannabis  depends   \n",
       "7    10 Gram Sour Diesel, Gorilla Glue, Girl Scout  Cannabis  depends   \n",
       "8                     1000mg - Vape pen oil Gelato  Cannabis  depends   \n",
       "9       20 Gram Hashish Ketama Top A+++ Cream Hash  Cannabis  depends   \n",
       "10           1000mg - Holiday Special SUPREME Vape  Cannabis  depends   \n",
       "11               14 Grams (TOP QUALITY) CA FLowers  Cannabis  depends   \n",
       "12                        5 Gram Afghan Cream Hash  Cannabis  depends   \n",
       "13          10 Gram - Birthday Cake / Wedding Cake  Cannabis  depends   \n",
       "14            5 Gram Super Hash Super Concentrated  Cannabis  depends   \n",
       "\n",
       "    Price(USD)      Seller  \n",
       "1           70    DarkWeed  \n",
       "2          160    DarkWeed  \n",
       "3           50    DarkWeed  \n",
       "4           80    DarkWeed  \n",
       "5           80    DarkWeed  \n",
       "6           85    DarkWeed  \n",
       "7          115    DarkWeed  \n",
       "8           80    DarkWeed  \n",
       "9          130  KUSHBANANA  \n",
       "10          50    DarkWeed  \n",
       "11          60    DarkWeed  \n",
       "12          55    DarkWeed  \n",
       "13          50       razzy  \n",
       "14          45    DarkWeed  "
      ]
     },
     "execution_count": 21,
     "metadata": {},
     "output_type": "execute_result"
    }
   ],
   "source": [
    "dfCannabis"
   ]
  },
  {
   "cell_type": "markdown",
   "metadata": {
    "cell_id": "3b038e036c2f43cfb4a3f4d74897314c",
    "deepnote_cell_type": "text-cell-p",
    "formattedRanges": []
   },
   "source": [
    "Table 10: Cannabis offered on Venus Marketplace "
   ]
  },
  {
   "cell_type": "markdown",
   "metadata": {
    "cell_id": "a653490fa28f4cedafb03564d5a78ff0",
    "deepnote_cell_type": "text-cell-h3",
    "formattedRanges": []
   },
   "source": [
    "### Products (reasonings)"
   ]
  },
  {
   "cell_type": "markdown",
   "metadata": {
    "cell_id": "3ceeaa4cf9154c3fb581e140b0918968",
    "deepnote_cell_type": "text-cell-p",
    "formattedRanges": [
     {
      "fromCodePoint": 0,
      "marks": {
       "bold": true
      },
      "toCodePoint": 15,
      "type": "marks"
     }
    ]
   },
   "source": [
    "The Electronics products sold on this market are all Apple phones, a laptop or a watch. The product itself is legal because it just a phone. If a customer wanted to buy it in a store they could. The catch is that they would probably pay a higher price . For example, the first iphone in the table costs about 1300 euros when bought new in Mediamarkt [2]. The refurbished version costs about 1000 euros Rebuy [3] and the one on the Venus market is 560 dollars. It can also be noticed that the storage on the phones from [2] and [3] are significantly smaller than that of the phones advertised on the venus market (128GB - Rebuy, 1Tb - Venus). The reason why the vendor is selling these phones on the black market might be because they obtained them in an illegal manner, however, the product itself is something we encounter everyday and one could buy it in a normal electronics store if they wanted to. They also may be fake products as the images show that they are brand new. The untraceability of the dark web means that buyers will not be able to do anything if it is indeed a scam. "
   ]
  },
  {
   "cell_type": "markdown",
   "metadata": {
    "cell_id": "53469b7fb2e3458c8a55b09a8cb61e09",
    "deepnote_cell_type": "text-cell-p",
    "formattedRanges": [
     {
      "fromCodePoint": 0,
      "marks": {
       "bold": true
      },
      "toCodePoint": 5,
      "type": "marks"
     }
    ]
   },
   "source": [
    "Pills on the other hand are not as harmless as a piece of electronics. The following conclusions about legality are made on the fact that using prescription pills without prescription is illegal (at least in the USA) and as well is selling them [26]. "
   ]
  },
  {
   "cell_type": "markdown",
   "metadata": {
    "cell_id": "9f423c5df5d842299fc534a68d2b3998",
    "deepnote_cell_type": "text-cell-bullet",
    "formattedRanges": [
     {
      "fromCodePoint": 538,
      "marks": {
       "italic": true
      },
      "toCodePoint": 545,
      "type": "marks"
     }
    ]
   },
   "source": [
    "- Hydrocodone is an opioid that helps relieve pain [4]. It is a prescription drug meaning that it's illegal to sell it to anyone who's doctor didn't explicitly say they needed it. The abuse of this drug can lead to opioid addiction and ruin people's lives. It's highly unethical act to sell it on the black market and next to it prohibited by law if the customer doesn't provide a prescription. It's highly unlikely that the vendor will refuse to sell this product to a customer who fails to provide a prescription which makes this product illegal in this particular situation."
   ]
  },
  {
   "cell_type": "markdown",
   "metadata": {
    "cell_id": "6dab74ad2e4a445887a3df856b7a91c7",
    "deepnote_cell_type": "text-cell-bullet",
    "formattedRanges": [
     {
      "fromCodePoint": 568,
      "marks": {
       "italic": true
      },
      "toCodePoint": 575,
      "type": "marks"
     }
    ]
   },
   "source": [
    "- Xanax is a tranquilizer used to treat anxiety disorders and panic attacks [5]. It's a prescription drug which is illegal to sell on the black market for the same reasons as hydrocodone. The amount that this seller is offering is more than enough to cause an overdose if mixed with alcohol or opioids. What many illegal vendors also do is mix the drug with something called fentanyl ( a very potent opioid ). This can lead to an overdose even if the customer doesn't knowingly mix the xanax with additional drugs. For these reasons selling xanax out of the pharmacy is illegal."
   ]
  },
  {
   "cell_type": "markdown",
   "metadata": {
    "cell_id": "f53263554e594405b4f4185914c08f7b",
    "deepnote_cell_type": "text-cell-bullet",
    "formattedRanges": [
     {
      "fromCodePoint": 272,
      "marks": {
       "italic": true
      },
      "toCodePoint": 279,
      "type": "marks"
     }
    ]
   },
   "source": [
    "- Adderall is a prescription drug most commonly used to treat ADHD [6]. It's normal dosage is from 2.5 to 60 mg per day which means that the amount offered in the add is enough to cause an overdose. Yet again for the same reasons as other prescription drugs this product is illegal to sell on the black market."
   ]
  },
  {
   "cell_type": "markdown",
   "metadata": {
    "cell_id": "b0dfa43268c34a3e958f6b56d0d9075e",
    "deepnote_cell_type": "text-cell-bullet",
    "formattedRanges": [
     {
      "fromCodePoint": 458,
      "marks": {
       "italic": true
      },
      "toCodePoint": 465,
      "type": "marks"
     }
    ]
   },
   "source": [
    "- Captagon is a drug that was used to treat ADHD, narcolepsy and as a central nervous stimulant [7]. In 1986 is main component (fenetylline) was banned in most countries when the United Nations Convention on Psychotropic Substances 1971 was passed. However, the drug kept being produced in Syria and is now sold on black markets all over the world. The fact that this drug is illegal in most countries makes this advertisement illegal as well. It is even more illegal than the drugs mentioned before because those are still used on prescription while selling of captagon is prohibited by law in any shape or form in all of the countries in the united nations. "
   ]
  },
  {
   "cell_type": "markdown",
   "metadata": {
    "cell_id": "6580545ed1854a2abb46e940f2331713",
    "deepnote_cell_type": "text-cell-bullet",
    "formattedRanges": [
     {
      "fromCodePoint": 401,
      "marks": {
       "italic": true
      },
      "toCodePoint": 408,
      "type": "marks"
     }
    ]
   },
   "source": [
    "- Pregabalin sold under the name Lyrica is an anticonvulsant used to treat epilepsy, restless leg syndrome and generalized anxiety disorder [8]. Even though Lyrica is a prescription drug, many recreational users seek for the feeling that the misuse of this drug enables. It can, just as the other mentioned opioids, lead to an overdose and it's intake should be regulated by a medical specialist. It is illegal to sell on the black market for the same reasons as other prescription drugs. "
   ]
  },
  {
   "cell_type": "markdown",
   "metadata": {
    "cell_id": "a5b28c5c82444a2a84ae6c18b4e41243",
    "deepnote_cell_type": "text-cell-bullet",
    "formattedRanges": [
     {
      "fromCodePoint": 244,
      "marks": {
       "italic": true
      },
      "toCodePoint": 251,
      "type": "marks"
     }
    ]
   },
   "source": [
    "- Methadone is an opioid used to treat chronic pain and opioid dependance [9]. It is a prescription drug and with a 100 pills of methadone a person can overdose, start selling it or develop an opioid addiction. It is for these reasons that it is illegal to sell it on the black market to customers without a doctor's instruction."
   ]
  },
  {
   "cell_type": "markdown",
   "metadata": {
    "cell_id": "894a0ead1a1d4aeda4ff32a23fe0be4c",
    "deepnote_cell_type": "text-cell-bullet",
    "formattedRanges": [
     {
      "fromCodePoint": 215,
      "marks": {
       "italic": true
      },
      "toCodePoint": 222,
      "type": "marks"
     }
    ]
   },
   "source": [
    "- Morphine is a potent opioid that is naturally found in opium used to treat pain in hospitals. It is habit forming and frequently misused. If one was to buy it, they would need a doctor's prescription. It is just as illegal to sell it as captagon or xanax."
   ]
  },
  {
   "cell_type": "markdown",
   "metadata": {
    "cell_id": "412981bf77894dc0b8cc6b6315647fa6",
    "deepnote_cell_type": "text-cell-bullet",
    "formattedRanges": [
     {
      "fromCodePoint": 133,
      "marks": {
       "italic": true
      },
      "toCodePoint": 140,
      "type": "marks"
     }
    ]
   },
   "source": [
    "- Oxycodone is an opioid to treat moderate severe pain and is highly addictive [10]. It can only be get on prescription which makes it illegal to sell without asking to see customers prescription which most vendors probably don't do. "
   ]
  },
  {
   "cell_type": "markdown",
   "metadata": {
    "cell_id": "d968858c147f4b59bd403db79a0f3fb8",
    "deepnote_cell_type": "text-cell-bullet",
    "formattedRanges": []
   },
   "source": [
    "- Ritalin is a prescription drug used to treat ADHD. Same as the other prescription drugs it is illegal to sell to people with out prescription."
   ]
  },
  {
   "cell_type": "markdown",
   "metadata": {
    "cell_id": "dd609f1b6e9e4aefaea6f0aca5cca6c0",
    "deepnote_cell_type": "text-cell-bullet",
    "formattedRanges": []
   },
   "source": [
    "- Suboxone is used to treat opioid use disorder [11]. It is a prescription drug and is therefore illegal to be sold to people without it."
   ]
  },
  {
   "cell_type": "markdown",
   "metadata": {
    "cell_id": "d753c6659b374414877670a2270ca6f4",
    "deepnote_cell_type": "text-cell-bullet",
    "formattedRanges": [
     {
      "fromCodePoint": 74,
      "marks": {
       "italic": true
      },
      "toCodePoint": 81,
      "type": "marks"
     }
    ]
   },
   "source": [
    "- Targin is a brand name for oxycodone/naloxone which was already deemed as illegal in the discussion of product 8 from Table 2."
   ]
  },
  {
   "cell_type": "markdown",
   "metadata": {
    "cell_id": "fff58d514b4a46409b9e7dfa9ec3ab0a",
    "deepnote_cell_type": "text-cell-bullet",
    "formattedRanges": [
     {
      "fromCodePoint": 327,
      "marks": {
       "italic": true
      },
      "toCodePoint": 335,
      "type": "marks"
     }
    ]
   },
   "source": [
    "- Testosterone Enanthate is synthetic form of the hormone testosterone and is used as medication for hormone replacement therapy but they are heavily regulated since can lead to serious side effects. It has also been used illegally by athletes to enhance their performance and hence buying testosterone without a prescription is illegal."
   ]
  },
  {
   "cell_type": "markdown",
   "metadata": {
    "cell_id": "01ad9e1dc5bd4b4b839a81b9fa7c5d88",
    "deepnote_cell_type": "text-cell-bullet",
    "formattedRanges": [
     {
      "fromCodePoint": 314,
      "marks": {
       "italic": true
      },
      "toCodePoint": 322,
      "type": "marks"
     }
    ]
   },
   "source": [
    "- Tramadol is a opioid pain reliever used for short-term relief of severe pain and can only be obtained with a prescription from authorized parties [12]. Like other opioid based pills, it can be easy to get addicted to them and hence it is not available to the general public and selling them on the black market is illegal."
   ]
  },
  {
   "cell_type": "markdown",
   "metadata": {
    "cell_id": "3cb75becb69f437abda23bf657da1952",
    "deepnote_cell_type": "text-cell-bullet",
    "formattedRanges": [
     {
      "fromCodePoint": 172,
      "marks": {
       "italic": true
      },
      "toCodePoint": 179,
      "type": "marks"
     }
    ]
   },
   "source": [
    "- Valium is the brand name for diazepam which is a prescription medicine used to treat anxiety, alcohol withdrawals, and seizures [13]. Since a prescription is needed, it is illegal to sell them on the black market."
   ]
  },
  {
   "cell_type": "markdown",
   "metadata": {
    "cell_id": "9d62b0fe26644ac9ad118af68b6f79d2",
    "deepnote_cell_type": "text-cell-p",
    "formattedRanges": [
     {
      "fromCodePoint": 37,
      "marks": {
       "bold": true
      },
      "toCodePoint": 45,
      "type": "marks"
     },
     {
      "fromCodePoint": 205,
      "marks": {
       "italic": true
      },
      "toCodePoint": 212,
      "type": "marks"
     }
    ]
   },
   "source": [
    "The marketplace sold a variety of 14 cannabis products. These could be further sub-categorized into: Weed (4), Hash (4), Kush(2), Vapes (3) and Capsules (1). The legality of these products on the dark web depends on each country’s specific cannabis laws and regulations. In most cases though, it’s illegal. In the Netherlands for example, it is illegal to possess, sell or produce cannabis. Though, they have a policy of toleration which means that small quantities of soft drugs can be sold in coffeeshops and they won’t be prosecuted. Similarly in Canada, cannabis is legal for recreational and medicinal reasons but there are limits, and they can only be sold by authorized cannabis retailers."
   ]
  },
  {
   "cell_type": "markdown",
   "metadata": {
    "cell_id": "fde82629be3e4dd981038c8f5ba85a14",
    "deepnote_cell_type": "text-cell-p",
    "formattedRanges": [
     {
      "fromCodePoint": 16,
      "marks": {
       "bold": true
      },
      "toCodePoint": 26,
      "type": "marks"
     }
    ]
   },
   "source": [
    "The legality of stimulants can be tricky since it depends on a couple of factors such as each country's specific laws and the intended use of these stimulants."
   ]
  },
  {
   "cell_type": "markdown",
   "metadata": {
    "cell_id": "a6836624564b458baf914310aa40b3e7",
    "deepnote_cell_type": "text-cell-bullet",
    "formattedRanges": [
     {
      "fromCodePoint": 482,
      "marks": {
       "italic": true
      },
      "toCodePoint": 489,
      "type": "marks"
     }
    ]
   },
   "source": [
    "- GHB is a nervous system depressant that causes drowsiness and is used to treat sleeping disorders. It is more popularly known by its street name \"liquid ecstasy\". The only current legal use of GHB is in Canada and is used to treat narcolepsy. Since it is in liquid form, it is easy to keep consuming and easy to slip into drinks of other victims since GHB may also cause amnesia when mixed with alcohol or other drugs. Due to its lethal effects and ease of overdosing on GHB, it is illegal all over the world. [14]"
   ]
  },
  {
   "cell_type": "markdown",
   "metadata": {
    "cell_id": "82a4657b95fa4956998c2afdba2ca7db",
    "deepnote_cell_type": "text-cell-bullet",
    "formattedRanges": [
     {
      "fromCodePoint": 749,
      "marks": {
       "italic": true
      },
      "toCodePoint": 757,
      "type": "marks"
     }
    ]
   },
   "source": [
    "- Cocaine is a powerful addictive stimulant drug made from the leaves of the coco plant, native to South America [15]. Although the possession, sale, and transport of cocaine is illegal in most countries, there are some exceptions. For example, in some South American countries, possession is legal or decriminalized for private use in small amounts but sale and transport is still illegal. In other parts of the world such as Australia and Germany, it is legal or decriminalized only if its sole purpose is for medical reasons. With that being said, the countries that do allow possession of cocaine has their own limits but even then, the highest is 2 grams in Peru and the ones being sold in Venus Marketplace is all above 2 grams which makes them illegal products. [16]"
   ]
  },
  {
   "cell_type": "markdown",
   "metadata": {
    "cell_id": "0d61f3417e8a41688d3deecb5d145312",
    "deepnote_cell_type": "text-cell-bullet",
    "formattedRanges": [
     {
      "fromCodePoint": 339,
      "marks": {
       "italic": true
      },
      "toCodePoint": 346,
      "type": "marks"
     }
    ]
   },
   "source": [
    "- Crystal Meth is the common name for crystal methamphetamine which is a highly addictive drugs that effects the central nervous system and is illegal in most countries. The only currently known legal use for meth is to treat ADHD and is only available with a doctor's prescription [17]. For these reasons, selling meth without a license is illegal."
   ]
  },
  {
   "cell_type": "markdown",
   "metadata": {
    "cell_id": "4394dfced43946b484e12c1cb6414dcc",
    "deepnote_cell_type": "text-cell-bullet",
    "formattedRanges": [
     {
      "fromCodePoint": 243,
      "marks": {
       "italic": true
      },
      "toCodePoint": 252,
      "type": "marks"
     }
    ]
   },
   "source": [
    "- Ketamine is mainly used as an anesthesia since it can cause dissociation from reality and may lead to hallucinations when used in large amounts. Due to these effects, ketamine in large amount could be fatal, and non-medical use of ketamine is illegal. [18]"
   ]
  },
  {
   "cell_type": "markdown",
   "metadata": {
    "cell_id": "bd172abf89164ee1b88a4779d7fe7f39",
    "deepnote_cell_type": "text-cell-bullet",
    "formattedRanges": [
     {
      "fromCodePoint": 259,
      "marks": {
       "italic": true
      },
      "toCodePoint": 266,
      "type": "marks"
     }
    ]
   },
   "source": [
    "- MDMA/Molly/Ecstasy are interchangeable terms for the same stimulant drug that causes people to feel high and may lead to hallucinations. These drugs are popular in club and party cultures to enhance the feeling of having fun yet due to its side effect, it is illegal in most countries. [19]"
   ]
  },
  {
   "cell_type": "markdown",
   "metadata": {
    "cell_id": "cd88488327eb4a379de47a3d22d7d45c",
    "deepnote_cell_type": "text-cell-bullet",
    "formattedRanges": [
     {
      "fromCodePoint": 507,
      "marks": {
       "italic": true
      },
      "toCodePoint": 524,
      "type": "marks"
     },
     {
      "fromCodePoint": 724,
      "marks": {
       "italic": true
      },
      "toCodePoint": 733,
      "type": "marks"
     }
    ]
   },
   "source": [
    "- Cyanide is a chemical that when exposed to large amounts interferes with the body's ability to properly use oxygen which makes it one of the deadliest substances to exist. With that being said, cyanide is also used in different textile industries, metal plating industries and much more. Due to its fatal potentials and effects, cyanide is heavily regulated in most countries and the legality depends on the type of cyanide you plan to purchase. For these reasons, since the cyanide listed in the market is technical cyanide, if it is actually used for its intended purpose and if the buyer's country allows the purchase of cyanide for non-malicious reasons, it is legal, if not then it is illegal. In short, once again, it depends. [20]"
   ]
  },
  {
   "cell_type": "markdown",
   "metadata": {
    "cell_id": "c284b49b705548c482544475cdbe8bc9",
    "deepnote_cell_type": "text-cell-p",
    "formattedRanges": [
     {
      "fromCodePoint": 37,
      "marks": {
       "bold": true
      },
      "toCodePoint": 49,
      "type": "marks"
     },
     {
      "fromCodePoint": 65,
      "marks": {
       "bold": true
      },
      "toCodePoint": 66,
      "type": "marks"
     },
     {
      "fromCodePoint": 596,
      "marks": {
       "italic": true
      },
      "toCodePoint": 603,
      "type": "marks"
     },
     {
      "fromCodePoint": 639,
      "marks": {
       "italic": true
      },
      "toCodePoint": 646,
      "type": "marks"
     }
    ]
   },
   "source": [
    "Venus marketplace offers 5 different psychedelics products namely DMT and LSD. While DMT is generally illegal in most parts of the world, religious groups have been exempted from these rules for religious reasons. Although some states in the US have decriminalized DMT, buying DMT is still considered illegal even if you won't be charged with a criminal offense [21]. In Switzerland, LSD-assisted therapy and using LSD to help treat patients with PTSD has been ongoing for a couple years but they need to get approval from the government to prevent potential overdoses [22]. In short, buying DMT depends on the country's laws while LSD is illegal since it needs to be through an authorized seller which black market vendors most likely do not have."
   ]
  },
  {
   "cell_type": "markdown",
   "metadata": {
    "cell_id": "e751706a7f31405baaad2bdd88a2cab6",
    "deepnote_cell_type": "text-cell-p",
    "formattedRanges": [
     {
      "fromCodePoint": 8,
      "marks": {
       "bold": true
      },
      "toCodePoint": 23,
      "type": "marks"
     },
     {
      "fromCodePoint": 631,
      "marks": {
       "italic": true
      },
      "toCodePoint": 638,
      "type": "marks"
     }
    ]
   },
   "source": [
    "Several money transfers from different platforms and services such as PayPal, Western Union, and MoneyGram can be found in which the money transferred and the price you pay differs significantly anywhere from an 8 times gain to a 20 times gain. The money used in these transactions are often associated with money laundering or other illegal activities and those who purchase money transfers on black markets are often looking for a way to cover their tracks and make untraceable transactions. Money laundering and untraceable transactions are illegal world wide, making both selling and buying money transfers on the black market illegal."
   ]
  },
  {
   "cell_type": "markdown",
   "metadata": {
    "cell_id": "dd5ae0321c6a4973bc45f21b0949fe5f",
    "deepnote_cell_type": "text-cell-p",
    "formattedRanges": [
     {
      "fromCodePoint": 18,
      "marks": {
       "bold": true
      },
      "toCodePoint": 30,
      "type": "marks"
     },
     {
      "fromCodePoint": 35,
      "marks": {
       "bold": true
      },
      "toCodePoint": 48,
      "type": "marks"
     },
     {
      "fromCodePoint": 273,
      "marks": {
       "italic": true
      },
      "toCodePoint": 280,
      "type": "marks"
     },
     {
      "fromCodePoint": 715,
      "marks": {
       "italic": true
      },
      "toCodePoint": 722,
      "type": "marks"
     },
     {
      "fromCodePoint": 929,
      "marks": {
       "italic": true
      },
      "toCodePoint": 934,
      "type": "marks"
     }
    ]
   },
   "source": [
    "There are several credit cards and prepaid cards offered on the market and deciding whether or not these are legal or illegal products can be tricky. Credit cards are always linked to an individual and their personal information which makes it both selling and buying them illegal in several ways. As mentioned, credit cards contain personal information and if you are buying credit cards from a black market, it is because you do not want your real identity linked with the card and hence will use someone else's identity. Additionally, the credit cards sold on the market are most likely stolen or counterfeit cards. Selling stolen or counterfeit items along with committing identity theft is in no circumstances illegal and will most likely end in jail. On the other hand, prepaid cards are not linked to an individual and almost acts the same way as gift cards. As mentioned in the electronics section, the product itself is legal even though the way in which the product is obtained may be illegal hence the drastic price difference between prepaid cards sold on overground markets and black markets. However, if it is in fact a scam, buyers can't run to the police since they bought it on a black market."
   ]
  },
  {
   "cell_type": "markdown",
   "metadata": {
    "cell_id": "2b66f1154ac442e6a919d5b7889fe191",
    "deepnote_cell_type": "text-cell-p",
    "formattedRanges": [
     {
      "fromCodePoint": 44,
      "marks": {
       "bold": true
      },
      "toCodePoint": 51,
      "type": "marks"
     },
     {
      "fromCodePoint": 1163,
      "marks": {
       "italic": true
      },
      "toCodePoint": 1170,
      "type": "marks"
     }
    ]
   },
   "source": [
    "Venus marketplace offers a small variety of weapons such as guns and bullets. In most countries, weapons are regulated and individuals need a permit to buy and carry certain weapons while some weapons remain fully illegal or require a different type of permit. The rules and permit requirements differ from country to country which make the legality of buying and selling weapons on the black market a bit difficult. For example, in the United States, you need to have a license or permit depending on the firearm you plan on purchasing but you do not need a permit to buy bullets while you need a permit to buy both bullets and guns in the Netherlands [23]. The legality of weapons also depend on the type of firearm. One example could be the fact that AK-47 is illegal and are only used by military personnel but the Glock17 and Beretta 92FS are fine if you have a permit. Although some of these products may technically be legal under the right conditions, the way in which they were obtained may be illegal. Additionally, some of the guns sold in black markets may have the serial number removed or altered which makes it illegal to sell them. Ultimately, it depends."
   ]
  },
  {
   "cell_type": "markdown",
   "metadata": {
    "cell_id": "1f8dc12fd50b4d4ebf0dda343d6d8ea2",
    "deepnote_cell_type": "text-cell-p",
    "formattedRanges": [
     {
      "fromCodePoint": 0,
      "marks": {
       "bold": true
      },
      "toCodePoint": 10,
      "type": "marks"
     },
     {
      "fromCodePoint": 14,
      "marks": {
       "bold": true
      },
      "toCodePoint": 22,
      "type": "marks"
     },
     {
      "fromCodePoint": 231,
      "marks": {
       "italic": true
      },
      "toCodePoint": 238,
      "type": "marks"
     }
    ]
   },
   "source": [
    "Passports and ID Cards from USA, UAE, Canada, Chile, Germany, Turkey, and Uruguay can be found on the market for 300 dollars (both passport and ID Card combined) for each nationality. Passports and ID cards on the black market are illegal since they are used for identity theft, illegal immigration or to hide from law enforcements. A new passport from these countries cost approximately between 84 to 200 dollars [24] while ID card cost ranges from 0 to 40 dollars and hence there is no reason someone would buy passports or ID from a black market unless they are up to something shady."
   ]
  },
  {
   "cell_type": "markdown",
   "metadata": {
    "cell_id": "af0da693b6434b50ac9379ab3b0de09b",
    "deepnote_cell_type": "text-cell-p",
    "formattedRanges": [
     {
      "fromCodePoint": 4,
      "marks": {
       "bold": true
      },
      "toCodePoint": 12,
      "type": "marks"
     },
     {
      "fromCodePoint": 919,
      "marks": {
       "italic": true
      },
      "toCodePoint": 926,
      "type": "marks"
     }
    ]
   },
   "source": [
    "The Services offered in Venus Marketplace is social media hacking ranging from hacking Instagram, Facebook and Twitter, now X. For most people the quick answer would be that it is illegal. The correct answer would be that it depends. To answer we must first define what hacking means. According to the Cambridge Dictionary, hacking is to get into someone else's personal device without permission [25]. Based on this definition, it is then possible to hire hacking services to obtain access to someone's social media account as long as permission is acquired. This permission however is not just from the account holders but also from the social media platforms since there are terms of services in place. In short, if permission is acquired from all parties, then hacking services may be hired. If no permission was obtained or permission was obtained partially, it would then be considered illegal. To simply put it, depends.  "
   ]
  },
  {
   "cell_type": "code",
   "execution_count": 22,
   "metadata": {
    "cell_id": "ce1111fbcb2d4360a89825788c5c6759",
    "deepnote_cell_type": "code",
    "deepnote_to_be_reexecuted": false,
    "execution_millis": 484,
    "execution_start": 1697050871272,
    "source_hash": "964b7a0"
   },
   "outputs": [
    {
     "data": {
      "image/png": "[encoded data removed]",
      "text/plain": [
       "<Figure size 640x480 with 1 Axes>"
      ]
     },
     "metadata": {
      "image/png": {
       "height": 555,
       "width": 562
      }
     },
     "output_type": "display_data"
    }
   ],
   "source": [
    "\n",
    "categories = ['Electronics','Pills','Stimulants','Psychedelics','Money Transfers','Credit cards','Weapons','ID','Services']\n",
    "howmuch =[8,30,45,5,15,5,5,7,3]\n",
    "\n",
    "# Sort data based on transaction counts\n",
    "sorted_indices = sorted(range(len(categories)), key=lambda k: howmuch[k], reverse=True)\n",
    "sorted_categories = [categories[i] for i in sorted_indices]\n",
    "sorted_howmuch = [howmuch[i] for i in sorted_indices]\n",
    "\n",
    "\n",
    "# Creation of graph\n",
    "plt.bar(sorted_categories, sorted_howmuch, color='green')\n",
    "plt.xlabel('Category')\n",
    "plt.ylabel('Number of Articles')\n",
    "plt.title('How much of what is sold on Venus Marketplace')\n",
    "\n",
    "plt.xticks(rotation=80)\n",
    "plt.show()"
   ]
  },
  {
   "cell_type": "markdown",
   "metadata": {
    "cell_id": "1abbc8dad4ad47a6b18482a7b6355f67",
    "deepnote_cell_type": "text-cell-p",
    "formattedRanges": []
   },
   "source": [
    "Graph 1: How much of which category is sold on the Venus Marketplace"
   ]
  },
  {
   "cell_type": "markdown",
   "metadata": {
    "cell_id": "6637b43abe2a4dbe93e18177facaa51a",
    "deepnote_cell_type": "text-cell-h2",
    "formattedRanges": []
   },
   "source": [
    "## Most surprising products"
   ]
  },
  {
   "cell_type": "markdown",
   "metadata": {
    "cell_id": "1d8a31939de54adbaf873657ec4ace3b",
    "deepnote_cell_type": "text-cell-p",
    "formattedRanges": []
   },
   "source": [
    "This was a relatively small marketplace that sold standard dark web products, namely drugs. But the team were surprised with some other products on offer."
   ]
  },
  {
   "cell_type": "markdown",
   "metadata": {
    "cell_id": "0697327297764f91ace30cb2525c6b91",
    "deepnote_cell_type": "text-cell-p",
    "formattedRanges": []
   },
   "source": [
    "1. AK47. The marketplace has only a few weapons for sale from small pistols to this AK47, with piece of paper for scale!"
   ]
  },
  {
   "cell_type": "markdown",
   "metadata": {
    "cell_id": "da10527abade4f3898921592996d5cde",
    "deepnote_cell_type": "image",
    "deepnote_img_src": "image-20231010-224126.png"
   },
   "source": [
    "![](weapon.png)"
   ]
  },
  {
   "cell_type": "markdown",
   "metadata": {
    "cell_id": "fd3fb6e9e1e44aad96a74ab70929781e",
    "deepnote_cell_type": "text-cell-p",
    "formattedRanges": []
   },
   "source": [
    "2. Credit Cards with high balances such as this listing for a card with $5000. This one was the most value for money with a 20 times gain. "
   ]
  },
  {
   "attachments": {},
   "cell_type": "markdown",
   "metadata": {
    "cell_id": "42060d74a81e4d1cb91c083ce1fe8e40",
    "deepnote_cell_type": "image",
    "deepnote_img_src": "image-20231010-223922.png"
   },
   "source": [
    "![](cards.png)"
   ]
  },
  {
   "cell_type": "markdown",
   "metadata": {
    "cell_id": "524b2b6885ba4f4f86f97812ebaf5b5f",
    "deepnote_cell_type": "text-cell-p",
    "formattedRanges": []
   },
   "source": [
    "3. Hacking Services. Besides physical products, you can also hire someone to hack into the Twitter account of your choice. "
   ]
  },
  {
   "cell_type": "markdown",
   "metadata": {
    "cell_id": "6d82d9c2c4b64119bb791203a1ac4e9b",
    "deepnote_cell_type": "image",
    "deepnote_img_src": "image-20231010-224633.png"
   },
   "source": [
    "![](hacker.png)"
   ]
  },
  {
   "cell_type": "markdown",
   "metadata": {
    "cell_id": "248c2555c1ca422db768916da53c995c",
    "deepnote_cell_type": "text-cell-h2",
    "formattedRanges": []
   },
   "source": [
    "## Sellers"
   ]
  },
  {
   "cell_type": "markdown",
   "metadata": {
    "cell_id": "5545f3032a9d4746a00e558d801b727b",
    "deepnote_cell_type": "text-cell-p",
    "formattedRanges": []
   },
   "source": [
    "One of the aims of this assignment was to also investigate the sellers on the market. Firstly, let us compare the sellers mentioned in the tables above and rank them by the number of successful transaction they've had so far:"
   ]
  },
  {
   "cell_type": "code",
   "execution_count": 23,
   "metadata": {
    "cell_id": "39c841f90f1f416db5d971ed2574edfd",
    "deepnote_cell_type": "code",
    "deepnote_to_be_reexecuted": false,
    "execution_millis": 59,
    "execution_start": 1697050871509,
    "source_hash": "20cd1741"
   },
   "outputs": [],
   "source": [
    "sellers={\n",
    "    'Seller Name':['Green Garden', 'CapitalPharmacy','ByPGN', 'FlexxCocaine','kite','FactChill','trailblazer','Adis1990','ColombianCokeCO','Plamorica','dmtdex','D1BODE','urieL','xarthe33','predator','CaptainTransfers','Jdkcarding','Capri-Guns','DarkWorldCitizenship','DarkWeed','KUSHBANANA','razzy','T4ZZ','MASTOK','hardcoke','DAGO37','Bulls','for4dream', 'SpliceCoke'],\n",
    "    'Nr. transactions':[214,3276,577,886,649,185,593,271,235,132,283,185,474,532,305,1383,523,117,893,1865,419,249,644,112,248,241,524,678,685],\n",
    "    'Category' : ['Electronics','Pills','Pills','Stimulants','Stimulants','Stimulants','Stimulants','Stimulants','Stimulants','Stimulants','Psychedelics','Psychedelics','Psychedelics','Psychedelics','Psychedelics','Money Transfers','Credit Cards','Weapons','Identifications','Cannabis','Cannabis','Cannabis','Stimulants','Stimulants','Stimulants','Stimulants','Stimulants','Stimulants','Stimulants'],\n",
    "    'Member since' : ['05.12.2022','28.04.2021','23.05.2022','17.09.2020','18.12.2020','13.07.2022','04.06.2021','23.07.2023','23.02.2023','08.03.2023','11.08.2022','08.02.2023','07.11.2021','27.01.2023','16.10.2022','11.08.2022','22.08.2022','13.06.2022','16.07.2022','08.11.2020','04.09.2021','27.06.2021','24.02.2021','21.08.2021','09.04.2022','13.07.2022','23.04.2022','27.05.2022','26.09.2022']\n",
    "}\n",
    "\n",
    "Sellers = pd.DataFrame(sellers)\n"
   ]
  },
  {
   "cell_type": "code",
   "execution_count": 24,
   "metadata": {
    "cell_id": "276a019a463b4232a6e369e752b326cb",
    "deepnote_cell_type": "code",
    "deepnote_to_be_reexecuted": false,
    "execution_millis": 262,
    "execution_start": 1697050871527,
    "source_hash": "b51e50f4"
   },
   "outputs": [],
   "source": [
    "Sellers_sorted = Sellers.sort_values(by='Nr. transactions', ascending=False)\n",
    "Sellers_sorted.index=range(1, len(Sellers)+1)"
   ]
  },
  {
   "cell_type": "code",
   "execution_count": 25,
   "metadata": {
    "cell_id": "7b7ea857fb2643c195dabc65ed66f8e4",
    "deepnote_cell_type": "code",
    "deepnote_table_loading": false,
    "deepnote_table_state": {
     "filters": [],
     "pageIndex": 0,
     "pageSize": 50,
     "sortBy": [
      {
       "id": "Nr. transactions",
       "type": "desc"
      }
     ]
    },
    "deepnote_to_be_reexecuted": false,
    "execution_millis": 37,
    "execution_start": 1697050871531,
    "source_hash": "3afe7465"
   },
   "outputs": [
    {
     "data": {
      "application/vnd.deepnote.dataframe.v3+json": {
       "column_count": 4,
       "columns": [
        {
         "dtype": "object",
         "name": "Seller Name",
         "stats": {
          "categories": [
           {
            "count": 1,
            "name": "CapitalPharmacy"
           },
           {
            "count": 1,
            "name": "DarkWeed"
           },
           {
            "count": 27,
            "name": "27 others"
           }
          ],
          "nan_count": 0,
          "unique_count": 29
         }
        },
        {
         "dtype": "int64",
         "name": "Nr. transactions",
         "stats": {
          "histogram": [
           {
            "bin_end": 428.4,
            "bin_start": 112,
            "count": 14
           },
           {
            "bin_end": 744.8,
            "bin_start": 428.4,
            "count": 10
           },
           {
            "bin_end": 1061.1999999999998,
            "bin_start": 744.8,
            "count": 2
           },
           {
            "bin_end": 1377.6,
            "bin_start": 1061.1999999999998,
            "count": 0
           },
           {
            "bin_end": 1694,
            "bin_start": 1377.6,
            "count": 1
           },
           {
            "bin_end": 2010.3999999999999,
            "bin_start": 1694,
            "count": 1
           },
           {
            "bin_end": 2326.7999999999997,
            "bin_start": 2010.3999999999999,
            "count": 0
           },
           {
            "bin_end": 2643.2,
            "bin_start": 2326.7999999999997,
            "count": 0
           },
           {
            "bin_end": 2959.6,
            "bin_start": 2643.2,
            "count": 0
           },
           {
            "bin_end": 3276,
            "bin_start": 2959.6,
            "count": 1
           }
          ],
          "max": "3276",
          "min": "112",
          "nan_count": 0,
          "unique_count": 28
         }
        },
        {
         "dtype": "object",
         "name": "Category",
         "stats": {
          "categories": [
           {
            "count": 14,
            "name": "Stimulants"
           },
           {
            "count": 5,
            "name": "Psychedelics"
           },
           {
            "count": 10,
            "name": "7 others"
           }
          ],
          "nan_count": 0,
          "unique_count": 9
         }
        },
        {
         "dtype": "object",
         "name": "Member since",
         "stats": {
          "categories": [
           {
            "count": 2,
            "name": "11.08.2022"
           },
           {
            "count": 2,
            "name": "13.07.2022"
           },
           {
            "count": 25,
            "name": "25 others"
           }
          ],
          "nan_count": 0,
          "unique_count": 27
         }
        },
        {
         "dtype": "int64",
         "name": "_deepnote_index_column"
        }
       ],
       "row_count": 29,
       "rows": [
        {
         "Category": "Pills",
         "Member since": "28.04.2021",
         "Nr. transactions": 3276,
         "Seller Name": "CapitalPharmacy",
         "_deepnote_index_column": 1
        },
        {
         "Category": "Cannabis",
         "Member since": "08.11.2020",
         "Nr. transactions": 1865,
         "Seller Name": "DarkWeed",
         "_deepnote_index_column": 2
        },
        {
         "Category": "Money Transfers",
         "Member since": "11.08.2022",
         "Nr. transactions": 1383,
         "Seller Name": "CaptainTransfers",
         "_deepnote_index_column": 3
        },
        {
         "Category": "Identifications",
         "Member since": "16.07.2022",
         "Nr. transactions": 893,
         "Seller Name": "DarkWorldCitizenship",
         "_deepnote_index_column": 4
        },
        {
         "Category": "Stimulants",
         "Member since": "17.09.2020",
         "Nr. transactions": 886,
         "Seller Name": "FlexxCocaine",
         "_deepnote_index_column": 5
        },
        {
         "Category": "Stimulants",
         "Member since": "26.09.2022",
         "Nr. transactions": 685,
         "Seller Name": "SpliceCoke",
         "_deepnote_index_column": 6
        },
        {
         "Category": "Stimulants",
         "Member since": "27.05.2022",
         "Nr. transactions": 678,
         "Seller Name": "for4dream",
         "_deepnote_index_column": 7
        },
        {
         "Category": "Stimulants",
         "Member since": "18.12.2020",
         "Nr. transactions": 649,
         "Seller Name": "kite",
         "_deepnote_index_column": 8
        },
        {
         "Category": "Stimulants",
         "Member since": "24.02.2021",
         "Nr. transactions": 644,
         "Seller Name": "T4ZZ",
         "_deepnote_index_column": 9
        },
        {
         "Category": "Stimulants",
         "Member since": "04.06.2021",
         "Nr. transactions": 593,
         "Seller Name": "trailblazer",
         "_deepnote_index_column": 10
        },
        {
         "Category": "Pills",
         "Member since": "23.05.2022",
         "Nr. transactions": 577,
         "Seller Name": "ByPGN",
         "_deepnote_index_column": 11
        },
        {
         "Category": "Psychedelics",
         "Member since": "27.01.2023",
         "Nr. transactions": 532,
         "Seller Name": "xarthe33",
         "_deepnote_index_column": 12
        },
        {
         "Category": "Stimulants",
         "Member since": "23.04.2022",
         "Nr. transactions": 524,
         "Seller Name": "Bulls",
         "_deepnote_index_column": 13
        },
        {
         "Category": "Credit Cards",
         "Member since": "22.08.2022",
         "Nr. transactions": 523,
         "Seller Name": "Jdkcarding",
         "_deepnote_index_column": 14
        },
        {
         "Category": "Psychedelics",
         "Member since": "07.11.2021",
         "Nr. transactions": 474,
         "Seller Name": "urieL",
         "_deepnote_index_column": 15
        },
        {
         "Category": "Cannabis",
         "Member since": "04.09.2021",
         "Nr. transactions": 419,
         "Seller Name": "KUSHBANANA",
         "_deepnote_index_column": 16
        },
        {
         "Category": "Psychedelics",
         "Member since": "16.10.2022",
         "Nr. transactions": 305,
         "Seller Name": "predator",
         "_deepnote_index_column": 17
        },
        {
         "Category": "Psychedelics",
         "Member since": "11.08.2022",
         "Nr. transactions": 283,
         "Seller Name": "dmtdex",
         "_deepnote_index_column": 18
        },
        {
         "Category": "Stimulants",
         "Member since": "23.07.2023",
         "Nr. transactions": 271,
         "Seller Name": "Adis1990",
         "_deepnote_index_column": 19
        },
        {
         "Category": "Cannabis",
         "Member since": "27.06.2021",
         "Nr. transactions": 249,
         "Seller Name": "razzy",
         "_deepnote_index_column": 20
        },
        {
         "Category": "Stimulants",
         "Member since": "09.04.2022",
         "Nr. transactions": 248,
         "Seller Name": "hardcoke",
         "_deepnote_index_column": 21
        },
        {
         "Category": "Stimulants",
         "Member since": "13.07.2022",
         "Nr. transactions": 241,
         "Seller Name": "DAGO37",
         "_deepnote_index_column": 22
        },
        {
         "Category": "Stimulants",
         "Member since": "23.02.2023",
         "Nr. transactions": 235,
         "Seller Name": "ColombianCokeCO",
         "_deepnote_index_column": 23
        },
        {
         "Category": "Electronics",
         "Member since": "05.12.2022",
         "Nr. transactions": 214,
         "Seller Name": "Green Garden",
         "_deepnote_index_column": 24
        },
        {
         "Category": "Psychedelics",
         "Member since": "08.02.2023",
         "Nr. transactions": 185,
         "Seller Name": "D1BODE",
         "_deepnote_index_column": 25
        },
        {
         "Category": "Stimulants",
         "Member since": "13.07.2022",
         "Nr. transactions": 185,
         "Seller Name": "FactChill",
         "_deepnote_index_column": 26
        },
        {
         "Category": "Stimulants",
         "Member since": "08.03.2023",
         "Nr. transactions": 132,
         "Seller Name": "Plamorica",
         "_deepnote_index_column": 27
        },
        {
         "Category": "Weapons",
         "Member since": "13.06.2022",
         "Nr. transactions": 117,
         "Seller Name": "Capri-Guns",
         "_deepnote_index_column": 28
        },
        {
         "Category": "Stimulants",
         "Member since": "21.08.2021",
         "Nr. transactions": 112,
         "Seller Name": "MASTOK",
         "_deepnote_index_column": 29
        }
       ]
      },
      "text/html": [
       "<div>\n",
       "<style scoped>\n",
       "    .dataframe tbody tr th:only-of-type {\n",
       "        vertical-align: middle;\n",
       "    }\n",
       "\n",
       "    .dataframe tbody tr th {\n",
       "        vertical-align: top;\n",
       "    }\n",
       "\n",
       "    .dataframe thead th {\n",
       "        text-align: right;\n",
       "    }\n",
       "</style>\n",
       "<table border=\"1\" class=\"dataframe\">\n",
       "  <thead>\n",
       "    <tr style=\"text-align: right;\">\n",
       "      <th></th>\n",
       "      <th>Seller Name</th>\n",
       "      <th>Nr. transactions</th>\n",
       "      <th>Category</th>\n",
       "      <th>Member since</th>\n",
       "    </tr>\n",
       "  </thead>\n",
       "  <tbody>\n",
       "    <tr>\n",
       "      <th>1</th>\n",
       "      <td>CapitalPharmacy</td>\n",
       "      <td>3276</td>\n",
       "      <td>Pills</td>\n",
       "      <td>28.04.2021</td>\n",
       "    </tr>\n",
       "    <tr>\n",
       "      <th>2</th>\n",
       "      <td>DarkWeed</td>\n",
       "      <td>1865</td>\n",
       "      <td>Cannabis</td>\n",
       "      <td>08.11.2020</td>\n",
       "    </tr>\n",
       "    <tr>\n",
       "      <th>3</th>\n",
       "      <td>CaptainTransfers</td>\n",
       "      <td>1383</td>\n",
       "      <td>Money Transfers</td>\n",
       "      <td>11.08.2022</td>\n",
       "    </tr>\n",
       "    <tr>\n",
       "      <th>4</th>\n",
       "      <td>DarkWorldCitizenship</td>\n",
       "      <td>893</td>\n",
       "      <td>Identifications</td>\n",
       "      <td>16.07.2022</td>\n",
       "    </tr>\n",
       "    <tr>\n",
       "      <th>5</th>\n",
       "      <td>FlexxCocaine</td>\n",
       "      <td>886</td>\n",
       "      <td>Stimulants</td>\n",
       "      <td>17.09.2020</td>\n",
       "    </tr>\n",
       "    <tr>\n",
       "      <th>6</th>\n",
       "      <td>SpliceCoke</td>\n",
       "      <td>685</td>\n",
       "      <td>Stimulants</td>\n",
       "      <td>26.09.2022</td>\n",
       "    </tr>\n",
       "    <tr>\n",
       "      <th>7</th>\n",
       "      <td>for4dream</td>\n",
       "      <td>678</td>\n",
       "      <td>Stimulants</td>\n",
       "      <td>27.05.2022</td>\n",
       "    </tr>\n",
       "    <tr>\n",
       "      <th>8</th>\n",
       "      <td>kite</td>\n",
       "      <td>649</td>\n",
       "      <td>Stimulants</td>\n",
       "      <td>18.12.2020</td>\n",
       "    </tr>\n",
       "    <tr>\n",
       "      <th>9</th>\n",
       "      <td>T4ZZ</td>\n",
       "      <td>644</td>\n",
       "      <td>Stimulants</td>\n",
       "      <td>24.02.2021</td>\n",
       "    </tr>\n",
       "    <tr>\n",
       "      <th>10</th>\n",
       "      <td>trailblazer</td>\n",
       "      <td>593</td>\n",
       "      <td>Stimulants</td>\n",
       "      <td>04.06.2021</td>\n",
       "    </tr>\n",
       "    <tr>\n",
       "      <th>11</th>\n",
       "      <td>ByPGN</td>\n",
       "      <td>577</td>\n",
       "      <td>Pills</td>\n",
       "      <td>23.05.2022</td>\n",
       "    </tr>\n",
       "    <tr>\n",
       "      <th>12</th>\n",
       "      <td>xarthe33</td>\n",
       "      <td>532</td>\n",
       "      <td>Psychedelics</td>\n",
       "      <td>27.01.2023</td>\n",
       "    </tr>\n",
       "    <tr>\n",
       "      <th>13</th>\n",
       "      <td>Bulls</td>\n",
       "      <td>524</td>\n",
       "      <td>Stimulants</td>\n",
       "      <td>23.04.2022</td>\n",
       "    </tr>\n",
       "    <tr>\n",
       "      <th>14</th>\n",
       "      <td>Jdkcarding</td>\n",
       "      <td>523</td>\n",
       "      <td>Credit Cards</td>\n",
       "      <td>22.08.2022</td>\n",
       "    </tr>\n",
       "    <tr>\n",
       "      <th>15</th>\n",
       "      <td>urieL</td>\n",
       "      <td>474</td>\n",
       "      <td>Psychedelics</td>\n",
       "      <td>07.11.2021</td>\n",
       "    </tr>\n",
       "    <tr>\n",
       "      <th>16</th>\n",
       "      <td>KUSHBANANA</td>\n",
       "      <td>419</td>\n",
       "      <td>Cannabis</td>\n",
       "      <td>04.09.2021</td>\n",
       "    </tr>\n",
       "    <tr>\n",
       "      <th>17</th>\n",
       "      <td>predator</td>\n",
       "      <td>305</td>\n",
       "      <td>Psychedelics</td>\n",
       "      <td>16.10.2022</td>\n",
       "    </tr>\n",
       "    <tr>\n",
       "      <th>18</th>\n",
       "      <td>dmtdex</td>\n",
       "      <td>283</td>\n",
       "      <td>Psychedelics</td>\n",
       "      <td>11.08.2022</td>\n",
       "    </tr>\n",
       "    <tr>\n",
       "      <th>19</th>\n",
       "      <td>Adis1990</td>\n",
       "      <td>271</td>\n",
       "      <td>Stimulants</td>\n",
       "      <td>23.07.2023</td>\n",
       "    </tr>\n",
       "    <tr>\n",
       "      <th>20</th>\n",
       "      <td>razzy</td>\n",
       "      <td>249</td>\n",
       "      <td>Cannabis</td>\n",
       "      <td>27.06.2021</td>\n",
       "    </tr>\n",
       "    <tr>\n",
       "      <th>21</th>\n",
       "      <td>hardcoke</td>\n",
       "      <td>248</td>\n",
       "      <td>Stimulants</td>\n",
       "      <td>09.04.2022</td>\n",
       "    </tr>\n",
       "    <tr>\n",
       "      <th>22</th>\n",
       "      <td>DAGO37</td>\n",
       "      <td>241</td>\n",
       "      <td>Stimulants</td>\n",
       "      <td>13.07.2022</td>\n",
       "    </tr>\n",
       "    <tr>\n",
       "      <th>23</th>\n",
       "      <td>ColombianCokeCO</td>\n",
       "      <td>235</td>\n",
       "      <td>Stimulants</td>\n",
       "      <td>23.02.2023</td>\n",
       "    </tr>\n",
       "    <tr>\n",
       "      <th>24</th>\n",
       "      <td>Green Garden</td>\n",
       "      <td>214</td>\n",
       "      <td>Electronics</td>\n",
       "      <td>05.12.2022</td>\n",
       "    </tr>\n",
       "    <tr>\n",
       "      <th>25</th>\n",
       "      <td>D1BODE</td>\n",
       "      <td>185</td>\n",
       "      <td>Psychedelics</td>\n",
       "      <td>08.02.2023</td>\n",
       "    </tr>\n",
       "    <tr>\n",
       "      <th>26</th>\n",
       "      <td>FactChill</td>\n",
       "      <td>185</td>\n",
       "      <td>Stimulants</td>\n",
       "      <td>13.07.2022</td>\n",
       "    </tr>\n",
       "    <tr>\n",
       "      <th>27</th>\n",
       "      <td>Plamorica</td>\n",
       "      <td>132</td>\n",
       "      <td>Stimulants</td>\n",
       "      <td>08.03.2023</td>\n",
       "    </tr>\n",
       "    <tr>\n",
       "      <th>28</th>\n",
       "      <td>Capri-Guns</td>\n",
       "      <td>117</td>\n",
       "      <td>Weapons</td>\n",
       "      <td>13.06.2022</td>\n",
       "    </tr>\n",
       "    <tr>\n",
       "      <th>29</th>\n",
       "      <td>MASTOK</td>\n",
       "      <td>112</td>\n",
       "      <td>Stimulants</td>\n",
       "      <td>21.08.2021</td>\n",
       "    </tr>\n",
       "  </tbody>\n",
       "</table>\n",
       "</div>"
      ],
      "text/plain": [
       "             Seller Name  Nr. transactions         Category Member since\n",
       "1        CapitalPharmacy              3276            Pills   28.04.2021\n",
       "2               DarkWeed              1865         Cannabis   08.11.2020\n",
       "3       CaptainTransfers              1383  Money Transfers   11.08.2022\n",
       "4   DarkWorldCitizenship               893  Identifications   16.07.2022\n",
       "5           FlexxCocaine               886       Stimulants   17.09.2020\n",
       "6             SpliceCoke               685       Stimulants   26.09.2022\n",
       "7              for4dream               678       Stimulants   27.05.2022\n",
       "8                   kite               649       Stimulants   18.12.2020\n",
       "9                   T4ZZ               644       Stimulants   24.02.2021\n",
       "10           trailblazer               593       Stimulants   04.06.2021\n",
       "11                 ByPGN               577            Pills   23.05.2022\n",
       "12              xarthe33               532     Psychedelics   27.01.2023\n",
       "13                 Bulls               524       Stimulants   23.04.2022\n",
       "14            Jdkcarding               523     Credit Cards   22.08.2022\n",
       "15                 urieL               474     Psychedelics   07.11.2021\n",
       "16            KUSHBANANA               419         Cannabis   04.09.2021\n",
       "17              predator               305     Psychedelics   16.10.2022\n",
       "18                dmtdex               283     Psychedelics   11.08.2022\n",
       "19              Adis1990               271       Stimulants   23.07.2023\n",
       "20                 razzy               249         Cannabis   27.06.2021\n",
       "21              hardcoke               248       Stimulants   09.04.2022\n",
       "22                DAGO37               241       Stimulants   13.07.2022\n",
       "23       ColombianCokeCO               235       Stimulants   23.02.2023\n",
       "24          Green Garden               214      Electronics   05.12.2022\n",
       "25                D1BODE               185     Psychedelics   08.02.2023\n",
       "26             FactChill               185       Stimulants   13.07.2022\n",
       "27             Plamorica               132       Stimulants   08.03.2023\n",
       "28            Capri-Guns               117          Weapons   13.06.2022\n",
       "29                MASTOK               112       Stimulants   21.08.2021"
      ]
     },
     "execution_count": 25,
     "metadata": {},
     "output_type": "execute_result"
    }
   ],
   "source": [
    "Sellers_sorted"
   ]
  },
  {
   "cell_type": "markdown",
   "metadata": {
    "cell_id": "246d36d25ab347989372ff9b885c989c",
    "deepnote_cell_type": "text-cell-p",
    "formattedRanges": []
   },
   "source": [
    "Table 11: Sellers of the analyzed products"
   ]
  },
  {
   "cell_type": "markdown",
   "metadata": {
    "cell_id": "610a85eb91e945cdb974338a06928335",
    "deepnote_cell_type": "text-cell-p",
    "formattedRanges": []
   },
   "source": [
    "The table above shows the sellers of the products analyzed in tables 1-10. The column called \"Nr. transactions\" was sorted from highest to lowest number so that the top 10 sellers could be identified. Top seller on the market is CapitalPharmacy. This seller has monopole over the \"pill\" category on the market. Almost all of the prescription pills one can buy on the market come from this vendor. Their total number of transactions in 3276. In the second and third place is Darkweed and Captain Transfers, respectively, dominating over the \"Cannabis\" and \"Money transfer\" categories. The other 7 top sellers work in the \"Identification\", \"Stimulants\" or \"Pills category\". The least sold category on the market is \"Weapons\"."
   ]
  },
  {
   "cell_type": "markdown",
   "metadata": {
    "cell_id": "29f0a6828dcc447bb4759eb86e7493f2",
    "deepnote_cell_type": "text-cell-p",
    "formattedRanges": [
     {
      "fromCodePoint": 0,
      "marks": {
       "bold": true
      },
      "toCodePoint": 28,
      "type": "marks"
     }
    ]
   },
   "source": [
    "**Top 3 sellers to investigate**"
   ]
  },
  {
   "cell_type": "markdown",
   "metadata": {
    "cell_id": "8e0b7fa2206b467cb60b06303f17d4d2",
    "deepnote_cell_type": "text-cell-p",
    "formattedRanges": [
     {
      "fromCodePoint": 196,
      "marks": {
       "bold": true
      },
      "toCodePoint": 211,
      "type": "marks"
     }
    ]
   },
   "source": [
    "From the \"date of joining\" column it is visible that this market is fairly young and that's the reason for the numbers of transactions being smaller when compared to older black markets. However, CapitalPharmacy has managed to make 3276 illegal transactions so far and still managed to maintain monopole over the advertisements of one entire category. This points to the possibility that this person dedicated a lot of their time to the market. Let's do some math. If this seller were to sell everything they're currently advertising ONCE, they would make 3160 US dollars. This is the amount of money they would make for 30 adds (currently up on the site). This means that for 3276 adds (let us suppose one add = one transaction) they made around 148 500 US dollars. That's almost 150 K in less than 2 years that this vendor has made illegally. So not only do they sell products that support and start addictions and ruin human lives but they make 75 K a year, more than a teacher's annual salary in the USA. And this is only the amount of money they made on the Venus market. There is a possibility they sell somewhere else too and make exactly the same amount there. This could mean that this person is a professional dealer with a somewhat medium sized business. In our opinion, the police should investigate them further because they sell illegal and possibly deadly substances and make a substantial amount of money from it. "
   ]
  },
  {
   "cell_type": "markdown",
   "metadata": {
    "cell_id": "4547328d21294eccbaa32f78c666c256",
    "deepnote_cell_type": "text-cell-p",
    "formattedRanges": [
     {
      "fromCodePoint": 70,
      "marks": {
       "bold": true
      },
      "toCodePoint": 90,
      "type": "marks"
     }
    ]
   },
   "source": [
    "The second vendor we believe the police should investigate further is DarkWorldCitizenship. The reason why we picked this one over DarkWeed is because they sell fake passports and ID which is a threat to secure borders, which in our eyes, is a much bigger problem than dealing light drugs. We do agree that the amount of transactions that DarkWeed has made should qualify them for a police investigation, however, if we're choosing top 3 sellers, it is our opinion that identity theft deserves second place. "
   ]
  },
  {
   "cell_type": "markdown",
   "metadata": {
    "cell_id": "8168137236414f18807f60fdf8c6c957",
    "deepnote_cell_type": "text-cell-p",
    "formattedRanges": [
     {
      "fromCodePoint": 28,
      "marks": {
       "bold": true
      },
      "toCodePoint": 40,
      "type": "marks"
     }
    ]
   },
   "source": [
    "The third place would go to FlexxCocaine. The reason for choosing them over Darkweed is the fact that cocaine is a hard drug that causes much more damage to a person than weed. It causes deadly overdoses while cannabis doesn't and we believe that deadly and illegal substances should be removed for the market first before going after the guys doing solely illegal business. "
   ]
  },
  {
   "cell_type": "code",
   "execution_count": 26,
   "metadata": {
    "cell_id": "9e1a0eadeffe4c32a91a3c92088fce65",
    "deepnote_cell_type": "code",
    "deepnote_to_be_reexecuted": false,
    "execution_millis": 514,
    "execution_start": 1697050871547,
    "source_hash": "9d89d0cb"
   },
   "outputs": [
    {
     "data": {
      "image/png": "[encoded data removed]",
      "text/plain": [
       "<Figure size 640x480 with 1 Axes>"
      ]
     },
     "metadata": {
      "image/png": {
       "height": 590,
       "width": 580
      }
     },
     "output_type": "display_data"
    }
   ],
   "source": [
    "seller_names = ['Green Garden', 'CapitalPharmacy','ByPGN', 'FlexxCocaine','kite','FactChill','trailblazer','Adis1990','ColombianCokeCO','Plamorica','dmtdex','D1BODE','urieL','xarthe33','predator','CaptainTransfers','Jdkcarding','Capri-Guns','DarkWorldCitizenship','DarkWeed','KUSHBANANA','razzy','T4ZZ','MASTOK','hardcoke','DAGO37','Bulls','for4dream', 'SpliceCoke']\n",
    "transaction_counts =[214,3276,577,886,649,185,593,271,235,132,283,185,474,532,305,1383,523,117,893,1865,419,249,644,112,248,241,524,678,685]\n",
    "\n",
    "# Sort data based on transaction counts\n",
    "sorted_indices = sorted(range(len(transaction_counts)), key=lambda k: transaction_counts[k], reverse=True)\n",
    "sorted_seller_names = [seller_names[i] for i in sorted_indices]\n",
    "sorted_transaction_counts = [transaction_counts[i] for i in sorted_indices]\n",
    "\n",
    "\n",
    "# Creation of graph\n",
    "plt.bar(sorted_seller_names, sorted_transaction_counts, color='blue')\n",
    "plt.xlabel('Seller')\n",
    "plt.ylabel('Number of Transactions')\n",
    "plt.title('Number of Transactions per Seller')\n",
    "\n",
    "plt.xticks(rotation=80)\n",
    "plt.show()\n"
   ]
  },
  {
   "cell_type": "markdown",
   "metadata": {
    "cell_id": "4e2b0b934ec94d2f8c9ce17ecf9c6a69",
    "deepnote_cell_type": "text-cell-p",
    "formattedRanges": []
   },
   "source": [
    "Graph 2: Number of transactions per seller"
   ]
  },
  {
   "cell_type": "markdown",
   "metadata": {
    "cell_id": "6b315483ca3349ce95eec136f925ca34",
    "deepnote_cell_type": "text-cell-h2",
    "formattedRanges": []
   },
   "source": [
    "## Conclusion"
   ]
  },
  {
   "cell_type": "markdown",
   "metadata": {
    "cell_id": "2186d2e2ea3142e0bb3ae16f94531f49",
    "deepnote_cell_type": "text-cell-p",
    "formattedRanges": []
   },
   "source": [
    "In conclusion, the Venus black market is a quite small black market where the biggest numbers of transactions are measured in a couple of thousands. The most sold products on the market are stimulants, pills and money transfers. Most of the products sold on the market were deemed illegal but there were still some products that were analyzed as legal and some were analyzed as \"depends\" in which it depends on factors such as their intended use, situation, and much more. The legality of products bought on the black market is always dependent on laws of the country in which the customer and seller are or the laws of countries through which the shipment is being made and so one shouldn't rush to convict all the sellers on the market of committing a crime because it doesn't have to be the case. Sometimes there can even be a difference between the legality of using and selling a product and this is why a detailed analysis should be conducted. The report went on to highlight top 10 sellers and top 3 seller that the team thought the police should investigate further before wrapping it up with some of the most surprising products. This assignment broadened our views on the black market and let us get into contact with it rather than only hearing the stories. It enabled us to investigate how illegal these spaces really are and break any sort of misconception we had about this sort of markets yet it also taught us that some things that may seem illegal can technically be legal under the right circumstances and vice versa."
   ]
  },
  {
   "cell_type": "markdown",
   "metadata": {
    "cell_id": "ae56210cf13749199ca19309feabc7c5",
    "deepnote_cell_type": "markdown"
   },
   "source": [
    "## References"
   ]
  },
  {
   "cell_type": "markdown",
   "metadata": {
    "cell_id": "b505a70fd5d4446aa1771623a27a2dfe",
    "deepnote_cell_type": "text-cell-p",
    "formattedRanges": [
     {
      "fromCodePoint": 33,
      "ranges": [],
      "toCodePoint": 102,
      "type": "link",
      "url": "http://ly75dbzixy7hlp663j32xo4dtoiikm6bxb53jvivqkpo6jwppptx3sad.onion"
     }
    ]
   },
   "source": [
    "[1] - Venus Marketplace, online: http://ly75dbzixy7hlp663j32xo4dtoiikm6bxb53jvivqkpo6jwppptx3sad.onion"
   ]
  },
  {
   "cell_type": "markdown",
   "metadata": {
    "cell_id": "f9787a88a6c1442a810d7e28bf665306",
    "deepnote_cell_type": "text-cell-p",
    "formattedRanges": [
     {
      "fromCodePoint": 83,
      "ranges": [],
      "toCodePoint": 175,
      "type": "link",
      "url": "https://www.mediamarkt.nl/nl/product/_apple-iphone-14-pro-max-256gb-space-black-1738436.html"
     }
    ]
   },
   "source": [
    "[2] - APPLE iPhone 14 Pro Max 256GB Space Black advertisement, Mediamarkt, online: https://www.mediamarkt.nl/nl/product/_apple-iphone-14-pro-max-256gb-space-black-1738436.html"
   ]
  },
  {
   "cell_type": "markdown",
   "metadata": {
    "cell_id": "cdd684b62fbf460b8af379345f026f18",
    "deepnote_cell_type": "text-cell-p",
    "formattedRanges": [
     {
      "fromCodePoint": 62,
      "ranges": [],
      "toCodePoint": 143,
      "type": "link",
      "url": "https://www.rebuy.nl/i,12684582/telefoons/apple-iphone-14-pro-max-128gb-dieppaars"
     },
     {
      "fromCodePoint": 143,
      "ranges": [],
      "toCodePoint": 143,
      "type": "link",
      "url": "https://www.rebuy.nl/i,12684582/telefoons/apple-iphone-14-pro-max-128gb-dieppaars"
     }
    ]
   },
   "source": [
    "[3] - Apple iPhone 14 Pro Max 128GB dieppaars, Rebuy, online: https://www.rebuy.nl/i,12684582/telefoons/apple-iphone-14-pro-max-128gb-dieppaars"
   ]
  },
  {
   "cell_type": "markdown",
   "metadata": {
    "cell_id": "500bf720ac804a819aff84326d6e7b01",
    "deepnote_cell_type": "text-cell-p",
    "formattedRanges": [
     {
      "fromCodePoint": 102,
      "ranges": [],
      "toCodePoint": 171,
      "type": "link",
      "url": "https://en.wikipedia.org/w/index.php?title=Hydrocodone&action=history"
     }
    ]
   },
   "source": [
    "[4] - Hydrocodone, Wikipedia, last updated: 5th October 2023, last visited: 7th October 2023, online: https://en.wikipedia.org/w/index.php?title=Hydrocodone&action=history"
   ]
  },
  {
   "cell_type": "markdown",
   "metadata": {
    "cell_id": "12590061f71e43049a22ab630f4faead",
    "deepnote_cell_type": "text-cell-p",
    "formattedRanges": [
     {
      "fromCodePoint": 102,
      "ranges": [],
      "toCodePoint": 142,
      "type": "link",
      "url": "https://en.wikipedia.org/wiki/Alprazolam"
     }
    ]
   },
   "source": [
    "[5] Alprazolam, Wikipedia, last updated: 26th September 2023, last visited: 7th October 2023, online: https://en.wikipedia.org/wiki/Alprazolam"
   ]
  },
  {
   "cell_type": "markdown",
   "metadata": {
    "cell_id": "17b2d4b3a32c442d846f64d00fede974",
    "deepnote_cell_type": "text-cell-p",
    "formattedRanges": [
     {
      "fromCodePoint": 44,
      "ranges": [],
      "toCodePoint": 104,
      "type": "link",
      "url": "https://www.medicalnewstoday.com/articles/326219#drug-images"
     }
    ]
   },
   "source": [
    "[6] - Adderall, Medical news today, online: https://www.medicalnewstoday.com/articles/326219#drug-images"
   ]
  },
  {
   "cell_type": "markdown",
   "metadata": {
    "cell_id": "ed7967e997bf45a490ea10460d8daf56",
    "deepnote_cell_type": "text-cell-p",
    "formattedRanges": [
     {
      "fromCodePoint": 88,
      "ranges": [],
      "toCodePoint": 274,
      "type": "link",
      "url": "https://www.aljazeera.com/news/2023/5/9/what-is-captagon-the-addictive-drug-mass-produced-in-syria#:~:text=Captagon%20was%20the%20brand%20name,a%20central%20nervous%20system%20stimulant."
     }
    ]
   },
   "source": [
    "[7] - What is Captagon, the addictive drug mass-produced in Syria?, Al Jazeera, online: https://www.aljazeera.com/news/2023/5/9/what-is-captagon-the-addictive-drug-mass-produced-in-syria#:~:text=Captagon%20was%20the%20brand%20name,a%20central%20nervous%20system%20stimulant."
   ]
  },
  {
   "cell_type": "markdown",
   "metadata": {
    "cell_id": "dadc6f3e29ec407796115d8c09ff2d35",
    "deepnote_cell_type": "text-cell-p",
    "formattedRanges": [
     {
      "fromCodePoint": 103,
      "ranges": [],
      "toCodePoint": 171,
      "type": "link",
      "url": "https://en.wikipedia.org/w/index.php?title=Pregabalin&action=history"
     }
    ]
   },
   "source": [
    "[8] - Pregabalin,Wikipedia, last updated: 23rd September 2023, last visited: 7th October 2023, online: https://en.wikipedia.org/w/index.php?title=Pregabalin&action=history"
   ]
  },
  {
   "cell_type": "markdown",
   "metadata": {
    "cell_id": "65fad58e92b34597b270ae3b6ca0e9ca",
    "deepnote_cell_type": "text-cell-p",
    "formattedRanges": [
     {
      "fromCodePoint": 100,
      "ranges": [],
      "toCodePoint": 167,
      "type": "link",
      "url": "https://en.wikipedia.org/w/index.php?title=Methadone&action=history"
     }
    ]
   },
   "source": [
    "[9] - Methadone, Wikipedia, last updated: 1st october 2023, last visited: 7th October 2023, online: https://en.wikipedia.org/w/index.php?title=Methadone&action=history"
   ]
  },
  {
   "cell_type": "markdown",
   "metadata": {
    "cell_id": "1f9acfa152aa4638a2c644e4840740c4",
    "deepnote_cell_type": "text-cell-p",
    "formattedRanges": [
     {
      "fromCodePoint": 100,
      "ranges": [],
      "toCodePoint": 139,
      "type": "link",
      "url": "https://en.wikipedia.org/wiki/Oxycodone"
     }
    ]
   },
   "source": [
    "[10] Oxycodone, Wikipedia, last updated: 19 September 2023, last visited: 7th October 2023, online: https://en.wikipedia.org/wiki/Oxycodone"
   ]
  },
  {
   "cell_type": "markdown",
   "metadata": {
    "cell_id": "91e209f530434dfa92fa608df5103dbd",
    "deepnote_cell_type": "text-cell-p",
    "formattedRanges": [
     {
      "fromCodePoint": 112,
      "ranges": [],
      "toCodePoint": 164,
      "type": "link",
      "url": "https://en.wikipedia.org/wiki/Buprenorphine/naloxone"
     }
    ]
   },
   "source": [
    "[11] Buprenorphine/naloxone, Wikipedia, last updated: 24th August 2023, last visited: 7th October 2023, online: https://en.wikipedia.org/wiki/Buprenorphine/naloxone"
   ]
  },
  {
   "cell_type": "markdown",
   "metadata": {
    "cell_id": "453dde8d846b4f028a40f0795b11945d",
    "deepnote_cell_type": "text-cell-p",
    "formattedRanges": [
     {
      "fromCodePoint": 105,
      "ranges": [],
      "toCodePoint": 145,
      "type": "link",
      "url": "https://www.healthdirect.gov.au/tramadol"
     }
    ]
   },
   "source": [
    "[12] Tramadol, Healthdirect Australia, last updated: 6 July 2023, last visited: 10 October 2023, online: https://www.healthdirect.gov.au/tramadol"
   ]
  },
  {
   "cell_type": "markdown",
   "metadata": {
    "cell_id": "bb78ec3d4d71491abd035894f9952aeb",
    "deepnote_cell_type": "text-cell-p",
    "formattedRanges": [
     {
      "fromCodePoint": 127,
      "ranges": [],
      "toCodePoint": 187,
      "type": "link",
      "url": "https://www.webmd.com/drugs/2/drug-11116/valium-oral/details"
     }
    ]
   },
   "source": [
    "[13] Valium oral: Uses, side effects, interactions, pictures, warnings & dosing, WebMD, last visited: 10 October 2023, online: https://www.webmd.com/drugs/2/drug-11116/valium-oral/details"
   ]
  },
  {
   "cell_type": "markdown",
   "metadata": {
    "cell_id": "c75c0b5b36464a2ca908c5ab4a2d1db8",
    "deepnote_cell_type": "text-cell-p",
    "formattedRanges": [
     {
      "fromCodePoint": 61,
      "ranges": [],
      "toCodePoint": 211,
      "type": "link",
      "url": "https://www.camh.ca/en/health-info/mental-illness-and-addiction-index/ghb#:~:text=%E2%80%8BGHB%20is%20a%20central,can%20be%20dangerous%20if%20misused."
     }
    ]
   },
   "source": [
    "[14] 20142 GHB, CAMH, last visited: 10 October 2023, online: https://www.camh.ca/en/health-info/mental-illness-and-addiction-index/ghb#:~:text=%E2%80%8BGHB%20is%20a%20central,can%20be%20dangerous%20if%20misused."
   ]
  },
  {
   "cell_type": "markdown",
   "metadata": {
    "cell_id": "4fc08a29cf33435baeca35724a234001",
    "deepnote_cell_type": "text-cell-p",
    "formattedRanges": [
     {
      "fromCodePoint": 164,
      "ranges": [],
      "toCodePoint": 215,
      "type": "link",
      "url": "https://nida.nih.gov/publications/drugfacts/cocaine"
     }
    ]
   },
   "source": [
    "[15] Cocaine DrugFacts | National Institute on Drug Abuse, National Institute on Drug Abuse, last updated: 19 December 2022, last visited: 10 October 2023, online: https://nida.nih.gov/publications/drugfacts/cocaine"
   ]
  },
  {
   "cell_type": "markdown",
   "metadata": {
    "cell_id": "282ce15e70d54eeb9baba50c7d153e8f",
    "deepnote_cell_type": "text-cell-p",
    "formattedRanges": [
     {
      "fromCodePoint": 113,
      "ranges": [],
      "toCodePoint": 166,
      "type": "link",
      "url": "https://en.wikipedia.org/wiki/Legal_status_of_cocaine"
     }
    ]
   },
   "source": [
    "[16] Legal status of cocaine, Wikipedia, Last updated: 26 September 2023, Last visited: 10 October 2023, online: https://en.wikipedia.org/wiki/Legal_status_of_cocaine"
   ]
  },
  {
   "cell_type": "markdown",
   "metadata": {
    "cell_id": "aab764f27d3e405f977e9b26c2c8ec71",
    "deepnote_cell_type": "text-cell-p",
    "formattedRanges": [
     {
      "fromCodePoint": 116,
      "ranges": [],
      "toCodePoint": 212,
      "type": "link",
      "url": "https://www.mayoclinic.org/drugs-supplements/methamphetamine-oral-route/description/drg-20071824"
     }
    ]
   },
   "source": [
    "[17] Methamphetamine (Oral route), MayoClinic, Last updated: 6 October 2023, Last visited: 10 October 2023, online: https://www.mayoclinic.org/drugs-supplements/methamphetamine-oral-route/description/drg-20071824"
   ]
  },
  {
   "cell_type": "markdown",
   "metadata": {
    "cell_id": "2c8dd1bfcff34441a802ddaa9d46988d",
    "deepnote_cell_type": "text-cell-p",
    "formattedRanges": [
     {
      "fromCodePoint": 108,
      "ranges": [],
      "toCodePoint": 155,
      "type": "link",
      "url": "https://www.verywellhealth.com/ketamine-5077592"
     }
    ]
   },
   "source": [
    "[18] What is ketamine?, Verywell Health, Last updated: 20 July 2022, Last visited: 10 October 2023, online: https://www.verywellhealth.com/ketamine-5077592"
   ]
  },
  {
   "cell_type": "markdown",
   "metadata": {
    "cell_id": "d50e6cccba724ae98692410835f64f50",
    "deepnote_cell_type": "text-cell-p",
    "formattedRanges": [
     {
      "fromCodePoint": 107,
      "ranges": [],
      "toCodePoint": 159,
      "type": "link",
      "url": "https://kidshealth.org/en/parents/drugs-ecstasy.html"
     }
    ]
   },
   "source": [
    "[19] What is MDMA (Ecstasy)?, KidsHealth, Last updated: March 2023, Last visited: 10 October 2023, online: https://kidshealth.org/en/parents/drugs-ecstasy.html"
   ]
  },
  {
   "cell_type": "markdown",
   "metadata": {
    "cell_id": "da9430db5cd944699be4584f9a9c9fb7",
    "deepnote_cell_type": "text-cell-p",
    "formattedRanges": [
     {
      "fromCodePoint": 89,
      "ranges": [],
      "toCodePoint": 152,
      "type": "link",
      "url": "https://www.cdc.gov/chemicalemergencies/factsheets/cyanide.html"
     }
    ]
   },
   "source": [
    "[20] Cyanide, CDC, Last updated: 7 February 2023, Last visited: 10 October 2023, online: https://www.cdc.gov/chemicalemergencies/factsheets/cyanide.html"
   ]
  },
  {
   "cell_type": "markdown",
   "metadata": {
    "cell_id": "f46a2dc2a6b6454dba77c17ed4fd4f68",
    "deepnote_cell_type": "text-cell-p",
    "formattedRanges": [
     {
      "fromCodePoint": 116,
      "ranges": [],
      "toCodePoint": 180,
      "type": "link",
      "url": "https://recovered.org/hallucinogens/dmt/dmt-controlled-substance"
     }
    ]
   },
   "source": [
    "[21] Is DMT Legal? Psychedelics and the law, last updated: 19 September 2023, last visited: 9 October 2023, online: https://recovered.org/hallucinogens/dmt/dmt-controlled-substance"
   ]
  },
  {
   "cell_type": "markdown",
   "metadata": {
    "cell_id": "c352383ee80e48f3a2d2fd07fa89925d",
    "deepnote_cell_type": "text-cell-p",
    "formattedRanges": [
     {
      "fromCodePoint": 102,
      "ranges": [],
      "toCodePoint": 152,
      "type": "link",
      "url": "https://blossomanalysis.com/countries/switzerland/"
     }
    ]
   },
   "source": [
    "[22] Psychedelics in Switzerland, last updated: 25 April 2022, last visited: 10 October 2023, online: https://blossomanalysis.com/countries/switzerland/"
   ]
  },
  {
   "cell_type": "markdown",
   "metadata": {
    "cell_id": "1dea2f8a2c70482692091816685d8bdf",
    "deepnote_cell_type": "text-cell-p",
    "formattedRanges": [
     {
      "fromCodePoint": 80,
      "ranges": [],
      "toCodePoint": 145,
      "type": "link",
      "url": "https://business.gov.nl/regulation/permit-weapons-and-ammunition/"
     }
    ]
   },
   "source": [
    "[23] Licence for weapons and ammunition, last visited: 10 October 2023, online: https://business.gov.nl/regulation/permit-weapons-and-ammunition/"
   ]
  },
  {
   "cell_type": "markdown",
   "metadata": {
    "cell_id": "23fa39276fd3424881991fe10acf62b7",
    "deepnote_cell_type": "text-cell-p",
    "formattedRanges": [
     {
      "fromCodePoint": 128,
      "ranges": [],
      "toCodePoint": 184,
      "type": "link",
      "url": "https://www.passport-collector.com/global-passport-fees/"
     }
    ]
   },
   "source": [
    "[24] World Travel: Overview Of Global Passport Fees in 2023, last updated: 31 July 2023, last visited: 10 October 2023, online: https://www.passport-collector.com/global-passport-fees/"
   ]
  },
  {
   "cell_type": "markdown",
   "metadata": {
    "cell_id": "0fb63e80c8324303a7bd60f8b0932cd5",
    "deepnote_cell_type": "text-cell-p",
    "formattedRanges": [
     {
      "fromCodePoint": 77,
      "ranges": [],
      "toCodePoint": 136,
      "type": "link",
      "url": "https://dictionary.cambridge.org/dictionary/english/hacking"
     }
    ]
   },
   "source": [
    "[25] Hacking, Cambridge Dictionary, last visited: 11th October 2023, online: https://dictionary.cambridge.org/dictionary/english/hacking"
   ]
  },
  {
   "cell_type": "markdown",
   "metadata": {
    "cell_id": "fdf5319a425e4c16a1de502c7926f9e8",
    "deepnote_cell_type": "text-cell-p",
    "formattedRanges": [
     {
      "fromCodePoint": 106,
      "ranges": [],
      "toCodePoint": 163,
      "type": "link",
      "url": "https://www.justice.gov/archive/ndic/pubs5/5140/5140p.pdf"
     }
    ]
   },
   "source": [
    "[26]Prescription Drugs Fast Facts, National Drug Intelligence Center\n",
    " U.S. Department of Justice, online: https://www.justice.gov/archive/ndic/pubs5/5140/5140p.pdf\n"
   ]
  },
  {
   "cell_type": "markdown",
   "metadata": {
    "created_in_deepnote_cell": true,
    "deepnote_cell_type": "markdown"
   },
   "source": [
    "<a style='text-decoration:none;line-height:16px;display:flex;color:#5B5B62;padding:10px;justify-content:end;' href='https://deepnote.com?utm_source=created-in-deepnote-cell&projectId=411e6c34-0039-4fc2-86a3-93ef8e39f129' target=\"_blank\">\n",
    "<img alt='Created in deepnote.com' style='display:inline;max-height:16px;margin:0px;margin-right:7.5px;' src='data:image/svg+xml;base64,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' > </img>\n",
    "Created in <span style='font-weight:600;margin-left:4px;'>Deepnote</span></a>"
   ]
  }
 ],
 "metadata": {
  "deepnote": {},
  "deepnote_execution_queue": [],
  "deepnote_notebook_id": "f2b2d54f4cc54c0493ab361fb2d1aa24",
  "deepnote_persisted_session": {
   "createdAt": "2023-10-11T13:31:55.979Z"
  },
  "kernelspec": {
   "display_name": "Python 3 (ipykernel)",
   "language": "python",
   "name": "python3"
  },
  "language_info": {
   "codemirror_mode": {
    "name": "ipython",
    "version": 3
   },
   "file_extension": ".py",
   "mimetype": "text/x-python",
   "name": "python",
   "nbconvert_exporter": "python",
   "pygments_lexer": "ipython3",
   "version": "3.11.5"
  }
 },
 "nbformat": 4,
 "nbformat_minor": 1
}
