{
 "cells": [
  {
   "cell_type": "markdown",
   "metadata": {
    "cell_id": "c3261810f1ad46659e467e8ae50a8907",
    "deepnote_cell_type": "markdown"
   },
   "source": [
    "# Assignment 2"
   ]
  },
  {
   "cell_type": "markdown",
   "metadata": {
    "cell_id": "9a24118aaaf6421c80710cfe59906099",
    "deepnote_cell_type": "text-cell-p",
    "formattedRanges": []
   },
   "source": [
    "Darian Soetanto (3296539)\r\n",
    "Nashifa Muchtar (3296466)\r\n",
    "Rory Timmerman (2846055)\r\n",
    "Jana Klaric (2850478)\r\n",
    "Kirk Preston (​​3294056)\r\n",
    "Anna Liang (3306321)"
   ]
  },
  {
   "cell_type": "markdown",
   "metadata": {
    "cell_id": "c64fa540e37d4848ab502b3eff80e7d4",
    "deepnote_cell_type": "markdown"
   },
   "source": [
    "## Introduction and Motivation"
   ]
  },
  {
   "cell_type": "markdown",
   "metadata": {
    "cell_id": "9334c480a130417ab40fe76cffcd46db",
    "deepnote_cell_type": "text-cell-p",
    "formattedRanges": []
   },
   "source": [
    "When someone is denied access to something, it might not sound like a big deal. In fact, this happens to us in our daily life. We might be restricted from entering certain areas, like going in first class on the train when you have a second class ticket. However, sometimes these restrictions are in place for a reason, most of the time they're there to ensure safety and security. However, denial of access can be performed as a form of a cyber attack. DDOS, Distributed denial of service, is a form of a cyber attack that disallows a client to connect to a service. For example, you try to log into your bank account one day and you simply can't or you try to log into your university account but the little circle just keeps spinning. It is also called \"distributed\" because it uses multiple sources from different locations to attack. In this assignment we aim to study how a DDoS attack is conducted. Hence, we shall be analyzing a previous DDoS attack that was done in a controlled environment (in the classroom: students were attacking the professor) by looking into the packet exchange between the victim and the attackers. This is done to answer the hows and whats of a DDoS attack and to gain a better understanding of what truly goes on in the network when an attack is going on."
   ]
  },
  {
   "cell_type": "markdown",
   "metadata": {
    "cell_id": "61df0e6b379740a1a7e100b6ad5f8980",
    "deepnote_cell_type": "markdown"
   },
   "source": [
    "## Methodology and results"
   ]
  },
  {
   "cell_type": "markdown",
   "metadata": {
    "cell_id": "7db5ce34d054420c91b4496bb01382f0",
    "deepnote_cell_type": "text-cell-p",
    "formattedRanges": []
   },
   "source": [
    "The assignment was connected to a DDOS attack trace captured in class while the student performed an attack on the professor. The recorded trace of packets was saved in a file and later shared with students. In this assignment we shall answer some questions about this trace and hopefully learn more about the inside outs of the DDOS attacks. Some questions were provided as guidelines for the analysis. They were pasted into the report for the same purpose - guidelines, but the main body of the report is obviously comprised of the answers to those questions."
   ]
  },
  {
   "cell_type": "code",
   "execution_count": 1,
   "metadata": {
    "cell_id": "b122e1e342544db99d39f71a297986d0",
    "deepnote_cell_type": "code",
    "deepnote_to_be_reexecuted": false,
    "execution_millis": 1364,
    "execution_start": 1697625409525,
    "source_hash": "dfe35b4b"
   },
   "outputs": [],
   "source": [
    "import pandas as pd\n",
    "import matplotlib.pyplot as plt"
   ]
  },
  {
   "cell_type": "markdown",
   "metadata": {
    "cell_id": "76eb83053ca54dbca93db10231fc317d",
    "deepnote_cell_type": "markdown"
   },
   "source": [
    "### Analysis of the attack"
   ]
  },
  {
   "cell_type": "markdown",
   "metadata": {
    "cell_id": "360f388b1c7845b5819b49c4df8a3b26",
    "deepnote_cell_type": "text-cell-p",
    "formattedRanges": [
     {
      "fromCodePoint": 0,
      "marks": {
       "bold": true
      },
      "toCodePoint": 3,
      "type": "marks"
     }
    ]
   },
   "source": [
    "**Q1**: How many records are in the entire trace?"
   ]
  },
  {
   "cell_type": "markdown",
   "metadata": {
    "cell_id": "f8907e37bc484034a98a4122e15c99b1",
    "deepnote_cell_type": "text-cell-p",
    "formattedRanges": []
   },
   "source": [
    "620,304 frames, which is the total number of records during the trace."
   ]
  },
  {
   "cell_type": "markdown",
   "metadata": {
    "cell_id": "aa20a132fe12494ea968d5b6b59184fa",
    "deepnote_cell_type": "markdown"
   },
   "source": [
    "![](first.png)"
   ]
  },
  {
   "cell_type": "markdown",
   "metadata": {
    "cell_id": "b1c08c79ecb741a6954e91ade9fbabd7",
    "deepnote_cell_type": "text-cell-p",
    "formattedRanges": []
   },
   "source": [
    "Figure 1: General information of the capture"
   ]
  },
  {
   "cell_type": "markdown",
   "metadata": {
    "cell_id": "d9e6d1ba6fc84dec8c9513204d356a31",
    "deepnote_cell_type": "text-cell-p",
    "formattedRanges": [
     {
      "fromCodePoint": 0,
      "marks": {
       "bold": true
      },
      "toCodePoint": 3,
      "type": "marks"
     }
    ]
   },
   "source": [
    "**Q2**: What is the duration of the entire trace?"
   ]
  },
  {
   "cell_type": "markdown",
   "metadata": {
    "cell_id": "61bf67969de94360b78f41dd524010bc",
    "deepnote_cell_type": "text-cell-p",
    "formattedRanges": []
   },
   "source": [
    "Entire trace duration is 90.174s.\r\n"
   ]
  },
  {
   "cell_type": "markdown",
   "metadata": {
    "cell_id": "c1ca391a5fce477e95254feb24c241b4",
    "deepnote_cell_type": "markdown"
   },
   "source": [
    "![](second.png)"
   ]
  },
  {
   "cell_type": "markdown",
   "metadata": {
    "cell_id": "93096544fe6540e3aa935ef27250b5a1",
    "deepnote_cell_type": "text-cell-p",
    "formattedRanges": []
   },
   "source": []
  },
  {
   "cell_type": "markdown",
   "metadata": {
    "cell_id": "bb85c9ae54c848f6918fafca46ddb23c",
    "deepnote_cell_type": "text-cell-p",
    "formattedRanges": [
     {
      "fromCodePoint": 0,
      "marks": {
       "bold": true
      },
      "toCodePoint": 3,
      "type": "marks"
     }
    ]
   },
   "source": [
    "**Q3**: Add print-screens of 3 examples of packets that are NOT part of the attack. Explain what are those packets."
   ]
  },
  {
   "cell_type": "markdown",
   "metadata": {
    "cell_id": "248dc5977b11422c986f88a52ba64437",
    "deepnote_cell_type": "markdown"
   },
   "source": [
    "![](third.png)"
   ]
  },
  {
   "cell_type": "markdown",
   "metadata": {
    "cell_id": "293a8f602f2e4a809f6d15031263a3fb",
    "deepnote_cell_type": "text-cell-p",
    "formattedRanges": []
   },
   "source": [
    "Figure 2: DNS packet"
   ]
  },
  {
   "cell_type": "markdown",
   "metadata": {
    "cell_id": "190be8b62e4744d6a3199d0762404ab3",
    "deepnote_cell_type": "text-cell-p",
    "formattedRanges": []
   },
   "source": [
    "Packet 17 is a DNS packet. DNS or domain name system protocol enables people to search the web by inputting domain names rather than IP addresses into the search bar. Here, the site trying to be reached is LinkedIn and it's trying to be accessed from an apple device. There was one question sent asking for LinkedIn and the response was returned (default 0 at the response field). "
   ]
  },
  {
   "cell_type": "markdown",
   "metadata": {
    "cell_id": "92ea569b4f3e4472bbab63e0e9facccf",
    "deepnote_cell_type": "markdown"
   },
   "source": [
    "![](arp.png)"
   ]
  },
  {
   "cell_type": "markdown",
   "metadata": {
    "cell_id": "853efeb22bf142ef9e19092c691e9062",
    "deepnote_cell_type": "text-cell-p",
    "formattedRanges": []
   },
   "source": [
    "Figure 3: ARP packet"
   ]
  },
  {
   "cell_type": "markdown",
   "metadata": {
    "cell_id": "a339731f1e874c73bcca86a1ae425d62",
    "deepnote_cell_type": "text-cell-p",
    "formattedRanges": []
   },
   "source": [
    "Packet 24 is a an ARP packet which stands for Address resolution protocol. It's main purpose is connect two devices that are on the same network. It translates IP addresses to MAC addresses for the device that makes an ARP request. This particular packet is used for the device with IP 192.168.0.101 to check if the device with the IP 192.168.0.1 is on the network already. We know this because the target MAC address is all zeros (the request is broadcasted to the whole network). "
   ]
  },
  {
   "cell_type": "markdown",
   "metadata": {
    "cell_id": "0c913a83faac4afb92779e2ac2a2dd9f",
    "deepnote_cell_type": "markdown"
   },
   "source": [
    "![](fifth.png)"
   ]
  },
  {
   "cell_type": "markdown",
   "metadata": {
    "cell_id": "9d0a8479db3942d99b02701050b57d1a",
    "deepnote_cell_type": "text-cell-p",
    "formattedRanges": []
   },
   "source": [
    "Figure 4: ICMP packet"
   ]
  },
  {
   "cell_type": "markdown",
   "metadata": {
    "cell_id": "4eab60a00b7840e2880ea7170f14b252",
    "deepnote_cell_type": "text-cell-p",
    "formattedRanges": []
   },
   "source": [
    "Packet 11 is an ICMP packet. It's main purpose is to check the availability of the host by a ping request."
   ]
  },
  {
   "cell_type": "markdown",
   "metadata": {
    "cell_id": "89ab7e49f62d4934bf0dddf46a279545",
    "deepnote_cell_type": "text-cell-p",
    "formattedRanges": [
     {
      "fromCodePoint": 0,
      "marks": {
       "bold": true
      },
      "toCodePoint": 2,
      "type": "marks"
     }
    ]
   },
   "source": [
    "**Q4**: What are the characteristics of the attack (aka fingerprint)? Remember: the fingerprint are the characteristics that most repeats targeting a single destination IP. Traffic FROM the victim to the IP addresses in the network trace are NOT part of the attack. Tip: isolate 1 source and 1 destination IP and see if the same pattern applies to the other source IP addresses."
   ]
  },
  {
   "cell_type": "markdown",
   "metadata": {
    "cell_id": "3f8859a079e84985b35cc3e9d1e5d0f0",
    "deepnote_cell_type": "text-cell-p",
    "formattedRanges": []
   },
   "source": [
    "The IP address 192.168.0.100. was the address of an Apple device being attacked. This can be seen from various examples because the IP addresses that kept sending SYNs during the attack changed while the one of the Apple device stayed the same. The attack is visible in the spamming of the TCP packets. First, the apple device sends a DNS packet to fetch the wanted site's IP. Then, an ICMP packet is transmitted to check if the device could connect to the server offering the site. This check was usually denied because the device was overwhelmed by the amount of SYN packets sent from different attacking addresses. Many SYNs are sent to the device which then asks for retransmission or resetting the connection which results in the packets being transmitted again."
   ]
  },
  {
   "cell_type": "markdown",
   "metadata": {
    "cell_id": "117382899e964df68f5d685f6a68de96",
    "deepnote_cell_type": "text-cell-p",
    "formattedRanges": [
     {
      "fromCodePoint": 0,
      "marks": {
       "bold": true
      },
      "toCodePoint": 3,
      "type": "marks"
     }
    ]
   },
   "source": [
    "**Q5**: How a Wireshark filter of the attack looks like?"
   ]
  },
  {
   "cell_type": "markdown",
   "metadata": {
    "cell_id": "9260adeefca94ec682d0c18c649c3771",
    "deepnote_cell_type": "text-cell-p",
    "formattedRanges": []
   },
   "source": [
    "In this specific capture, the attack is visible in form of constant attempt to retransmit a packet (SYN) that is the first step to a secure connection of two devices. In Wireshark it is visible in the form of the overwhelming amount of SYN packets being sent to the victim."
   ]
  },
  {
   "cell_type": "markdown",
   "metadata": {
    "cell_id": "b478f0d86b644722835e6b562bfe3a07",
    "deepnote_cell_type": "markdown"
   },
   "source": [
    "![](sixth.png)"
   ]
  },
  {
   "cell_type": "markdown",
   "metadata": {
    "cell_id": "06423ff8f4d84cafa7073da4b5887402",
    "deepnote_cell_type": "markdown"
   },
   "source": [
    "![](seventh.png)"
   ]
  },
  {
   "cell_type": "markdown",
   "metadata": {
    "cell_id": "b574f44c47d445cca82117524ba1455b",
    "deepnote_cell_type": "markdown"
   },
   "source": [
    "![](eigth.png)"
   ]
  },
  {
   "cell_type": "markdown",
   "metadata": {
    "cell_id": "168bd0bc11884a38acaaea393a3d1050",
    "deepnote_cell_type": "text-cell-p",
    "formattedRanges": []
   },
   "source": [
    "Figure 5: DDOS attack in Wireshark: SYNs, RST ACKs from victim and retransmissions of SYNs"
   ]
  },
  {
   "cell_type": "markdown",
   "metadata": {
    "cell_id": "fc0c4a85517844f284e28241c348d75b",
    "deepnote_cell_type": "text-cell-p",
    "formattedRanges": [
     {
      "fromCodePoint": 0,
      "marks": {
       "bold": true
      },
      "toCodePoint": 3,
      "type": "marks"
     }
    ]
   },
   "source": [
    "**Q6**: What is the target (destination) IP of the attack?"
   ]
  },
  {
   "cell_type": "markdown",
   "metadata": {
    "cell_id": "a8e4389d0a084f2581bd172b2f7456ee",
    "deepnote_cell_type": "text-cell-p",
    "formattedRanges": []
   },
   "source": [
    "192.168.0.100 is the target IP."
   ]
  },
  {
   "cell_type": "markdown",
   "metadata": {
    "cell_id": "80dde56e5e4f4cb78d4715aba6fbe846",
    "deepnote_cell_type": "text-cell-p",
    "formattedRanges": [
     {
      "fromCodePoint": 0,
      "marks": {
       "bold": true
      },
      "toCodePoint": 3,
      "type": "marks"
     }
    ]
   },
   "source": [
    "**Q7**: How many records are part of the attack?"
   ]
  },
  {
   "cell_type": "markdown",
   "metadata": {
    "cell_id": "cb43f409b3a44d41b7998c2b78e5f6cd",
    "deepnote_cell_type": "text-cell-p",
    "formattedRanges": []
   },
   "source": [
    "308 046. Filter on TCP because a DDOS attack is composed off of a flood of SYN packets and ip.dest==192.168.0.100 because any other destination is not aimed at the victim."
   ]
  },
  {
   "cell_type": "markdown",
   "metadata": {
    "cell_id": "1923a09803b645a6927363fc55bf5af1",
    "deepnote_cell_type": "text-cell-p",
    "formattedRanges": [
     {
      "fromCodePoint": 0,
      "marks": {
       "bold": true
      },
      "toCodePoint": 4,
      "type": "marks"
     }
    ]
   },
   "source": [
    "**Q8**: How many unique (source) IP addresses performed the attack? "
   ]
  },
  {
   "cell_type": "markdown",
   "metadata": {
    "cell_id": "5b40bd2600034efea09941e43438ede7",
    "deepnote_cell_type": "text-cell-p",
    "formattedRanges": []
   },
   "source": [
    "There were 15 unique IP addresses that performed the attack, all belonging to the same 192.168.0.xxx subnet. The missing subnets were filled in with 101, 102, 104, 105, 106, 107, 108, 109, 110, 111, 112, 114, 115, 116 and 117."
   ]
  },
  {
   "cell_type": "markdown",
   "metadata": {
    "cell_id": "1e1ad7e6f81c4c5ebcdaddb3738d7421",
    "deepnote_cell_type": "text-cell-p",
    "formattedRanges": [
     {
      "fromCodePoint": 0,
      "marks": {
       "bold": true
      },
      "toCodePoint": 3,
      "type": "marks"
     }
    ]
   },
   "source": [
    "**Q9**: Which top 3 source IP addresses sent more packets in the attack? "
   ]
  },
  {
   "cell_type": "markdown",
   "metadata": {
    "cell_id": "53b0b60554e24167b07b6bb825eaaa3c",
    "deepnote_cell_type": "text-cell-p",
    "formattedRanges": []
   },
   "source": [
    "The following information can be found under Statistics>Conversations:"
   ]
  },
  {
   "cell_type": "markdown",
   "metadata": {
    "cell_id": "fdaa05750c3e43dfbae5c20e1acde297",
    "deepnote_cell_type": "text-cell-p",
    "formattedRanges": []
   },
   "source": [
    "Top Source: 192.168.0.117, 42845 packets"
   ]
  },
  {
   "cell_type": "markdown",
   "metadata": {
    "cell_id": "51abb103acc9408ead600a1ca947457e",
    "deepnote_cell_type": "text-cell-p",
    "formattedRanges": []
   },
   "source": [
    "Second Source: 192.168.0.104, 31431 packets"
   ]
  },
  {
   "cell_type": "markdown",
   "metadata": {
    "cell_id": "6247764049ab456ba306437116925b6c",
    "deepnote_cell_type": "text-cell-p",
    "formattedRanges": []
   },
   "source": [
    "Third Source: 192.168.0.107, 30389 packets"
   ]
  },
  {
   "cell_type": "markdown",
   "metadata": {
    "cell_id": "cdd1cf0278364625b1ef21d57a37c89c",
    "deepnote_cell_type": "text-cell-p",
    "formattedRanges": [
     {
      "fromCodePoint": 0,
      "marks": {
       "bold": true
      },
      "toCodePoint": 5,
      "type": "marks"
     }
    ]
   },
   "source": [
    "**Q10**: What is the distribution of vendors related to the source IP addresses involved in the attack?  Tip: use MAC address to Vendor. Ask Google or Chat GPT."
   ]
  },
  {
   "cell_type": "markdown",
   "metadata": {
    "cell_id": "70a4282c46204cf885d53281d1786708",
    "deepnote_cell_type": "text-cell-p",
    "formattedRanges": []
   },
   "source": [
    "The vendors of the devices who's IP addresses took part in the attack were found by the use of tool [1]. The MAC address related to an IP address was easily found in the ethernet layer of the SYN packet in which one of fifteen addresses spammed the attacked device. One of the vendors remains unknown (Chat GPT and other 3 MAC lookup tools all couldn't find the vendor). Possible reasons for this are that the MAC address is private and not in the lookup table (unlikely with university students) or it might be a virtual machine. Find the results in the table below: \r\n",
    "\r"
   ]
  },
  {
   "cell_type": "code",
   "execution_count": 2,
   "metadata": {
    "cell_id": "53224ad2628c4ef1a18f72a9815a01cf",
    "deepnote_cell_type": "code",
    "deepnote_to_be_reexecuted": false,
    "execution_millis": 10,
    "execution_start": 1697625410909,
    "source_hash": "509434b5"
   },
   "outputs": [],
   "source": [
    "vendors={\n",
    "    'IP address':['192.168.0.101', '192.168.0.102', '192.168.0.104', '192.168.0.105', '192.168.0.106','192.168.0.107','192.168.0.108','192.168.0.109','192.168.0.110','192.168.0.111','192.168.0.112','192.168.0.114','192.168.0.115','192.168.0.116','192.168.0.117'],\n",
    "    'MAC address':['14:85:7f:e2:e8:a7', '14:4f:8a:dc:a0:87', 'a4:83:e7:26:69:86', '34:cf:f6:f9:a3:12','a4:34:d9:4e:0b:88','94:e2:3c:87:a3:6b','14:85:7f:e3:99:41','3c:22:fb:62:ad:66','b0:a4:60:f4:14:60','d4:57:63:d3:6b:02','64:6e:e0:cf:6b:c4','80:65:7c:d5:2a:2b','10:6f:d9:2f:32:a9','8a:04:32:9a:ed:63','14:85:7f:e3:99:14'],\n",
    "    'Vendor':['Intel Corporate', 'Intel Corporate', 'Apple Inc', 'Intel Corporate', 'Intel Corporate','Intel Corporate','Intel Corporate','Apple Inc','Intel Corporate','Apple Inc','Intel Corporate','Apple Inc','Cloudnet','Unknown','Intel Corporate']\n",
    "}\n",
    "\n",
    "\n",
    "\n",
    "Vendors = pd.DataFrame(vendors)\n",
    "Vendors.index = range(1, len(Vendors)+1)"
   ]
  },
  {
   "cell_type": "code",
   "execution_count": 3,
   "metadata": {
    "cell_id": "f96e6ee1b47d4ea2a7a36ddc30fe2984",
    "deepnote_cell_type": "code",
    "deepnote_table_loading": false,
    "deepnote_table_state": {
     "filters": [],
     "pageIndex": 0,
     "pageSize": 25,
     "sortBy": []
    },
    "deepnote_to_be_reexecuted": false,
    "execution_millis": 293,
    "execution_start": 1697625410928,
    "source_hash": "4e8d9c59"
   },
   "outputs": [
    {
     "data": {
      "application/vnd.deepnote.dataframe.v3+json": {
       "column_count": 3,
       "columns": [
        {
         "dtype": "object",
         "name": "IP address",
         "stats": {
          "categories": [
           {
            "count": 1,
            "name": "192.168.0.101"
           },
           {
            "count": 1,
            "name": "192.168.0.102"
           },
           {
            "count": 13,
            "name": "13 others"
           }
          ],
          "nan_count": 0,
          "unique_count": 15
         }
        },
        {
         "dtype": "object",
         "name": "MAC address",
         "stats": {
          "categories": [
           {
            "count": 1,
            "name": "14:85:7f:e2:e8:a7"
           },
           {
            "count": 1,
            "name": "14:4f:8a:dc:a0:87"
           },
           {
            "count": 13,
            "name": "13 others"
           }
          ],
          "nan_count": 0,
          "unique_count": 15
         }
        },
        {
         "dtype": "object",
         "name": "Vendor",
         "stats": {
          "categories": [
           {
            "count": 9,
            "name": "Intel Corporate"
           },
           {
            "count": 4,
            "name": "Apple Inc"
           },
           {
            "count": 2,
            "name": "2 others"
           }
          ],
          "nan_count": 0,
          "unique_count": 4
         }
        },
        {
         "dtype": "int64",
         "name": "_deepnote_index_column"
        }
       ],
       "row_count": 15,
       "rows": [
        {
         "IP address": "192.168.0.101",
         "MAC address": "14:85:7f:e2:e8:a7",
         "Vendor": "Intel Corporate",
         "_deepnote_index_column": 1
        },
        {
         "IP address": "192.168.0.102",
         "MAC address": "14:4f:8a:dc:a0:87",
         "Vendor": "Intel Corporate",
         "_deepnote_index_column": 2
        },
        {
         "IP address": "192.168.0.104",
         "MAC address": "a4:83:e7:26:69:86",
         "Vendor": "Apple Inc",
         "_deepnote_index_column": 3
        },
        {
         "IP address": "192.168.0.105",
         "MAC address": "34:cf:f6:f9:a3:12",
         "Vendor": "Intel Corporate",
         "_deepnote_index_column": 4
        },
        {
         "IP address": "192.168.0.106",
         "MAC address": "a4:34:d9:4e:0b:88",
         "Vendor": "Intel Corporate",
         "_deepnote_index_column": 5
        },
        {
         "IP address": "192.168.0.107",
         "MAC address": "94:e2:3c:87:a3:6b",
         "Vendor": "Intel Corporate",
         "_deepnote_index_column": 6
        },
        {
         "IP address": "192.168.0.108",
         "MAC address": "14:85:7f:e3:99:41",
         "Vendor": "Intel Corporate",
         "_deepnote_index_column": 7
        },
        {
         "IP address": "192.168.0.109",
         "MAC address": "3c:22:fb:62:ad:66",
         "Vendor": "Apple Inc",
         "_deepnote_index_column": 8
        },
        {
         "IP address": "192.168.0.110",
         "MAC address": "b0:a4:60:f4:14:60",
         "Vendor": "Intel Corporate",
         "_deepnote_index_column": 9
        },
        {
         "IP address": "192.168.0.111",
         "MAC address": "d4:57:63:d3:6b:02",
         "Vendor": "Apple Inc",
         "_deepnote_index_column": 10
        },
        {
         "IP address": "192.168.0.112",
         "MAC address": "64:6e:e0:cf:6b:c4",
         "Vendor": "Intel Corporate",
         "_deepnote_index_column": 11
        },
        {
         "IP address": "192.168.0.114",
         "MAC address": "80:65:7c:d5:2a:2b",
         "Vendor": "Apple Inc",
         "_deepnote_index_column": 12
        },
        {
         "IP address": "192.168.0.115",
         "MAC address": "10:6f:d9:2f:32:a9",
         "Vendor": "Cloudnet",
         "_deepnote_index_column": 13
        },
        {
         "IP address": "192.168.0.116",
         "MAC address": "8a:04:32:9a:ed:63",
         "Vendor": "Unknown",
         "_deepnote_index_column": 14
        },
        {
         "IP address": "192.168.0.117",
         "MAC address": "14:85:7f:e3:99:14",
         "Vendor": "Intel Corporate",
         "_deepnote_index_column": 15
        }
       ]
      },
      "text/html": [
       "<div>\n",
       "<style scoped>\n",
       "    .dataframe tbody tr th:only-of-type {\n",
       "        vertical-align: middle;\n",
       "    }\n",
       "\n",
       "    .dataframe tbody tr th {\n",
       "        vertical-align: top;\n",
       "    }\n",
       "\n",
       "    .dataframe thead th {\n",
       "        text-align: right;\n",
       "    }\n",
       "</style>\n",
       "<table border=\"1\" class=\"dataframe\">\n",
       "  <thead>\n",
       "    <tr style=\"text-align: right;\">\n",
       "      <th></th>\n",
       "      <th>IP address</th>\n",
       "      <th>MAC address</th>\n",
       "      <th>Vendor</th>\n",
       "    </tr>\n",
       "  </thead>\n",
       "  <tbody>\n",
       "    <tr>\n",
       "      <th>1</th>\n",
       "      <td>192.168.0.101</td>\n",
       "      <td>14:85:7f:e2:e8:a7</td>\n",
       "      <td>Intel Corporate</td>\n",
       "    </tr>\n",
       "    <tr>\n",
       "      <th>2</th>\n",
       "      <td>192.168.0.102</td>\n",
       "      <td>14:4f:8a:dc:a0:87</td>\n",
       "      <td>Intel Corporate</td>\n",
       "    </tr>\n",
       "    <tr>\n",
       "      <th>3</th>\n",
       "      <td>192.168.0.104</td>\n",
       "      <td>a4:83:e7:26:69:86</td>\n",
       "      <td>Apple Inc</td>\n",
       "    </tr>\n",
       "    <tr>\n",
       "      <th>4</th>\n",
       "      <td>192.168.0.105</td>\n",
       "      <td>34:cf:f6:f9:a3:12</td>\n",
       "      <td>Intel Corporate</td>\n",
       "    </tr>\n",
       "    <tr>\n",
       "      <th>5</th>\n",
       "      <td>192.168.0.106</td>\n",
       "      <td>a4:34:d9:4e:0b:88</td>\n",
       "      <td>Intel Corporate</td>\n",
       "    </tr>\n",
       "    <tr>\n",
       "      <th>6</th>\n",
       "      <td>192.168.0.107</td>\n",
       "      <td>94:e2:3c:87:a3:6b</td>\n",
       "      <td>Intel Corporate</td>\n",
       "    </tr>\n",
       "    <tr>\n",
       "      <th>7</th>\n",
       "      <td>192.168.0.108</td>\n",
       "      <td>14:85:7f:e3:99:41</td>\n",
       "      <td>Intel Corporate</td>\n",
       "    </tr>\n",
       "    <tr>\n",
       "      <th>8</th>\n",
       "      <td>192.168.0.109</td>\n",
       "      <td>3c:22:fb:62:ad:66</td>\n",
       "      <td>Apple Inc</td>\n",
       "    </tr>\n",
       "    <tr>\n",
       "      <th>9</th>\n",
       "      <td>192.168.0.110</td>\n",
       "      <td>b0:a4:60:f4:14:60</td>\n",
       "      <td>Intel Corporate</td>\n",
       "    </tr>\n",
       "    <tr>\n",
       "      <th>10</th>\n",
       "      <td>192.168.0.111</td>\n",
       "      <td>d4:57:63:d3:6b:02</td>\n",
       "      <td>Apple Inc</td>\n",
       "    </tr>\n",
       "    <tr>\n",
       "      <th>11</th>\n",
       "      <td>192.168.0.112</td>\n",
       "      <td>64:6e:e0:cf:6b:c4</td>\n",
       "      <td>Intel Corporate</td>\n",
       "    </tr>\n",
       "    <tr>\n",
       "      <th>12</th>\n",
       "      <td>192.168.0.114</td>\n",
       "      <td>80:65:7c:d5:2a:2b</td>\n",
       "      <td>Apple Inc</td>\n",
       "    </tr>\n",
       "    <tr>\n",
       "      <th>13</th>\n",
       "      <td>192.168.0.115</td>\n",
       "      <td>10:6f:d9:2f:32:a9</td>\n",
       "      <td>Cloudnet</td>\n",
       "    </tr>\n",
       "    <tr>\n",
       "      <th>14</th>\n",
       "      <td>192.168.0.116</td>\n",
       "      <td>8a:04:32:9a:ed:63</td>\n",
       "      <td>Unknown</td>\n",
       "    </tr>\n",
       "    <tr>\n",
       "      <th>15</th>\n",
       "      <td>192.168.0.117</td>\n",
       "      <td>14:85:7f:e3:99:14</td>\n",
       "      <td>Intel Corporate</td>\n",
       "    </tr>\n",
       "  </tbody>\n",
       "</table>\n",
       "</div>"
      ],
      "text/plain": [
       "       IP address        MAC address           Vendor\n",
       "1   192.168.0.101  14:85:7f:e2:e8:a7  Intel Corporate\n",
       "2   192.168.0.102  14:4f:8a:dc:a0:87  Intel Corporate\n",
       "3   192.168.0.104  a4:83:e7:26:69:86        Apple Inc\n",
       "4   192.168.0.105  34:cf:f6:f9:a3:12  Intel Corporate\n",
       "5   192.168.0.106  a4:34:d9:4e:0b:88  Intel Corporate\n",
       "6   192.168.0.107  94:e2:3c:87:a3:6b  Intel Corporate\n",
       "7   192.168.0.108  14:85:7f:e3:99:41  Intel Corporate\n",
       "8   192.168.0.109  3c:22:fb:62:ad:66        Apple Inc\n",
       "9   192.168.0.110  b0:a4:60:f4:14:60  Intel Corporate\n",
       "10  192.168.0.111  d4:57:63:d3:6b:02        Apple Inc\n",
       "11  192.168.0.112  64:6e:e0:cf:6b:c4  Intel Corporate\n",
       "12  192.168.0.114  80:65:7c:d5:2a:2b        Apple Inc\n",
       "13  192.168.0.115  10:6f:d9:2f:32:a9         Cloudnet\n",
       "14  192.168.0.116  8a:04:32:9a:ed:63          Unknown\n",
       "15  192.168.0.117  14:85:7f:e3:99:14  Intel Corporate"
      ]
     },
     "execution_count": 3,
     "metadata": {},
     "output_type": "execute_result"
    }
   ],
   "source": [
    "Vendors"
   ]
  },
  {
   "cell_type": "markdown",
   "metadata": {
    "cell_id": "06a3b162476b49e8933720d6000d05bf",
    "deepnote_cell_type": "text-cell-p",
    "formattedRanges": []
   },
   "source": [
    "Table 1: Vendors of the devices to which source IPs of the attack belong"
   ]
  },
  {
   "cell_type": "markdown",
   "metadata": {
    "cell_id": "8e9f46f80f09427bb019c2c1b2c7ba61",
    "deepnote_cell_type": "text-cell-p",
    "formattedRanges": [
     {
      "fromCodePoint": 0,
      "marks": {
       "bold": true
      },
      "toCodePoint": 4,
      "type": "marks"
     }
    ]
   },
   "source": [
    "**Q11**: What is/are the source and destination port(s) involved in the attack?"
   ]
  },
  {
   "cell_type": "markdown",
   "metadata": {
    "cell_id": "b3866bab3823487f8b243dff56162319",
    "deepnote_cell_type": "text-cell-p",
    "formattedRanges": []
   },
   "source": [
    "All of the destination ports were port 80 in the attack. The source ports spanned numbers that ranged from 0 all the way to 65,535 which is the number range for a 16-bit integer. Not all of the 65 535 ports were filled, but the source ports picket random ports in this range."
   ]
  },
  {
   "cell_type": "markdown",
   "metadata": {
    "cell_id": "adc9e9bc093a40d98f02df5a1f19eded",
    "deepnote_cell_type": "text-cell-p",
    "formattedRanges": [
     {
      "fromCodePoint": 0,
      "marks": {
       "bold": true
      },
      "toCodePoint": 4,
      "type": "marks"
     }
    ]
   },
   "source": [
    "**Q12**: Why there are many packets from the victim to the attackers?"
   ]
  },
  {
   "cell_type": "markdown",
   "metadata": {
    "cell_id": "08a4dddd62394e0ea8d18c580774276e",
    "deepnote_cell_type": "text-cell-p",
    "formattedRanges": []
   },
   "source": [
    "There are many packets sent from the victim to the attackers because these packets are sent with RST flag on or they’re sent with the regular RST/ACK bit sets. The RST bit sets means that the TCP connection needs to be reset, in other words, the sender is asking for a redo because it cannot handle the incoming connection (the device is being flooded) or it is signaling that it can't handle the connection. The ACK means that the device has handled the request for connection and is acknowledging the device that sent the SYN in the first place. However, the attacked device can't send a SYN ACK because it know it can't build a connection with the acknowledged device because of being overwhelmed by packets. "
   ]
  },
  {
   "cell_type": "markdown",
   "metadata": {
    "cell_id": "dd24a2c08fc347c0aad618d98b77405b",
    "deepnote_cell_type": "text-cell-p",
    "formattedRanges": [
     {
      "fromCodePoint": 0,
      "marks": {
       "bold": true
      },
      "toCodePoint": 4,
      "type": "marks"
     }
    ]
   },
   "source": [
    "**Q13**: How this attack could have been more successful?"
   ]
  },
  {
   "cell_type": "markdown",
   "metadata": {
    "cell_id": "d5cd2cb3e9ec4b96b236be25bb3023cc",
    "deepnote_cell_type": "text-cell-p",
    "formattedRanges": []
   },
   "source": [
    "This attack would have definitely been more successful if there were more attackers. Quite logical, the more devices you have flooding the attacked device the more overwhelmed it will get and the less are its chances of establishing a connection with a website or any other service it may want to use online."
   ]
  },
  {
   "cell_type": "markdown",
   "metadata": {
    "cell_id": "d47a82823e374bb6a03d5800423bceef",
    "deepnote_cell_type": "text-cell-p",
    "formattedRanges": [
     {
      "fromCodePoint": 0,
      "marks": {
       "bold": true
      },
      "toCodePoint": 3,
      "type": "marks"
     }
    ]
   },
   "source": [
    "**Q14**: How much was the data rate peak of the attack [Mbits/second]?"
   ]
  },
  {
   "cell_type": "markdown",
   "metadata": {
    "cell_id": "b51f8024d2e94d6988b3e006658f5135",
    "deepnote_cell_type": "markdown"
   },
   "source": [
    "![](graf.png)"
   ]
  },
  {
   "cell_type": "markdown",
   "metadata": {
    "cell_id": "b70536ee5cae41bba4e2a46107cd6d09",
    "deepnote_cell_type": "text-cell-p",
    "formattedRanges": []
   },
   "source": [
    "Figure 6: Number of packets transferred per second in the attack capture"
   ]
  },
  {
   "cell_type": "markdown",
   "metadata": {
    "cell_id": "bf0da82fda984114b437fa048a823033",
    "deepnote_cell_type": "text-cell-p",
    "formattedRanges": []
   },
   "source": [
    "Here in red we can see the number of TCP errors (sent by the victim and retransmissions) and in the black line we can see the total amount of packets transmitted in each second of the attack. Data rate peak is found at 84 second when 2.791*10^4 packets were sent. To find the data rate in Mbits/second we have to find out how much traffic in Mbits there was in the span of the 84th second. Firstly, we figure out which packet was the first one to be transmitted in the 84th second. Turns out it was frame 523386. Then we figure out the last packet that was transmitted in the 84th second. It was packet 551297. Next, we apply it as a filter in the Statistics>Packet length option of wireshark and we get the following screen:"
   ]
  },
  {
   "cell_type": "markdown",
   "metadata": {
    "cell_id": "0f06a02d8f6440b38053f6057593c1f8",
    "deepnote_cell_type": "markdown"
   },
   "source": [
    "![](filter.png)"
   ]
  },
  {
   "cell_type": "markdown",
   "metadata": {
    "cell_id": "53623f15e8d14566a4f213af1df3ce83",
    "deepnote_cell_type": "text-cell-p",
    "formattedRanges": []
   },
   "source": [
    "So, on average 27548 packets had a length of 61.26 bytes and 364 of the packets had an average length of 86,16 bytes. Let's calculate the total length in bytes: 27548*61.26+364*86.16= 1718952.72 bytes *8 = 13 751 621.76 bits = 13. 753 Mbits. The time span over which this amount if data is transmitted is 1 second, therefore, the peak data rate is 13.753  Mbits/second"
   ]
  },
  {
   "cell_type": "markdown",
   "metadata": {
    "cell_id": "c2c4cc0d68e8458ca35533dae1f54e88",
    "deepnote_cell_type": "text-cell-p",
    "formattedRanges": []
   },
   "source": [
    "Figure 7: Packet lengths in the span of 84th second."
   ]
  },
  {
   "cell_type": "markdown",
   "metadata": {
    "cell_id": "54c6f0d957da41e18054ba508db50baa",
    "deepnote_cell_type": "text-cell-p",
    "formattedRanges": [
     {
      "fromCodePoint": 0,
      "marks": {
       "bold": true
      },
      "toCodePoint": 4,
      "type": "marks"
     }
    ]
   },
   "source": [
    "**Q15**: What is the distribution/frequency of TCP flags involved in the attack?"
   ]
  },
  {
   "cell_type": "markdown",
   "metadata": {
    "cell_id": "7d892e9fdc2a4ec997efd6a8976de705",
    "deepnote_cell_type": "text-cell-p",
    "formattedRanges": []
   },
   "source": [
    "The frequency of a TCP flag simply means how many times this flag appears in the analyzed capture. It is found by applying filters such as tcp.flags.syn == 1 but for every tcp flag. The frequency of a flag was calculated by: freq = Nr of packets that include the flag/ total number of packets."
   ]
  },
  {
   "cell_type": "code",
   "execution_count": 4,
   "metadata": {
    "cell_id": "bb6a163168cf4b3d863cbbd342ce90c9",
    "deepnote_cell_type": "code",
    "deepnote_to_be_reexecuted": false,
    "execution_millis": 17,
    "execution_start": 1697625411067,
    "source_hash": "f258c835"
   },
   "outputs": [],
   "source": [
    "freq={\n",
    "    'Flag':['URG', 'ACK', 'PSH', 'RST', 'SYN','FIN',],\n",
    "    'Frequency':['0', '0.5019', '0', '0.5019','0.49665','0'],\n",
    "}\n",
    "\n",
    "\n",
    "\n",
    "Frequencies = pd.DataFrame(freq)\n",
    "Frequencies.index = range(1, len(Frequencies)+1)"
   ]
  },
  {
   "cell_type": "code",
   "execution_count": 5,
   "metadata": {
    "cell_id": "62c2632c30774abbbf7b67f3442770f4",
    "deepnote_cell_type": "code",
    "deepnote_to_be_reexecuted": false,
    "execution_millis": 401,
    "execution_start": 1697625411095,
    "source_hash": "b24017da"
   },
   "outputs": [
    {
     "data": {
      "application/vnd.deepnote.dataframe.v3+json": {
       "column_count": 2,
       "columns": [
        {
         "dtype": "object",
         "name": "Flag",
         "stats": {
          "categories": [
           {
            "count": 1,
            "name": "URG"
           },
           {
            "count": 1,
            "name": "ACK"
           },
           {
            "count": 4,
            "name": "4 others"
           }
          ],
          "nan_count": 0,
          "unique_count": 6
         }
        },
        {
         "dtype": "object",
         "name": "Frequency",
         "stats": {
          "categories": [
           {
            "count": 3,
            "name": "0"
           },
           {
            "count": 2,
            "name": "0.5019"
           },
           {
            "count": 1,
            "name": "0.49665"
           }
          ],
          "nan_count": 0,
          "unique_count": 3
         }
        },
        {
         "dtype": "int64",
         "name": "_deepnote_index_column"
        }
       ],
       "row_count": 6,
       "rows": [
        {
         "Flag": "URG",
         "Frequency": "0",
         "_deepnote_index_column": 1
        },
        {
         "Flag": "ACK",
         "Frequency": "0.5019",
         "_deepnote_index_column": 2
        },
        {
         "Flag": "PSH",
         "Frequency": "0",
         "_deepnote_index_column": 3
        },
        {
         "Flag": "RST",
         "Frequency": "0.5019",
         "_deepnote_index_column": 4
        },
        {
         "Flag": "SYN",
         "Frequency": "0.49665",
         "_deepnote_index_column": 5
        },
        {
         "Flag": "FIN",
         "Frequency": "0",
         "_deepnote_index_column": 6
        }
       ]
      },
      "text/html": [
       "<div>\n",
       "<style scoped>\n",
       "    .dataframe tbody tr th:only-of-type {\n",
       "        vertical-align: middle;\n",
       "    }\n",
       "\n",
       "    .dataframe tbody tr th {\n",
       "        vertical-align: top;\n",
       "    }\n",
       "\n",
       "    .dataframe thead th {\n",
       "        text-align: right;\n",
       "    }\n",
       "</style>\n",
       "<table border=\"1\" class=\"dataframe\">\n",
       "  <thead>\n",
       "    <tr style=\"text-align: right;\">\n",
       "      <th></th>\n",
       "      <th>Flag</th>\n",
       "      <th>Frequency</th>\n",
       "    </tr>\n",
       "  </thead>\n",
       "  <tbody>\n",
       "    <tr>\n",
       "      <th>1</th>\n",
       "      <td>URG</td>\n",
       "      <td>0</td>\n",
       "    </tr>\n",
       "    <tr>\n",
       "      <th>2</th>\n",
       "      <td>ACK</td>\n",
       "      <td>0.5019</td>\n",
       "    </tr>\n",
       "    <tr>\n",
       "      <th>3</th>\n",
       "      <td>PSH</td>\n",
       "      <td>0</td>\n",
       "    </tr>\n",
       "    <tr>\n",
       "      <th>4</th>\n",
       "      <td>RST</td>\n",
       "      <td>0.5019</td>\n",
       "    </tr>\n",
       "    <tr>\n",
       "      <th>5</th>\n",
       "      <td>SYN</td>\n",
       "      <td>0.49665</td>\n",
       "    </tr>\n",
       "    <tr>\n",
       "      <th>6</th>\n",
       "      <td>FIN</td>\n",
       "      <td>0</td>\n",
       "    </tr>\n",
       "  </tbody>\n",
       "</table>\n",
       "</div>"
      ],
      "text/plain": [
       "  Flag Frequency\n",
       "1  URG         0\n",
       "2  ACK    0.5019\n",
       "3  PSH         0\n",
       "4  RST    0.5019\n",
       "5  SYN   0.49665\n",
       "6  FIN         0"
      ]
     },
     "execution_count": 5,
     "metadata": {},
     "output_type": "execute_result"
    }
   ],
   "source": [
    "Frequencies"
   ]
  },
  {
   "cell_type": "markdown",
   "metadata": {
    "cell_id": "430a3af1203c43c5bbbc56d37a81b217",
    "deepnote_cell_type": "text-cell-p",
    "formattedRanges": []
   },
   "source": [
    "Table 2: Frequencies of TCP flags"
   ]
  },
  {
   "cell_type": "markdown",
   "metadata": {
    "cell_id": "ff299f10caef4bd9af3f581f96fe5ba7",
    "deepnote_cell_type": "text-cell-p",
    "formattedRanges": [
     {
      "fromCodePoint": 0,
      "marks": {
       "bold": true
      },
      "toCodePoint": 4,
      "type": "marks"
     }
    ]
   },
   "source": [
    "**Q16**: What is the distribution/frequency of packet length (\"total length\")?"
   ]
  },
  {
   "cell_type": "markdown",
   "metadata": {
    "cell_id": "2df26ff0ac704d399aa84cbbf5a711de",
    "deepnote_cell_type": "text-cell-p",
    "formattedRanges": []
   },
   "source": [
    "The approach is similar to the ones in Q15 and Q14. Here are the lengths of packets (Statistics>Packet length):"
   ]
  },
  {
   "cell_type": "markdown",
   "metadata": {
    "cell_id": "8bb5d8f5dd434540aa7d3fee3b10016e",
    "deepnote_cell_type": "markdown"
   },
   "source": [
    "![](allpackets.png)"
   ]
  },
  {
   "cell_type": "markdown",
   "metadata": {
    "cell_id": "e7035b9c16ba423ea789dcf2a9bd7424",
    "deepnote_cell_type": "text-cell-p",
    "formattedRanges": []
   },
   "source": [
    "Figure 8: Lengths of all packets in the capture"
   ]
  },
  {
   "cell_type": "markdown",
   "metadata": {
    "cell_id": "a18aae3fbcbc456295fbad8dab92a9c6",
    "deepnote_cell_type": "text-cell-p",
    "formattedRanges": []
   },
   "source": [
    "The frequency of packet length was calculated like this: freq of a specific length = nr of packets of that length/total nr of packets"
   ]
  },
  {
   "cell_type": "code",
   "execution_count": 6,
   "metadata": {
    "cell_id": "2a3538a93cec453d9d92876a1a126e6b",
    "deepnote_cell_type": "code",
    "deepnote_to_be_reexecuted": false,
    "execution_millis": 196,
    "execution_start": 1697625411118,
    "source_hash": "efcf9d98"
   },
   "outputs": [],
   "source": [
    "freqi={\n",
    "    'Length/bytes':['0-19', '20-39', '40-79', '80-159', '160-319','320-639','640-1279','1280-2559','2560-5119','5120+'],\n",
    "    'Frequency':['0', '0', '0.964', '0.034','3.39*10^-5','1.93*10^-5','1.61*10^-5','1.13*10^-5','0','0'],\n",
    "}\n",
    "\n",
    "\n",
    "Frequencies_2 = pd.DataFrame(freqi)\n",
    "Frequencies_2.index = range(1, len(Frequencies_2)+1)"
   ]
  },
  {
   "cell_type": "code",
   "execution_count": 7,
   "metadata": {
    "cell_id": "009bae2f94f74570bcaa4de3e22ea7cf",
    "deepnote_cell_type": "code",
    "deepnote_to_be_reexecuted": false,
    "execution_millis": 173,
    "execution_start": 1697625411119,
    "source_hash": "fb5794eb"
   },
   "outputs": [
    {
     "data": {
      "application/vnd.deepnote.dataframe.v3+json": {
       "column_count": 2,
       "columns": [
        {
         "dtype": "object",
         "name": "Length/bytes",
         "stats": {
          "categories": [
           {
            "count": 1,
            "name": "0-19"
           },
           {
            "count": 1,
            "name": "20-39"
           },
           {
            "count": 8,
            "name": "8 others"
           }
          ],
          "nan_count": 0,
          "unique_count": 10
         }
        },
        {
         "dtype": "object",
         "name": "Frequency",
         "stats": {
          "categories": [
           {
            "count": 4,
            "name": "0"
           },
           {
            "count": 1,
            "name": "0.964"
           },
           {
            "count": 5,
            "name": "5 others"
           }
          ],
          "nan_count": 0,
          "unique_count": 7
         }
        },
        {
         "dtype": "int64",
         "name": "_deepnote_index_column"
        }
       ],
       "row_count": 10,
       "rows": [
        {
         "Frequency": "0",
         "Length/bytes": "0-19",
         "_deepnote_index_column": 1
        },
        {
         "Frequency": "0",
         "Length/bytes": "20-39",
         "_deepnote_index_column": 2
        },
        {
         "Frequency": "0.964",
         "Length/bytes": "40-79",
         "_deepnote_index_column": 3
        },
        {
         "Frequency": "0.034",
         "Length/bytes": "80-159",
         "_deepnote_index_column": 4
        },
        {
         "Frequency": "3.39*10^-5",
         "Length/bytes": "160-319",
         "_deepnote_index_column": 5
        },
        {
         "Frequency": "1.93*10^-5",
         "Length/bytes": "320-639",
         "_deepnote_index_column": 6
        },
        {
         "Frequency": "1.61*10^-5",
         "Length/bytes": "640-1279",
         "_deepnote_index_column": 7
        },
        {
         "Frequency": "1.13*10^-5",
         "Length/bytes": "1280-2559",
         "_deepnote_index_column": 8
        },
        {
         "Frequency": "0",
         "Length/bytes": "2560-5119",
         "_deepnote_index_column": 9
        },
        {
         "Frequency": "0",
         "Length/bytes": "5120+",
         "_deepnote_index_column": 10
        }
       ]
      },
      "text/html": [
       "<div>\n",
       "<style scoped>\n",
       "    .dataframe tbody tr th:only-of-type {\n",
       "        vertical-align: middle;\n",
       "    }\n",
       "\n",
       "    .dataframe tbody tr th {\n",
       "        vertical-align: top;\n",
       "    }\n",
       "\n",
       "    .dataframe thead th {\n",
       "        text-align: right;\n",
       "    }\n",
       "</style>\n",
       "<table border=\"1\" class=\"dataframe\">\n",
       "  <thead>\n",
       "    <tr style=\"text-align: right;\">\n",
       "      <th></th>\n",
       "      <th>Length/bytes</th>\n",
       "      <th>Frequency</th>\n",
       "    </tr>\n",
       "  </thead>\n",
       "  <tbody>\n",
       "    <tr>\n",
       "      <th>1</th>\n",
       "      <td>0-19</td>\n",
       "      <td>0</td>\n",
       "    </tr>\n",
       "    <tr>\n",
       "      <th>2</th>\n",
       "      <td>20-39</td>\n",
       "      <td>0</td>\n",
       "    </tr>\n",
       "    <tr>\n",
       "      <th>3</th>\n",
       "      <td>40-79</td>\n",
       "      <td>0.964</td>\n",
       "    </tr>\n",
       "    <tr>\n",
       "      <th>4</th>\n",
       "      <td>80-159</td>\n",
       "      <td>0.034</td>\n",
       "    </tr>\n",
       "    <tr>\n",
       "      <th>5</th>\n",
       "      <td>160-319</td>\n",
       "      <td>3.39*10^-5</td>\n",
       "    </tr>\n",
       "    <tr>\n",
       "      <th>6</th>\n",
       "      <td>320-639</td>\n",
       "      <td>1.93*10^-5</td>\n",
       "    </tr>\n",
       "    <tr>\n",
       "      <th>7</th>\n",
       "      <td>640-1279</td>\n",
       "      <td>1.61*10^-5</td>\n",
       "    </tr>\n",
       "    <tr>\n",
       "      <th>8</th>\n",
       "      <td>1280-2559</td>\n",
       "      <td>1.13*10^-5</td>\n",
       "    </tr>\n",
       "    <tr>\n",
       "      <th>9</th>\n",
       "      <td>2560-5119</td>\n",
       "      <td>0</td>\n",
       "    </tr>\n",
       "    <tr>\n",
       "      <th>10</th>\n",
       "      <td>5120+</td>\n",
       "      <td>0</td>\n",
       "    </tr>\n",
       "  </tbody>\n",
       "</table>\n",
       "</div>"
      ],
      "text/plain": [
       "   Length/bytes   Frequency\n",
       "1          0-19           0\n",
       "2         20-39           0\n",
       "3         40-79       0.964\n",
       "4        80-159       0.034\n",
       "5       160-319  3.39*10^-5\n",
       "6       320-639  1.93*10^-5\n",
       "7      640-1279  1.61*10^-5\n",
       "8     1280-2559  1.13*10^-5\n",
       "9     2560-5119           0\n",
       "10        5120+           0"
      ]
     },
     "execution_count": 7,
     "metadata": {},
     "output_type": "execute_result"
    }
   ],
   "source": [
    "Frequencies_2"
   ]
  },
  {
   "cell_type": "markdown",
   "metadata": {
    "cell_id": "54f7795a99de440d810ff0dc6fa536ee",
    "deepnote_cell_type": "text-cell-p",
    "formattedRanges": []
   },
   "source": [
    "Table 3: Frequencies of packet lengths"
   ]
  },
  {
   "cell_type": "markdown",
   "metadata": {
    "cell_id": "bc9897b33e974074aeb66e6c8b3b2dcc",
    "deepnote_cell_type": "text-cell-p",
    "formattedRanges": []
   },
   "source": [
    "From the table above we can see that most of the packets had the length between 40 and 79 bytes."
   ]
  },
  {
   "cell_type": "markdown",
   "metadata": {
    "cell_id": "b199f4d0ba5c46d79a312076207a0868",
    "deepnote_cell_type": "text-cell-p",
    "formattedRanges": [
     {
      "fromCodePoint": 0,
      "marks": {
       "bold": true
      },
      "toCodePoint": 4,
      "type": "marks"
     }
    ]
   },
   "source": [
    "**Q17**: What source IP address sent more packets? and why?"
   ]
  },
  {
   "cell_type": "markdown",
   "metadata": {
    "cell_id": "77ebcb25f8ce403685d0cecf4ab4ce75",
    "deepnote_cell_type": "text-cell-p",
    "formattedRanges": []
   },
   "source": [
    "The victim itself, as a source, sent the most packets at a total of 311,768 packets. This is due to the fact that the victim responded to every single SYN packet that came from different sources to send them the RST/ACK packet. Simply put, the victim had to communicate with all the attackers while all of the attackers only communicated with one victim."
   ]
  },
  {
   "cell_type": "markdown",
   "metadata": {
    "cell_id": "18653635d266471d8a7a6a1b87646d54",
    "deepnote_cell_type": "text-cell-p",
    "formattedRanges": []
   },
   "source": [
    "\r"
   ]
  },
  {
   "cell_type": "markdown",
   "metadata": {
    "cell_id": "e9c5fb819a734a36b3155acb754a2d79",
    "deepnote_cell_type": "markdown"
   },
   "source": [
    "## Conclusion"
   ]
  },
  {
   "cell_type": "markdown",
   "metadata": {
    "cell_id": "ed36f539efdc4203a1ca4c57dd2d61af",
    "deepnote_cell_type": "text-cell-p",
    "formattedRanges": []
   },
   "source": [
    "This assignment gave us a deeper look into what DDOS attacks really look like. We learned which packets make it up, why the victim loses their ability to be accessed or access anything. We found out that the reason why DDOS attacks work is that the victim usually tries to answer a substantial amount of SYN packets coming from the attackers and becomes unreachable by clients. The victim keeps sending rst, ack packets to let the device on the other end of the connection know that it knows it's there but can't establish a connection right now because of the amount of connection requests it's getting. It was found that the victim sends way more packets than any attacker because it keeps asking to end the connection. This is what ultimately occupies the victim just enough to not be able to answer to an actual client wishing to connect to the victim's service. We did things like analyze top 3 attackers and find maximum data rate of the attack but, in essence, we realized that this sort of attack is quite simple to analyze and understand with some background of wiresharking. With this assignment, cyber attacks became less of a mystery and more of a practical and gave us a perfect first interaction with an actual captured cyber attack."
   ]
  },
  {
   "cell_type": "markdown",
   "metadata": {
    "cell_id": "c578a195e669473099c9558ff6663776",
    "deepnote_cell_type": "text-cell-h2",
    "formattedRanges": []
   },
   "source": [
    "## References"
   ]
  },
  {
   "cell_type": "markdown",
   "metadata": {
    "cell_id": "8a44ab34917e4f6fa666a9b3b67aeeca",
    "deepnote_cell_type": "text-cell-p",
    "formattedRanges": [
     {
      "fromCodePoint": 53,
      "ranges": [],
      "toCodePoint": 76,
      "type": "link",
      "url": "https://macvendors.com/"
     }
    ]
   },
   "source": [
    "[1] MA:CV:en:do:rs, Nivel Technologies, 2011, online:https://macvendors.com/"
   ]
  },
  {
   "cell_type": "markdown",
   "metadata": {
    "created_in_deepnote_cell": true,
    "deepnote_cell_type": "markdown"
   },
   "source": [
    "<a style='text-decoration:none;line-height:16px;display:flex;color:#5B5B62;padding:10px;justify-content:end;' href='https://deepnote.com?utm_source=created-in-deepnote-cell&projectId=411e6c34-0039-4fc2-86a3-93ef8e39f129' target=\"_blank\">\n",
    "<img alt='Created in deepnote.com' style='display:inline;max-height:16px;margin:0px;margin-right:7.5px;' src='data:image/svg+xml;base64,PD94bWwgdmVyc2lvbj0iMS4wIiBlbmNvZGluZz0iVVRGLTgiPz4KPHN2ZyB3aWR0aD0iODBweCIgaGVpZ2h0PSI4MHB4IiB2aWV3Qm94PSIwIDAgODAgODAiIHZlcnNpb249IjEuMSIgeG1sbnM9Imh0dHA6Ly93d3cudzMub3JnLzIwMDAvc3ZnIiB4bWxuczp4bGluaz0iaHR0cDovL3d3dy53My5vcmcvMTk5OS94bGluayI+CiAgICA8IS0tIEdlbmVyYXRvcjogU2tldGNoIDU0LjEgKDc2NDkwKSAtIGh0dHBzOi8vc2tldGNoYXBwLmNvbSAtLT4KICAgIDx0aXRsZT5Hcm91cCAzPC90aXRsZT4KICAgIDxkZXNjPkNyZWF0ZWQgd2l0aCBTa2V0Y2guPC9kZXNjPgogICAgPGcgaWQ9IkxhbmRpbmciIHN0cm9rZT0ibm9uZSIgc3Ryb2tlLXdpZHRoPSIxIiBmaWxsPSJub25lIiBmaWxsLXJ1bGU9ImV2ZW5vZGQiPgogICAgICAgIDxnIGlkPSJBcnRib2FyZCIgdHJhbnNmb3JtPSJ0cmFuc2xhdGUoLTEyMzUuMDAwMDAwLCAtNzkuMDAwMDAwKSI+CiAgICAgICAgICAgIDxnIGlkPSJHcm91cC0zIiB0cmFuc2Zvcm09InRyYW5zbGF0ZSgxMjM1LjAwMDAwMCwgNzkuMDAwMDAwKSI+CiAgICAgICAgICAgICAgICA8cG9seWdvbiBpZD0iUGF0aC0yMCIgZmlsbD0iIzAyNjVCNCIgcG9pbnRzPSIyLjM3NjIzNzYyIDgwIDM4LjA0NzY2NjcgODAgNTcuODIxNzgyMiA3My44MDU3NTkyIDU3LjgyMTc4MjIgMzIuNzU5MjczOSAzOS4xNDAyMjc4IDMxLjY4MzE2ODMiPjwvcG9seWdvbj4KICAgICAgICAgICAgICAgIDxwYXRoIGQ9Ik0zNS4wMDc3MTgsODAgQzQyLjkwNjIwMDcsNzYuNDU0OTM1OCA0Ny41NjQ5MTY3LDcxLjU0MjI2NzEgNDguOTgzODY2LDY1LjI2MTk5MzkgQzUxLjExMjI4OTksNTUuODQxNTg0MiA0MS42NzcxNzk1LDQ5LjIxMjIyODQgMjUuNjIzOTg0Niw0OS4yMTIyMjg0IEMyNS40ODQ5Mjg5LDQ5LjEyNjg0NDggMjkuODI2MTI5Niw0My4yODM4MjQ4IDM4LjY0NzU4NjksMzEuNjgzMTY4MyBMNzIuODcxMjg3MSwzMi41NTQ0MjUgTDY1LjI4MDk3Myw2Ny42NzYzNDIxIEw1MS4xMTIyODk5LDc3LjM3NjE0NCBMMzUuMDA3NzE4LDgwIFoiIGlkPSJQYXRoLTIyIiBmaWxsPSIjMDAyODY4Ij48L3BhdGg+CiAgICAgICAgICAgICAgICA8cGF0aCBkPSJNMCwzNy43MzA0NDA1IEwyNy4xMTQ1MzcsMC4yNTcxMTE0MzYgQzYyLjM3MTUxMjMsLTEuOTkwNzE3MDEgODAsMTAuNTAwMzkyNyA4MCwzNy43MzA0NDA1IEM4MCw2NC45NjA0ODgyIDY0Ljc3NjUwMzgsNzkuMDUwMzQxNCAzNC4zMjk1MTEzLDgwIEM0Ny4wNTUzNDg5LDc3LjU2NzA4MDggNTMuNDE4MjY3Nyw3MC4zMTM2MTAzIDUzLjQxODI2NzcsNTguMjM5NTg4NSBDNTMuNDE4MjY3Nyw0MC4xMjg1NTU3IDM2LjMwMzk1NDQsMzcuNzMwNDQwNSAyNS4yMjc0MTcsMzcuNzMwNDQwNSBDMTcuODQzMDU4NiwzNy43MzA0NDA1IDkuNDMzOTE5NjYsMzcuNzMwNDQwNSAwLDM3LjczMDQ0MDUgWiIgaWQ9IlBhdGgtMTkiIGZpbGw9IiMzNzkzRUYiPjwvcGF0aD4KICAgICAgICAgICAgPC9nPgogICAgICAgIDwvZz4KICAgIDwvZz4KPC9zdmc+' > </img>\n",
    "Created in <span style='font-weight:600;margin-left:4px;'>Deepnote</span></a>"
   ]
  }
 ],
 "metadata": {
  "deepnote": {},
  "deepnote_execution_queue": [],
  "deepnote_notebook_id": "332e616ba5bd4da78d87a75e625d5d2b",
  "deepnote_persisted_session": {
   "createdAt": "2023-10-18T01:16:50.972Z"
  },
  "kernelspec": {
   "display_name": "Python 3 (ipykernel)",
   "language": "python",
   "name": "python3"
  },
  "language_info": {
   "codemirror_mode": {
    "name": "ipython",
    "version": 3
   },
   "file_extension": ".py",
   "mimetype": "text/x-python",
   "name": "python",
   "nbconvert_exporter": "python",
   "pygments_lexer": "ipython3",
   "version": "3.11.1"
  }
 },
 "nbformat": 4,
 "nbformat_minor": 4
}
